{
 "cells": [
  {
   "cell_type": "code",
   "execution_count": 1,
   "metadata": {},
   "outputs": [],
   "source": [
    "# Importing libraries\n",
    "\n",
    "import numpy as np \n",
    "import pandas as pd \n",
    "import matplotlib.pyplot as plt\n",
    "import seaborn as sns\n",
    "\n",
    "from scipy import stats\n",
    "from sklearn.preprocessing import StandardScaler, RobustScaler, MinMaxScaler, Normalizer, LabelEncoder\n",
    "\n",
    "from sklearn.model_selection import KFold, cross_val_score, cross_val_predict, StratifiedKFold, GridSearchCV, RandomizedSearchCV, train_test_split\n",
    "\n",
    "\n",
    "# 일반적으로 회귀에는 기본 k-겹 교차검증을 사용하고, 분류에는 StratifiedKFold를 사용한다.\n",
    "\n",
    "# 또한, cross_val_score 함수에는 KFold의 매개변수를 제어할 수가 없으므로, \n",
    "\n",
    "# 따로 KFold 객체를 만들고 매개변수를 조정한 다음에 cross_val_score의 cv 매개변수에 넣어야 한다.\n",
    "\n",
    "from sklearn.tree import DecisionTreeClassifier\n",
    "from sklearn.ensemble import RandomForestClassifier, BaggingClassifier, GradientBoostingClassifier, AdaBoostClassifier, VotingClassifier\n",
    "from sklearn.svm import SVC\n",
    "from sklearn.neighbors import KNeighborsClassifier #KNN\n",
    "from sklearn.naive_bayes import GaussianNB #Naive bayes\n",
    "from xgboost import XGBClassifier\n",
    "from lightgbm import LGBMClassifier\n",
    "from sklearn.linear_model import LogisticRegression, SGDClassifier\n",
    "from sklearn.tree import DecisionTreeClassifier\n",
    "\n",
    "from sklearn.metrics import confusion_matrix, make_scorer, r2_score, accuracy_score, precision_score, recall_score, f1_score\n",
    "from sklearn.metrics import roc_auc_score\n",
    "\n",
    "import warnings         # warnings : 버전 충돌 및 특정 예외 처리를 위해 불러온 내장 모듈\n",
    "warnings.filterwarnings(\"ignore\", category=RuntimeWarning)"
   ]
  },
  {
   "cell_type": "code",
   "execution_count": 2,
   "metadata": {},
   "outputs": [],
   "source": [
    "pd.set_option('display.max_row', 500)\n",
    "pd.set_option('display.max_columns', 100)"
   ]
  },
  {
   "cell_type": "markdown",
   "metadata": {},
   "source": [
    "# 전처리된 데이터, 테스트셋 불러오기"
   ]
  },
  {
   "cell_type": "code",
   "execution_count": 3,
   "metadata": {},
   "outputs": [],
   "source": [
    "df_train= pd.read_csv('./train_dummies.csv')"
   ]
  },
  {
   "cell_type": "code",
   "execution_count": 19,
   "metadata": {},
   "outputs": [],
   "source": [
    "df_test = pd.read_csv('./test_dummies.csv')"
   ]
  },
  {
   "cell_type": "code",
   "execution_count": 4,
   "metadata": {},
   "outputs": [
    {
     "data": {
      "text/html": [
       "<div>\n",
       "<style scoped>\n",
       "    .dataframe tbody tr th:only-of-type {\n",
       "        vertical-align: middle;\n",
       "    }\n",
       "\n",
       "    .dataframe tbody tr th {\n",
       "        vertical-align: top;\n",
       "    }\n",
       "\n",
       "    .dataframe thead th {\n",
       "        text-align: right;\n",
       "    }\n",
       "</style>\n",
       "<table border=\"1\" class=\"dataframe\">\n",
       "  <thead>\n",
       "    <tr style=\"text-align: right;\">\n",
       "      <th></th>\n",
       "      <th>age</th>\n",
       "      <th>balance</th>\n",
       "      <th>day</th>\n",
       "      <th>month</th>\n",
       "      <th>campaign</th>\n",
       "      <th>pdays</th>\n",
       "      <th>previous</th>\n",
       "      <th>y</th>\n",
       "      <th>default_yes</th>\n",
       "      <th>housing_yes</th>\n",
       "      <th>loan_yes</th>\n",
       "      <th>education_secondary</th>\n",
       "      <th>education_tertiary</th>\n",
       "      <th>education_unknown</th>\n",
       "      <th>contact_telephone</th>\n",
       "      <th>contact_unknown</th>\n",
       "      <th>job_blue-collar</th>\n",
       "      <th>job_entrepreneur</th>\n",
       "      <th>job_housemaid</th>\n",
       "      <th>job_management</th>\n",
       "      <th>job_retired</th>\n",
       "      <th>job_self-employed</th>\n",
       "      <th>job_services</th>\n",
       "      <th>job_student</th>\n",
       "      <th>job_technician</th>\n",
       "      <th>job_unemployed</th>\n",
       "      <th>job_unknown</th>\n",
       "      <th>poutcome_other</th>\n",
       "      <th>poutcome_success</th>\n",
       "      <th>poutcome_unknown</th>\n",
       "      <th>marital_married</th>\n",
       "      <th>marital_single</th>\n",
       "    </tr>\n",
       "  </thead>\n",
       "  <tbody>\n",
       "    <tr>\n",
       "      <th>0</th>\n",
       "      <td>57</td>\n",
       "      <td>2299</td>\n",
       "      <td>12</td>\n",
       "      <td>11</td>\n",
       "      <td>3</td>\n",
       "      <td>-1</td>\n",
       "      <td>0</td>\n",
       "      <td>False</td>\n",
       "      <td>0</td>\n",
       "      <td>0</td>\n",
       "      <td>0</td>\n",
       "      <td>1</td>\n",
       "      <td>0</td>\n",
       "      <td>0</td>\n",
       "      <td>0</td>\n",
       "      <td>0</td>\n",
       "      <td>0</td>\n",
       "      <td>0</td>\n",
       "      <td>0</td>\n",
       "      <td>0</td>\n",
       "      <td>0</td>\n",
       "      <td>0</td>\n",
       "      <td>0</td>\n",
       "      <td>0</td>\n",
       "      <td>0</td>\n",
       "      <td>1</td>\n",
       "      <td>0</td>\n",
       "      <td>0</td>\n",
       "      <td>0</td>\n",
       "      <td>1</td>\n",
       "      <td>1</td>\n",
       "      <td>0</td>\n",
       "    </tr>\n",
       "    <tr>\n",
       "      <th>1</th>\n",
       "      <td>31</td>\n",
       "      <td>246</td>\n",
       "      <td>16</td>\n",
       "      <td>5</td>\n",
       "      <td>2</td>\n",
       "      <td>-1</td>\n",
       "      <td>0</td>\n",
       "      <td>False</td>\n",
       "      <td>0</td>\n",
       "      <td>1</td>\n",
       "      <td>0</td>\n",
       "      <td>1</td>\n",
       "      <td>0</td>\n",
       "      <td>0</td>\n",
       "      <td>0</td>\n",
       "      <td>1</td>\n",
       "      <td>0</td>\n",
       "      <td>0</td>\n",
       "      <td>0</td>\n",
       "      <td>0</td>\n",
       "      <td>0</td>\n",
       "      <td>0</td>\n",
       "      <td>1</td>\n",
       "      <td>0</td>\n",
       "      <td>0</td>\n",
       "      <td>0</td>\n",
       "      <td>0</td>\n",
       "      <td>0</td>\n",
       "      <td>0</td>\n",
       "      <td>1</td>\n",
       "      <td>1</td>\n",
       "      <td>0</td>\n",
       "    </tr>\n",
       "    <tr>\n",
       "      <th>2</th>\n",
       "      <td>58</td>\n",
       "      <td>1230</td>\n",
       "      <td>20</td>\n",
       "      <td>5</td>\n",
       "      <td>1</td>\n",
       "      <td>87</td>\n",
       "      <td>1</td>\n",
       "      <td>True</td>\n",
       "      <td>0</td>\n",
       "      <td>0</td>\n",
       "      <td>0</td>\n",
       "      <td>1</td>\n",
       "      <td>0</td>\n",
       "      <td>0</td>\n",
       "      <td>0</td>\n",
       "      <td>0</td>\n",
       "      <td>0</td>\n",
       "      <td>0</td>\n",
       "      <td>0</td>\n",
       "      <td>0</td>\n",
       "      <td>1</td>\n",
       "      <td>0</td>\n",
       "      <td>0</td>\n",
       "      <td>0</td>\n",
       "      <td>0</td>\n",
       "      <td>0</td>\n",
       "      <td>0</td>\n",
       "      <td>0</td>\n",
       "      <td>0</td>\n",
       "      <td>0</td>\n",
       "      <td>1</td>\n",
       "      <td>0</td>\n",
       "    </tr>\n",
       "    <tr>\n",
       "      <th>3</th>\n",
       "      <td>32</td>\n",
       "      <td>569</td>\n",
       "      <td>29</td>\n",
       "      <td>1</td>\n",
       "      <td>1</td>\n",
       "      <td>-1</td>\n",
       "      <td>0</td>\n",
       "      <td>False</td>\n",
       "      <td>0</td>\n",
       "      <td>0</td>\n",
       "      <td>1</td>\n",
       "      <td>0</td>\n",
       "      <td>1</td>\n",
       "      <td>0</td>\n",
       "      <td>0</td>\n",
       "      <td>0</td>\n",
       "      <td>0</td>\n",
       "      <td>0</td>\n",
       "      <td>0</td>\n",
       "      <td>0</td>\n",
       "      <td>0</td>\n",
       "      <td>0</td>\n",
       "      <td>0</td>\n",
       "      <td>0</td>\n",
       "      <td>1</td>\n",
       "      <td>0</td>\n",
       "      <td>0</td>\n",
       "      <td>0</td>\n",
       "      <td>0</td>\n",
       "      <td>1</td>\n",
       "      <td>0</td>\n",
       "      <td>1</td>\n",
       "    </tr>\n",
       "    <tr>\n",
       "      <th>4</th>\n",
       "      <td>54</td>\n",
       "      <td>0</td>\n",
       "      <td>15</td>\n",
       "      <td>7</td>\n",
       "      <td>4</td>\n",
       "      <td>-1</td>\n",
       "      <td>0</td>\n",
       "      <td>False</td>\n",
       "      <td>0</td>\n",
       "      <td>0</td>\n",
       "      <td>1</td>\n",
       "      <td>1</td>\n",
       "      <td>0</td>\n",
       "      <td>0</td>\n",
       "      <td>0</td>\n",
       "      <td>0</td>\n",
       "      <td>0</td>\n",
       "      <td>1</td>\n",
       "      <td>0</td>\n",
       "      <td>0</td>\n",
       "      <td>0</td>\n",
       "      <td>0</td>\n",
       "      <td>0</td>\n",
       "      <td>0</td>\n",
       "      <td>0</td>\n",
       "      <td>0</td>\n",
       "      <td>0</td>\n",
       "      <td>0</td>\n",
       "      <td>0</td>\n",
       "      <td>1</td>\n",
       "      <td>1</td>\n",
       "      <td>0</td>\n",
       "    </tr>\n",
       "  </tbody>\n",
       "</table>\n",
       "</div>"
      ],
      "text/plain": [
       "   age  balance  day  month  campaign  pdays  previous      y  default_yes  \\\n",
       "0   57     2299   12     11         3     -1         0  False            0   \n",
       "1   31      246   16      5         2     -1         0  False            0   \n",
       "2   58     1230   20      5         1     87         1   True            0   \n",
       "3   32      569   29      1         1     -1         0  False            0   \n",
       "4   54        0   15      7         4     -1         0  False            0   \n",
       "\n",
       "   housing_yes  loan_yes  education_secondary  education_tertiary  \\\n",
       "0            0         0                    1                   0   \n",
       "1            1         0                    1                   0   \n",
       "2            0         0                    1                   0   \n",
       "3            0         1                    0                   1   \n",
       "4            0         1                    1                   0   \n",
       "\n",
       "   education_unknown  contact_telephone  contact_unknown  job_blue-collar  \\\n",
       "0                  0                  0                0                0   \n",
       "1                  0                  0                1                0   \n",
       "2                  0                  0                0                0   \n",
       "3                  0                  0                0                0   \n",
       "4                  0                  0                0                0   \n",
       "\n",
       "   job_entrepreneur  job_housemaid  job_management  job_retired  \\\n",
       "0                 0              0               0            0   \n",
       "1                 0              0               0            0   \n",
       "2                 0              0               0            1   \n",
       "3                 0              0               0            0   \n",
       "4                 1              0               0            0   \n",
       "\n",
       "   job_self-employed  job_services  job_student  job_technician  \\\n",
       "0                  0             0            0               0   \n",
       "1                  0             1            0               0   \n",
       "2                  0             0            0               0   \n",
       "3                  0             0            0               1   \n",
       "4                  0             0            0               0   \n",
       "\n",
       "   job_unemployed  job_unknown  poutcome_other  poutcome_success  \\\n",
       "0               1            0               0                 0   \n",
       "1               0            0               0                 0   \n",
       "2               0            0               0                 0   \n",
       "3               0            0               0                 0   \n",
       "4               0            0               0                 0   \n",
       "\n",
       "   poutcome_unknown  marital_married  marital_single  \n",
       "0                 1                1               0  \n",
       "1                 1                1               0  \n",
       "2                 0                1               0  \n",
       "3                 1                0               1  \n",
       "4                 1                1               0  "
      ]
     },
     "execution_count": 4,
     "metadata": {},
     "output_type": "execute_result"
    }
   ],
   "source": [
    "df_train.head()"
   ]
  },
  {
   "cell_type": "code",
   "execution_count": 5,
   "metadata": {},
   "outputs": [
    {
     "data": {
      "text/plain": [
       "(22605,)"
      ]
     },
     "execution_count": 5,
     "metadata": {},
     "output_type": "execute_result"
    }
   ],
   "source": [
    "y = df_train['y']\n",
    "y.shape"
   ]
  },
  {
   "cell_type": "code",
   "execution_count": 6,
   "metadata": {},
   "outputs": [
    {
     "data": {
      "text/plain": [
       "(22605, 31)"
      ]
     },
     "execution_count": 6,
     "metadata": {},
     "output_type": "execute_result"
    }
   ],
   "source": [
    "X = df_train.drop(['y'], axis=1)\n",
    "X.shape"
   ]
  },
  {
   "cell_type": "code",
   "execution_count": 7,
   "metadata": {},
   "outputs": [],
   "source": [
    "from sklearn.model_selection import train_test_split\n",
    "\n",
    "X_train, X_test, y_train, y_test = train_test_split(X, y, test_size = 0.2, shuffle = True, stratify = y)\n",
    "\n",
    "# 분류학습시 stratify = target으로 설정해야함."
   ]
  },
  {
   "cell_type": "code",
   "execution_count": 8,
   "metadata": {},
   "outputs": [
    {
     "name": "stdout",
     "output_type": "stream",
     "text": [
      "학습 세트 Shape:(18084, 31), 테스트 세트 Shape:(4521, 31)\n",
      " 학습 세트 레이블 값 분포 비율\n",
      "False    0.88111\n",
      "True     0.11889\n",
      "Name: y, dtype: float64\n",
      "\n",
      " 테스트 세트 레이블 값 분포 비율\n",
      "False    0.881221\n",
      "True     0.118779\n",
      "Name: y, dtype: float64\n"
     ]
    }
   ],
   "source": [
    "# 추후 오버,언더,하이드리브 샘플링 적용시 레이블 값 분포를 보기위한 코드.\n",
    "\n",
    "train_cnt = y_train.count()\n",
    "test_cnt = y_test.count()\n",
    "print('학습 세트 Shape:{0}, 테스트 세트 Shape:{1}'.format(X_train.shape , X_test.shape))\n",
    "\n",
    "print(' 학습 세트 레이블 값 분포 비율')\n",
    "print(y_train.value_counts()/train_cnt)\n",
    "print('\\n 테스트 세트 레이블 값 분포 비율')\n",
    "print(y_test.value_counts()/test_cnt)"
   ]
  },
  {
   "cell_type": "code",
   "execution_count": 9,
   "metadata": {},
   "outputs": [],
   "source": [
    "import sklearn.metrics as metrics"
   ]
  },
  {
   "cell_type": "code",
   "execution_count": 10,
   "metadata": {},
   "outputs": [
    {
     "name": "stdout",
     "output_type": "stream",
     "text": [
      "Precision for Light GBM is  0.2737430167597765\n",
      "Recall for Light GBM is  0.57421875\n",
      "F1_score for Light GBM is  0.3707440100882724\n",
      "\n",
      "The cross validated precision for Light GBM is: 0.5402500828327709\n",
      "The cross validated recall for Light GBM is: 0.2311627906976744\n",
      "The cross validated f1_score for Light GBM is: 0.32324843533820735\n"
     ]
    }
   ],
   "source": [
    "# Light GBM\n",
    "\n",
    "lgbm_clf = LGBMClassifier(n_estimators=400, n_jobs = -1)\n",
    "lgbm_clf.fit(X_train, y_train)\n",
    "lgbm_clf_pred = lgbm_clf.predict(X_test)\n",
    "\n",
    "lgbm_clf_cv_pre = cross_val_score(lgbm_clf, X_train, y_train, cv = 10, scoring = 'precision', n_jobs=-1)\n",
    "lgbm_clf_cv_rec = cross_val_score(lgbm_clf, X_train, y_train, cv = 10, scoring = 'recall', n_jobs=-1)\n",
    "lgbm_clf_cv_f1 = cross_val_score(lgbm_clf, X_train, y_train, cv = 10, scoring = 'f1', n_jobs=-1)\n",
    "\n",
    "print('Precision for Light GBM is ', metrics.precision_score(lgbm_clf_pred, y_test))\n",
    "print('Recall for Light GBM is ', metrics.recall_score(lgbm_clf_pred, y_test))\n",
    "print('F1_score for Light GBM is ', metrics.f1_score(lgbm_clf_pred, y_test))\n",
    "print()\n",
    "print('The cross validated precision for Light GBM is:', lgbm_clf_cv_pre.mean())\n",
    "print('The cross validated recall for Light GBM is:', lgbm_clf_cv_rec.mean())\n",
    "print('The cross validated f1_score for Light GBM is:', lgbm_clf_cv_f1.mean())"
   ]
  },
  {
   "cell_type": "code",
   "execution_count": 11,
   "metadata": {},
   "outputs": [
    {
     "name": "stdout",
     "output_type": "stream",
     "text": [
      "pred_proba()결과 Shape : (4521, 2)\n",
      "pred_proba array에서 앞 3개만 샘플로 추출 \n",
      ": [[0.98418906 0.01581094]\n",
      " [0.9682977  0.0317023 ]\n",
      " [0.99368156 0.00631844]]\n",
      "두개의 class 중에서 더 큰 확률을 클래스 값으로 예측 \n",
      " [[0.98418906 0.01581094 0.98418906 0.01581094]\n",
      " [0.9682977  0.0317023  0.9682977  0.0317023 ]\n",
      " [0.99368156 0.00631844 0.99368156 0.00631844]]\n"
     ]
    }
   ],
   "source": [
    "# 적절한 임계점 찾기.\n",
    "\n",
    "pred_proba = lgbm_clf.predict_proba(X_test)\n",
    "pred  = lgbm_clf.predict_proba(X_test)\n",
    "print('pred_proba()결과 Shape : {0}'.format(pred_proba.shape))\n",
    "print('pred_proba array에서 앞 3개만 샘플로 추출 \\n:', pred_proba[:3])\n",
    "\n",
    "# 예측 확률 array 와 예측 결과값 array 를 concatenate 하여 예측 확률과 결과값을 한눈에 확인\n",
    "pred_proba_result = np.concatenate([pred_proba , pred.reshape(-1,2)],axis=1)\n",
    "print('두개의 class 중에서 더 큰 확률을 클래스 값으로 예측 \\n',pred_proba_result[:3])\n"
   ]
  },
  {
   "cell_type": "code",
   "execution_count": 12,
   "metadata": {},
   "outputs": [],
   "source": [
    "from sklearn.metrics import accuracy_score, precision_score , recall_score , confusion_matrix, f1_score\n",
    "\n",
    "def get_clf_eval(y_test , pred):\n",
    "    confusion = confusion_matrix( y_test, pred)\n",
    "    accuracy = accuracy_score(y_test , pred)\n",
    "    precision = precision_score(y_test , pred)\n",
    "    recall = recall_score(y_test , pred)\n",
    "    f1_score = metrics.f1_score(y_test, pred)\n",
    "    print('오차 행렬')\n",
    "    print(confusion)\n",
    "    print('정확도: {0:.4f}, 정밀도: {1:.4f}, 재현율: {2:.4f}, F1_score: {2: 4f}'.format(accuracy , precision ,recall, f1_score))"
   ]
  },
  {
   "cell_type": "code",
   "execution_count": 13,
   "metadata": {},
   "outputs": [
    {
     "name": "stdout",
     "output_type": "stream",
     "text": [
      "오차 행렬\n",
      "[[3875  109]\n",
      " [ 390  147]]\n",
      "정확도: 0.8896, 정밀도: 0.5742, 재현율: 0.2737, F1_score:  0.273743\n"
     ]
    }
   ],
   "source": [
    "from sklearn.preprocessing import Binarizer\n",
    "\n",
    "#Binarizer의 threshold 설정값. 분류 결정 임곗값임.\n",
    "\n",
    "custom_threshold = 0.5\n",
    "\n",
    "# predict_proba( ) 반환값의 두번째 컬럼 , 즉 Positive 클래스 컬럼 하나만 추출하여 Binarizer를 적용.\n",
    "\n",
    "pred_proba_1 = pred_proba[:,1].reshape(-1,1)\n",
    "\n",
    "binarizer = Binarizer(threshold=custom_threshold).fit(pred_proba_1) \n",
    "custom_predict = binarizer.transform(pred_proba_1)\n",
    "\n",
    "get_clf_eval(y_test, custom_predict)"
   ]
  },
  {
   "cell_type": "code",
   "execution_count": 14,
   "metadata": {},
   "outputs": [],
   "source": [
    "from sklearn.metrics import precision_recall_curve\n",
    "\n",
    "# 레이블 값이 1일때의 예측 확률을 추출 \n",
    "pred_proba_class1 = lgbm_clf.predict_proba(X_test)[:, 1]"
   ]
  },
  {
   "cell_type": "code",
   "execution_count": 15,
   "metadata": {},
   "outputs": [
    {
     "data": {
      "image/png": "[encoded data removed]",
      "text/plain": [
       "<Figure size 576x432 with 1 Axes>"
      ]
     },
     "metadata": {
      "needs_background": "light"
     },
     "output_type": "display_data"
    }
   ],
   "source": [
    "# 임계점 시각화\n",
    "\n",
    "import matplotlib.pyplot as plt\n",
    "import matplotlib.ticker as ticker\n",
    "%matplotlib inline\n",
    "\n",
    "def precision_recall_curve_plot(y_test, pred_proba_c1):\n",
    "    # threshold ndarray와 이 threshold에 따른 정밀도, 재현율 ndarray 추출. \n",
    "    precisions, recalls, thresholds = precision_recall_curve( y_test, pred_proba_c1)\n",
    "    \n",
    "    # X축을 threshold값으로, Y축은 정밀도, 재현율 값으로 각각 Plot 수행. 정밀도는 점선으로 표시\n",
    "    plt.figure(figsize=(8,6))\n",
    "    threshold_boundary = thresholds.shape[0]\n",
    "    plt.plot(thresholds, precisions[0:threshold_boundary], linestyle='--', label='precision')\n",
    "    plt.plot(thresholds, recalls[0:threshold_boundary],label='recall')\n",
    "    \n",
    "    # threshold 값 X 축의 Scale을 0.1 단위로 변경\n",
    "    start, end = plt.xlim()\n",
    "    plt.xticks(np.round(np.arange(start, end, 0.1),2))\n",
    "    \n",
    "    # x축, y축 label과 legend, 그리고 grid 설정\n",
    "    plt.xlabel('Threshold value'); plt.ylabel('Precision and Recall value')\n",
    "    plt.legend(); plt.grid()\n",
    "    plt.show()\n",
    "    \n",
    "precision_recall_curve_plot(y_test, lgbm_clf.predict_proba(X_test)[:, 1] )\n"
   ]
  },
  {
   "cell_type": "code",
   "execution_count": 16,
   "metadata": {},
   "outputs": [
    {
     "data": {
      "text/plain": [
       "(0.248, 0.4586)"
      ]
     },
     "execution_count": 16,
     "metadata": {},
     "output_type": "execute_result"
    }
   ],
   "source": [
    "# F1_score가 최대가 되는 임계점 찾는 함수.\n",
    "\n",
    "def Find_threshold(model, X_test, y_test):\n",
    "    thresholds = np.arange(0,1,0.001)\n",
    "    threshold_count = []\n",
    "    pred_proba=model.predict_proba(X_test)\n",
    "    pred_proba_1 = pred_proba[:,1].reshape(-1,1)\n",
    "    for threshold in thresholds:\n",
    "        binarizer = Binarizer(threshold=threshold)\n",
    "        model_cl_pred = binarizer.transform(pred_proba_1)\n",
    "        threshold_count.append([threshold, metrics.f1_score(model_cl_pred, y_test)])\n",
    "\n",
    "    MAX=thresholds[np.array(threshold_count)[:,1].argmax()]\n",
    "    \n",
    "    thresholds = np.arange(MAX-0.05,MAX+0.05,0.005)\n",
    "    threshold_count = []\n",
    "    for threshold in thresholds:\n",
    "        binarizer = Binarizer(threshold=threshold)\n",
    "        model_cl_pred = binarizer.transform(pred_proba_1)\n",
    "        #threshold_count.append([threshold, metrics.f1_score(log_cl_pred, y_test)])\n",
    "        #print('threshold: {0:.4f}, f1_score: {1:.4f}'.format(threshold,metrics.f1_score(model_cl_pred, y_test)))\n",
    "        threshold_count.append([threshold, metrics.f1_score(model_cl_pred, y_test)])\n",
    "    \n",
    "    return np.round(thresholds[np.array(threshold_count)[:,1].argmax()],4), np.round(metrics.f1_score(Binarizer(threshold=thresholds[np.array(threshold_count)[:,1].argmax()]).transform(pred_proba_1), y_test),4)\n",
    "\n",
    "Find_threshold(lgbm_clf, X_test, y_test)"
   ]
  },
  {
   "cell_type": "code",
   "execution_count": 17,
   "metadata": {
    "scrolled": false
   },
   "outputs": [
    {
     "name": "stdout",
     "output_type": "stream",
     "text": [
      "오차 행렬\n",
      "[[3647  337]\n",
      " [ 277  260]]\n",
      "정확도: 0.8642, 정밀도: 0.4355, 재현율: 0.4842, F1_score:  0.484171\n"
     ]
    }
   ],
   "source": [
    "# Binarizer의 베스트 threshold 설정값 지정. \n",
    "\n",
    "custom_threshold = 0.248\n",
    "pred_proba_1 = pred_proba[:,1].reshape(-1,1)\n",
    "binarizer = Binarizer(threshold=custom_threshold).fit(pred_proba_1) \n",
    "custom_predict = binarizer.transform(pred_proba_1)\n",
    "\n",
    "get_clf_eval(y_test , custom_predict)"
   ]
  },
  {
   "cell_type": "code",
   "execution_count": 21,
   "metadata": {},
   "outputs": [],
   "source": [
    "# kaggle 제출파일 생성.\n",
    "\n",
    "pred_proba_1 = lgbm_clf.predict_proba(df_test)\n",
    "binarizer_pred = Binarizer(threshold=custom_threshold).transform(pred_proba_1[:,1].reshape(-1,1)) \n",
    "binarizer_pred = binarizer_pred.reshape(-1,)\n",
    "submit = pd.read_csv('./sample_submission.csv')\n",
    "submit['y'] = binarizer_pred\n",
    "submit['y'] = submit.y.astype('bool')\n",
    "submit.to_csv('./nosampling_nonhypertunning_0.248.csv', index = False)"
   ]
  },
  {
   "cell_type": "markdown",
   "metadata": {},
   "source": [
    "## 하이퍼파라미터 튜닝 - GridsearchCV"
   ]
  },
  {
   "cell_type": "code",
   "execution_count": 22,
   "metadata": {},
   "outputs": [],
   "source": [
    "from sklearn.model_selection import GridSearchCV\n",
    "\n",
    "# 하이퍼 파라미터 테스트를 위한 조합 할당.\n",
    "\n",
    "params = {'num_leaves': [8 ,16 ,32, 64],\n",
    "          'max_depth':[16, 32, 64, 128, 160],\n",
    "          'min_child_samples':[20, 60, 100],\n",
    "          'subsample':[0.2, 0.4, 0.6, 0.8, 1],\n",
    "         'n_estimators':[100,300,500,700,900,1200]}\n",
    "\n",
    "\n",
    "\n",
    "gridcv = GridSearchCV(lgbm_clf, param_grid=params, n_jobs=-1, cv=3)"
   ]
  },
  {
   "cell_type": "code",
   "execution_count": 23,
   "metadata": {
    "scrolled": true
   },
   "outputs": [
    {
     "name": "stdout",
     "output_type": "stream",
     "text": [
      "[1]\ttraining's binary_logloss: 0.351603\tvalid_1's binary_logloss: 0.350569\n",
      "Training until validation scores don't improve for 30 rounds\n",
      "[2]\ttraining's binary_logloss: 0.342567\tvalid_1's binary_logloss: 0.341092\n",
      "[3]\ttraining's binary_logloss: 0.336471\tvalid_1's binary_logloss: 0.334895\n",
      "[4]\ttraining's binary_logloss: 0.331002\tvalid_1's binary_logloss: 0.329378\n",
      "[5]\ttraining's binary_logloss: 0.326846\tvalid_1's binary_logloss: 0.325206\n",
      "[6]\ttraining's binary_logloss: 0.323678\tvalid_1's binary_logloss: 0.322168\n",
      "[7]\ttraining's binary_logloss: 0.320953\tvalid_1's binary_logloss: 0.319665\n",
      "[8]\ttraining's binary_logloss: 0.31867\tvalid_1's binary_logloss: 0.317424\n",
      "[9]\ttraining's binary_logloss: 0.316745\tvalid_1's binary_logloss: 0.315637\n",
      "[10]\ttraining's binary_logloss: 0.315092\tvalid_1's binary_logloss: 0.314041\n",
      "[11]\ttraining's binary_logloss: 0.313555\tvalid_1's binary_logloss: 0.312816\n",
      "[12]\ttraining's binary_logloss: 0.312295\tvalid_1's binary_logloss: 0.311782\n",
      "[13]\ttraining's binary_logloss: 0.310661\tvalid_1's binary_logloss: 0.309747\n",
      "[14]\ttraining's binary_logloss: 0.309538\tvalid_1's binary_logloss: 0.308914\n",
      "[15]\ttraining's binary_logloss: 0.308365\tvalid_1's binary_logloss: 0.307814\n",
      "[16]\ttraining's binary_logloss: 0.30719\tvalid_1's binary_logloss: 0.306554\n",
      "[17]\ttraining's binary_logloss: 0.306253\tvalid_1's binary_logloss: 0.30534\n",
      "[18]\ttraining's binary_logloss: 0.305635\tvalid_1's binary_logloss: 0.304906\n",
      "[19]\ttraining's binary_logloss: 0.304983\tvalid_1's binary_logloss: 0.304416\n",
      "[20]\ttraining's binary_logloss: 0.30413\tvalid_1's binary_logloss: 0.303739\n",
      "[21]\ttraining's binary_logloss: 0.302904\tvalid_1's binary_logloss: 0.302509\n",
      "[22]\ttraining's binary_logloss: 0.301966\tvalid_1's binary_logloss: 0.301759\n",
      "[23]\ttraining's binary_logloss: 0.301497\tvalid_1's binary_logloss: 0.30119\n",
      "[24]\ttraining's binary_logloss: 0.300976\tvalid_1's binary_logloss: 0.300864\n",
      "[25]\ttraining's binary_logloss: 0.300424\tvalid_1's binary_logloss: 0.300342\n",
      "[26]\ttraining's binary_logloss: 0.299949\tvalid_1's binary_logloss: 0.300054\n",
      "[27]\ttraining's binary_logloss: 0.299417\tvalid_1's binary_logloss: 0.299658\n",
      "[28]\ttraining's binary_logloss: 0.29883\tvalid_1's binary_logloss: 0.299021\n",
      "[29]\ttraining's binary_logloss: 0.298413\tvalid_1's binary_logloss: 0.29876\n",
      "[30]\ttraining's binary_logloss: 0.297995\tvalid_1's binary_logloss: 0.298478\n",
      "[31]\ttraining's binary_logloss: 0.297549\tvalid_1's binary_logloss: 0.298162\n",
      "[32]\ttraining's binary_logloss: 0.297056\tvalid_1's binary_logloss: 0.297773\n",
      "[33]\ttraining's binary_logloss: 0.296588\tvalid_1's binary_logloss: 0.297506\n",
      "[34]\ttraining's binary_logloss: 0.296022\tvalid_1's binary_logloss: 0.296996\n",
      "[35]\ttraining's binary_logloss: 0.295482\tvalid_1's binary_logloss: 0.296667\n",
      "[36]\ttraining's binary_logloss: 0.295205\tvalid_1's binary_logloss: 0.296733\n",
      "[37]\ttraining's binary_logloss: 0.294913\tvalid_1's binary_logloss: 0.296479\n",
      "[38]\ttraining's binary_logloss: 0.294598\tvalid_1's binary_logloss: 0.29636\n",
      "[39]\ttraining's binary_logloss: 0.293976\tvalid_1's binary_logloss: 0.295852\n",
      "[40]\ttraining's binary_logloss: 0.293723\tvalid_1's binary_logloss: 0.295684\n",
      "[41]\ttraining's binary_logloss: 0.293423\tvalid_1's binary_logloss: 0.295582\n",
      "[42]\ttraining's binary_logloss: 0.29298\tvalid_1's binary_logloss: 0.295202\n",
      "[43]\ttraining's binary_logloss: 0.292566\tvalid_1's binary_logloss: 0.295026\n",
      "[44]\ttraining's binary_logloss: 0.292239\tvalid_1's binary_logloss: 0.294896\n",
      "[45]\ttraining's binary_logloss: 0.291679\tvalid_1's binary_logloss: 0.294281\n",
      "[46]\ttraining's binary_logloss: 0.291287\tvalid_1's binary_logloss: 0.294045\n",
      "[47]\ttraining's binary_logloss: 0.291038\tvalid_1's binary_logloss: 0.294037\n",
      "[48]\ttraining's binary_logloss: 0.290452\tvalid_1's binary_logloss: 0.293694\n",
      "[49]\ttraining's binary_logloss: 0.290235\tvalid_1's binary_logloss: 0.293525\n",
      "[50]\ttraining's binary_logloss: 0.289857\tvalid_1's binary_logloss: 0.29328\n",
      "[51]\ttraining's binary_logloss: 0.289536\tvalid_1's binary_logloss: 0.293061\n",
      "[52]\ttraining's binary_logloss: 0.289199\tvalid_1's binary_logloss: 0.292748\n",
      "[53]\ttraining's binary_logloss: 0.288892\tvalid_1's binary_logloss: 0.292807\n",
      "[54]\ttraining's binary_logloss: 0.288656\tvalid_1's binary_logloss: 0.292524\n",
      "[55]\ttraining's binary_logloss: 0.288218\tvalid_1's binary_logloss: 0.292233\n",
      "[56]\ttraining's binary_logloss: 0.287971\tvalid_1's binary_logloss: 0.292111\n",
      "[57]\ttraining's binary_logloss: 0.287222\tvalid_1's binary_logloss: 0.291584\n",
      "[58]\ttraining's binary_logloss: 0.286899\tvalid_1's binary_logloss: 0.291482\n",
      "[59]\ttraining's binary_logloss: 0.286415\tvalid_1's binary_logloss: 0.291144\n",
      "[60]\ttraining's binary_logloss: 0.286213\tvalid_1's binary_logloss: 0.291024\n",
      "[61]\ttraining's binary_logloss: 0.285641\tvalid_1's binary_logloss: 0.290495\n",
      "[62]\ttraining's binary_logloss: 0.285335\tvalid_1's binary_logloss: 0.290237\n",
      "[63]\ttraining's binary_logloss: 0.285057\tvalid_1's binary_logloss: 0.290152\n",
      "[64]\ttraining's binary_logloss: 0.284859\tvalid_1's binary_logloss: 0.290106\n",
      "[65]\ttraining's binary_logloss: 0.284639\tvalid_1's binary_logloss: 0.289936\n",
      "[66]\ttraining's binary_logloss: 0.284415\tvalid_1's binary_logloss: 0.289933\n",
      "[67]\ttraining's binary_logloss: 0.284171\tvalid_1's binary_logloss: 0.289708\n",
      "[68]\ttraining's binary_logloss: 0.28399\tvalid_1's binary_logloss: 0.289863\n",
      "[69]\ttraining's binary_logloss: 0.28378\tvalid_1's binary_logloss: 0.289858\n",
      "[70]\ttraining's binary_logloss: 0.283623\tvalid_1's binary_logloss: 0.289909\n",
      "[71]\ttraining's binary_logloss: 0.283468\tvalid_1's binary_logloss: 0.289859\n",
      "[72]\ttraining's binary_logloss: 0.283298\tvalid_1's binary_logloss: 0.289715\n",
      "[73]\ttraining's binary_logloss: 0.283125\tvalid_1's binary_logloss: 0.28965\n",
      "[74]\ttraining's binary_logloss: 0.282943\tvalid_1's binary_logloss: 0.289639\n",
      "[75]\ttraining's binary_logloss: 0.282745\tvalid_1's binary_logloss: 0.289541\n",
      "[76]\ttraining's binary_logloss: 0.282588\tvalid_1's binary_logloss: 0.289613\n",
      "[77]\ttraining's binary_logloss: 0.282452\tvalid_1's binary_logloss: 0.289657\n",
      "[78]\ttraining's binary_logloss: 0.282215\tvalid_1's binary_logloss: 0.289783\n",
      "[79]\ttraining's binary_logloss: 0.282117\tvalid_1's binary_logloss: 0.289789\n",
      "[80]\ttraining's binary_logloss: 0.281856\tvalid_1's binary_logloss: 0.289627\n",
      "[81]\ttraining's binary_logloss: 0.281692\tvalid_1's binary_logloss: 0.289606\n",
      "[82]\ttraining's binary_logloss: 0.281523\tvalid_1's binary_logloss: 0.289577\n",
      "[83]\ttraining's binary_logloss: 0.281363\tvalid_1's binary_logloss: 0.289557\n",
      "[84]\ttraining's binary_logloss: 0.280995\tvalid_1's binary_logloss: 0.289238\n",
      "[85]\ttraining's binary_logloss: 0.280759\tvalid_1's binary_logloss: 0.288973\n",
      "[86]\ttraining's binary_logloss: 0.280552\tvalid_1's binary_logloss: 0.288988\n",
      "[87]\ttraining's binary_logloss: 0.280188\tvalid_1's binary_logloss: 0.28878\n",
      "[88]\ttraining's binary_logloss: 0.279978\tvalid_1's binary_logloss: 0.288565\n",
      "[89]\ttraining's binary_logloss: 0.279787\tvalid_1's binary_logloss: 0.288605\n",
      "[90]\ttraining's binary_logloss: 0.279612\tvalid_1's binary_logloss: 0.288621\n",
      "[91]\ttraining's binary_logloss: 0.279509\tvalid_1's binary_logloss: 0.288641\n",
      "[92]\ttraining's binary_logloss: 0.279291\tvalid_1's binary_logloss: 0.288714\n",
      "[93]\ttraining's binary_logloss: 0.279028\tvalid_1's binary_logloss: 0.288605\n",
      "[94]\ttraining's binary_logloss: 0.278855\tvalid_1's binary_logloss: 0.288551\n",
      "[95]\ttraining's binary_logloss: 0.278712\tvalid_1's binary_logloss: 0.288559\n",
      "[96]\ttraining's binary_logloss: 0.278456\tvalid_1's binary_logloss: 0.288505\n",
      "[97]\ttraining's binary_logloss: 0.278178\tvalid_1's binary_logloss: 0.288312\n",
      "[98]\ttraining's binary_logloss: 0.277814\tvalid_1's binary_logloss: 0.288393\n",
      "[99]\ttraining's binary_logloss: 0.277652\tvalid_1's binary_logloss: 0.288456\n",
      "[100]\ttraining's binary_logloss: 0.277415\tvalid_1's binary_logloss: 0.288364\n",
      "Did not meet early stopping. Best iteration is:\n",
      "[100]\ttraining's binary_logloss: 0.277415\tvalid_1's binary_logloss: 0.288364\n"
     ]
    },
    {
     "data": {
      "text/plain": [
       "GridSearchCV(cv=3, estimator=LGBMClassifier(n_estimators=400), n_jobs=-1,\n",
       "             param_grid={'max_depth': [16, 32, 64, 128, 160],\n",
       "                         'min_child_samples': [20, 60, 100],\n",
       "                         'n_estimators': [100, 300, 500, 700, 900, 1200],\n",
       "                         'num_leaves': [8, 16, 32, 64],\n",
       "                         'subsample': [0.2, 0.4, 0.6, 0.8, 1]})"
      ]
     },
     "execution_count": 23,
     "metadata": {},
     "output_type": "execute_result"
    }
   ],
   "source": [
    "gridcv.fit(X_train, y_train, early_stopping_rounds=30, eval_metric=\"f1\",\n",
    "           eval_set=[(X_train, y_train), (X_test, y_test)])"
   ]
  },
  {
   "cell_type": "code",
   "execution_count": 24,
   "metadata": {},
   "outputs": [
    {
     "data": {
      "text/plain": [
       "LGBMClassifier(max_depth=16, num_leaves=8, subsample=0.2)"
      ]
     },
     "execution_count": 24,
     "metadata": {},
     "output_type": "execute_result"
    }
   ],
   "source": [
    "gridcv.best_estimator_"
   ]
  },
  {
   "cell_type": "code",
   "execution_count": 25,
   "metadata": {},
   "outputs": [],
   "source": [
    "lgbm_clf_best = LGBMClassifier(max_depth=16, num_leaves=8, subsample=0.2)"
   ]
  },
  {
   "cell_type": "code",
   "execution_count": 26,
   "metadata": {},
   "outputs": [
    {
     "data": {
      "text/plain": [
       "LGBMClassifier(max_depth=16, num_leaves=8, subsample=0.2)"
      ]
     },
     "execution_count": 26,
     "metadata": {},
     "output_type": "execute_result"
    }
   ],
   "source": [
    "lgbm_clf_best.fit(X_train, y_train)"
   ]
  },
  {
   "cell_type": "code",
   "execution_count": 27,
   "metadata": {},
   "outputs": [
    {
     "name": "stdout",
     "output_type": "stream",
     "text": [
      "pred_proba()결과 Shape : (4521, 2)\n",
      "pred_proba array에서 앞 3개만 샘플로 추출 \n",
      ": [[0.91594778 0.08405222]\n",
      " [0.94047594 0.05952406]\n",
      " [0.96857104 0.03142896]]\n",
      "두개의 class 중에서 더 큰 확률을 클래스 값으로 예측 \n",
      " [[0.91594778 0.08405222 0.91594778 0.08405222]\n",
      " [0.94047594 0.05952406 0.94047594 0.05952406]\n",
      " [0.96857104 0.03142896 0.96857104 0.03142896]]\n"
     ]
    }
   ],
   "source": [
    "# 적절한 임계점 찾기\n",
    "\n",
    "pred_proba = lgbm_clf_best.predict_proba(X_test)\n",
    "pred  = lgbm_clf_best.predict_proba(X_test)\n",
    "print('pred_proba()결과 Shape : {0}'.format(pred_proba.shape))\n",
    "print('pred_proba array에서 앞 3개만 샘플로 추출 \\n:', pred_proba[:3])\n",
    "\n",
    "# 예측 확률 array 와 예측 결과값 array 를 concatenate 하여 예측 확률과 결과값을 한눈에 확인\n",
    "pred_proba_result = np.concatenate([pred_proba , pred.reshape(-1,2)],axis=1)\n",
    "print('두개의 class 중에서 더 큰 확률을 클래스 값으로 예측 \\n',pred_proba_result[:3])\n"
   ]
  },
  {
   "cell_type": "code",
   "execution_count": 28,
   "metadata": {},
   "outputs": [
    {
     "name": "stdout",
     "output_type": "stream",
     "text": [
      "오차 행렬\n",
      "[[3919   65]\n",
      " [ 414  123]]\n",
      "정확도: 0.8940, 정밀도: 0.6543, 재현율: 0.2291, F1_score:  0.229050\n"
     ]
    }
   ],
   "source": [
    "from sklearn.preprocessing import Binarizer\n",
    "\n",
    "#Binarizer의 threshold 설정값. 분류 결정 임곗값임.  \n",
    "custom_threshold = 0.5\n",
    "\n",
    "# predict_proba( ) 반환값의 두번째 컬럼 , 즉 Positive 클래스 컬럼 하나만 추출하여 Binarizer를 적용\n",
    "pred_proba_1 = pred_proba[:,1].reshape(-1,1)\n",
    "\n",
    "binarizer = Binarizer(threshold=custom_threshold).fit(pred_proba_1) \n",
    "custom_predict = binarizer.transform(pred_proba_1)\n",
    "\n",
    "get_clf_eval(y_test, custom_predict)"
   ]
  },
  {
   "cell_type": "code",
   "execution_count": 29,
   "metadata": {
    "scrolled": true
   },
   "outputs": [],
   "source": [
    "from sklearn.metrics import precision_recall_curve\n",
    "\n",
    "# 레이블 값이 1일때의 예측 확률을 추출 \n",
    "pred_proba_class1 = lgbm_clf_best.predict_proba(X_test)[:, 1]"
   ]
  },
  {
   "cell_type": "code",
   "execution_count": 30,
   "metadata": {},
   "outputs": [
    {
     "data": {
      "image/png": "[encoded data removed]",
      "text/plain": [
       "<Figure size 576x432 with 1 Axes>"
      ]
     },
     "metadata": {
      "needs_background": "light"
     },
     "output_type": "display_data"
    }
   ],
   "source": [
    "# 임계점 시각화\n",
    "\n",
    "import matplotlib.pyplot as plt\n",
    "import matplotlib.ticker as ticker\n",
    "%matplotlib inline\n",
    "\n",
    "def precision_recall_curve_plot(y_test, pred_proba_c1):\n",
    "    # threshold ndarray와 이 threshold에 따른 정밀도, 재현율 ndarray 추출. \n",
    "    precisions, recalls, thresholds = precision_recall_curve( y_test, pred_proba_c1)\n",
    "    \n",
    "    # X축을 threshold값으로, Y축은 정밀도, 재현율 값으로 각각 Plot 수행. 정밀도는 점선으로 표시\n",
    "    plt.figure(figsize=(8,6))\n",
    "    threshold_boundary = thresholds.shape[0]\n",
    "    plt.plot(thresholds, precisions[0:threshold_boundary], linestyle='--', label='precision')\n",
    "    plt.plot(thresholds, recalls[0:threshold_boundary],label='recall')\n",
    "    \n",
    "    # threshold 값 X 축의 Scale을 0.1 단위로 변경\n",
    "    start, end = plt.xlim()\n",
    "    plt.xticks(np.round(np.arange(start, end, 0.1),2))\n",
    "    \n",
    "    # x축, y축 label과 legend, 그리고 grid 설정\n",
    "    plt.xlabel('Threshold value'); plt.ylabel('Precision and Recall value')\n",
    "    plt.legend(); plt.grid()\n",
    "    plt.show()\n",
    "    \n",
    "precision_recall_curve_plot(y_test, lgbm_clf_best.predict_proba(X_test)[:, 1] )\n"
   ]
  },
  {
   "cell_type": "code",
   "execution_count": 31,
   "metadata": {},
   "outputs": [
    {
     "data": {
      "text/plain": [
       "(0.197, 0.4987)"
      ]
     },
     "execution_count": 31,
     "metadata": {},
     "output_type": "execute_result"
    }
   ],
   "source": [
    "# 가장 높은 F1_score를 가지는 임계점 찾기\n",
    "\n",
    "def Find_threshold(model, X_test, y_test):\n",
    "    thresholds = np.arange(0,1,0.001)\n",
    "    threshold_count = []\n",
    "    pred_proba=model.predict_proba(X_test)\n",
    "    pred_proba_1 = pred_proba[:,1].reshape(-1,1)\n",
    "    for threshold in thresholds:\n",
    "        binarizer = Binarizer(threshold=threshold)\n",
    "        model_cl_pred = binarizer.transform(pred_proba_1)\n",
    "        threshold_count.append([threshold, metrics.f1_score(model_cl_pred, y_test)])\n",
    "\n",
    "    MAX=thresholds[np.array(threshold_count)[:,1].argmax()]\n",
    "    \n",
    "    thresholds = np.arange(MAX-0.05,MAX+0.05,0.005)\n",
    "    threshold_count = []\n",
    "    for threshold in thresholds:\n",
    "        binarizer = Binarizer(threshold=threshold)\n",
    "        model_cl_pred = binarizer.transform(pred_proba_1)\n",
    "        #threshold_count.append([threshold, metrics.f1_score(log_cl_pred, y_test)])\n",
    "        #print('threshold: {0:.4f}, f1_score: {1:.4f}'.format(threshold,metrics.f1_score(model_cl_pred, y_test)))\n",
    "        threshold_count.append([threshold, metrics.f1_score(model_cl_pred, y_test)])\n",
    "    \n",
    "    return np.round(thresholds[np.array(threshold_count)[:,1].argmax()],4), np.round(metrics.f1_score(Binarizer(threshold=thresholds[np.array(threshold_count)[:,1].argmax()]).transform(pred_proba_1), y_test),4)\n",
    "\n",
    "Find_threshold(lgbm_clf_best, X_test, y_test)"
   ]
  },
  {
   "cell_type": "code",
   "execution_count": 32,
   "metadata": {},
   "outputs": [
    {
     "name": "stdout",
     "output_type": "stream",
     "text": [
      "오차 행렬\n",
      "[[3627  357]\n",
      " [ 240  297]]\n",
      "정확도: 0.8679, 정밀도: 0.4541, 재현율: 0.5531, F1_score:  0.553073\n"
     ]
    }
   ],
   "source": [
    "# Binarizer의 베스트 threshold 설정값 지정 \n",
    "\n",
    "custom_threshold = 0.197\n",
    "pred_proba_1 = pred_proba[:,1].reshape(-1,1)\n",
    "binarizer = Binarizer(threshold=custom_threshold).fit(pred_proba_1) \n",
    "custom_predict = binarizer.transform(pred_proba_1)\n",
    "\n",
    "get_clf_eval(y_test , custom_predict)"
   ]
  },
  {
   "cell_type": "code",
   "execution_count": 33,
   "metadata": {},
   "outputs": [],
   "source": [
    "test = pd.read_csv('./test_dummies.csv')\n",
    "pred_proba_1 = lgbm_clf_best.predict_proba(df_test)\n",
    "binarizer_pred = Binarizer(threshold=custom_threshold).transform(pred_proba_1[:,1].reshape(-1,1)) \n",
    "binarizer_pred = binarizer_pred.reshape(-1,)\n",
    "submit = pd.read_csv('./sample_submission.csv')\n",
    "submit['y'] = binarizer_pred\n",
    "submit['y'] = submit.y.astype('bool')\n",
    "submit.to_csv('./nosampling_gridhypertunning_0.197.csv', index = False)"
   ]
  },
  {
   "cell_type": "markdown",
   "metadata": {},
   "source": [
    "# 하이퍼파라미터 튜닝 - RandomizedGridsearch"
   ]
  },
  {
   "cell_type": "code",
   "execution_count": 34,
   "metadata": {},
   "outputs": [
    {
     "name": "stdout",
     "output_type": "stream",
     "text": [
      "{'n_estimators': [100, 311, 522, 733, 944, 1155, 1366, 1577, 1788, 2000], 'max_features': ['auto', 'sqrt'], 'max_depth': [10, 20, 30, 40, 50, 60, 70, 80, 90, 100, 110, None], 'min_samples_split': [1, 2, 3, 4, 5, 6, 7, 8, 9, 10], 'min_samples_leaf': [1, 2, 3, 4, 5, 6, 7, 8, 9, 10], 'bootstrap': [True, False]}\n"
     ]
    }
   ],
   "source": [
    "from sklearn.model_selection import RandomizedSearchCV\n",
    "\n",
    "# Number of trees in random forest\n",
    "\n",
    "n_estimators = [int(x) for x in np.linspace(start = 100, stop = 2000, num = 10)]\n",
    "\n",
    "# Number of features to consider at every split\n",
    "\n",
    "max_features = ['auto', 'sqrt']\n",
    "\n",
    "# Maximum number of levels in tree\n",
    "\n",
    "max_depth = [int(x) for x in np.linspace(10, 110, num = 11)]\n",
    "\n",
    "max_depth.append(None)\n",
    "\n",
    "# Minimum number of samples required to split a node\n",
    "\n",
    "min_samples_split = [1,2,3,4,5,6,7,8,9,10]\n",
    "\n",
    "# Minimum number of samples required at each leaf node\n",
    "\n",
    "min_samples_leaf = [1, 2, 3, 4, 5, 6, 7, 8, 9, 10]\n",
    "\n",
    "# Method of selecting samples for training each tree\n",
    "\n",
    "bootstrap = [True, False]\n",
    "\n",
    "# Create the random grid\n",
    "\n",
    "random_grid = {'n_estimators': n_estimators,\n",
    "               'max_features': max_features,\n",
    "               'max_depth': max_depth,\n",
    "               'min_samples_split': min_samples_split,\n",
    "               'min_samples_leaf': min_samples_leaf,\n",
    "               'bootstrap': bootstrap}\n",
    "\n",
    "print(random_grid)"
   ]
  },
  {
   "cell_type": "code",
   "execution_count": 35,
   "metadata": {},
   "outputs": [
    {
     "name": "stdout",
     "output_type": "stream",
     "text": [
      "Fitting 3 folds for each of 100 candidates, totalling 300 fits\n"
     ]
    },
    {
     "name": "stderr",
     "output_type": "stream",
     "text": [
      "[Parallel(n_jobs=-1)]: Using backend LokyBackend with 8 concurrent workers.\n",
      "[Parallel(n_jobs=-1)]: Done  25 tasks      | elapsed:   36.1s\n",
      "[Parallel(n_jobs=-1)]: Done 146 tasks      | elapsed:  2.9min\n",
      "[Parallel(n_jobs=-1)]: Done 300 out of 300 | elapsed:  5.7min finished\n"
     ]
    },
    {
     "name": "stdout",
     "output_type": "stream",
     "text": [
      "LGBMClassifier(bootstrap=False, max_depth=10, max_features='auto',\n",
      "               min_samples_leaf=3, min_samples_split=4)\n"
     ]
    }
   ],
   "source": [
    "# Use the random grid to search for best hyperparameters\n",
    "# First create the base model to tune\n",
    "\n",
    "lg_cl = LGBMClassifier()\n",
    "\n",
    "# Random search of parameters, using 3 fold cross validation, \n",
    "# search across 100 different combinations, and use all available cores\n",
    "\n",
    "lg_random = RandomizedSearchCV(estimator = lg_cl, param_distributions = random_grid, n_iter = 100, cv = 3, verbose=2, n_jobs = -1)\n",
    "\n",
    "# Fit the random search model\n",
    "\n",
    "lg_random.fit(X_train, y_train)\n",
    "print(lg_random.best_estimator_)"
   ]
  },
  {
   "cell_type": "code",
   "execution_count": 36,
   "metadata": {},
   "outputs": [],
   "source": [
    "lgb_random_best = LGBMClassifier(bootstrap=False, max_depth=10, max_features='auto',\n",
    "               min_samples_leaf=3, min_samples_split=4)"
   ]
  },
  {
   "cell_type": "code",
   "execution_count": 37,
   "metadata": {},
   "outputs": [
    {
     "data": {
      "text/plain": [
       "LGBMClassifier(bootstrap=False, max_depth=10, max_features='auto',\n",
       "               min_samples_leaf=3, min_samples_split=4)"
      ]
     },
     "execution_count": 37,
     "metadata": {},
     "output_type": "execute_result"
    }
   ],
   "source": [
    "lgb_random_best.fit(X_train, y_train)"
   ]
  },
  {
   "cell_type": "code",
   "execution_count": 38,
   "metadata": {},
   "outputs": [
    {
     "name": "stdout",
     "output_type": "stream",
     "text": [
      "pred_proba()결과 Shape : (4521, 2)\n",
      "pred_proba array에서 앞 3개만 샘플로 추출 \n",
      ": [[0.94245854 0.05754146]\n",
      " [0.9447543  0.0552457 ]\n",
      " [0.97535609 0.02464391]]\n",
      "두개의 class 중에서 더 큰 확률을 클래스 값으로 예측 \n",
      " [[0.94245854 0.05754146 0.94245854 0.05754146]\n",
      " [0.9447543  0.0552457  0.9447543  0.0552457 ]\n",
      " [0.97535609 0.02464391 0.97535609 0.02464391]]\n"
     ]
    }
   ],
   "source": [
    "# 적절한 임계값 찾기\n",
    "\n",
    "pred_proba = lgb_random_best.predict_proba(X_test)\n",
    "pred  = lgb_random_best.predict_proba(X_test)\n",
    "print('pred_proba()결과 Shape : {0}'.format(pred_proba.shape))\n",
    "print('pred_proba array에서 앞 3개만 샘플로 추출 \\n:', pred_proba[:3])\n",
    "\n",
    "# 예측 확률 array 와 예측 결과값 array 를 concatenate 하여 예측 확률과 결과값을 한눈에 확인\n",
    "pred_proba_result = np.concatenate([pred_proba , pred.reshape(-1,2)],axis=1)\n",
    "print('두개의 class 중에서 더 큰 확률을 클래스 값으로 예측 \\n',pred_proba_result[:3])\n"
   ]
  },
  {
   "cell_type": "code",
   "execution_count": 39,
   "metadata": {},
   "outputs": [
    {
     "name": "stdout",
     "output_type": "stream",
     "text": [
      "오차 행렬\n",
      "[[3898   86]\n",
      " [ 403  134]]\n",
      "정확도: 0.8918, 정밀도: 0.6091, 재현율: 0.2495, F1_score:  0.249534\n"
     ]
    }
   ],
   "source": [
    "## 2\n",
    "\n",
    "from sklearn.preprocessing import Binarizer\n",
    "\n",
    "#Binarizer의 threshold 설정값. 분류 결정 임곗값임.  \n",
    "custom_threshold = 0.5\n",
    "\n",
    "# predict_proba( ) 반환값의 두번째 컬럼 , 즉 Positive 클래스 컬럼 하나만 추출하여 Binarizer를 적용\n",
    "pred_proba_1 = pred_proba[:,1].reshape(-1,1)\n",
    "\n",
    "binarizer = Binarizer(threshold=custom_threshold).fit(pred_proba_1) \n",
    "custom_predict = binarizer.transform(pred_proba_1)\n",
    "\n",
    "get_clf_eval(y_test, custom_predict)"
   ]
  },
  {
   "cell_type": "code",
   "execution_count": 40,
   "metadata": {
    "scrolled": true
   },
   "outputs": [],
   "source": [
    "from sklearn.metrics import precision_recall_curve\n",
    "\n",
    "# 레이블 값이 1일때의 예측 확률을 추출 \n",
    "pred_proba_class1 = lgb_random_best.predict_proba(X_test)[:, 1]"
   ]
  },
  {
   "cell_type": "code",
   "execution_count": 41,
   "metadata": {},
   "outputs": [
    {
     "data": {
      "image/png": "[encoded data removed]",
      "text/plain": [
       "<Figure size 576x432 with 1 Axes>"
      ]
     },
     "metadata": {
      "needs_background": "light"
     },
     "output_type": "display_data"
    }
   ],
   "source": [
    "# 임계점 시각화\n",
    "\n",
    "import matplotlib.pyplot as plt\n",
    "import matplotlib.ticker as ticker\n",
    "%matplotlib inline\n",
    "\n",
    "def precision_recall_curve_plot(y_test, pred_proba_c1):\n",
    "    # threshold ndarray와 이 threshold에 따른 정밀도, 재현율 ndarray 추출. \n",
    "    precisions, recalls, thresholds = precision_recall_curve( y_test, pred_proba_c1)\n",
    "    \n",
    "    # X축을 threshold값으로, Y축은 정밀도, 재현율 값으로 각각 Plot 수행. 정밀도는 점선으로 표시\n",
    "    plt.figure(figsize=(8,6))\n",
    "    threshold_boundary = thresholds.shape[0]\n",
    "    plt.plot(thresholds, precisions[0:threshold_boundary], linestyle='--', label='precision')\n",
    "    plt.plot(thresholds, recalls[0:threshold_boundary],label='recall')\n",
    "    \n",
    "    # threshold 값 X 축의 Scale을 0.1 단위로 변경\n",
    "    start, end = plt.xlim()\n",
    "    plt.xticks(np.round(np.arange(start, end, 0.1),2))\n",
    "    \n",
    "    # x축, y축 label과 legend, 그리고 grid 설정\n",
    "    plt.xlabel('Threshold value'); plt.ylabel('Precision and Recall value')\n",
    "    plt.legend(); plt.grid()\n",
    "    plt.show()\n",
    "    \n",
    "precision_recall_curve_plot(y_test, lgb_random_best.predict_proba(X_test)[:, 1]) ##\n"
   ]
  },
  {
   "cell_type": "code",
   "execution_count": 42,
   "metadata": {},
   "outputs": [
    {
     "data": {
      "text/plain": [
       "(0.251, 0.4874)"
      ]
     },
     "execution_count": 42,
     "metadata": {},
     "output_type": "execute_result"
    }
   ],
   "source": [
    "# F1_score가 최대인 임계값 찾기\n",
    "\n",
    "def Find_threshold(model, X_test, y_test):\n",
    "    thresholds = np.arange(0,1,0.001)\n",
    "    threshold_count = []\n",
    "    pred_proba=model.predict_proba(X_test)\n",
    "    pred_proba_1 = pred_proba[:,1].reshape(-1,1)\n",
    "    for threshold in thresholds:\n",
    "        binarizer = Binarizer(threshold=threshold)\n",
    "        model_cl_pred = binarizer.transform(pred_proba_1)\n",
    "        threshold_count.append([threshold, metrics.f1_score(model_cl_pred, y_test)])\n",
    "\n",
    "    MAX=thresholds[np.array(threshold_count)[:,1].argmax()]\n",
    "    \n",
    "    thresholds = np.arange(MAX-0.05,MAX+0.05,0.005)\n",
    "    threshold_count = []\n",
    "    for threshold in thresholds:\n",
    "        binarizer = Binarizer(threshold=threshold)\n",
    "        model_cl_pred = binarizer.transform(pred_proba_1)\n",
    "        #threshold_count.append([threshold, metrics.f1_score(log_cl_pred, y_test)])\n",
    "        #print('threshold: {0:.4f}, f1_score: {1:.4f}'.format(threshold,metrics.f1_score(model_cl_pred, y_test)))\n",
    "        threshold_count.append([threshold, metrics.f1_score(model_cl_pred, y_test)])\n",
    "    \n",
    "    return np.round(thresholds[np.array(threshold_count)[:,1].argmax()],4), np.round(metrics.f1_score(Binarizer(threshold=thresholds[np.array(threshold_count)[:,1].argmax()]).transform(pred_proba_1), y_test),4)\n",
    "\n",
    "Find_threshold(lgb_random_best, X_test, y_test)"
   ]
  },
  {
   "cell_type": "code",
   "execution_count": 43,
   "metadata": {},
   "outputs": [
    {
     "name": "stdout",
     "output_type": "stream",
     "text": [
      "오차 행렬\n",
      "[[3680  304]\n",
      " [ 266  271]]\n",
      "정확도: 0.8739, 정밀도: 0.4713, 재현율: 0.5047, F1_score:  0.504655\n"
     ]
    }
   ],
   "source": [
    "# Binarizer의 베스트 threshold 설정값 지정 \n",
    "\n",
    "custom_threshold = 0.251\n",
    "pred_proba_1 = pred_proba[:,1].reshape(-1,1)\n",
    "binarizer = Binarizer(threshold=custom_threshold).fit(pred_proba_1) \n",
    "custom_predict = binarizer.transform(pred_proba_1)\n",
    "\n",
    "get_clf_eval(y_test , custom_predict)"
   ]
  },
  {
   "cell_type": "code",
   "execution_count": 44,
   "metadata": {},
   "outputs": [],
   "source": [
    "test = pd.read_csv('./test_dummies.csv')\n",
    "pred_proba_1 = lgb_random_best.predict_proba(test)\n",
    "binarizer_pred = Binarizer(threshold=custom_threshold).transform(pred_proba_1[:,1].reshape(-1,1)) \n",
    "binarizer_pred = binarizer_pred.reshape(-1,)\n",
    "submit = pd.read_csv('./sample_submission.csv')\n",
    "submit['y'] = binarizer_pred\n",
    "submit['y'] = submit.y.astype('bool')\n",
    "submit.to_csv('./nosampling_randomhypertunning_0.251.csv', index = False)"
   ]
  },
  {
   "cell_type": "markdown",
   "metadata": {},
   "source": [
    "### BaysianOptimization을 이용한 하이퍼 파라미터 튜닝"
   ]
  },
  {
   "cell_type": "markdown",
   "metadata": {},
   "source": [
    " - 하이퍼 파라미터 튜닝 대상을 Dictionary 형태로 정의.(이때 개별 하이퍼 파라미터는 튜플형태의 범위값으로 주어짐.) \n",
    " - 예를 들어 num_leaves의 값을 24~45 사이의 값을 입력하려면 'num_leaves':(24, 45)로 부여해야 합니다. \n",
    "    \n",
    " - 이 때 유의해야 할 사항은 num_leaves는 정수형값만 가능한 하이퍼 파라미터임에도 불구하고 BaysianOptimization 클래스가 해당 파라미터의 범위값을 입력 받으면 이를 무조건 정수형이 아닌 실수형 값으로 인식하여 값을 추출하는 것. \n",
    " - 즉 24.5, 25.4, 30.2, 27.2 와 같이 실수형 값을 num_leaves 값으로 설정하려고 시도하는데, 이는 실행 오류를 발생시킴.\n",
    "---\n",
    " - 이러한 실행 오류를 막기 위해서는 호출되는 BayesianOptimization 평가 함수내에서 XGBoost/LightGBM의 하이퍼 파라미터를 다시 정수형 값으로 변경시켜야함. "
   ]
  },
  {
   "cell_type": "code",
   "execution_count": 45,
   "metadata": {},
   "outputs": [],
   "source": [
    "bayes_params = {\n",
    "    'num_leaves': (8, 60),\n",
    "    'colsample_bytree':(0.5, 1), \n",
    "    'subsample': (0.5, 1),\n",
    "    'max_depth': (4, 24),\n",
    "    'reg_alpha': (0, 0.5),\n",
    "    'reg_lambda': (0, 0.5), \n",
    "    'min_split_gain': (0.001, 0.1),\n",
    "    'min_child_weight':(5, 50)\n",
    "}"
   ]
  },
  {
   "cell_type": "markdown",
   "metadata": {},
   "source": [
    "테스트 해볼 하이퍼 파라미터의 범위 값을 설정하였으면 BaysianOptimization에서 호출하여 모델을 최적화하는 함수를 만들어 보겠습니다.\n",
    "\n",
    "해당 함수는 BaysianOptimization에서 하이퍼 파라미터를 튜닝하기 위해 호출되면 제대로 튜닝이 되고 있는지를 판단하기 위해서 모델을 학습/평가하고 이에 따른 평가 지표를 반환하는 형식으로 만들어집니다. 이 평가 함수는 BayesianOptimization 객체에서 파라미터를 변경하면서 호출되므로 함수의 인자로 앞에서 딕셔너리로 설정된 파라미터들을 가지게 됩니다."
   ]
  },
  {
   "cell_type": "code",
   "execution_count": 46,
   "metadata": {},
   "outputs": [],
   "source": [
    "from lightgbm import LGBMClassifier\n",
    "from sklearn.metrics import roc_auc_score\n",
    "\n",
    "def lgb_roc_eval(num_leaves, colsample_bytree, subsample, max_depth, reg_alpha, reg_lambda, min_split_gain, min_child_weight):\n",
    "    \n",
    "    params = {\n",
    "        \"n_estimator\":200,\n",
    "        \"learning_rate\":0.02,\n",
    "        'num_leaves': int(round(num_leaves)),\n",
    "        'colsample_bytree': colsample_bytree, \n",
    "        'subsample': subsample,\n",
    "        'max_depth': int(round(max_depth)),\n",
    "        'reg_alpha': reg_alpha,\n",
    "        'reg_lambda': reg_lambda, \n",
    "        'min_split_gain': min_split_gain,\n",
    "        'min_child_weight': min_child_weight,\n",
    "        'verbosity': -1\n",
    "    }\n",
    "    print(\"params:\", params)\n",
    "    lgb_model = LGBMClassifier(**params)\n",
    "    lgb_model.fit(X_train, y_train, eval_set=[(X_test, y_test)], early_stopping_rounds=30, eval_metric=\"auc\", verbose=100 )\n",
    "    best_iter = lgb_model.best_iteration_\n",
    "    print('best_iter:', best_iter)\n",
    "    valid_proba = lgb_model.predict_proba(X_test, num_iteration=best_iter)[:, 1]\n",
    "    roc_preds = roc_auc_score(y_test, valid_proba)\n",
    "    print('roc_auc:', roc_preds)\n",
    "    return roc_preds\n",
    "    \n",
    "    "
   ]
  },
  {
   "cell_type": "markdown",
   "metadata": {},
   "source": [
    "BayesianOptimization 객체를 생성합니다. 이때 생성 인자로 앞에서 만든 평가함수 lgb_roc_eval 함수와 튜닝할 하이퍼 파라미터의 범위값을 설정한 딕셔너리 변수인 bayes_params를 입력합니다."
   ]
  },
  {
   "cell_type": "code",
   "execution_count": 47,
   "metadata": {},
   "outputs": [],
   "source": [
    "from bayes_opt import BayesianOptimization\n",
    "\n",
    "BO_lgb = BayesianOptimization(lgb_roc_eval, bayes_params, random_state=0)\n"
   ]
  },
  {
   "cell_type": "code",
   "execution_count": 48,
   "metadata": {},
   "outputs": [
    {
     "name": "stdout",
     "output_type": "stream",
     "text": [
      "|   iter    |  target   | colsam... | max_depth | min_ch... | min_sp... | num_le... | reg_alpha | reg_la... | subsample |\n",
      "-------------------------------------------------------------------------------------------------------------------------\n",
      "params: {'n_estimator': 200, 'learning_rate': 0.02, 'num_leaves': 30, 'colsample_bytree': 0.7744067519636624, 'subsample': 0.9458865003910399, 'max_depth': 18, 'reg_alpha': 0.32294705653332806, 'reg_lambda': 0.21879360563134626, 'min_split_gain': 0.05494343511669279, 'min_child_weight': 32.12435192322397, 'verbosity': -1}\n",
      "Training until validation scores don't improve for 30 rounds\n",
      "[100]\tvalid_0's auc: 0.786526\tvalid_0's binary_logloss: 0.297536\n",
      "Did not meet early stopping. Best iteration is:\n",
      "[100]\tvalid_0's auc: 0.786526\tvalid_0's binary_logloss: 0.297536\n",
      "best_iter: 100\n",
      "roc_auc: 0.7865257585275927\n",
      "| \u001b[0m 1       \u001b[0m | \u001b[0m 0.7865  \u001b[0m | \u001b[0m 0.7744  \u001b[0m | \u001b[0m 18.3    \u001b[0m | \u001b[0m 32.12   \u001b[0m | \u001b[0m 0.05494 \u001b[0m | \u001b[0m 30.03   \u001b[0m | \u001b[0m 0.3229  \u001b[0m | \u001b[0m 0.2188  \u001b[0m | \u001b[0m 0.9459  \u001b[0m |\n",
      "params: {'n_estimator': 200, 'learning_rate': 0.02, 'num_leaves': 38, 'colsample_bytree': 0.9818313802505146, 'subsample': 0.5435646498507704, 'max_depth': 12, 'reg_alpha': 0.4627983191463305, 'reg_lambda': 0.03551802909894347, 'min_split_gain': 0.05336059705553755, 'min_child_weight': 40.627626713719906, 'verbosity': -1}\n",
      "Training until validation scores don't improve for 30 rounds\n",
      "[100]\tvalid_0's auc: 0.788039\tvalid_0's binary_logloss: 0.296112\n",
      "Did not meet early stopping. Best iteration is:\n",
      "[100]\tvalid_0's auc: 0.788039\tvalid_0's binary_logloss: 0.296112\n",
      "best_iter: 100\n",
      "roc_auc: 0.7880394950378797\n",
      "| \u001b[95m 2       \u001b[0m | \u001b[95m 0.788   \u001b[0m | \u001b[95m 0.9818  \u001b[0m | \u001b[95m 11.67   \u001b[0m | \u001b[95m 40.63   \u001b[0m | \u001b[95m 0.05336 \u001b[0m | \u001b[95m 37.54   \u001b[0m | \u001b[95m 0.4628  \u001b[0m | \u001b[95m 0.03552 \u001b[0m | \u001b[95m 0.5436  \u001b[0m |\n",
      "params: {'n_estimator': 200, 'learning_rate': 0.02, 'num_leaves': 59, 'colsample_bytree': 0.5101091987201629, 'subsample': 0.8902645881432277, 'max_depth': 21, 'reg_alpha': 0.3995792821083618, 'reg_lambda': 0.23073968112646592, 'min_split_gain': 0.08713120267643511, 'min_child_weight': 40.01705379274327, 'verbosity': -1}\n",
      "Training until validation scores don't improve for 30 rounds\n",
      "[100]\tvalid_0's auc: 0.783464\tvalid_0's binary_logloss: 0.300864\n",
      "Did not meet early stopping. Best iteration is:\n",
      "[96]\tvalid_0's auc: 0.783516\tvalid_0's binary_logloss: 0.301423\n",
      "best_iter: 96\n",
      "roc_auc: 0.7835158137204309\n",
      "| \u001b[0m 3       \u001b[0m | \u001b[0m 0.7835  \u001b[0m | \u001b[0m 0.5101  \u001b[0m | \u001b[0m 20.65   \u001b[0m | \u001b[0m 40.02   \u001b[0m | \u001b[0m 0.08713 \u001b[0m | \u001b[0m 58.89   \u001b[0m | \u001b[0m 0.3996  \u001b[0m | \u001b[0m 0.2307  \u001b[0m | \u001b[0m 0.8903  \u001b[0m |\n",
      "params: {'n_estimator': 200, 'learning_rate': 0.02, 'num_leaves': 35, 'colsample_bytree': 0.5591372129344666, 'subsample': 0.8871168447171083, 'max_depth': 17, 'reg_alpha': 0.2073309699952618, 'reg_lambda': 0.13227780605231348, 'min_split_gain': 0.09452222278790881, 'min_child_weight': 11.450897933407088, 'verbosity': -1}\n",
      "Training until validation scores don't improve for 30 rounds\n",
      "[100]\tvalid_0's auc: 0.792936\tvalid_0's binary_logloss: 0.292881\n",
      "Did not meet early stopping. Best iteration is:\n",
      "[99]\tvalid_0's auc: 0.792987\tvalid_0's binary_logloss: 0.292959\n",
      "best_iter: 99\n",
      "roc_auc: 0.7929866579913696\n",
      "| \u001b[95m 4       \u001b[0m | \u001b[95m 0.793   \u001b[0m | \u001b[95m 0.5591  \u001b[0m | \u001b[95m 16.8    \u001b[0m | \u001b[95m 11.45   \u001b[0m | \u001b[95m 0.09452 \u001b[0m | \u001b[95m 35.14   \u001b[0m | \u001b[95m 0.2073  \u001b[0m | \u001b[95m 0.1323  \u001b[0m | \u001b[95m 0.8871  \u001b[0m |\n",
      "params: {'n_estimator': 200, 'learning_rate': 0.02, 'num_leaves': 40, 'colsample_bytree': 0.7280751661082743, 'subsample': 0.8409101495517417, 'max_depth': 15, 'reg_alpha': 0.30846699843737846, 'reg_lambda': 0.4718740392573121, 'min_split_gain': 0.062145914210511834, 'min_child_weight': 5.845541019635982, 'verbosity': -1}\n",
      "Training until validation scores don't improve for 30 rounds\n",
      "Early stopping, best iteration is:\n",
      "[42]\tvalid_0's auc: 0.790941\tvalid_0's binary_logloss: 0.306046\n",
      "best_iter: 42\n",
      "roc_auc: 0.7909409986313971\n",
      "| \u001b[0m 5       \u001b[0m | \u001b[0m 0.7909  \u001b[0m | \u001b[0m 0.7281  \u001b[0m | \u001b[0m 15.37   \u001b[0m | \u001b[0m 5.846   \u001b[0m | \u001b[0m 0.06215 \u001b[0m | \u001b[0m 39.83   \u001b[0m | \u001b[0m 0.3085  \u001b[0m | \u001b[0m 0.4719  \u001b[0m | \u001b[0m 0.8409  \u001b[0m |\n",
      "params: {'n_estimator': 200, 'learning_rate': 0.02, 'num_leaves': 25, 'colsample_bytree': 0.7356842192338882, 'subsample': 0.9901003782747588, 'max_depth': 17, 'reg_alpha': 0.2961579552042799, 'reg_lambda': 0.3999811629251122, 'min_split_gain': 0.01117492426470033, 'min_child_weight': 7.119487834232308, 'verbosity': -1}\n",
      "Training until validation scores don't improve for 30 rounds\n",
      "[100]\tvalid_0's auc: 0.793874\tvalid_0's binary_logloss: 0.291821\n",
      "Did not meet early stopping. Best iteration is:\n",
      "[100]\tvalid_0's auc: 0.793874\tvalid_0's binary_logloss: 0.291821\n",
      "best_iter: 100\n",
      "roc_auc: 0.7938742867185689\n",
      "| \u001b[95m 6       \u001b[0m | \u001b[95m 0.7939  \u001b[0m | \u001b[95m 0.7357  \u001b[0m | \u001b[95m 17.31   \u001b[0m | \u001b[95m 7.119   \u001b[0m | \u001b[95m 0.01117 \u001b[0m | \u001b[95m 25.31   \u001b[0m | \u001b[95m 0.2962  \u001b[0m | \u001b[95m 0.4     \u001b[0m | \u001b[95m 0.9901  \u001b[0m |\n",
      "params: {'n_estimator': 200, 'learning_rate': 0.02, 'num_leaves': 26, 'colsample_bytree': 0.8831763630675225, 'subsample': 0.5239655361950748, 'max_depth': 17, 'reg_alpha': 0.30470627986584453, 'reg_lambda': 0.2731695323753235, 'min_split_gain': 0.09838675780554756, 'min_child_weight': 7.445419110101939, 'verbosity': -1}\n",
      "Training until validation scores don't improve for 30 rounds\n",
      "[100]\tvalid_0's auc: 0.792873\tvalid_0's binary_logloss: 0.2921\n",
      "Did not meet early stopping. Best iteration is:\n",
      "[100]\tvalid_0's auc: 0.792873\tvalid_0's binary_logloss: 0.2921\n",
      "best_iter: 100\n",
      "roc_auc: 0.7928728414589457\n",
      "| \u001b[0m 7       \u001b[0m | \u001b[0m 0.7929  \u001b[0m | \u001b[0m 0.8832  \u001b[0m | \u001b[0m 17.28   \u001b[0m | \u001b[0m 7.445   \u001b[0m | \u001b[0m 0.09839 \u001b[0m | \u001b[0m 26.25   \u001b[0m | \u001b[0m 0.3047  \u001b[0m | \u001b[0m 0.2732  \u001b[0m | \u001b[0m 0.524   \u001b[0m |\n",
      "params: {'n_estimator': 200, 'learning_rate': 0.02, 'num_leaves': 19, 'colsample_bytree': 0.5, 'subsample': 1.0, 'max_depth': 18, 'reg_alpha': 0.2509119367945618, 'reg_lambda': 0.5, 'min_split_gain': 0.001, 'min_child_weight': 5.535917292358452, 'verbosity': -1}\n",
      "Training until validation scores don't improve for 30 rounds\n",
      "[100]\tvalid_0's auc: 0.792013\tvalid_0's binary_logloss: 0.295633\n",
      "Did not meet early stopping. Best iteration is:\n",
      "[99]\tvalid_0's auc: 0.792054\tvalid_0's binary_logloss: 0.295744\n",
      "best_iter: 99\n",
      "roc_auc: 0.792054390747347\n",
      "| \u001b[0m 8       \u001b[0m | \u001b[0m 0.7921  \u001b[0m | \u001b[0m 0.5     \u001b[0m | \u001b[0m 17.54   \u001b[0m | \u001b[0m 5.536   \u001b[0m | \u001b[0m 0.001   \u001b[0m | \u001b[0m 18.66   \u001b[0m | \u001b[0m 0.2509  \u001b[0m | \u001b[0m 0.5     \u001b[0m | \u001b[0m 1.0     \u001b[0m |\n",
      "params: {'n_estimator': 200, 'learning_rate': 0.02, 'num_leaves': 23, 'colsample_bytree': 0.5155786300701664, 'subsample': 0.9705464035053102, 'max_depth': 11, 'reg_alpha': 0.45431498243692914, 'reg_lambda': 0.2005815093380418, 'min_split_gain': 0.07342086547966517, 'min_child_weight': 6.189801021889109, 'verbosity': -1}\n",
      "Training until validation scores don't improve for 30 rounds\n",
      "[100]\tvalid_0's auc: 0.792336\tvalid_0's binary_logloss: 0.295156\n",
      "Did not meet early stopping. Best iteration is:\n",
      "[98]\tvalid_0's auc: 0.792422\tvalid_0's binary_logloss: 0.295373\n",
      "best_iter: 98\n",
      "roc_auc: 0.7924220158099811\n",
      "| \u001b[0m 9       \u001b[0m | \u001b[0m 0.7924  \u001b[0m | \u001b[0m 0.5156  \u001b[0m | \u001b[0m 10.6    \u001b[0m | \u001b[0m 6.19    \u001b[0m | \u001b[0m 0.07342 \u001b[0m | \u001b[0m 22.92   \u001b[0m | \u001b[0m 0.4543  \u001b[0m | \u001b[0m 0.2006  \u001b[0m | \u001b[0m 0.9705  \u001b[0m |\n",
      "params: {'n_estimator': 200, 'learning_rate': 0.02, 'num_leaves': 22, 'colsample_bytree': 0.5555181200472139, 'subsample': 0.8831732988715706, 'max_depth': 15, 'reg_alpha': 0.343357216213232, 'reg_lambda': 0.4236163538815922, 'min_split_gain': 0.001349397813674871, 'min_child_weight': 14.711163789668408, 'verbosity': -1}\n",
      "Training until validation scores don't improve for 30 rounds\n",
      "[100]\tvalid_0's auc: 0.789837\tvalid_0's binary_logloss: 0.295623\n",
      "Did not meet early stopping. Best iteration is:\n",
      "[100]\tvalid_0's auc: 0.789837\tvalid_0's binary_logloss: 0.295623\n",
      "best_iter: 100\n",
      "roc_auc: 0.7898369548959339\n",
      "| \u001b[0m 10      \u001b[0m | \u001b[0m 0.7898  \u001b[0m | \u001b[0m 0.5555  \u001b[0m | \u001b[0m 15.22   \u001b[0m | \u001b[0m 14.71   \u001b[0m | \u001b[0m 0.001349\u001b[0m | \u001b[0m 22.18   \u001b[0m | \u001b[0m 0.3434  \u001b[0m | \u001b[0m 0.4236  \u001b[0m | \u001b[0m 0.8832  \u001b[0m |\n"
     ]
    },
    {
     "name": "stdout",
     "output_type": "stream",
     "text": [
      "params: {'n_estimator': 200, 'learning_rate': 0.02, 'num_leaves': 26, 'colsample_bytree': 0.9963415847423831, 'subsample': 0.8576257010583855, 'max_depth': 24, 'reg_alpha': 0.009330048227644716, 'reg_lambda': 0.019604314288185376, 'min_split_gain': 0.04155948070314624, 'min_child_weight': 5.033169891354441, 'verbosity': -1}\n",
      "Training until validation scores don't improve for 30 rounds\n",
      "[100]\tvalid_0's auc: 0.79008\tvalid_0's binary_logloss: 0.293743\n",
      "Did not meet early stopping. Best iteration is:\n",
      "[100]\tvalid_0's auc: 0.79008\tvalid_0's binary_logloss: 0.293743\n",
      "best_iter: 100\n",
      "roc_auc: 0.7900795453695602\n",
      "| \u001b[0m 11      \u001b[0m | \u001b[0m 0.7901  \u001b[0m | \u001b[0m 0.9963  \u001b[0m | \u001b[0m 23.55   \u001b[0m | \u001b[0m 5.033   \u001b[0m | \u001b[0m 0.04156 \u001b[0m | \u001b[0m 26.25   \u001b[0m | \u001b[0m 0.00933 \u001b[0m | \u001b[0m 0.0196  \u001b[0m | \u001b[0m 0.8576  \u001b[0m |\n",
      "params: {'n_estimator': 200, 'learning_rate': 0.02, 'num_leaves': 40, 'colsample_bytree': 0.5998627886274677, 'subsample': 0.7790153334402677, 'max_depth': 16, 'reg_alpha': 0.4837187250801441, 'reg_lambda': 0.12255728703521324, 'min_split_gain': 0.07631095956670397, 'min_child_weight': 16.322914250811557, 'verbosity': -1}\n",
      "Training until validation scores don't improve for 30 rounds\n",
      "Early stopping, best iteration is:\n",
      "[46]\tvalid_0's auc: 0.790241\tvalid_0's binary_logloss: 0.307551\n",
      "best_iter: 46\n",
      "roc_auc: 0.7902412723519777\n",
      "| \u001b[0m 12      \u001b[0m | \u001b[0m 0.7902  \u001b[0m | \u001b[0m 0.5999  \u001b[0m | \u001b[0m 15.73   \u001b[0m | \u001b[0m 16.32   \u001b[0m | \u001b[0m 0.07631 \u001b[0m | \u001b[0m 40.05   \u001b[0m | \u001b[0m 0.4837  \u001b[0m | \u001b[0m 0.1226  \u001b[0m | \u001b[0m 0.779   \u001b[0m |\n",
      "params: {'n_estimator': 200, 'learning_rate': 0.02, 'num_leaves': 33, 'colsample_bytree': 0.5, 'subsample': 1.0, 'max_depth': 10, 'reg_alpha': 0.23896924890230814, 'reg_lambda': 0.5, 'min_split_gain': 0.001, 'min_child_weight': 9.587300929779639, 'verbosity': -1}\n",
      "Training until validation scores don't improve for 30 rounds\n",
      "[100]\tvalid_0's auc: 0.792071\tvalid_0's binary_logloss: 0.2942\n",
      "Did not meet early stopping. Best iteration is:\n",
      "[99]\tvalid_0's auc: 0.792204\tvalid_0's binary_logloss: 0.294293\n",
      "best_iter: 99\n",
      "roc_auc: 0.7922039648351319\n",
      "| \u001b[0m 13      \u001b[0m | \u001b[0m 0.7922  \u001b[0m | \u001b[0m 0.5     \u001b[0m | \u001b[0m 10.04   \u001b[0m | \u001b[0m 9.587   \u001b[0m | \u001b[0m 0.001   \u001b[0m | \u001b[0m 32.5    \u001b[0m | \u001b[0m 0.239   \u001b[0m | \u001b[0m 0.5     \u001b[0m | \u001b[0m 1.0     \u001b[0m |\n",
      "params: {'n_estimator': 200, 'learning_rate': 0.02, 'num_leaves': 29, 'colsample_bytree': 0.5, 'subsample': 1.0, 'max_depth': 4, 'reg_alpha': 0.0, 'reg_lambda': 0.0, 'min_split_gain': 0.001, 'min_child_weight': 5.0, 'verbosity': -1}\n",
      "Training until validation scores don't improve for 30 rounds\n",
      "[100]\tvalid_0's auc: 0.775121\tvalid_0's binary_logloss: 0.306924\n",
      "Did not meet early stopping. Best iteration is:\n",
      "[100]\tvalid_0's auc: 0.775121\tvalid_0's binary_logloss: 0.306924\n",
      "best_iter: 100\n",
      "roc_auc: 0.7751214354625204\n",
      "| \u001b[0m 14      \u001b[0m | \u001b[0m 0.7751  \u001b[0m | \u001b[0m 0.5     \u001b[0m | \u001b[0m 4.0     \u001b[0m | \u001b[0m 5.0     \u001b[0m | \u001b[0m 0.001   \u001b[0m | \u001b[0m 28.91   \u001b[0m | \u001b[0m 0.0     \u001b[0m | \u001b[0m 0.0     \u001b[0m | \u001b[0m 1.0     \u001b[0m |\n",
      "params: {'n_estimator': 200, 'learning_rate': 0.02, 'num_leaves': 32, 'colsample_bytree': 0.5, 'subsample': 1.0, 'max_depth': 12, 'reg_alpha': 0.0, 'reg_lambda': 0.5, 'min_split_gain': 0.001, 'min_child_weight': 15.558903774269975, 'verbosity': -1}\n",
      "Training until validation scores don't improve for 30 rounds\n",
      "[100]\tvalid_0's auc: 0.791845\tvalid_0's binary_logloss: 0.294612\n",
      "Did not meet early stopping. Best iteration is:\n",
      "[100]\tvalid_0's auc: 0.791845\tvalid_0's binary_logloss: 0.294612\n",
      "best_iter: 100\n",
      "roc_auc: 0.7918447533149358\n",
      "| \u001b[0m 15      \u001b[0m | \u001b[0m 0.7918  \u001b[0m | \u001b[0m 0.5     \u001b[0m | \u001b[0m 12.44   \u001b[0m | \u001b[0m 15.56   \u001b[0m | \u001b[0m 0.001   \u001b[0m | \u001b[0m 31.84   \u001b[0m | \u001b[0m 0.0     \u001b[0m | \u001b[0m 0.5     \u001b[0m | \u001b[0m 1.0     \u001b[0m |\n",
      "=========================================================================================================================\n"
     ]
    }
   ],
   "source": [
    "BO_lgb.maximize(init_points=5, n_iter=10)"
   ]
  },
  {
   "cell_type": "markdown",
   "metadata": {},
   "source": [
    "BayesianOptimization 객체의 max 속성은 최고 높은 성능 Metric를 가질때의 하이퍼 파라미터 값을 가지고 있음."
   ]
  },
  {
   "cell_type": "code",
   "execution_count": 49,
   "metadata": {},
   "outputs": [
    {
     "data": {
      "text/plain": [
       "{'target': 0.7938742867185689,\n",
       " 'params': {'colsample_bytree': 0.7356842192338882,\n",
       "  'max_depth': 17.30954475028242,\n",
       "  'min_child_weight': 7.119487834232308,\n",
       "  'min_split_gain': 0.01117492426470033,\n",
       "  'num_leaves': 25.313572860947055,\n",
       "  'reg_alpha': 0.2961579552042799,\n",
       "  'reg_lambda': 0.3999811629251122,\n",
       "  'subsample': 0.9901003782747588}}"
      ]
     },
     "execution_count": 49,
     "metadata": {},
     "output_type": "execute_result"
    }
   ],
   "source": [
    "BO_lgb.max"
   ]
  },
  {
   "cell_type": "code",
   "execution_count": 50,
   "metadata": {
    "scrolled": true
   },
   "outputs": [
    {
     "name": "stdout",
     "output_type": "stream",
     "text": [
      "[1]\tvalid_0's auc: 0.72753\tvalid_0's binary_logloss: 0.361324\n",
      "Training until validation scores don't improve for 100 rounds\n",
      "[2]\tvalid_0's auc: 0.763769\tvalid_0's binary_logloss: 0.358451\n",
      "[3]\tvalid_0's auc: 0.768982\tvalid_0's binary_logloss: 0.355442\n",
      "[4]\tvalid_0's auc: 0.775028\tvalid_0's binary_logloss: 0.353024\n",
      "[5]\tvalid_0's auc: 0.778089\tvalid_0's binary_logloss: 0.350886\n",
      "[6]\tvalid_0's auc: 0.777496\tvalid_0's binary_logloss: 0.348786\n",
      "[7]\tvalid_0's auc: 0.775357\tvalid_0's binary_logloss: 0.346971\n",
      "[8]\tvalid_0's auc: 0.77765\tvalid_0's binary_logloss: 0.344554\n",
      "[9]\tvalid_0's auc: 0.777541\tvalid_0's binary_logloss: 0.342311\n",
      "[10]\tvalid_0's auc: 0.777405\tvalid_0's binary_logloss: 0.340797\n",
      "[11]\tvalid_0's auc: 0.778126\tvalid_0's binary_logloss: 0.33874\n",
      "[12]\tvalid_0's auc: 0.778584\tvalid_0's binary_logloss: 0.33753\n",
      "[13]\tvalid_0's auc: 0.778891\tvalid_0's binary_logloss: 0.335669\n",
      "[14]\tvalid_0's auc: 0.780625\tvalid_0's binary_logloss: 0.334182\n",
      "[15]\tvalid_0's auc: 0.780927\tvalid_0's binary_logloss: 0.332958\n",
      "[16]\tvalid_0's auc: 0.780732\tvalid_0's binary_logloss: 0.331353\n",
      "[17]\tvalid_0's auc: 0.780821\tvalid_0's binary_logloss: 0.329819\n",
      "[18]\tvalid_0's auc: 0.781612\tvalid_0's binary_logloss: 0.328439\n",
      "[19]\tvalid_0's auc: 0.784763\tvalid_0's binary_logloss: 0.326961\n",
      "[20]\tvalid_0's auc: 0.785488\tvalid_0's binary_logloss: 0.325753\n",
      "[21]\tvalid_0's auc: 0.785109\tvalid_0's binary_logloss: 0.324493\n",
      "[22]\tvalid_0's auc: 0.784995\tvalid_0's binary_logloss: 0.323238\n",
      "[23]\tvalid_0's auc: 0.784752\tvalid_0's binary_logloss: 0.322096\n",
      "[24]\tvalid_0's auc: 0.784621\tvalid_0's binary_logloss: 0.321037\n",
      "[25]\tvalid_0's auc: 0.784699\tvalid_0's binary_logloss: 0.320083\n",
      "[26]\tvalid_0's auc: 0.784652\tvalid_0's binary_logloss: 0.319312\n",
      "[27]\tvalid_0's auc: 0.784717\tvalid_0's binary_logloss: 0.318478\n",
      "[28]\tvalid_0's auc: 0.784692\tvalid_0's binary_logloss: 0.317609\n",
      "[29]\tvalid_0's auc: 0.784468\tvalid_0's binary_logloss: 0.316759\n",
      "[30]\tvalid_0's auc: 0.785942\tvalid_0's binary_logloss: 0.315771\n",
      "[31]\tvalid_0's auc: 0.786179\tvalid_0's binary_logloss: 0.315148\n",
      "[32]\tvalid_0's auc: 0.786207\tvalid_0's binary_logloss: 0.314386\n",
      "[33]\tvalid_0's auc: 0.786735\tvalid_0's binary_logloss: 0.313677\n",
      "[34]\tvalid_0's auc: 0.787341\tvalid_0's binary_logloss: 0.31298\n",
      "[35]\tvalid_0's auc: 0.787288\tvalid_0's binary_logloss: 0.312396\n",
      "[36]\tvalid_0's auc: 0.787125\tvalid_0's binary_logloss: 0.311606\n",
      "[37]\tvalid_0's auc: 0.787101\tvalid_0's binary_logloss: 0.311109\n",
      "[38]\tvalid_0's auc: 0.787406\tvalid_0's binary_logloss: 0.310457\n",
      "[39]\tvalid_0's auc: 0.787539\tvalid_0's binary_logloss: 0.309937\n",
      "[40]\tvalid_0's auc: 0.787232\tvalid_0's binary_logloss: 0.309249\n",
      "[41]\tvalid_0's auc: 0.787804\tvalid_0's binary_logloss: 0.308676\n",
      "[42]\tvalid_0's auc: 0.788315\tvalid_0's binary_logloss: 0.308033\n",
      "[43]\tvalid_0's auc: 0.788587\tvalid_0's binary_logloss: 0.30753\n",
      "[44]\tvalid_0's auc: 0.788502\tvalid_0's binary_logloss: 0.306907\n",
      "[45]\tvalid_0's auc: 0.788545\tvalid_0's binary_logloss: 0.306561\n",
      "[46]\tvalid_0's auc: 0.78863\tvalid_0's binary_logloss: 0.305955\n",
      "[47]\tvalid_0's auc: 0.788556\tvalid_0's binary_logloss: 0.305538\n",
      "[48]\tvalid_0's auc: 0.788894\tvalid_0's binary_logloss: 0.305073\n",
      "[49]\tvalid_0's auc: 0.788534\tvalid_0's binary_logloss: 0.304589\n",
      "[50]\tvalid_0's auc: 0.788705\tvalid_0's binary_logloss: 0.304164\n",
      "[51]\tvalid_0's auc: 0.788736\tvalid_0's binary_logloss: 0.303755\n",
      "[52]\tvalid_0's auc: 0.789135\tvalid_0's binary_logloss: 0.303278\n",
      "[53]\tvalid_0's auc: 0.789202\tvalid_0's binary_logloss: 0.30287\n",
      "[54]\tvalid_0's auc: 0.789325\tvalid_0's binary_logloss: 0.302497\n",
      "[55]\tvalid_0's auc: 0.789257\tvalid_0's binary_logloss: 0.302287\n",
      "[56]\tvalid_0's auc: 0.789023\tvalid_0's binary_logloss: 0.302012\n",
      "[57]\tvalid_0's auc: 0.788944\tvalid_0's binary_logloss: 0.301739\n",
      "[58]\tvalid_0's auc: 0.789054\tvalid_0's binary_logloss: 0.301433\n",
      "[59]\tvalid_0's auc: 0.789366\tvalid_0's binary_logloss: 0.301107\n",
      "[60]\tvalid_0's auc: 0.789755\tvalid_0's binary_logloss: 0.300773\n",
      "[61]\tvalid_0's auc: 0.789895\tvalid_0's binary_logloss: 0.300418\n",
      "[62]\tvalid_0's auc: 0.789743\tvalid_0's binary_logloss: 0.300224\n",
      "[63]\tvalid_0's auc: 0.78972\tvalid_0's binary_logloss: 0.299945\n",
      "[64]\tvalid_0's auc: 0.789669\tvalid_0's binary_logloss: 0.299706\n",
      "[65]\tvalid_0's auc: 0.78966\tvalid_0's binary_logloss: 0.299465\n",
      "[66]\tvalid_0's auc: 0.789886\tvalid_0's binary_logloss: 0.299179\n",
      "[67]\tvalid_0's auc: 0.79034\tvalid_0's binary_logloss: 0.298861\n",
      "[68]\tvalid_0's auc: 0.790432\tvalid_0's binary_logloss: 0.29864\n",
      "[69]\tvalid_0's auc: 0.790399\tvalid_0's binary_logloss: 0.298468\n",
      "[70]\tvalid_0's auc: 0.790467\tvalid_0's binary_logloss: 0.298273\n",
      "[71]\tvalid_0's auc: 0.790309\tvalid_0's binary_logloss: 0.298092\n",
      "[72]\tvalid_0's auc: 0.790487\tvalid_0's binary_logloss: 0.297795\n",
      "[73]\tvalid_0's auc: 0.790569\tvalid_0's binary_logloss: 0.297609\n",
      "[74]\tvalid_0's auc: 0.791011\tvalid_0's binary_logloss: 0.297221\n",
      "[75]\tvalid_0's auc: 0.791226\tvalid_0's binary_logloss: 0.296948\n",
      "[76]\tvalid_0's auc: 0.791028\tvalid_0's binary_logloss: 0.296725\n",
      "[77]\tvalid_0's auc: 0.790943\tvalid_0's binary_logloss: 0.296568\n",
      "[78]\tvalid_0's auc: 0.791091\tvalid_0's binary_logloss: 0.296324\n",
      "[79]\tvalid_0's auc: 0.790944\tvalid_0's binary_logloss: 0.296172\n",
      "[80]\tvalid_0's auc: 0.790986\tvalid_0's binary_logloss: 0.296004\n",
      "[81]\tvalid_0's auc: 0.791011\tvalid_0's binary_logloss: 0.295814\n",
      "[82]\tvalid_0's auc: 0.79139\tvalid_0's binary_logloss: 0.295457\n",
      "[83]\tvalid_0's auc: 0.791428\tvalid_0's binary_logloss: 0.295289\n",
      "[84]\tvalid_0's auc: 0.791904\tvalid_0's binary_logloss: 0.294886\n",
      "[85]\tvalid_0's auc: 0.791785\tvalid_0's binary_logloss: 0.294741\n",
      "[86]\tvalid_0's auc: 0.792112\tvalid_0's binary_logloss: 0.294427\n",
      "[87]\tvalid_0's auc: 0.792089\tvalid_0's binary_logloss: 0.294212\n",
      "[88]\tvalid_0's auc: 0.792074\tvalid_0's binary_logloss: 0.294114\n",
      "[89]\tvalid_0's auc: 0.792223\tvalid_0's binary_logloss: 0.294\n",
      "[90]\tvalid_0's auc: 0.792306\tvalid_0's binary_logloss: 0.293888\n",
      "[91]\tvalid_0's auc: 0.792232\tvalid_0's binary_logloss: 0.293778\n",
      "[92]\tvalid_0's auc: 0.792548\tvalid_0's binary_logloss: 0.293506\n",
      "[93]\tvalid_0's auc: 0.792855\tvalid_0's binary_logloss: 0.293165\n",
      "[94]\tvalid_0's auc: 0.793144\tvalid_0's binary_logloss: 0.292843\n",
      "[95]\tvalid_0's auc: 0.793133\tvalid_0's binary_logloss: 0.292717\n",
      "[96]\tvalid_0's auc: 0.793315\tvalid_0's binary_logloss: 0.292459\n",
      "[97]\tvalid_0's auc: 0.79351\tvalid_0's binary_logloss: 0.292224\n",
      "[98]\tvalid_0's auc: 0.793633\tvalid_0's binary_logloss: 0.292022\n",
      "[99]\tvalid_0's auc: 0.793788\tvalid_0's binary_logloss: 0.291894\n",
      "[100]\tvalid_0's auc: 0.793874\tvalid_0's binary_logloss: 0.291821\n",
      "[101]\tvalid_0's auc: 0.794079\tvalid_0's binary_logloss: 0.291725\n",
      "[102]\tvalid_0's auc: 0.794291\tvalid_0's binary_logloss: 0.291451\n",
      "[103]\tvalid_0's auc: 0.794434\tvalid_0's binary_logloss: 0.291246\n",
      "[104]\tvalid_0's auc: 0.794597\tvalid_0's binary_logloss: 0.291138\n",
      "[105]\tvalid_0's auc: 0.794835\tvalid_0's binary_logloss: 0.290984\n",
      "[106]\tvalid_0's auc: 0.794905\tvalid_0's binary_logloss: 0.29089\n",
      "[107]\tvalid_0's auc: 0.794927\tvalid_0's binary_logloss: 0.290795\n",
      "[108]\tvalid_0's auc: 0.794918\tvalid_0's binary_logloss: 0.290718\n",
      "[109]\tvalid_0's auc: 0.795\tvalid_0's binary_logloss: 0.290634\n",
      "[110]\tvalid_0's auc: 0.794977\tvalid_0's binary_logloss: 0.29054\n",
      "[111]\tvalid_0's auc: 0.795075\tvalid_0's binary_logloss: 0.29046\n",
      "[112]\tvalid_0's auc: 0.795123\tvalid_0's binary_logloss: 0.290345\n",
      "[113]\tvalid_0's auc: 0.795214\tvalid_0's binary_logloss: 0.290246\n",
      "[114]\tvalid_0's auc: 0.795084\tvalid_0's binary_logloss: 0.29023\n",
      "[115]\tvalid_0's auc: 0.795074\tvalid_0's binary_logloss: 0.290156\n",
      "[116]\tvalid_0's auc: 0.795216\tvalid_0's binary_logloss: 0.290098\n",
      "[117]\tvalid_0's auc: 0.795122\tvalid_0's binary_logloss: 0.290044\n",
      "[118]\tvalid_0's auc: 0.795151\tvalid_0's binary_logloss: 0.289953\n",
      "[119]\tvalid_0's auc: 0.795105\tvalid_0's binary_logloss: 0.289937\n",
      "[120]\tvalid_0's auc: 0.794959\tvalid_0's binary_logloss: 0.289923\n",
      "[121]\tvalid_0's auc: 0.795042\tvalid_0's binary_logloss: 0.289872\n",
      "[122]\tvalid_0's auc: 0.795173\tvalid_0's binary_logloss: 0.289839\n",
      "[123]\tvalid_0's auc: 0.795275\tvalid_0's binary_logloss: 0.289761\n",
      "[124]\tvalid_0's auc: 0.795282\tvalid_0's binary_logloss: 0.28971\n",
      "[125]\tvalid_0's auc: 0.795208\tvalid_0's binary_logloss: 0.289716\n",
      "[126]\tvalid_0's auc: 0.795383\tvalid_0's binary_logloss: 0.28966\n",
      "[127]\tvalid_0's auc: 0.795415\tvalid_0's binary_logloss: 0.289624\n",
      "[128]\tvalid_0's auc: 0.795582\tvalid_0's binary_logloss: 0.289465\n",
      "[129]\tvalid_0's auc: 0.795628\tvalid_0's binary_logloss: 0.28939\n",
      "[130]\tvalid_0's auc: 0.795794\tvalid_0's binary_logloss: 0.289316\n",
      "[131]\tvalid_0's auc: 0.795847\tvalid_0's binary_logloss: 0.289263\n",
      "[132]\tvalid_0's auc: 0.795767\tvalid_0's binary_logloss: 0.289217\n",
      "[133]\tvalid_0's auc: 0.79581\tvalid_0's binary_logloss: 0.289182\n",
      "[134]\tvalid_0's auc: 0.796091\tvalid_0's binary_logloss: 0.289022\n",
      "[135]\tvalid_0's auc: 0.795905\tvalid_0's binary_logloss: 0.289049\n",
      "[136]\tvalid_0's auc: 0.796008\tvalid_0's binary_logloss: 0.288882\n",
      "[137]\tvalid_0's auc: 0.796057\tvalid_0's binary_logloss: 0.288824\n",
      "[138]\tvalid_0's auc: 0.796157\tvalid_0's binary_logloss: 0.288775\n",
      "[139]\tvalid_0's auc: 0.796309\tvalid_0's binary_logloss: 0.288685\n",
      "[140]\tvalid_0's auc: 0.796185\tvalid_0's binary_logloss: 0.28868\n",
      "[141]\tvalid_0's auc: 0.796175\tvalid_0's binary_logloss: 0.288671\n",
      "[142]\tvalid_0's auc: 0.796056\tvalid_0's binary_logloss: 0.288607\n",
      "[143]\tvalid_0's auc: 0.796111\tvalid_0's binary_logloss: 0.288537\n",
      "[144]\tvalid_0's auc: 0.79598\tvalid_0's binary_logloss: 0.288497\n",
      "[145]\tvalid_0's auc: 0.796066\tvalid_0's binary_logloss: 0.288453\n",
      "[146]\tvalid_0's auc: 0.796212\tvalid_0's binary_logloss: 0.288283\n",
      "[147]\tvalid_0's auc: 0.796229\tvalid_0's binary_logloss: 0.288248\n",
      "[148]\tvalid_0's auc: 0.796266\tvalid_0's binary_logloss: 0.288219\n",
      "[149]\tvalid_0's auc: 0.796266\tvalid_0's binary_logloss: 0.288195\n",
      "[150]\tvalid_0's auc: 0.796291\tvalid_0's binary_logloss: 0.288168\n",
      "[151]\tvalid_0's auc: 0.796143\tvalid_0's binary_logloss: 0.288132\n",
      "[152]\tvalid_0's auc: 0.796294\tvalid_0's binary_logloss: 0.288044\n",
      "[153]\tvalid_0's auc: 0.796346\tvalid_0's binary_logloss: 0.287953\n",
      "[154]\tvalid_0's auc: 0.796392\tvalid_0's binary_logloss: 0.287926\n",
      "[155]\tvalid_0's auc: 0.796415\tvalid_0's binary_logloss: 0.287924\n",
      "[156]\tvalid_0's auc: 0.796409\tvalid_0's binary_logloss: 0.287879\n",
      "[157]\tvalid_0's auc: 0.796486\tvalid_0's binary_logloss: 0.287789\n",
      "[158]\tvalid_0's auc: 0.796645\tvalid_0's binary_logloss: 0.287697\n",
      "[159]\tvalid_0's auc: 0.796579\tvalid_0's binary_logloss: 0.287698\n",
      "[160]\tvalid_0's auc: 0.79654\tvalid_0's binary_logloss: 0.287698\n",
      "[161]\tvalid_0's auc: 0.796566\tvalid_0's binary_logloss: 0.287678\n",
      "[162]\tvalid_0's auc: 0.796613\tvalid_0's binary_logloss: 0.287647\n",
      "[163]\tvalid_0's auc: 0.796623\tvalid_0's binary_logloss: 0.287638\n",
      "[164]\tvalid_0's auc: 0.796726\tvalid_0's binary_logloss: 0.287599\n",
      "[165]\tvalid_0's auc: 0.796673\tvalid_0's binary_logloss: 0.287594\n",
      "[166]\tvalid_0's auc: 0.796621\tvalid_0's binary_logloss: 0.287623\n",
      "[167]\tvalid_0's auc: 0.796589\tvalid_0's binary_logloss: 0.287548\n",
      "[168]\tvalid_0's auc: 0.796554\tvalid_0's binary_logloss: 0.287485\n",
      "[169]\tvalid_0's auc: 0.796577\tvalid_0's binary_logloss: 0.28747\n",
      "[170]\tvalid_0's auc: 0.796624\tvalid_0's binary_logloss: 0.28742\n"
     ]
    },
    {
     "name": "stdout",
     "output_type": "stream",
     "text": [
      "[171]\tvalid_0's auc: 0.796728\tvalid_0's binary_logloss: 0.287352\n",
      "[172]\tvalid_0's auc: 0.796714\tvalid_0's binary_logloss: 0.287361\n",
      "[173]\tvalid_0's auc: 0.796601\tvalid_0's binary_logloss: 0.287358\n",
      "[174]\tvalid_0's auc: 0.79671\tvalid_0's binary_logloss: 0.28735\n",
      "[175]\tvalid_0's auc: 0.796818\tvalid_0's binary_logloss: 0.287285\n",
      "[176]\tvalid_0's auc: 0.7969\tvalid_0's binary_logloss: 0.287254\n",
      "[177]\tvalid_0's auc: 0.797003\tvalid_0's binary_logloss: 0.287249\n",
      "[178]\tvalid_0's auc: 0.796994\tvalid_0's binary_logloss: 0.287231\n",
      "[179]\tvalid_0's auc: 0.797045\tvalid_0's binary_logloss: 0.287177\n",
      "[180]\tvalid_0's auc: 0.797102\tvalid_0's binary_logloss: 0.287137\n",
      "[181]\tvalid_0's auc: 0.797064\tvalid_0's binary_logloss: 0.287132\n",
      "[182]\tvalid_0's auc: 0.797003\tvalid_0's binary_logloss: 0.287134\n",
      "[183]\tvalid_0's auc: 0.797122\tvalid_0's binary_logloss: 0.287071\n",
      "[184]\tvalid_0's auc: 0.797019\tvalid_0's binary_logloss: 0.287095\n",
      "[185]\tvalid_0's auc: 0.796998\tvalid_0's binary_logloss: 0.287093\n",
      "[186]\tvalid_0's auc: 0.79693\tvalid_0's binary_logloss: 0.287093\n",
      "[187]\tvalid_0's auc: 0.796869\tvalid_0's binary_logloss: 0.287091\n",
      "[188]\tvalid_0's auc: 0.797039\tvalid_0's binary_logloss: 0.286997\n",
      "[189]\tvalid_0's auc: 0.797003\tvalid_0's binary_logloss: 0.287003\n",
      "[190]\tvalid_0's auc: 0.797012\tvalid_0's binary_logloss: 0.286975\n",
      "[191]\tvalid_0's auc: 0.797041\tvalid_0's binary_logloss: 0.286984\n",
      "[192]\tvalid_0's auc: 0.797075\tvalid_0's binary_logloss: 0.286981\n",
      "[193]\tvalid_0's auc: 0.797068\tvalid_0's binary_logloss: 0.286967\n",
      "[194]\tvalid_0's auc: 0.797019\tvalid_0's binary_logloss: 0.286977\n",
      "[195]\tvalid_0's auc: 0.797022\tvalid_0's binary_logloss: 0.28697\n",
      "[196]\tvalid_0's auc: 0.797059\tvalid_0's binary_logloss: 0.286917\n",
      "[197]\tvalid_0's auc: 0.797054\tvalid_0's binary_logloss: 0.286878\n",
      "[198]\tvalid_0's auc: 0.797087\tvalid_0's binary_logloss: 0.286861\n",
      "[199]\tvalid_0's auc: 0.797164\tvalid_0's binary_logloss: 0.286857\n",
      "[200]\tvalid_0's auc: 0.797228\tvalid_0's binary_logloss: 0.286829\n",
      "[201]\tvalid_0's auc: 0.797324\tvalid_0's binary_logloss: 0.286762\n",
      "[202]\tvalid_0's auc: 0.797444\tvalid_0's binary_logloss: 0.286674\n",
      "[203]\tvalid_0's auc: 0.797555\tvalid_0's binary_logloss: 0.28662\n",
      "[204]\tvalid_0's auc: 0.7976\tvalid_0's binary_logloss: 0.286624\n",
      "[205]\tvalid_0's auc: 0.797548\tvalid_0's binary_logloss: 0.286641\n",
      "[206]\tvalid_0's auc: 0.797615\tvalid_0's binary_logloss: 0.286577\n",
      "[207]\tvalid_0's auc: 0.797456\tvalid_0's binary_logloss: 0.286615\n",
      "[208]\tvalid_0's auc: 0.797429\tvalid_0's binary_logloss: 0.28663\n",
      "[209]\tvalid_0's auc: 0.797403\tvalid_0's binary_logloss: 0.28665\n",
      "[210]\tvalid_0's auc: 0.797407\tvalid_0's binary_logloss: 0.286659\n",
      "[211]\tvalid_0's auc: 0.797475\tvalid_0's binary_logloss: 0.286608\n",
      "[212]\tvalid_0's auc: 0.797487\tvalid_0's binary_logloss: 0.286598\n",
      "[213]\tvalid_0's auc: 0.797587\tvalid_0's binary_logloss: 0.286546\n",
      "[214]\tvalid_0's auc: 0.797588\tvalid_0's binary_logloss: 0.286558\n",
      "[215]\tvalid_0's auc: 0.797622\tvalid_0's binary_logloss: 0.286549\n",
      "[216]\tvalid_0's auc: 0.79771\tvalid_0's binary_logloss: 0.286517\n",
      "[217]\tvalid_0's auc: 0.797734\tvalid_0's binary_logloss: 0.286481\n",
      "[218]\tvalid_0's auc: 0.797802\tvalid_0's binary_logloss: 0.286463\n",
      "[219]\tvalid_0's auc: 0.797878\tvalid_0's binary_logloss: 0.286471\n",
      "[220]\tvalid_0's auc: 0.798073\tvalid_0's binary_logloss: 0.286458\n",
      "[221]\tvalid_0's auc: 0.798079\tvalid_0's binary_logloss: 0.286459\n",
      "[222]\tvalid_0's auc: 0.797963\tvalid_0's binary_logloss: 0.286487\n",
      "[223]\tvalid_0's auc: 0.797937\tvalid_0's binary_logloss: 0.286512\n",
      "[224]\tvalid_0's auc: 0.797899\tvalid_0's binary_logloss: 0.28651\n",
      "[225]\tvalid_0's auc: 0.79793\tvalid_0's binary_logloss: 0.286491\n",
      "[226]\tvalid_0's auc: 0.797912\tvalid_0's binary_logloss: 0.286493\n",
      "[227]\tvalid_0's auc: 0.797921\tvalid_0's binary_logloss: 0.286443\n",
      "[228]\tvalid_0's auc: 0.797924\tvalid_0's binary_logloss: 0.286452\n",
      "[229]\tvalid_0's auc: 0.797917\tvalid_0's binary_logloss: 0.286452\n",
      "[230]\tvalid_0's auc: 0.797977\tvalid_0's binary_logloss: 0.28644\n",
      "[231]\tvalid_0's auc: 0.798195\tvalid_0's binary_logloss: 0.28634\n",
      "[232]\tvalid_0's auc: 0.798109\tvalid_0's binary_logloss: 0.286354\n",
      "[233]\tvalid_0's auc: 0.79806\tvalid_0's binary_logloss: 0.286361\n",
      "[234]\tvalid_0's auc: 0.798061\tvalid_0's binary_logloss: 0.286357\n",
      "[235]\tvalid_0's auc: 0.797998\tvalid_0's binary_logloss: 0.286386\n",
      "[236]\tvalid_0's auc: 0.797824\tvalid_0's binary_logloss: 0.286398\n",
      "[237]\tvalid_0's auc: 0.797897\tvalid_0's binary_logloss: 0.28635\n",
      "[238]\tvalid_0's auc: 0.797885\tvalid_0's binary_logloss: 0.286389\n",
      "[239]\tvalid_0's auc: 0.797949\tvalid_0's binary_logloss: 0.286388\n",
      "[240]\tvalid_0's auc: 0.797925\tvalid_0's binary_logloss: 0.286409\n",
      "[241]\tvalid_0's auc: 0.797852\tvalid_0's binary_logloss: 0.286426\n",
      "[242]\tvalid_0's auc: 0.797768\tvalid_0's binary_logloss: 0.286454\n",
      "[243]\tvalid_0's auc: 0.79779\tvalid_0's binary_logloss: 0.286437\n",
      "[244]\tvalid_0's auc: 0.797701\tvalid_0's binary_logloss: 0.286441\n",
      "[245]\tvalid_0's auc: 0.79768\tvalid_0's binary_logloss: 0.286421\n",
      "[246]\tvalid_0's auc: 0.797681\tvalid_0's binary_logloss: 0.286412\n",
      "[247]\tvalid_0's auc: 0.797686\tvalid_0's binary_logloss: 0.286416\n",
      "[248]\tvalid_0's auc: 0.797654\tvalid_0's binary_logloss: 0.286427\n",
      "[249]\tvalid_0's auc: 0.797524\tvalid_0's binary_logloss: 0.286438\n",
      "[250]\tvalid_0's auc: 0.797532\tvalid_0's binary_logloss: 0.286428\n",
      "[251]\tvalid_0's auc: 0.797551\tvalid_0's binary_logloss: 0.286419\n",
      "[252]\tvalid_0's auc: 0.797569\tvalid_0's binary_logloss: 0.286417\n",
      "[253]\tvalid_0's auc: 0.797595\tvalid_0's binary_logloss: 0.286409\n",
      "[254]\tvalid_0's auc: 0.797491\tvalid_0's binary_logloss: 0.286464\n",
      "[255]\tvalid_0's auc: 0.79761\tvalid_0's binary_logloss: 0.286388\n",
      "[256]\tvalid_0's auc: 0.797577\tvalid_0's binary_logloss: 0.286395\n",
      "[257]\tvalid_0's auc: 0.797505\tvalid_0's binary_logloss: 0.286432\n",
      "[258]\tvalid_0's auc: 0.797489\tvalid_0's binary_logloss: 0.28642\n",
      "[259]\tvalid_0's auc: 0.797604\tvalid_0's binary_logloss: 0.286334\n",
      "[260]\tvalid_0's auc: 0.797794\tvalid_0's binary_logloss: 0.286299\n",
      "[261]\tvalid_0's auc: 0.797784\tvalid_0's binary_logloss: 0.286295\n",
      "[262]\tvalid_0's auc: 0.797954\tvalid_0's binary_logloss: 0.286197\n",
      "[263]\tvalid_0's auc: 0.797952\tvalid_0's binary_logloss: 0.286214\n",
      "[264]\tvalid_0's auc: 0.797999\tvalid_0's binary_logloss: 0.286174\n",
      "[265]\tvalid_0's auc: 0.797948\tvalid_0's binary_logloss: 0.286184\n",
      "[266]\tvalid_0's auc: 0.79794\tvalid_0's binary_logloss: 0.286194\n",
      "[267]\tvalid_0's auc: 0.797928\tvalid_0's binary_logloss: 0.286204\n",
      "[268]\tvalid_0's auc: 0.797994\tvalid_0's binary_logloss: 0.286185\n",
      "[269]\tvalid_0's auc: 0.798156\tvalid_0's binary_logloss: 0.286089\n",
      "[270]\tvalid_0's auc: 0.798117\tvalid_0's binary_logloss: 0.286118\n",
      "[271]\tvalid_0's auc: 0.798153\tvalid_0's binary_logloss: 0.286074\n",
      "[272]\tvalid_0's auc: 0.798063\tvalid_0's binary_logloss: 0.286119\n",
      "[273]\tvalid_0's auc: 0.798113\tvalid_0's binary_logloss: 0.286092\n",
      "[274]\tvalid_0's auc: 0.798083\tvalid_0's binary_logloss: 0.286095\n",
      "[275]\tvalid_0's auc: 0.79811\tvalid_0's binary_logloss: 0.286084\n",
      "[276]\tvalid_0's auc: 0.798014\tvalid_0's binary_logloss: 0.286129\n",
      "[277]\tvalid_0's auc: 0.798047\tvalid_0's binary_logloss: 0.286089\n",
      "[278]\tvalid_0's auc: 0.797946\tvalid_0's binary_logloss: 0.286121\n",
      "[279]\tvalid_0's auc: 0.797922\tvalid_0's binary_logloss: 0.286154\n",
      "[280]\tvalid_0's auc: 0.797784\tvalid_0's binary_logloss: 0.286189\n",
      "[281]\tvalid_0's auc: 0.797732\tvalid_0's binary_logloss: 0.286214\n",
      "[282]\tvalid_0's auc: 0.797898\tvalid_0's binary_logloss: 0.286128\n",
      "[283]\tvalid_0's auc: 0.797889\tvalid_0's binary_logloss: 0.286159\n",
      "[284]\tvalid_0's auc: 0.797895\tvalid_0's binary_logloss: 0.286179\n",
      "[285]\tvalid_0's auc: 0.797857\tvalid_0's binary_logloss: 0.286199\n",
      "[286]\tvalid_0's auc: 0.797845\tvalid_0's binary_logloss: 0.286188\n",
      "[287]\tvalid_0's auc: 0.797986\tvalid_0's binary_logloss: 0.286127\n",
      "[288]\tvalid_0's auc: 0.797975\tvalid_0's binary_logloss: 0.28613\n",
      "[289]\tvalid_0's auc: 0.797967\tvalid_0's binary_logloss: 0.286138\n",
      "[290]\tvalid_0's auc: 0.797886\tvalid_0's binary_logloss: 0.28614\n",
      "[291]\tvalid_0's auc: 0.797888\tvalid_0's binary_logloss: 0.286141\n",
      "[292]\tvalid_0's auc: 0.797935\tvalid_0's binary_logloss: 0.286105\n",
      "[293]\tvalid_0's auc: 0.797938\tvalid_0's binary_logloss: 0.286088\n",
      "[294]\tvalid_0's auc: 0.79799\tvalid_0's binary_logloss: 0.286079\n",
      "[295]\tvalid_0's auc: 0.798088\tvalid_0's binary_logloss: 0.28603\n",
      "[296]\tvalid_0's auc: 0.798106\tvalid_0's binary_logloss: 0.286025\n",
      "[297]\tvalid_0's auc: 0.79808\tvalid_0's binary_logloss: 0.286033\n",
      "[298]\tvalid_0's auc: 0.798073\tvalid_0's binary_logloss: 0.286045\n",
      "[299]\tvalid_0's auc: 0.798073\tvalid_0's binary_logloss: 0.286044\n",
      "[300]\tvalid_0's auc: 0.798015\tvalid_0's binary_logloss: 0.286068\n",
      "[301]\tvalid_0's auc: 0.798087\tvalid_0's binary_logloss: 0.28601\n",
      "[302]\tvalid_0's auc: 0.798075\tvalid_0's binary_logloss: 0.286016\n",
      "[303]\tvalid_0's auc: 0.798082\tvalid_0's binary_logloss: 0.286007\n",
      "[304]\tvalid_0's auc: 0.798197\tvalid_0's binary_logloss: 0.285958\n",
      "[305]\tvalid_0's auc: 0.79817\tvalid_0's binary_logloss: 0.28596\n"
     ]
    },
    {
     "name": "stdout",
     "output_type": "stream",
     "text": [
      "[306]\tvalid_0's auc: 0.798267\tvalid_0's binary_logloss: 0.285957\n",
      "[307]\tvalid_0's auc: 0.798186\tvalid_0's binary_logloss: 0.28598\n",
      "[308]\tvalid_0's auc: 0.798333\tvalid_0's binary_logloss: 0.28593\n",
      "[309]\tvalid_0's auc: 0.798327\tvalid_0's binary_logloss: 0.285936\n",
      "[310]\tvalid_0's auc: 0.798275\tvalid_0's binary_logloss: 0.285931\n",
      "[311]\tvalid_0's auc: 0.798302\tvalid_0's binary_logloss: 0.285949\n",
      "[312]\tvalid_0's auc: 0.798266\tvalid_0's binary_logloss: 0.285968\n",
      "[313]\tvalid_0's auc: 0.798255\tvalid_0's binary_logloss: 0.285993\n",
      "[314]\tvalid_0's auc: 0.798254\tvalid_0's binary_logloss: 0.28601\n",
      "[315]\tvalid_0's auc: 0.798224\tvalid_0's binary_logloss: 0.286038\n",
      "[316]\tvalid_0's auc: 0.798175\tvalid_0's binary_logloss: 0.286046\n",
      "[317]\tvalid_0's auc: 0.798191\tvalid_0's binary_logloss: 0.286053\n",
      "[318]\tvalid_0's auc: 0.798148\tvalid_0's binary_logloss: 0.286065\n",
      "[319]\tvalid_0's auc: 0.79823\tvalid_0's binary_logloss: 0.286019\n",
      "[320]\tvalid_0's auc: 0.798347\tvalid_0's binary_logloss: 0.285991\n",
      "[321]\tvalid_0's auc: 0.798467\tvalid_0's binary_logloss: 0.285932\n",
      "[322]\tvalid_0's auc: 0.798435\tvalid_0's binary_logloss: 0.285931\n",
      "[323]\tvalid_0's auc: 0.79842\tvalid_0's binary_logloss: 0.285938\n",
      "[324]\tvalid_0's auc: 0.798445\tvalid_0's binary_logloss: 0.28594\n",
      "[325]\tvalid_0's auc: 0.798504\tvalid_0's binary_logloss: 0.285902\n",
      "[326]\tvalid_0's auc: 0.798554\tvalid_0's binary_logloss: 0.28592\n",
      "[327]\tvalid_0's auc: 0.798608\tvalid_0's binary_logloss: 0.285886\n",
      "[328]\tvalid_0's auc: 0.798663\tvalid_0's binary_logloss: 0.285879\n",
      "[329]\tvalid_0's auc: 0.798673\tvalid_0's binary_logloss: 0.285877\n",
      "[330]\tvalid_0's auc: 0.798723\tvalid_0's binary_logloss: 0.28587\n",
      "[331]\tvalid_0's auc: 0.798675\tvalid_0's binary_logloss: 0.285901\n",
      "[332]\tvalid_0's auc: 0.798612\tvalid_0's binary_logloss: 0.285911\n",
      "[333]\tvalid_0's auc: 0.798656\tvalid_0's binary_logloss: 0.285877\n",
      "[334]\tvalid_0's auc: 0.798611\tvalid_0's binary_logloss: 0.2859\n",
      "[335]\tvalid_0's auc: 0.798605\tvalid_0's binary_logloss: 0.285915\n",
      "[336]\tvalid_0's auc: 0.798689\tvalid_0's binary_logloss: 0.285872\n",
      "[337]\tvalid_0's auc: 0.798797\tvalid_0's binary_logloss: 0.285856\n",
      "[338]\tvalid_0's auc: 0.798741\tvalid_0's binary_logloss: 0.28586\n",
      "[339]\tvalid_0's auc: 0.79874\tvalid_0's binary_logloss: 0.285869\n",
      "[340]\tvalid_0's auc: 0.798782\tvalid_0's binary_logloss: 0.285853\n",
      "[341]\tvalid_0's auc: 0.798786\tvalid_0's binary_logloss: 0.285875\n",
      "[342]\tvalid_0's auc: 0.798819\tvalid_0's binary_logloss: 0.285871\n",
      "[343]\tvalid_0's auc: 0.798763\tvalid_0's binary_logloss: 0.285875\n",
      "[344]\tvalid_0's auc: 0.798719\tvalid_0's binary_logloss: 0.285888\n",
      "[345]\tvalid_0's auc: 0.798616\tvalid_0's binary_logloss: 0.285941\n",
      "[346]\tvalid_0's auc: 0.798534\tvalid_0's binary_logloss: 0.285999\n",
      "[347]\tvalid_0's auc: 0.798465\tvalid_0's binary_logloss: 0.286019\n",
      "[348]\tvalid_0's auc: 0.798545\tvalid_0's binary_logloss: 0.286007\n",
      "[349]\tvalid_0's auc: 0.798588\tvalid_0's binary_logloss: 0.285997\n",
      "[350]\tvalid_0's auc: 0.798526\tvalid_0's binary_logloss: 0.286004\n",
      "[351]\tvalid_0's auc: 0.798505\tvalid_0's binary_logloss: 0.286015\n",
      "[352]\tvalid_0's auc: 0.798481\tvalid_0's binary_logloss: 0.286017\n",
      "[353]\tvalid_0's auc: 0.798474\tvalid_0's binary_logloss: 0.286017\n",
      "[354]\tvalid_0's auc: 0.798383\tvalid_0's binary_logloss: 0.286035\n",
      "[355]\tvalid_0's auc: 0.798347\tvalid_0's binary_logloss: 0.286038\n",
      "[356]\tvalid_0's auc: 0.798283\tvalid_0's binary_logloss: 0.286055\n",
      "[357]\tvalid_0's auc: 0.798199\tvalid_0's binary_logloss: 0.286044\n",
      "[358]\tvalid_0's auc: 0.798219\tvalid_0's binary_logloss: 0.286048\n",
      "[359]\tvalid_0's auc: 0.798251\tvalid_0's binary_logloss: 0.286053\n",
      "[360]\tvalid_0's auc: 0.798212\tvalid_0's binary_logloss: 0.286092\n",
      "[361]\tvalid_0's auc: 0.798226\tvalid_0's binary_logloss: 0.286048\n",
      "[362]\tvalid_0's auc: 0.798257\tvalid_0's binary_logloss: 0.286051\n",
      "[363]\tvalid_0's auc: 0.798198\tvalid_0's binary_logloss: 0.286075\n",
      "[364]\tvalid_0's auc: 0.79815\tvalid_0's binary_logloss: 0.286093\n",
      "[365]\tvalid_0's auc: 0.798231\tvalid_0's binary_logloss: 0.286062\n",
      "[366]\tvalid_0's auc: 0.798275\tvalid_0's binary_logloss: 0.286039\n",
      "[367]\tvalid_0's auc: 0.798269\tvalid_0's binary_logloss: 0.286053\n",
      "[368]\tvalid_0's auc: 0.798223\tvalid_0's binary_logloss: 0.286053\n",
      "[369]\tvalid_0's auc: 0.798257\tvalid_0's binary_logloss: 0.286038\n",
      "[370]\tvalid_0's auc: 0.798258\tvalid_0's binary_logloss: 0.286037\n",
      "[371]\tvalid_0's auc: 0.79815\tvalid_0's binary_logloss: 0.286069\n",
      "[372]\tvalid_0's auc: 0.798072\tvalid_0's binary_logloss: 0.286095\n",
      "[373]\tvalid_0's auc: 0.798028\tvalid_0's binary_logloss: 0.286115\n",
      "[374]\tvalid_0's auc: 0.798033\tvalid_0's binary_logloss: 0.286115\n",
      "[375]\tvalid_0's auc: 0.79794\tvalid_0's binary_logloss: 0.286142\n",
      "[376]\tvalid_0's auc: 0.798039\tvalid_0's binary_logloss: 0.286124\n",
      "[377]\tvalid_0's auc: 0.798036\tvalid_0's binary_logloss: 0.286111\n",
      "[378]\tvalid_0's auc: 0.798073\tvalid_0's binary_logloss: 0.286092\n",
      "[379]\tvalid_0's auc: 0.798094\tvalid_0's binary_logloss: 0.286103\n",
      "[380]\tvalid_0's auc: 0.798056\tvalid_0's binary_logloss: 0.286115\n",
      "[381]\tvalid_0's auc: 0.798113\tvalid_0's binary_logloss: 0.286102\n",
      "[382]\tvalid_0's auc: 0.798132\tvalid_0's binary_logloss: 0.286092\n",
      "[383]\tvalid_0's auc: 0.798139\tvalid_0's binary_logloss: 0.286081\n",
      "[384]\tvalid_0's auc: 0.798193\tvalid_0's binary_logloss: 0.286042\n",
      "[385]\tvalid_0's auc: 0.79818\tvalid_0's binary_logloss: 0.286047\n",
      "[386]\tvalid_0's auc: 0.79823\tvalid_0's binary_logloss: 0.286055\n",
      "[387]\tvalid_0's auc: 0.798178\tvalid_0's binary_logloss: 0.286072\n",
      "[388]\tvalid_0's auc: 0.79822\tvalid_0's binary_logloss: 0.286038\n",
      "[389]\tvalid_0's auc: 0.798192\tvalid_0's binary_logloss: 0.28606\n",
      "[390]\tvalid_0's auc: 0.798188\tvalid_0's binary_logloss: 0.286045\n",
      "[391]\tvalid_0's auc: 0.798269\tvalid_0's binary_logloss: 0.286037\n",
      "[392]\tvalid_0's auc: 0.798254\tvalid_0's binary_logloss: 0.286024\n",
      "[393]\tvalid_0's auc: 0.79824\tvalid_0's binary_logloss: 0.286026\n",
      "[394]\tvalid_0's auc: 0.798304\tvalid_0's binary_logloss: 0.286003\n",
      "[395]\tvalid_0's auc: 0.798342\tvalid_0's binary_logloss: 0.285993\n",
      "[396]\tvalid_0's auc: 0.798305\tvalid_0's binary_logloss: 0.286003\n",
      "[397]\tvalid_0's auc: 0.798337\tvalid_0's binary_logloss: 0.285997\n",
      "[398]\tvalid_0's auc: 0.798354\tvalid_0's binary_logloss: 0.286002\n",
      "[399]\tvalid_0's auc: 0.798333\tvalid_0's binary_logloss: 0.286008\n",
      "[400]\tvalid_0's auc: 0.798446\tvalid_0's binary_logloss: 0.285998\n",
      "[401]\tvalid_0's auc: 0.798484\tvalid_0's binary_logloss: 0.285992\n",
      "[402]\tvalid_0's auc: 0.798547\tvalid_0's binary_logloss: 0.285984\n",
      "[403]\tvalid_0's auc: 0.798565\tvalid_0's binary_logloss: 0.285984\n",
      "[404]\tvalid_0's auc: 0.798531\tvalid_0's binary_logloss: 0.285988\n",
      "[405]\tvalid_0's auc: 0.79852\tvalid_0's binary_logloss: 0.286002\n",
      "[406]\tvalid_0's auc: 0.798534\tvalid_0's binary_logloss: 0.285977\n",
      "[407]\tvalid_0's auc: 0.798533\tvalid_0's binary_logloss: 0.285971\n",
      "[408]\tvalid_0's auc: 0.798557\tvalid_0's binary_logloss: 0.285974\n",
      "[409]\tvalid_0's auc: 0.798518\tvalid_0's binary_logloss: 0.285972\n",
      "[410]\tvalid_0's auc: 0.798547\tvalid_0's binary_logloss: 0.285961\n",
      "[411]\tvalid_0's auc: 0.798609\tvalid_0's binary_logloss: 0.285945\n",
      "[412]\tvalid_0's auc: 0.798661\tvalid_0's binary_logloss: 0.285946\n",
      "[413]\tvalid_0's auc: 0.798694\tvalid_0's binary_logloss: 0.285928\n",
      "[414]\tvalid_0's auc: 0.79867\tvalid_0's binary_logloss: 0.285933\n",
      "[415]\tvalid_0's auc: 0.798733\tvalid_0's binary_logloss: 0.285947\n",
      "[416]\tvalid_0's auc: 0.798809\tvalid_0's binary_logloss: 0.285917\n",
      "[417]\tvalid_0's auc: 0.798818\tvalid_0's binary_logloss: 0.285905\n",
      "[418]\tvalid_0's auc: 0.798861\tvalid_0's binary_logloss: 0.285915\n",
      "[419]\tvalid_0's auc: 0.798872\tvalid_0's binary_logloss: 0.285909\n",
      "[420]\tvalid_0's auc: 0.798865\tvalid_0's binary_logloss: 0.28592\n",
      "[421]\tvalid_0's auc: 0.798804\tvalid_0's binary_logloss: 0.28594\n",
      "[422]\tvalid_0's auc: 0.798893\tvalid_0's binary_logloss: 0.285919\n",
      "[423]\tvalid_0's auc: 0.798897\tvalid_0's binary_logloss: 0.28593\n",
      "[424]\tvalid_0's auc: 0.79891\tvalid_0's binary_logloss: 0.285911\n",
      "[425]\tvalid_0's auc: 0.798817\tvalid_0's binary_logloss: 0.285944\n",
      "[426]\tvalid_0's auc: 0.798829\tvalid_0's binary_logloss: 0.285943\n",
      "[427]\tvalid_0's auc: 0.798885\tvalid_0's binary_logloss: 0.285917\n",
      "[428]\tvalid_0's auc: 0.798925\tvalid_0's binary_logloss: 0.285877\n",
      "[429]\tvalid_0's auc: 0.79886\tvalid_0's binary_logloss: 0.285888\n",
      "[430]\tvalid_0's auc: 0.798902\tvalid_0's binary_logloss: 0.285872\n",
      "[431]\tvalid_0's auc: 0.798887\tvalid_0's binary_logloss: 0.285879\n",
      "[432]\tvalid_0's auc: 0.798885\tvalid_0's binary_logloss: 0.285886\n",
      "[433]\tvalid_0's auc: 0.798792\tvalid_0's binary_logloss: 0.285928\n",
      "[434]\tvalid_0's auc: 0.798821\tvalid_0's binary_logloss: 0.285925\n",
      "[435]\tvalid_0's auc: 0.798823\tvalid_0's binary_logloss: 0.285943\n",
      "[436]\tvalid_0's auc: 0.798837\tvalid_0's binary_logloss: 0.285933\n",
      "[437]\tvalid_0's auc: 0.798838\tvalid_0's binary_logloss: 0.285947\n",
      "[438]\tvalid_0's auc: 0.798876\tvalid_0's binary_logloss: 0.285947\n",
      "[439]\tvalid_0's auc: 0.79881\tvalid_0's binary_logloss: 0.285971\n",
      "[440]\tvalid_0's auc: 0.798916\tvalid_0's binary_logloss: 0.285951\n",
      "Early stopping, best iteration is:\n",
      "[340]\tvalid_0's auc: 0.798782\tvalid_0's binary_logloss: 0.285853\n"
     ]
    },
    {
     "name": "stdout",
     "output_type": "stream",
     "text": [
      "ROC AUC: 0.7988\n"
     ]
    }
   ],
   "source": [
    "max_params = BO_lgb.max['params']\n",
    "\n",
    "max_params['num_leaves'] = int(round(max_params['num_leaves']))\n",
    "max_params['max_depth'] = int(round(max_params['max_depth']))\n",
    "\n",
    "lgbm_clf_bayes_best = LGBMClassifier(n_estimators=1000, learning_rate=0.02, **max_params)\n",
    "\n",
    "evals = [(X_test, y_test)]\n",
    "lgbm_clf_bayes_best.fit(X_train, y_train, early_stopping_rounds=100, eval_metric=\"auc\", eval_set=evals,\n",
    "                verbose=True)\n",
    "\n",
    "lgbm_roc_score = roc_auc_score(y_test, lgbm_clf_bayes_best.predict_proba(X_test)[:,1],average='macro')\n",
    "print('ROC AUC: {0:.4f}'.format(lgbm_roc_score))"
   ]
  },
  {
   "cell_type": "code",
   "execution_count": 51,
   "metadata": {},
   "outputs": [
    {
     "data": {
      "text/plain": [
       "LGBMClassifier(colsample_bytree=0.7356842192338882, learning_rate=0.02,\n",
       "               max_depth=17, min_child_weight=7.119487834232308,\n",
       "               min_split_gain=0.01117492426470033, n_estimators=1000,\n",
       "               num_leaves=25, reg_alpha=0.2961579552042799,\n",
       "               reg_lambda=0.3999811629251122, subsample=0.9901003782747588)"
      ]
     },
     "execution_count": 51,
     "metadata": {},
     "output_type": "execute_result"
    }
   ],
   "source": [
    "lgbm_clf_bayes_best"
   ]
  },
  {
   "cell_type": "code",
   "execution_count": 52,
   "metadata": {},
   "outputs": [
    {
     "data": {
      "text/plain": [
       "LGBMClassifier(colsample_bytree=0.7356842192338882, learning_rate=0.02,\n",
       "               max_depth=17, min_child_weight=7.119487834232308,\n",
       "               min_split_gain=0.01117492426470033, n_estimators=1000,\n",
       "               num_leaves=25, reg_alpha=0.2961579552042799,\n",
       "               reg_lambda=0.3999811629251122, subsample=0.9901003782747588)"
      ]
     },
     "execution_count": 52,
     "metadata": {},
     "output_type": "execute_result"
    }
   ],
   "source": [
    "lgbm_clf_bayes_best.fit(X_train, y_train)"
   ]
  },
  {
   "cell_type": "code",
   "execution_count": 53,
   "metadata": {},
   "outputs": [
    {
     "name": "stdout",
     "output_type": "stream",
     "text": [
      "pred_proba()결과 Shape : (4521, 2)\n",
      "pred_proba array에서 앞 3개만 샘플로 추출 \n",
      ": [[0.94498019 0.05501981]\n",
      " [0.95106638 0.04893362]\n",
      " [0.97956108 0.02043892]]\n",
      "두개의 class 중에서 더 큰 확률을 클래스 값으로 예측 \n",
      " [[0.94498019 0.05501981 0.91594778 0.08405222]\n",
      " [0.95106638 0.04893362 0.94047594 0.05952406]\n",
      " [0.97956108 0.02043892 0.96857104 0.03142896]]\n"
     ]
    }
   ],
   "source": [
    "# 최적의 임계값 찾기\n",
    "\n",
    "pred_proba = lgbm_clf_bayes_best.predict_proba(X_test) ##\n",
    "pred  = lgbm_clf_best.predict_proba(X_test) ##\n",
    "print('pred_proba()결과 Shape : {0}'.format(pred_proba.shape))\n",
    "print('pred_proba array에서 앞 3개만 샘플로 추출 \\n:', pred_proba[:3])\n",
    "\n",
    "# 예측 확률 array 와 예측 결과값 array 를 concatenate 하여 예측 확률과 결과값을 한눈에 확인\n",
    "pred_proba_result = np.concatenate([pred_proba , pred.reshape(-1,2)],axis=1)\n",
    "print('두개의 class 중에서 더 큰 확률을 클래스 값으로 예측 \\n',pred_proba_result[:3])\n"
   ]
  },
  {
   "cell_type": "code",
   "execution_count": 54,
   "metadata": {},
   "outputs": [
    {
     "name": "stdout",
     "output_type": "stream",
     "text": [
      "오차 행렬\n",
      "[[3898   86]\n",
      " [ 390  147]]\n",
      "정확도: 0.8947, 정밀도: 0.6309, 재현율: 0.2737, F1_score:  0.273743\n"
     ]
    }
   ],
   "source": [
    "\n",
    "\n",
    "from sklearn.preprocessing import Binarizer\n",
    "\n",
    "#Binarizer의 threshold 설정값. 분류 결정 임곗값임.  \n",
    "custom_threshold = 0.5\n",
    "\n",
    "# predict_proba( ) 반환값의 두번째 컬럼 , 즉 Positive 클래스 컬럼 하나만 추출하여 Binarizer를 적용\n",
    "pred_proba_1 = pred_proba[:,1].reshape(-1,1)\n",
    "\n",
    "binarizer = Binarizer(threshold=custom_threshold).fit(pred_proba_1) \n",
    "custom_predict = binarizer.transform(pred_proba_1)\n",
    "\n",
    "get_clf_eval(y_test, custom_predict)"
   ]
  },
  {
   "cell_type": "code",
   "execution_count": 55,
   "metadata": {
    "scrolled": true
   },
   "outputs": [],
   "source": [
    "from sklearn.metrics import precision_recall_curve\n",
    "\n",
    "# 레이블 값이 1일때의 예측 확률을 추출 \n",
    "pred_proba_class1 = lgbm_clf_bayes_best.predict_proba(X_test)[:, 1] ###"
   ]
  },
  {
   "cell_type": "code",
   "execution_count": 56,
   "metadata": {},
   "outputs": [
    {
     "data": {
      "image/png": "[encoded data removed]",
      "text/plain": [
       "<Figure size 576x432 with 1 Axes>"
      ]
     },
     "metadata": {
      "needs_background": "light"
     },
     "output_type": "display_data"
    }
   ],
   "source": [
    "# 임계값 시각화\n",
    "\n",
    "import matplotlib.pyplot as plt\n",
    "import matplotlib.ticker as ticker\n",
    "%matplotlib inline\n",
    "\n",
    "def precision_recall_curve_plot(y_test, pred_proba_c1):\n",
    "    # threshold ndarray와 이 threshold에 따른 정밀도, 재현율 ndarray 추출. \n",
    "    precisions, recalls, thresholds = precision_recall_curve( y_test, pred_proba_c1)\n",
    "    \n",
    "    # X축을 threshold값으로, Y축은 정밀도, 재현율 값으로 각각 Plot 수행. 정밀도는 점선으로 표시\n",
    "    plt.figure(figsize=(8,6))\n",
    "    threshold_boundary = thresholds.shape[0]\n",
    "    plt.plot(thresholds, precisions[0:threshold_boundary], linestyle='--', label='precision')\n",
    "    plt.plot(thresholds, recalls[0:threshold_boundary],label='recall')\n",
    "    \n",
    "    # threshold 값 X 축의 Scale을 0.1 단위로 변경\n",
    "    start, end = plt.xlim()\n",
    "    plt.xticks(np.round(np.arange(start, end, 0.1),2))\n",
    "    \n",
    "    # x축, y축 label과 legend, 그리고 grid 설정\n",
    "    plt.xlabel('Threshold value'); plt.ylabel('Precision and Recall value')\n",
    "    plt.legend(); plt.grid()\n",
    "    plt.show()\n",
    "    \n",
    "precision_recall_curve_plot(y_test, lgbm_clf_best.predict_proba(X_test)[:, 1] ) ####\n"
   ]
  },
  {
   "cell_type": "code",
   "execution_count": 57,
   "metadata": {},
   "outputs": [
    {
     "data": {
      "text/plain": [
       "(0.213, 0.4908)"
      ]
     },
     "execution_count": 57,
     "metadata": {},
     "output_type": "execute_result"
    }
   ],
   "source": [
    "# F1_score가 최대인 임계값 찾기\n",
    "\n",
    "def Find_threshold(model, X_test, y_test):\n",
    "    thresholds = np.arange(0,1,0.001)\n",
    "    threshold_count = []\n",
    "    pred_proba=model.predict_proba(X_test)\n",
    "    pred_proba_1 = pred_proba[:,1].reshape(-1,1)\n",
    "    for threshold in thresholds:\n",
    "        binarizer = Binarizer(threshold=threshold)\n",
    "        model_cl_pred = binarizer.transform(pred_proba_1)\n",
    "        threshold_count.append([threshold, metrics.f1_score(model_cl_pred, y_test)])\n",
    "\n",
    "    MAX=thresholds[np.array(threshold_count)[:,1].argmax()]\n",
    "    \n",
    "    thresholds = np.arange(MAX-0.05,MAX+0.05,0.005)\n",
    "    threshold_count = []\n",
    "    for threshold in thresholds:\n",
    "        binarizer = Binarizer(threshold=threshold)\n",
    "        model_cl_pred = binarizer.transform(pred_proba_1)\n",
    "        #threshold_count.append([threshold, metrics.f1_score(log_cl_pred, y_test)])\n",
    "        #print('threshold: {0:.4f}, f1_score: {1:.4f}'.format(threshold,metrics.f1_score(model_cl_pred, y_test)))\n",
    "        threshold_count.append([threshold, metrics.f1_score(model_cl_pred, y_test)])\n",
    "    \n",
    "    return np.round(thresholds[np.array(threshold_count)[:,1].argmax()],4), np.round(metrics.f1_score(Binarizer(threshold=thresholds[np.array(threshold_count)[:,1].argmax()]).transform(pred_proba_1), y_test),4)\n",
    "\n",
    "Find_threshold(lgbm_clf_bayes_best, X_test, y_test)"
   ]
  },
  {
   "cell_type": "code",
   "execution_count": 58,
   "metadata": {},
   "outputs": [
    {
     "name": "stdout",
     "output_type": "stream",
     "text": [
      "오차 행렬\n",
      "[[3620  364]\n",
      " [ 244  293]]\n",
      "정확도: 0.8655, 정밀도: 0.4460, 재현율: 0.5456, F1_score:  0.545624\n"
     ]
    }
   ],
   "source": [
    "# Binarizer의 베스트 threshold 설정값 지정 \n",
    "\n",
    "custom_threshold = 0.213\n",
    "pred_proba_1 = pred_proba[:,1].reshape(-1,1)\n",
    "binarizer = Binarizer(threshold=custom_threshold).fit(pred_proba_1) \n",
    "custom_predict = binarizer.transform(pred_proba_1)\n",
    "\n",
    "get_clf_eval(y_test , custom_predict)"
   ]
  },
  {
   "cell_type": "code",
   "execution_count": 59,
   "metadata": {},
   "outputs": [],
   "source": [
    "test = pd.read_csv('./test_dummies.csv')\n",
    "pred_proba_1 = lgbm_clf_bayes_best.predict_proba(test)\n",
    "binarizer_pred = Binarizer(threshold=custom_threshold).transform(pred_proba_1[:,1].reshape(-1,1)) \n",
    "binarizer_pred = binarizer_pred.reshape(-1,)\n",
    "submit = pd.read_csv('./sample_submission.csv')\n",
    "submit['y'] = binarizer_pred\n",
    "submit['y'] = submit.y.astype('bool')\n",
    "submit.to_csv('./nosampling_bayeshypertunning_0.213.csv', index = False)"
   ]
  },
  {
   "cell_type": "code",
   "execution_count": null,
   "metadata": {},
   "outputs": [],
   "source": []
  },
  {
   "cell_type": "markdown",
   "metadata": {},
   "source": [
    "# sampling기법 적용하여 이어서 진행."
   ]
  }
 ],
 "metadata": {
  "kernelspec": {
   "display_name": "Python 3",
   "language": "python",
   "name": "python3"
  },
  "language_info": {
   "codemirror_mode": {
    "name": "ipython",
    "version": 3
   },
   "file_extension": ".py",
   "mimetype": "text/x-python",
   "name": "python",
   "nbconvert_exporter": "python",
   "pygments_lexer": "ipython3",
   "version": "3.7.7"
  }
 },
 "nbformat": 4,
 "nbformat_minor": 4
}
