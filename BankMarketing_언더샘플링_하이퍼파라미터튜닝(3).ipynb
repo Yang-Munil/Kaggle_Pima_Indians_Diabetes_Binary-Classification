{
 "cells": [
  {
   "cell_type": "code",
   "execution_count": 6,
   "metadata": {},
   "outputs": [],
   "source": [
    "# Importing libraries\n",
    "\n",
    "import numpy as np \n",
    "import pandas as pd \n",
    "import matplotlib.pyplot as plt\n",
    "import seaborn as sns\n",
    "\n",
    "from scipy import stats\n",
    "from sklearn.preprocessing import StandardScaler, RobustScaler, MinMaxScaler, Normalizer, LabelEncoder\n",
    "\n",
    "from sklearn.model_selection import KFold, cross_val_score, cross_val_predict, StratifiedKFold, GridSearchCV, RandomizedSearchCV, train_test_split\n",
    "\n",
    "\n",
    "# 일반적으로 회귀에는 기본 k-겹 교차검증을 사용하고, 분류에는 StratifiedKFold를 사용한다.\n",
    "\n",
    "# 또한, cross_val_score 함수에는 KFold의 매개변수를 제어할 수가 없으므로, \n",
    "\n",
    "# 따로 KFold 객체를 만들고 매개변수를 조정한 다음에 cross_val_score의 cv 매개변수에 넣어야 한다.\n",
    "\n",
    "from sklearn.tree import DecisionTreeClassifier\n",
    "from sklearn.ensemble import RandomForestClassifier, BaggingClassifier, GradientBoostingClassifier, AdaBoostClassifier, VotingClassifier\n",
    "from sklearn.svm import SVC\n",
    "from sklearn.neighbors import KNeighborsClassifier #KNN\n",
    "from sklearn.naive_bayes import GaussianNB #Naive bayes\n",
    "from xgboost import XGBClassifier\n",
    "from lightgbm import LGBMClassifier\n",
    "from sklearn.linear_model import LogisticRegression, SGDClassifier\n",
    "from sklearn.tree import DecisionTreeClassifier\n",
    "\n",
    "from sklearn.metrics import confusion_matrix, make_scorer, r2_score, accuracy_score, precision_score, recall_score, f1_score\n",
    "from sklearn.metrics import roc_auc_score\n",
    "\n",
    "import warnings         # warnings : 버전 충돌 및 특정 예외 처리를 위해 불러온 내장 모듈\n",
    "warnings.filterwarnings(\"ignore\", category=RuntimeWarning)"
   ]
  },
  {
   "cell_type": "code",
   "execution_count": 7,
   "metadata": {},
   "outputs": [],
   "source": [
    "pd.set_option('display.max_row', 500)\n",
    "pd.set_option('display.max_columns', 100)"
   ]
  },
  {
   "cell_type": "code",
   "execution_count": 8,
   "metadata": {},
   "outputs": [],
   "source": [
    "train = pd.read_csv('./train_dummies.csv')"
   ]
  },
  {
   "cell_type": "code",
   "execution_count": 5,
   "metadata": {},
   "outputs": [
    {
     "data": {
      "text/html": [
       "<div>\n",
       "<style scoped>\n",
       "    .dataframe tbody tr th:only-of-type {\n",
       "        vertical-align: middle;\n",
       "    }\n",
       "\n",
       "    .dataframe tbody tr th {\n",
       "        vertical-align: top;\n",
       "    }\n",
       "\n",
       "    .dataframe thead th {\n",
       "        text-align: right;\n",
       "    }\n",
       "</style>\n",
       "<table border=\"1\" class=\"dataframe\">\n",
       "  <thead>\n",
       "    <tr style=\"text-align: right;\">\n",
       "      <th></th>\n",
       "      <th>age</th>\n",
       "      <th>balance</th>\n",
       "      <th>day</th>\n",
       "      <th>month</th>\n",
       "      <th>campaign</th>\n",
       "      <th>pdays</th>\n",
       "      <th>previous</th>\n",
       "      <th>y</th>\n",
       "      <th>default_yes</th>\n",
       "      <th>housing_yes</th>\n",
       "      <th>loan_yes</th>\n",
       "      <th>education_secondary</th>\n",
       "      <th>education_tertiary</th>\n",
       "      <th>education_unknown</th>\n",
       "      <th>contact_telephone</th>\n",
       "      <th>contact_unknown</th>\n",
       "      <th>job_blue-collar</th>\n",
       "      <th>job_entrepreneur</th>\n",
       "      <th>job_housemaid</th>\n",
       "      <th>job_management</th>\n",
       "      <th>job_retired</th>\n",
       "      <th>job_self-employed</th>\n",
       "      <th>job_services</th>\n",
       "      <th>job_student</th>\n",
       "      <th>job_technician</th>\n",
       "      <th>job_unemployed</th>\n",
       "      <th>job_unknown</th>\n",
       "      <th>poutcome_other</th>\n",
       "      <th>poutcome_success</th>\n",
       "      <th>poutcome_unknown</th>\n",
       "      <th>marital_married</th>\n",
       "      <th>marital_single</th>\n",
       "    </tr>\n",
       "  </thead>\n",
       "  <tbody>\n",
       "    <tr>\n",
       "      <th>0</th>\n",
       "      <td>57</td>\n",
       "      <td>2299</td>\n",
       "      <td>12</td>\n",
       "      <td>11</td>\n",
       "      <td>3</td>\n",
       "      <td>-1</td>\n",
       "      <td>0</td>\n",
       "      <td>False</td>\n",
       "      <td>0</td>\n",
       "      <td>0</td>\n",
       "      <td>0</td>\n",
       "      <td>1</td>\n",
       "      <td>0</td>\n",
       "      <td>0</td>\n",
       "      <td>0</td>\n",
       "      <td>0</td>\n",
       "      <td>0</td>\n",
       "      <td>0</td>\n",
       "      <td>0</td>\n",
       "      <td>0</td>\n",
       "      <td>0</td>\n",
       "      <td>0</td>\n",
       "      <td>0</td>\n",
       "      <td>0</td>\n",
       "      <td>0</td>\n",
       "      <td>1</td>\n",
       "      <td>0</td>\n",
       "      <td>0</td>\n",
       "      <td>0</td>\n",
       "      <td>1</td>\n",
       "      <td>1</td>\n",
       "      <td>0</td>\n",
       "    </tr>\n",
       "    <tr>\n",
       "      <th>1</th>\n",
       "      <td>31</td>\n",
       "      <td>246</td>\n",
       "      <td>16</td>\n",
       "      <td>5</td>\n",
       "      <td>2</td>\n",
       "      <td>-1</td>\n",
       "      <td>0</td>\n",
       "      <td>False</td>\n",
       "      <td>0</td>\n",
       "      <td>1</td>\n",
       "      <td>0</td>\n",
       "      <td>1</td>\n",
       "      <td>0</td>\n",
       "      <td>0</td>\n",
       "      <td>0</td>\n",
       "      <td>1</td>\n",
       "      <td>0</td>\n",
       "      <td>0</td>\n",
       "      <td>0</td>\n",
       "      <td>0</td>\n",
       "      <td>0</td>\n",
       "      <td>0</td>\n",
       "      <td>1</td>\n",
       "      <td>0</td>\n",
       "      <td>0</td>\n",
       "      <td>0</td>\n",
       "      <td>0</td>\n",
       "      <td>0</td>\n",
       "      <td>0</td>\n",
       "      <td>1</td>\n",
       "      <td>1</td>\n",
       "      <td>0</td>\n",
       "    </tr>\n",
       "    <tr>\n",
       "      <th>2</th>\n",
       "      <td>58</td>\n",
       "      <td>1230</td>\n",
       "      <td>20</td>\n",
       "      <td>5</td>\n",
       "      <td>1</td>\n",
       "      <td>87</td>\n",
       "      <td>1</td>\n",
       "      <td>True</td>\n",
       "      <td>0</td>\n",
       "      <td>0</td>\n",
       "      <td>0</td>\n",
       "      <td>1</td>\n",
       "      <td>0</td>\n",
       "      <td>0</td>\n",
       "      <td>0</td>\n",
       "      <td>0</td>\n",
       "      <td>0</td>\n",
       "      <td>0</td>\n",
       "      <td>0</td>\n",
       "      <td>0</td>\n",
       "      <td>1</td>\n",
       "      <td>0</td>\n",
       "      <td>0</td>\n",
       "      <td>0</td>\n",
       "      <td>0</td>\n",
       "      <td>0</td>\n",
       "      <td>0</td>\n",
       "      <td>0</td>\n",
       "      <td>0</td>\n",
       "      <td>0</td>\n",
       "      <td>1</td>\n",
       "      <td>0</td>\n",
       "    </tr>\n",
       "    <tr>\n",
       "      <th>3</th>\n",
       "      <td>32</td>\n",
       "      <td>569</td>\n",
       "      <td>29</td>\n",
       "      <td>1</td>\n",
       "      <td>1</td>\n",
       "      <td>-1</td>\n",
       "      <td>0</td>\n",
       "      <td>False</td>\n",
       "      <td>0</td>\n",
       "      <td>0</td>\n",
       "      <td>1</td>\n",
       "      <td>0</td>\n",
       "      <td>1</td>\n",
       "      <td>0</td>\n",
       "      <td>0</td>\n",
       "      <td>0</td>\n",
       "      <td>0</td>\n",
       "      <td>0</td>\n",
       "      <td>0</td>\n",
       "      <td>0</td>\n",
       "      <td>0</td>\n",
       "      <td>0</td>\n",
       "      <td>0</td>\n",
       "      <td>0</td>\n",
       "      <td>1</td>\n",
       "      <td>0</td>\n",
       "      <td>0</td>\n",
       "      <td>0</td>\n",
       "      <td>0</td>\n",
       "      <td>1</td>\n",
       "      <td>0</td>\n",
       "      <td>1</td>\n",
       "    </tr>\n",
       "    <tr>\n",
       "      <th>4</th>\n",
       "      <td>54</td>\n",
       "      <td>0</td>\n",
       "      <td>15</td>\n",
       "      <td>7</td>\n",
       "      <td>4</td>\n",
       "      <td>-1</td>\n",
       "      <td>0</td>\n",
       "      <td>False</td>\n",
       "      <td>0</td>\n",
       "      <td>0</td>\n",
       "      <td>1</td>\n",
       "      <td>1</td>\n",
       "      <td>0</td>\n",
       "      <td>0</td>\n",
       "      <td>0</td>\n",
       "      <td>0</td>\n",
       "      <td>0</td>\n",
       "      <td>1</td>\n",
       "      <td>0</td>\n",
       "      <td>0</td>\n",
       "      <td>0</td>\n",
       "      <td>0</td>\n",
       "      <td>0</td>\n",
       "      <td>0</td>\n",
       "      <td>0</td>\n",
       "      <td>0</td>\n",
       "      <td>0</td>\n",
       "      <td>0</td>\n",
       "      <td>0</td>\n",
       "      <td>1</td>\n",
       "      <td>1</td>\n",
       "      <td>0</td>\n",
       "    </tr>\n",
       "  </tbody>\n",
       "</table>\n",
       "</div>"
      ],
      "text/plain": [
       "   age  balance  day  month  campaign  pdays  previous      y  default_yes  \\\n",
       "0   57     2299   12     11         3     -1         0  False            0   \n",
       "1   31      246   16      5         2     -1         0  False            0   \n",
       "2   58     1230   20      5         1     87         1   True            0   \n",
       "3   32      569   29      1         1     -1         0  False            0   \n",
       "4   54        0   15      7         4     -1         0  False            0   \n",
       "\n",
       "   housing_yes  loan_yes  education_secondary  education_tertiary  \\\n",
       "0            0         0                    1                   0   \n",
       "1            1         0                    1                   0   \n",
       "2            0         0                    1                   0   \n",
       "3            0         1                    0                   1   \n",
       "4            0         1                    1                   0   \n",
       "\n",
       "   education_unknown  contact_telephone  contact_unknown  job_blue-collar  \\\n",
       "0                  0                  0                0                0   \n",
       "1                  0                  0                1                0   \n",
       "2                  0                  0                0                0   \n",
       "3                  0                  0                0                0   \n",
       "4                  0                  0                0                0   \n",
       "\n",
       "   job_entrepreneur  job_housemaid  job_management  job_retired  \\\n",
       "0                 0              0               0            0   \n",
       "1                 0              0               0            0   \n",
       "2                 0              0               0            1   \n",
       "3                 0              0               0            0   \n",
       "4                 1              0               0            0   \n",
       "\n",
       "   job_self-employed  job_services  job_student  job_technician  \\\n",
       "0                  0             0            0               0   \n",
       "1                  0             1            0               0   \n",
       "2                  0             0            0               0   \n",
       "3                  0             0            0               1   \n",
       "4                  0             0            0               0   \n",
       "\n",
       "   job_unemployed  job_unknown  poutcome_other  poutcome_success  \\\n",
       "0               1            0               0                 0   \n",
       "1               0            0               0                 0   \n",
       "2               0            0               0                 0   \n",
       "3               0            0               0                 0   \n",
       "4               0            0               0                 0   \n",
       "\n",
       "   poutcome_unknown  marital_married  marital_single  \n",
       "0                 1                1               0  \n",
       "1                 1                1               0  \n",
       "2                 0                1               0  \n",
       "3                 1                0               1  \n",
       "4                 1                1               0  "
      ]
     },
     "execution_count": 5,
     "metadata": {},
     "output_type": "execute_result"
    }
   ],
   "source": [
    "train.head()"
   ]
  },
  {
   "cell_type": "code",
   "execution_count": 9,
   "metadata": {},
   "outputs": [],
   "source": [
    "test = pd.read_csv('./test_dummies.csv')"
   ]
  },
  {
   "cell_type": "code",
   "execution_count": 26,
   "metadata": {},
   "outputs": [
    {
     "data": {
      "text/html": [
       "<div>\n",
       "<style scoped>\n",
       "    .dataframe tbody tr th:only-of-type {\n",
       "        vertical-align: middle;\n",
       "    }\n",
       "\n",
       "    .dataframe tbody tr th {\n",
       "        vertical-align: top;\n",
       "    }\n",
       "\n",
       "    .dataframe thead th {\n",
       "        text-align: right;\n",
       "    }\n",
       "</style>\n",
       "<table border=\"1\" class=\"dataframe\">\n",
       "  <thead>\n",
       "    <tr style=\"text-align: right;\">\n",
       "      <th></th>\n",
       "      <th>age</th>\n",
       "      <th>balance</th>\n",
       "      <th>day</th>\n",
       "      <th>month</th>\n",
       "      <th>campaign</th>\n",
       "      <th>pdays</th>\n",
       "      <th>previous</th>\n",
       "      <th>default_yes</th>\n",
       "      <th>housing_yes</th>\n",
       "      <th>loan_yes</th>\n",
       "      <th>education_secondary</th>\n",
       "      <th>education_tertiary</th>\n",
       "      <th>education_unknown</th>\n",
       "      <th>contact_telephone</th>\n",
       "      <th>contact_unknown</th>\n",
       "      <th>job_blue-collar</th>\n",
       "      <th>job_entrepreneur</th>\n",
       "      <th>job_housemaid</th>\n",
       "      <th>job_management</th>\n",
       "      <th>job_retired</th>\n",
       "      <th>job_self-employed</th>\n",
       "      <th>job_services</th>\n",
       "      <th>job_student</th>\n",
       "      <th>job_technician</th>\n",
       "      <th>job_unemployed</th>\n",
       "      <th>job_unknown</th>\n",
       "      <th>poutcome_other</th>\n",
       "      <th>poutcome_success</th>\n",
       "      <th>poutcome_unknown</th>\n",
       "      <th>marital_married</th>\n",
       "      <th>marital_single</th>\n",
       "    </tr>\n",
       "  </thead>\n",
       "  <tbody>\n",
       "    <tr>\n",
       "      <th>0</th>\n",
       "      <td>61</td>\n",
       "      <td>848</td>\n",
       "      <td>27</td>\n",
       "      <td>4</td>\n",
       "      <td>1</td>\n",
       "      <td>187</td>\n",
       "      <td>1</td>\n",
       "      <td>0</td>\n",
       "      <td>0</td>\n",
       "      <td>0</td>\n",
       "      <td>0</td>\n",
       "      <td>0</td>\n",
       "      <td>0</td>\n",
       "      <td>0</td>\n",
       "      <td>0</td>\n",
       "      <td>0</td>\n",
       "      <td>0</td>\n",
       "      <td>1</td>\n",
       "      <td>0</td>\n",
       "      <td>0</td>\n",
       "      <td>0</td>\n",
       "      <td>0</td>\n",
       "      <td>0</td>\n",
       "      <td>0</td>\n",
       "      <td>0</td>\n",
       "      <td>0</td>\n",
       "      <td>1</td>\n",
       "      <td>0</td>\n",
       "      <td>0</td>\n",
       "      <td>1</td>\n",
       "      <td>0</td>\n",
       "    </tr>\n",
       "    <tr>\n",
       "      <th>1</th>\n",
       "      <td>44</td>\n",
       "      <td>0</td>\n",
       "      <td>20</td>\n",
       "      <td>8</td>\n",
       "      <td>5</td>\n",
       "      <td>-1</td>\n",
       "      <td>0</td>\n",
       "      <td>0</td>\n",
       "      <td>0</td>\n",
       "      <td>0</td>\n",
       "      <td>0</td>\n",
       "      <td>0</td>\n",
       "      <td>0</td>\n",
       "      <td>0</td>\n",
       "      <td>0</td>\n",
       "      <td>0</td>\n",
       "      <td>0</td>\n",
       "      <td>1</td>\n",
       "      <td>0</td>\n",
       "      <td>0</td>\n",
       "      <td>0</td>\n",
       "      <td>0</td>\n",
       "      <td>0</td>\n",
       "      <td>0</td>\n",
       "      <td>0</td>\n",
       "      <td>0</td>\n",
       "      <td>0</td>\n",
       "      <td>0</td>\n",
       "      <td>1</td>\n",
       "      <td>1</td>\n",
       "      <td>0</td>\n",
       "    </tr>\n",
       "    <tr>\n",
       "      <th>2</th>\n",
       "      <td>54</td>\n",
       "      <td>602</td>\n",
       "      <td>3</td>\n",
       "      <td>3</td>\n",
       "      <td>2</td>\n",
       "      <td>-1</td>\n",
       "      <td>0</td>\n",
       "      <td>0</td>\n",
       "      <td>0</td>\n",
       "      <td>0</td>\n",
       "      <td>1</td>\n",
       "      <td>0</td>\n",
       "      <td>0</td>\n",
       "      <td>0</td>\n",
       "      <td>0</td>\n",
       "      <td>0</td>\n",
       "      <td>0</td>\n",
       "      <td>0</td>\n",
       "      <td>0</td>\n",
       "      <td>0</td>\n",
       "      <td>0</td>\n",
       "      <td>0</td>\n",
       "      <td>0</td>\n",
       "      <td>0</td>\n",
       "      <td>0</td>\n",
       "      <td>0</td>\n",
       "      <td>0</td>\n",
       "      <td>0</td>\n",
       "      <td>1</td>\n",
       "      <td>1</td>\n",
       "      <td>0</td>\n",
       "    </tr>\n",
       "    <tr>\n",
       "      <th>3</th>\n",
       "      <td>28</td>\n",
       "      <td>799</td>\n",
       "      <td>25</td>\n",
       "      <td>7</td>\n",
       "      <td>1</td>\n",
       "      <td>-1</td>\n",
       "      <td>0</td>\n",
       "      <td>0</td>\n",
       "      <td>1</td>\n",
       "      <td>0</td>\n",
       "      <td>1</td>\n",
       "      <td>0</td>\n",
       "      <td>0</td>\n",
       "      <td>0</td>\n",
       "      <td>0</td>\n",
       "      <td>0</td>\n",
       "      <td>0</td>\n",
       "      <td>0</td>\n",
       "      <td>0</td>\n",
       "      <td>0</td>\n",
       "      <td>0</td>\n",
       "      <td>0</td>\n",
       "      <td>0</td>\n",
       "      <td>1</td>\n",
       "      <td>0</td>\n",
       "      <td>0</td>\n",
       "      <td>0</td>\n",
       "      <td>0</td>\n",
       "      <td>1</td>\n",
       "      <td>0</td>\n",
       "      <td>1</td>\n",
       "    </tr>\n",
       "    <tr>\n",
       "      <th>4</th>\n",
       "      <td>52</td>\n",
       "      <td>425</td>\n",
       "      <td>28</td>\n",
       "      <td>1</td>\n",
       "      <td>2</td>\n",
       "      <td>254</td>\n",
       "      <td>3</td>\n",
       "      <td>0</td>\n",
       "      <td>1</td>\n",
       "      <td>0</td>\n",
       "      <td>0</td>\n",
       "      <td>0</td>\n",
       "      <td>1</td>\n",
       "      <td>0</td>\n",
       "      <td>0</td>\n",
       "      <td>0</td>\n",
       "      <td>0</td>\n",
       "      <td>0</td>\n",
       "      <td>0</td>\n",
       "      <td>0</td>\n",
       "      <td>0</td>\n",
       "      <td>0</td>\n",
       "      <td>0</td>\n",
       "      <td>1</td>\n",
       "      <td>0</td>\n",
       "      <td>0</td>\n",
       "      <td>0</td>\n",
       "      <td>0</td>\n",
       "      <td>0</td>\n",
       "      <td>1</td>\n",
       "      <td>0</td>\n",
       "    </tr>\n",
       "  </tbody>\n",
       "</table>\n",
       "</div>"
      ],
      "text/plain": [
       "   age  balance  day  month  campaign  pdays  previous  default_yes  \\\n",
       "0   61      848   27      4         1    187         1            0   \n",
       "1   44        0   20      8         5     -1         0            0   \n",
       "2   54      602    3      3         2     -1         0            0   \n",
       "3   28      799   25      7         1     -1         0            0   \n",
       "4   52      425   28      1         2    254         3            0   \n",
       "\n",
       "   housing_yes  loan_yes  education_secondary  education_tertiary  \\\n",
       "0            0         0                    0                   0   \n",
       "1            0         0                    0                   0   \n",
       "2            0         0                    1                   0   \n",
       "3            1         0                    1                   0   \n",
       "4            1         0                    0                   0   \n",
       "\n",
       "   education_unknown  contact_telephone  contact_unknown  job_blue-collar  \\\n",
       "0                  0                  0                0                0   \n",
       "1                  0                  0                0                0   \n",
       "2                  0                  0                0                0   \n",
       "3                  0                  0                0                0   \n",
       "4                  1                  0                0                0   \n",
       "\n",
       "   job_entrepreneur  job_housemaid  job_management  job_retired  \\\n",
       "0                 0              1               0            0   \n",
       "1                 0              1               0            0   \n",
       "2                 0              0               0            0   \n",
       "3                 0              0               0            0   \n",
       "4                 0              0               0            0   \n",
       "\n",
       "   job_self-employed  job_services  job_student  job_technician  \\\n",
       "0                  0             0            0               0   \n",
       "1                  0             0            0               0   \n",
       "2                  0             0            0               0   \n",
       "3                  0             0            0               1   \n",
       "4                  0             0            0               1   \n",
       "\n",
       "   job_unemployed  job_unknown  poutcome_other  poutcome_success  \\\n",
       "0               0            0               1                 0   \n",
       "1               0            0               0                 0   \n",
       "2               0            0               0                 0   \n",
       "3               0            0               0                 0   \n",
       "4               0            0               0                 0   \n",
       "\n",
       "   poutcome_unknown  marital_married  marital_single  \n",
       "0                 0                1               0  \n",
       "1                 1                1               0  \n",
       "2                 1                1               0  \n",
       "3                 1                0               1  \n",
       "4                 0                1               0  "
      ]
     },
     "execution_count": 26,
     "metadata": {},
     "output_type": "execute_result"
    }
   ],
   "source": [
    "test.head()"
   ]
  },
  {
   "cell_type": "markdown",
   "metadata": {},
   "source": [
    "# df_train 으로 데이터불러오기 (샘플링기법 적용x)"
   ]
  },
  {
   "cell_type": "code",
   "execution_count": 10,
   "metadata": {},
   "outputs": [
    {
     "data": {
      "text/plain": [
       "(22605,)"
      ]
     },
     "execution_count": 10,
     "metadata": {},
     "output_type": "execute_result"
    }
   ],
   "source": [
    "y = train['y']\n",
    "y.shape"
   ]
  },
  {
   "cell_type": "code",
   "execution_count": 11,
   "metadata": {},
   "outputs": [
    {
     "data": {
      "text/plain": [
       "(22605, 31)"
      ]
     },
     "execution_count": 11,
     "metadata": {},
     "output_type": "execute_result"
    }
   ],
   "source": [
    "X = train.drop(['y'], axis=1)\n",
    "X.shape"
   ]
  },
  {
   "cell_type": "code",
   "execution_count": 47,
   "metadata": {},
   "outputs": [],
   "source": [
    "from sklearn.model_selection import train_test_split\n",
    "\n",
    "X_train, X_test, y_train, y_test = train_test_split(X, y, test_size = 0.2, shuffle = True, stratify = y)\n",
    "\n",
    "# 분류학습시 stratify = target으로 설정해야함."
   ]
  },
  {
   "cell_type": "code",
   "execution_count": 48,
   "metadata": {},
   "outputs": [
    {
     "name": "stdout",
     "output_type": "stream",
     "text": [
      "학습 세트 Shape:(18084, 31), 테스트 세트 Shape:(4521, 31)\n",
      " 학습 세트 레이블 값 분포 비율\n",
      "False    0.882438\n",
      "True     0.117562\n",
      "Name: y, dtype: float64\n",
      "\n",
      " 테스트 세트 레이블 값 분포 비율\n",
      "False    0.875912\n",
      "True     0.124088\n",
      "Name: y, dtype: float64\n"
     ]
    }
   ],
   "source": [
    "# 추후 오버,언더,하이드리브 샘플링 적용시 레이블 값 분포를 보기위한 코드.\n",
    "\n",
    "train_cnt = y_train.count()\n",
    "test_cnt = y_test.count()\n",
    "print('학습 세트 Shape:{0}, 테스트 세트 Shape:{1}'.format(X_train.shape , X_test.shape))\n",
    "\n",
    "print(' 학습 세트 레이블 값 분포 비율')\n",
    "print(y_train.value_counts()/train_cnt)\n",
    "print('\\n 테스트 세트 레이블 값 분포 비율')\n",
    "print(y_test.value_counts()/test_cnt)"
   ]
  },
  {
   "cell_type": "markdown",
   "metadata": {},
   "source": [
    "# 언더 샘플링¶\n",
    "\n",
    "- RandomUnderSampler : random under-sampling method\n",
    "- TomekLinks : Tomek’s link method\n",
    "- CondensedNearestNeighbour : condensed nearest neighbour method\n",
    "- OneSidedSelection : under-sampling based on one-sided selection method\n",
    "- EditedNearestNeighbours : edited nearest neighbour method\n",
    "- NeighbourhoodCleaningRule : neighbourhood cleaning rule"
   ]
  },
  {
   "cell_type": "code",
   "execution_count": 14,
   "metadata": {},
   "outputs": [],
   "source": [
    "import sklearn.metrics as metrics"
   ]
  },
  {
   "cell_type": "code",
   "execution_count": 15,
   "metadata": {},
   "outputs": [],
   "source": [
    "from imblearn.under_sampling import *"
   ]
  },
  {
   "cell_type": "markdown",
   "metadata": {},
   "source": [
    "# CNN"
   ]
  },
  {
   "cell_type": "code",
   "execution_count": 10,
   "metadata": {},
   "outputs": [],
   "source": [
    "from sklearn.model_selection import train_test_split\n",
    "\n",
    "X_train, X_test, y_train, y_test = train_test_split(X, y, test_size = 0.2, shuffle = True, stratify = y)\n",
    "\n",
    "# 분류학습시 stratify = target으로 설정해야함."
   ]
  },
  {
   "cell_type": "code",
   "execution_count": 12,
   "metadata": {},
   "outputs": [],
   "source": [
    "X_train, y_train = CondensedNearestNeighbour(n_jobs=-1).fit_sample(X_train, y_train)"
   ]
  },
  {
   "cell_type": "code",
   "execution_count": 13,
   "metadata": {},
   "outputs": [
    {
     "name": "stdout",
     "output_type": "stream",
     "text": [
      "학습 세트 Shape:(6288, 31), 테스트 세트 Shape:(4521, 31)\n",
      " 학습 세트 레이블 값 분포 비율\n",
      "False    0.658079\n",
      "True     0.341921\n",
      "Name: y, dtype: float64\n",
      "\n",
      " 테스트 세트 레이블 값 분포 비율\n",
      "False    0.881221\n",
      "True     0.118779\n",
      "Name: y, dtype: float64\n"
     ]
    }
   ],
   "source": [
    "# 추후 오버,언더,하이드리브 샘플링 적용시 레이블 값 분포를 보기위한 코드.\n",
    "\n",
    "train_cnt = y_train.count()\n",
    "test_cnt = y_test.count()\n",
    "print('학습 세트 Shape:{0}, 테스트 세트 Shape:{1}'.format(X_train.shape , X_test.shape))\n",
    "\n",
    "print(' 학습 세트 레이블 값 분포 비율')\n",
    "print(y_train.value_counts()/train_cnt)\n",
    "print('\\n 테스트 세트 레이블 값 분포 비율')\n",
    "print(y_test.value_counts()/test_cnt)"
   ]
  },
  {
   "cell_type": "code",
   "execution_count": 14,
   "metadata": {},
   "outputs": [],
   "source": [
    "import sklearn.metrics as metrics"
   ]
  },
  {
   "cell_type": "code",
   "execution_count": 15,
   "metadata": {},
   "outputs": [
    {
     "name": "stdout",
     "output_type": "stream",
     "text": [
      "Precision for Light GBM is  0.45623836126629425\n",
      "Recall for Light GBM is  0.3763440860215054\n",
      "F1_score for Light GBM is  0.4124579124579124\n",
      "\n",
      "The cross validated precision for Light GBM is: 0.6426657675397066\n",
      "The cross validated recall for Light GBM is: 0.48651162790697666\n",
      "The cross validated f1_score for Light GBM is: 0.552776372234556\n"
     ]
    }
   ],
   "source": [
    "# Light GBM\n",
    "\n",
    "lgbm_clf = LGBMClassifier(n_estimators=400, n_jobs = -1)\n",
    "lgbm_clf.fit(X_train, y_train)\n",
    "lgbm_clf_pred = lgbm_clf.predict(X_test)\n",
    "\n",
    "lgbm_clf_cv_pre = cross_val_score(lgbm_clf, X_train, y_train, cv = 10, scoring = 'precision', n_jobs=-1)\n",
    "lgbm_clf_cv_rec = cross_val_score(lgbm_clf, X_train, y_train, cv = 10, scoring = 'recall', n_jobs=-1)\n",
    "lgbm_clf_cv_f1 = cross_val_score(lgbm_clf, X_train, y_train, cv = 10, scoring = 'f1', n_jobs=-1)\n",
    "\n",
    "print('Precision for Light GBM is ', metrics.precision_score(lgbm_clf_pred, y_test))\n",
    "print('Recall for Light GBM is ', metrics.recall_score(lgbm_clf_pred, y_test))\n",
    "print('F1_score for Light GBM is ', metrics.f1_score(lgbm_clf_pred, y_test))\n",
    "print()\n",
    "print('The cross validated precision for Light GBM is:', lgbm_clf_cv_pre.mean())\n",
    "print('The cross validated recall for Light GBM is:', lgbm_clf_cv_rec.mean())\n",
    "print('The cross validated f1_score for Light GBM is:', lgbm_clf_cv_f1.mean())"
   ]
  },
  {
   "cell_type": "code",
   "execution_count": 16,
   "metadata": {},
   "outputs": [
    {
     "name": "stdout",
     "output_type": "stream",
     "text": [
      "pred_proba()결과 Shape : (4521, 2)\n",
      "pred_proba array에서 앞 3개만 샘플로 추출 \n",
      ": [[0.49396842 0.50603158]\n",
      " [0.37382481 0.62617519]\n",
      " [0.90386439 0.09613561]]\n",
      "두개의 class 중에서 더 큰 확률을 클래스 값으로 예측 \n",
      " [[0.49396842 0.50603158 0.49396842 0.50603158]\n",
      " [0.37382481 0.62617519 0.37382481 0.62617519]\n",
      " [0.90386439 0.09613561 0.90386439 0.09613561]]\n"
     ]
    }
   ],
   "source": [
    "##\n",
    "\n",
    "pred_proba = lgbm_clf.predict_proba(X_test)\n",
    "pred  = lgbm_clf.predict_proba(X_test)\n",
    "print('pred_proba()결과 Shape : {0}'.format(pred_proba.shape))\n",
    "print('pred_proba array에서 앞 3개만 샘플로 추출 \\n:', pred_proba[:3])\n",
    "\n",
    "# 예측 확률 array 와 예측 결과값 array 를 concatenate 하여 예측 확률과 결과값을 한눈에 확인\n",
    "pred_proba_result = np.concatenate([pred_proba , pred.reshape(-1,2)],axis=1)\n",
    "print('두개의 class 중에서 더 큰 확률을 클래스 값으로 예측 \\n',pred_proba_result[:3])\n"
   ]
  },
  {
   "cell_type": "code",
   "execution_count": 22,
   "metadata": {},
   "outputs": [],
   "source": [
    "from sklearn.metrics import accuracy_score, precision_score , recall_score , confusion_matrix, f1_score\n",
    "\n",
    "def get_clf_eval(y_test , pred):\n",
    "    confusion = confusion_matrix( y_test, pred)\n",
    "    accuracy = accuracy_score(y_test , pred)\n",
    "    precision = precision_score(y_test , pred)\n",
    "    recall = recall_score(y_test , pred)\n",
    "    f1_score = metrics.f1_score(y_test, pred)\n",
    "    print('오차 행렬')\n",
    "    print(confusion)\n",
    "    print('정확도: {0:.4f}, 정밀도: {1:.4f}, 재현율: {2:.4f}, F1_score: {2: 4f}'.format(accuracy , precision ,recall, f1_score))"
   ]
  },
  {
   "cell_type": "code",
   "execution_count": 18,
   "metadata": {},
   "outputs": [
    {
     "name": "stdout",
     "output_type": "stream",
     "text": [
      "오차 행렬\n",
      "[[3578  406]\n",
      " [ 292  245]]\n",
      "정확도: 0.8456, 정밀도: 0.3763, 재현율: 0.4562, F1_score:  0.456238\n"
     ]
    }
   ],
   "source": [
    "from sklearn.preprocessing import Binarizer\n",
    "\n",
    "#Binarizer의 threshold 설정값. 분류 결정 임곗값임.  \n",
    "custom_threshold = 0.5\n",
    "\n",
    "# predict_proba( ) 반환값의 두번째 컬럼 , 즉 Positive 클래스 컬럼 하나만 추출하여 Binarizer를 적용\n",
    "pred_proba_1 = pred_proba[:,1].reshape(-1,1)\n",
    "\n",
    "binarizer = Binarizer(threshold=custom_threshold).fit(pred_proba_1) \n",
    "custom_predict = binarizer.transform(pred_proba_1)\n",
    "\n",
    "get_clf_eval(y_test, custom_predict)"
   ]
  },
  {
   "cell_type": "code",
   "execution_count": 23,
   "metadata": {},
   "outputs": [
    {
     "name": "stdout",
     "output_type": "stream",
     "text": [
      "임곗값: 0.4\n",
      "오차 행렬\n",
      "[[3578  406]\n",
      " [ 270  267]]\n",
      "정확도: 0.8505, 정밀도: 0.3967, 재현율: 0.4972, F1_score:  0.497207\n",
      "임곗값: 0.45\n",
      "오차 행렬\n",
      "[[3637  347]\n",
      " [ 284  253]]\n",
      "정확도: 0.8604, 정밀도: 0.4217, 재현율: 0.4711, F1_score:  0.471136\n",
      "임곗값: 0.5\n",
      "오차 행렬\n",
      "[[3668  316]\n",
      " [ 307  230]]\n",
      "정확도: 0.8622, 정밀도: 0.4212, 재현율: 0.4283, F1_score:  0.428305\n",
      "임곗값: 0.55\n",
      "오차 행렬\n",
      "[[3700  284]\n",
      " [ 313  224]]\n",
      "정확도: 0.8679, 정밀도: 0.4409, 재현율: 0.4171, F1_score:  0.417132\n",
      "임곗값: 0.6\n",
      "오차 행렬\n",
      "[[3728  256]\n",
      " [ 326  211]]\n",
      "정확도: 0.8713, 정밀도: 0.4518, 재현율: 0.3929, F1_score:  0.392924\n"
     ]
    }
   ],
   "source": [
    "# 테스트를 수행할 모든 임곗값을 리스트 객체로 저장. \n",
    "thresholds = [0.4, 0.45, 0.50, 0.55, 0.60]\n",
    "\n",
    "def get_eval_by_threshold(y_test , pred_proba_c1, thresholds):\n",
    "    # thresholds list객체내의 값을 차례로 iteration하면서 Evaluation 수행.\n",
    "    for custom_threshold in thresholds:\n",
    "        binarizer = Binarizer(threshold=custom_threshold).fit(pred_proba_c1) \n",
    "        custom_predict = binarizer.transform(pred_proba_c1)\n",
    "        print('임곗값:',custom_threshold)\n",
    "        get_clf_eval(y_test , custom_predict)\n",
    "\n",
    "get_eval_by_threshold(y_test ,pred_proba[:,1].reshape(-1,1), thresholds )"
   ]
  },
  {
   "cell_type": "code",
   "execution_count": 20,
   "metadata": {},
   "outputs": [],
   "source": [
    "from sklearn.metrics import precision_recall_curve\n",
    "\n",
    "# 레이블 값이 1일때의 예측 확률을 추출 \n",
    "pred_proba_class1 = lgbm_clf.predict_proba(X_test)[:, 1] "
   ]
  },
  {
   "cell_type": "code",
   "execution_count": 21,
   "metadata": {},
   "outputs": [
    {
     "data": {
      "image/png": "[encoded data removed]",
      "text/plain": [
       "<Figure size 576x432 with 1 Axes>"
      ]
     },
     "metadata": {
      "needs_background": "light"
     },
     "output_type": "display_data"
    }
   ],
   "source": [
    "import matplotlib.pyplot as plt\n",
    "import matplotlib.ticker as ticker\n",
    "%matplotlib inline\n",
    "\n",
    "def precision_recall_curve_plot(y_test, pred_proba_c1):\n",
    "    # threshold ndarray와 이 threshold에 따른 정밀도, 재현율 ndarray 추출. \n",
    "    precisions, recalls, thresholds = precision_recall_curve( y_test, pred_proba_c1)\n",
    "    \n",
    "    # X축을 threshold값으로, Y축은 정밀도, 재현율 값으로 각각 Plot 수행. 정밀도는 점선으로 표시\n",
    "    plt.figure(figsize=(8,6))\n",
    "    threshold_boundary = thresholds.shape[0]\n",
    "    plt.plot(thresholds, precisions[0:threshold_boundary], linestyle='--', label='precision')\n",
    "    plt.plot(thresholds, recalls[0:threshold_boundary],label='recall')\n",
    "    \n",
    "    # threshold 값 X 축의 Scale을 0.1 단위로 변경\n",
    "    start, end = plt.xlim()\n",
    "    plt.xticks(np.round(np.arange(start, end, 0.1),2))\n",
    "    \n",
    "    # x축, y축 label과 legend, 그리고 grid 설정\n",
    "    plt.xlabel('Threshold value'); plt.ylabel('Precision and Recall value')\n",
    "    plt.legend(); plt.grid()\n",
    "    plt.show()\n",
    "    \n",
    "precision_recall_curve_plot(y_test, lgbm_clf.predict_proba(X_test)[:, 1] )\n"
   ]
  },
  {
   "cell_type": "code",
   "execution_count": 22,
   "metadata": {},
   "outputs": [
    {
     "data": {
      "text/plain": [
       "(0.555, 0.4325)"
      ]
     },
     "execution_count": 22,
     "metadata": {},
     "output_type": "execute_result"
    }
   ],
   "source": [
    "def Find_threshold(model, X_test, y_test):\n",
    "    thresholds = np.arange(0,1,0.05)\n",
    "    threshold_count = []\n",
    "    pred_proba=model.predict_proba(X_test)\n",
    "    pred_proba_1 = pred_proba[:,1].reshape(-1,1)\n",
    "    for threshold in thresholds:\n",
    "        binarizer = Binarizer(threshold=threshold)\n",
    "        model_cl_pred = binarizer.transform(pred_proba_1)\n",
    "        threshold_count.append([threshold, metrics.f1_score(model_cl_pred, y_test)])\n",
    "\n",
    "    MAX=thresholds[np.array(threshold_count)[:,1].argmax()]\n",
    "    \n",
    "    thresholds = np.arange(MAX-0.05,MAX+0.05,0.005)\n",
    "    threshold_count = []\n",
    "    for threshold in thresholds:\n",
    "        binarizer = Binarizer(threshold=threshold)\n",
    "        model_cl_pred = binarizer.transform(pred_proba_1)\n",
    "        #threshold_count.append([threshold, metrics.f1_score(log_cl_pred, y_test)])\n",
    "        #print('threshold: {0:.4f}, f1_score: {1:.4f}'.format(threshold,metrics.f1_score(model_cl_pred, y_test)))\n",
    "        threshold_count.append([threshold, metrics.f1_score(model_cl_pred, y_test)])\n",
    "    \n",
    "    return np.round(thresholds[np.array(threshold_count)[:,1].argmax()],4), np.round(metrics.f1_score(Binarizer(threshold=thresholds[np.array(threshold_count)[:,1].argmax()]).transform(pred_proba_1), y_test),4)\n",
    "\n",
    "Find_threshold(lgbm_clf, X_test, y_test)"
   ]
  },
  {
   "cell_type": "code",
   "execution_count": 23,
   "metadata": {},
   "outputs": [
    {
     "name": "stdout",
     "output_type": "stream",
     "text": [
      "오차 행렬\n",
      "[[3662  322]\n",
      " [ 300  237]]\n",
      "정확도: 0.8624, 정밀도: 0.4240, 재현율: 0.4413, F1_score:  0.441341\n"
     ]
    }
   ],
   "source": [
    "# Binarizer의 베스트 threshold 설정값 지정 \n",
    "\n",
    "custom_threshold = 0.555\n",
    "pred_proba_1 = pred_proba[:,1].reshape(-1,1)\n",
    "binarizer = Binarizer(threshold=custom_threshold).fit(pred_proba_1) \n",
    "custom_predict = binarizer.transform(pred_proba_1)\n",
    "\n",
    "get_clf_eval(y_test , custom_predict)"
   ]
  },
  {
   "cell_type": "code",
   "execution_count": 27,
   "metadata": {},
   "outputs": [],
   "source": [
    "\n",
    "pred_proba_1 = lgbm_clf.predict_proba(test)\n",
    "binarizer_pred = Binarizer(threshold=0.555).transform(pred_proba_1[:,1].reshape(-1,1)) \n",
    "binarizer_pred = binarizer_pred.reshape(-1,)\n",
    "submit = pd.read_csv('./sample_submission.csv')\n",
    "submit['y'] = binarizer_pred\n",
    "submit['y'] = submit.y.astype('bool')\n",
    "submit.to_csv('./under_cnn_0.555_nongrid.csv', index = False)"
   ]
  },
  {
   "cell_type": "markdown",
   "metadata": {},
   "source": [
    "## GridsearchCV"
   ]
  },
  {
   "cell_type": "code",
   "execution_count": 29,
   "metadata": {},
   "outputs": [],
   "source": [
    "from sklearn.model_selection import GridSearchCV\n",
    "\n",
    "# 하이퍼 파라미터 테스트의 수행 속도를 향상시키기 위해 n_estimators를 100으로 감소\n",
    "\n",
    "params = {'num_leaves': [8 ,16 ,32, 64],\n",
    "          'max_depth':[16, 32, 64, 128, 160],\n",
    "          'min_child_samples':[20, 60, 100],\n",
    "          'subsample':[0.2, 0.4, 0.6, 0.8, 1],\n",
    "         'n_estimators':[100,300,500,700,900,1200]}\n",
    "\n",
    "\n",
    "\n",
    "gridcv = GridSearchCV(lgbm_clf, param_grid=params, verbose=3, n_jobs=-1, cv=3)"
   ]
  },
  {
   "cell_type": "code",
   "execution_count": 30,
   "metadata": {},
   "outputs": [
    {
     "name": "stdout",
     "output_type": "stream",
     "text": [
      "Fitting 3 folds for each of 1800 candidates, totalling 5400 fits\n"
     ]
    },
    {
     "name": "stderr",
     "output_type": "stream",
     "text": [
      "[Parallel(n_jobs=-1)]: Using backend LokyBackend with 8 concurrent workers.\n",
      "[Parallel(n_jobs=-1)]: Done  16 tasks      | elapsed:    3.4s\n",
      "[Parallel(n_jobs=-1)]: Done 112 tasks      | elapsed:    9.9s\n",
      "[Parallel(n_jobs=-1)]: Done 272 tasks      | elapsed:   20.0s\n",
      "[Parallel(n_jobs=-1)]: Done 496 tasks      | elapsed:   36.4s\n",
      "[Parallel(n_jobs=-1)]: Done 784 tasks      | elapsed:   58.7s\n",
      "[Parallel(n_jobs=-1)]: Done 1136 tasks      | elapsed:  1.4min\n",
      "[Parallel(n_jobs=-1)]: Done 1552 tasks      | elapsed:  2.0min\n",
      "[Parallel(n_jobs=-1)]: Done 2032 tasks      | elapsed:  2.6min\n",
      "[Parallel(n_jobs=-1)]: Done 2576 tasks      | elapsed:  3.3min\n",
      "[Parallel(n_jobs=-1)]: Done 3184 tasks      | elapsed:  4.0min\n",
      "[Parallel(n_jobs=-1)]: Done 3856 tasks      | elapsed:  4.9min\n",
      "[Parallel(n_jobs=-1)]: Done 4592 tasks      | elapsed:  6.0min\n",
      "[Parallel(n_jobs=-1)]: Done 5400 out of 5400 | elapsed:  7.2min finished\n"
     ]
    },
    {
     "name": "stdout",
     "output_type": "stream",
     "text": [
      "[1]\ttraining's binary_logloss: 0.624581\tvalid_1's binary_logloss: 0.482861\n",
      "Training until validation scores don't improve for 30 rounds\n",
      "[2]\ttraining's binary_logloss: 0.610036\tvalid_1's binary_logloss: 0.471395\n",
      "[3]\ttraining's binary_logloss: 0.598536\tvalid_1's binary_logloss: 0.462054\n",
      "[4]\ttraining's binary_logloss: 0.588842\tvalid_1's binary_logloss: 0.453917\n",
      "[5]\ttraining's binary_logloss: 0.5809\tvalid_1's binary_logloss: 0.44724\n",
      "[6]\ttraining's binary_logloss: 0.574\tvalid_1's binary_logloss: 0.441555\n",
      "[7]\ttraining's binary_logloss: 0.568443\tvalid_1's binary_logloss: 0.436838\n",
      "[8]\ttraining's binary_logloss: 0.563225\tvalid_1's binary_logloss: 0.432433\n",
      "[9]\ttraining's binary_logloss: 0.558763\tvalid_1's binary_logloss: 0.42858\n",
      "[10]\ttraining's binary_logloss: 0.554877\tvalid_1's binary_logloss: 0.425249\n",
      "[11]\ttraining's binary_logloss: 0.551773\tvalid_1's binary_logloss: 0.422459\n",
      "[12]\ttraining's binary_logloss: 0.548528\tvalid_1's binary_logloss: 0.419525\n",
      "[13]\ttraining's binary_logloss: 0.545608\tvalid_1's binary_logloss: 0.417285\n",
      "[14]\ttraining's binary_logloss: 0.542917\tvalid_1's binary_logloss: 0.415287\n",
      "[15]\ttraining's binary_logloss: 0.540778\tvalid_1's binary_logloss: 0.413495\n",
      "[16]\ttraining's binary_logloss: 0.538795\tvalid_1's binary_logloss: 0.412031\n",
      "[17]\ttraining's binary_logloss: 0.536802\tvalid_1's binary_logloss: 0.410225\n",
      "[18]\ttraining's binary_logloss: 0.535114\tvalid_1's binary_logloss: 0.409047\n",
      "[19]\ttraining's binary_logloss: 0.532925\tvalid_1's binary_logloss: 0.407174\n",
      "[20]\ttraining's binary_logloss: 0.531173\tvalid_1's binary_logloss: 0.406482\n",
      "[21]\ttraining's binary_logloss: 0.529546\tvalid_1's binary_logloss: 0.405543\n",
      "[22]\ttraining's binary_logloss: 0.527557\tvalid_1's binary_logloss: 0.403952\n",
      "[23]\ttraining's binary_logloss: 0.526165\tvalid_1's binary_logloss: 0.403487\n",
      "[24]\ttraining's binary_logloss: 0.523859\tvalid_1's binary_logloss: 0.401644\n",
      "[25]\ttraining's binary_logloss: 0.522171\tvalid_1's binary_logloss: 0.400346\n",
      "[26]\ttraining's binary_logloss: 0.520678\tvalid_1's binary_logloss: 0.399185\n",
      "[27]\ttraining's binary_logloss: 0.519152\tvalid_1's binary_logloss: 0.398351\n",
      "[28]\ttraining's binary_logloss: 0.517967\tvalid_1's binary_logloss: 0.397618\n",
      "[29]\ttraining's binary_logloss: 0.516649\tvalid_1's binary_logloss: 0.396913\n",
      "[30]\ttraining's binary_logloss: 0.515364\tvalid_1's binary_logloss: 0.396296\n",
      "[31]\ttraining's binary_logloss: 0.514225\tvalid_1's binary_logloss: 0.396103\n",
      "[32]\ttraining's binary_logloss: 0.513094\tvalid_1's binary_logloss: 0.395394\n",
      "[33]\ttraining's binary_logloss: 0.51211\tvalid_1's binary_logloss: 0.395355\n",
      "[34]\ttraining's binary_logloss: 0.510807\tvalid_1's binary_logloss: 0.394877\n",
      "[35]\ttraining's binary_logloss: 0.509286\tvalid_1's binary_logloss: 0.393849\n",
      "[36]\ttraining's binary_logloss: 0.507969\tvalid_1's binary_logloss: 0.393106\n",
      "[37]\ttraining's binary_logloss: 0.50712\tvalid_1's binary_logloss: 0.392738\n",
      "[38]\ttraining's binary_logloss: 0.506101\tvalid_1's binary_logloss: 0.392221\n",
      "[39]\ttraining's binary_logloss: 0.505183\tvalid_1's binary_logloss: 0.391785\n",
      "[40]\ttraining's binary_logloss: 0.504008\tvalid_1's binary_logloss: 0.391423\n",
      "[41]\ttraining's binary_logloss: 0.502921\tvalid_1's binary_logloss: 0.391329\n",
      "[42]\ttraining's binary_logloss: 0.501425\tvalid_1's binary_logloss: 0.390567\n",
      "[43]\ttraining's binary_logloss: 0.5006\tvalid_1's binary_logloss: 0.390292\n",
      "[44]\ttraining's binary_logloss: 0.499762\tvalid_1's binary_logloss: 0.390186\n",
      "[45]\ttraining's binary_logloss: 0.498652\tvalid_1's binary_logloss: 0.389625\n",
      "[46]\ttraining's binary_logloss: 0.497923\tvalid_1's binary_logloss: 0.389521\n",
      "[47]\ttraining's binary_logloss: 0.496636\tvalid_1's binary_logloss: 0.388649\n",
      "[48]\ttraining's binary_logloss: 0.495614\tvalid_1's binary_logloss: 0.388228\n",
      "[49]\ttraining's binary_logloss: 0.494627\tvalid_1's binary_logloss: 0.388157\n",
      "[50]\ttraining's binary_logloss: 0.493714\tvalid_1's binary_logloss: 0.387927\n",
      "[51]\ttraining's binary_logloss: 0.49267\tvalid_1's binary_logloss: 0.38719\n",
      "[52]\ttraining's binary_logloss: 0.492054\tvalid_1's binary_logloss: 0.387239\n",
      "[53]\ttraining's binary_logloss: 0.491333\tvalid_1's binary_logloss: 0.387142\n",
      "[54]\ttraining's binary_logloss: 0.490716\tvalid_1's binary_logloss: 0.387167\n",
      "[55]\ttraining's binary_logloss: 0.490083\tvalid_1's binary_logloss: 0.387069\n",
      "[56]\ttraining's binary_logloss: 0.48908\tvalid_1's binary_logloss: 0.387104\n",
      "[57]\ttraining's binary_logloss: 0.488409\tvalid_1's binary_logloss: 0.387037\n",
      "[58]\ttraining's binary_logloss: 0.487719\tvalid_1's binary_logloss: 0.387266\n",
      "[59]\ttraining's binary_logloss: 0.486937\tvalid_1's binary_logloss: 0.387057\n",
      "[60]\ttraining's binary_logloss: 0.485999\tvalid_1's binary_logloss: 0.386838\n",
      "[61]\ttraining's binary_logloss: 0.485331\tvalid_1's binary_logloss: 0.386717\n",
      "[62]\ttraining's binary_logloss: 0.484841\tvalid_1's binary_logloss: 0.386592\n",
      "[63]\ttraining's binary_logloss: 0.483997\tvalid_1's binary_logloss: 0.386751\n",
      "[64]\ttraining's binary_logloss: 0.483422\tvalid_1's binary_logloss: 0.386789\n",
      "[65]\ttraining's binary_logloss: 0.482776\tvalid_1's binary_logloss: 0.386793\n",
      "[66]\ttraining's binary_logloss: 0.481907\tvalid_1's binary_logloss: 0.386806\n",
      "[67]\ttraining's binary_logloss: 0.481\tvalid_1's binary_logloss: 0.386623\n",
      "[68]\ttraining's binary_logloss: 0.48047\tvalid_1's binary_logloss: 0.386503\n",
      "[69]\ttraining's binary_logloss: 0.479872\tvalid_1's binary_logloss: 0.386438\n",
      "[70]\ttraining's binary_logloss: 0.479159\tvalid_1's binary_logloss: 0.386507\n",
      "[71]\ttraining's binary_logloss: 0.478494\tvalid_1's binary_logloss: 0.38661\n",
      "[72]\ttraining's binary_logloss: 0.477771\tvalid_1's binary_logloss: 0.386485\n",
      "[73]\ttraining's binary_logloss: 0.477172\tvalid_1's binary_logloss: 0.38651\n",
      "[74]\ttraining's binary_logloss: 0.476486\tvalid_1's binary_logloss: 0.386398\n",
      "[75]\ttraining's binary_logloss: 0.475686\tvalid_1's binary_logloss: 0.38637\n",
      "[76]\ttraining's binary_logloss: 0.474897\tvalid_1's binary_logloss: 0.386323\n",
      "[77]\ttraining's binary_logloss: 0.474419\tvalid_1's binary_logloss: 0.386227\n",
      "[78]\ttraining's binary_logloss: 0.473683\tvalid_1's binary_logloss: 0.385738\n",
      "[79]\ttraining's binary_logloss: 0.473091\tvalid_1's binary_logloss: 0.385462\n",
      "[80]\ttraining's binary_logloss: 0.472561\tvalid_1's binary_logloss: 0.385401\n",
      "[81]\ttraining's binary_logloss: 0.472016\tvalid_1's binary_logloss: 0.385354\n",
      "[82]\ttraining's binary_logloss: 0.471413\tvalid_1's binary_logloss: 0.385415\n",
      "[83]\ttraining's binary_logloss: 0.470775\tvalid_1's binary_logloss: 0.385205\n",
      "[84]\ttraining's binary_logloss: 0.470272\tvalid_1's binary_logloss: 0.385178\n",
      "[85]\ttraining's binary_logloss: 0.469626\tvalid_1's binary_logloss: 0.38511\n",
      "[86]\ttraining's binary_logloss: 0.469127\tvalid_1's binary_logloss: 0.385339\n",
      "[87]\ttraining's binary_logloss: 0.468436\tvalid_1's binary_logloss: 0.385398\n",
      "[88]\ttraining's binary_logloss: 0.467844\tvalid_1's binary_logloss: 0.385371\n",
      "[89]\ttraining's binary_logloss: 0.467346\tvalid_1's binary_logloss: 0.385441\n",
      "[90]\ttraining's binary_logloss: 0.466813\tvalid_1's binary_logloss: 0.385551\n",
      "[91]\ttraining's binary_logloss: 0.466173\tvalid_1's binary_logloss: 0.385702\n",
      "[92]\ttraining's binary_logloss: 0.465447\tvalid_1's binary_logloss: 0.385611\n",
      "[93]\ttraining's binary_logloss: 0.46491\tvalid_1's binary_logloss: 0.385404\n",
      "[94]\ttraining's binary_logloss: 0.464427\tvalid_1's binary_logloss: 0.385384\n",
      "[95]\ttraining's binary_logloss: 0.463801\tvalid_1's binary_logloss: 0.385198\n",
      "[96]\ttraining's binary_logloss: 0.463075\tvalid_1's binary_logloss: 0.385231\n",
      "[97]\ttraining's binary_logloss: 0.462283\tvalid_1's binary_logloss: 0.385215\n",
      "[98]\ttraining's binary_logloss: 0.461846\tvalid_1's binary_logloss: 0.385334\n",
      "[99]\ttraining's binary_logloss: 0.461167\tvalid_1's binary_logloss: 0.38538\n",
      "[100]\ttraining's binary_logloss: 0.460718\tvalid_1's binary_logloss: 0.385293\n",
      "[101]\ttraining's binary_logloss: 0.460117\tvalid_1's binary_logloss: 0.385046\n",
      "[102]\ttraining's binary_logloss: 0.459523\tvalid_1's binary_logloss: 0.385084\n",
      "[103]\ttraining's binary_logloss: 0.459068\tvalid_1's binary_logloss: 0.385157\n",
      "[104]\ttraining's binary_logloss: 0.458492\tvalid_1's binary_logloss: 0.385232\n",
      "[105]\ttraining's binary_logloss: 0.457698\tvalid_1's binary_logloss: 0.38542\n",
      "[106]\ttraining's binary_logloss: 0.457097\tvalid_1's binary_logloss: 0.385693\n",
      "[107]\ttraining's binary_logloss: 0.456604\tvalid_1's binary_logloss: 0.385694\n",
      "[108]\ttraining's binary_logloss: 0.456214\tvalid_1's binary_logloss: 0.385607\n",
      "[109]\ttraining's binary_logloss: 0.455681\tvalid_1's binary_logloss: 0.385732\n",
      "[110]\ttraining's binary_logloss: 0.455305\tvalid_1's binary_logloss: 0.385788\n",
      "[111]\ttraining's binary_logloss: 0.454848\tvalid_1's binary_logloss: 0.385781\n",
      "[112]\ttraining's binary_logloss: 0.454213\tvalid_1's binary_logloss: 0.386016\n",
      "[113]\ttraining's binary_logloss: 0.453686\tvalid_1's binary_logloss: 0.385924\n",
      "[114]\ttraining's binary_logloss: 0.453312\tvalid_1's binary_logloss: 0.385857\n",
      "[115]\ttraining's binary_logloss: 0.452821\tvalid_1's binary_logloss: 0.38586\n",
      "[116]\ttraining's binary_logloss: 0.452353\tvalid_1's binary_logloss: 0.385759\n",
      "[117]\ttraining's binary_logloss: 0.451798\tvalid_1's binary_logloss: 0.385941\n",
      "[118]\ttraining's binary_logloss: 0.451358\tvalid_1's binary_logloss: 0.385711\n",
      "[119]\ttraining's binary_logloss: 0.450804\tvalid_1's binary_logloss: 0.385769\n",
      "[120]\ttraining's binary_logloss: 0.450299\tvalid_1's binary_logloss: 0.385921\n",
      "[121]\ttraining's binary_logloss: 0.449831\tvalid_1's binary_logloss: 0.385747\n",
      "[122]\ttraining's binary_logloss: 0.449476\tvalid_1's binary_logloss: 0.385646\n",
      "[123]\ttraining's binary_logloss: 0.449038\tvalid_1's binary_logloss: 0.385692\n",
      "[124]\ttraining's binary_logloss: 0.448722\tvalid_1's binary_logloss: 0.38572\n",
      "[125]\ttraining's binary_logloss: 0.448424\tvalid_1's binary_logloss: 0.38576\n",
      "[126]\ttraining's binary_logloss: 0.447857\tvalid_1's binary_logloss: 0.385697\n",
      "[127]\ttraining's binary_logloss: 0.447148\tvalid_1's binary_logloss: 0.385541\n",
      "[128]\ttraining's binary_logloss: 0.446685\tvalid_1's binary_logloss: 0.385582\n",
      "[129]\ttraining's binary_logloss: 0.446187\tvalid_1's binary_logloss: 0.385381\n",
      "[130]\ttraining's binary_logloss: 0.445755\tvalid_1's binary_logloss: 0.385351\n",
      "[131]\ttraining's binary_logloss: 0.445293\tvalid_1's binary_logloss: 0.385344\n",
      "Early stopping, best iteration is:\n",
      "[101]\ttraining's binary_logloss: 0.460117\tvalid_1's binary_logloss: 0.385046\n"
     ]
    },
    {
     "data": {
      "text/plain": [
       "GridSearchCV(cv=3, estimator=LGBMClassifier(n_estimators=400), n_jobs=-1,\n",
       "             param_grid={'max_depth': [16, 32, 64, 128, 160],\n",
       "                         'min_child_samples': [20, 60, 100],\n",
       "                         'n_estimators': [100, 300, 500, 700, 900, 1200],\n",
       "                         'num_leaves': [8, 16, 32, 64],\n",
       "                         'subsample': [0.2, 0.4, 0.6, 0.8, 1]},\n",
       "             verbose=3)"
      ]
     },
     "execution_count": 30,
     "metadata": {},
     "output_type": "execute_result"
    }
   ],
   "source": [
    "gridcv.fit(X_train, y_train, early_stopping_rounds=30, eval_metric=\"f1\",\n",
    "           eval_set=[(X_train, y_train), (X_test, y_test)])"
   ]
  },
  {
   "cell_type": "code",
   "execution_count": 31,
   "metadata": {},
   "outputs": [
    {
     "data": {
      "text/plain": [
       "LGBMClassifier(max_depth=16, min_child_samples=60, n_estimators=300,\n",
       "               num_leaves=16, subsample=0.2)"
      ]
     },
     "execution_count": 31,
     "metadata": {},
     "output_type": "execute_result"
    }
   ],
   "source": [
    "gridcv.best_estimator_"
   ]
  },
  {
   "cell_type": "code",
   "execution_count": 32,
   "metadata": {},
   "outputs": [],
   "source": [
    "lgbm_clf_best = LGBMClassifier(max_depth=16, min_child_samples=60, n_estimators=300,\n",
    "               num_leaves=16, subsample=0.2)"
   ]
  },
  {
   "cell_type": "code",
   "execution_count": 33,
   "metadata": {},
   "outputs": [
    {
     "data": {
      "text/plain": [
       "LGBMClassifier(max_depth=16, min_child_samples=60, n_estimators=300,\n",
       "               num_leaves=16, subsample=0.2)"
      ]
     },
     "execution_count": 33,
     "metadata": {},
     "output_type": "execute_result"
    }
   ],
   "source": [
    "lgbm_clf_best.fit(X_train, y_train)"
   ]
  },
  {
   "cell_type": "code",
   "execution_count": 34,
   "metadata": {},
   "outputs": [
    {
     "name": "stdout",
     "output_type": "stream",
     "text": [
      "pred_proba()결과 Shape : (4521, 2)\n",
      "pred_proba array에서 앞 3개만 샘플로 추출 \n",
      ": [[0.72048272 0.27951728]\n",
      " [0.23623829 0.76376171]\n",
      " [0.74302844 0.25697156]]\n",
      "두개의 class 중에서 더 큰 확률을 클래스 값으로 예측 \n",
      " [[0.72048272 0.27951728 0.72048272 0.27951728]\n",
      " [0.23623829 0.76376171 0.23623829 0.76376171]\n",
      " [0.74302844 0.25697156 0.74302844 0.25697156]]\n"
     ]
    }
   ],
   "source": [
    "##\n",
    "\n",
    "pred_proba = lgbm_clf_best.predict_proba(X_test)\n",
    "pred  = lgbm_clf_best.predict_proba(X_test)\n",
    "print('pred_proba()결과 Shape : {0}'.format(pred_proba.shape))\n",
    "print('pred_proba array에서 앞 3개만 샘플로 추출 \\n:', pred_proba[:3])\n",
    "\n",
    "# 예측 확률 array 와 예측 결과값 array 를 concatenate 하여 예측 확률과 결과값을 한눈에 확인\n",
    "pred_proba_result = np.concatenate([pred_proba , pred.reshape(-1,2)],axis=1)\n",
    "print('두개의 class 중에서 더 큰 확률을 클래스 값으로 예측 \\n',pred_proba_result[:3])\n"
   ]
  },
  {
   "cell_type": "code",
   "execution_count": 35,
   "metadata": {},
   "outputs": [
    {
     "name": "stdout",
     "output_type": "stream",
     "text": [
      "오차 행렬\n",
      "[[3654  330]\n",
      " [ 280  257]]\n",
      "정확도: 0.8651, 정밀도: 0.4378, 재현율: 0.4786, F1_score:  0.478585\n"
     ]
    }
   ],
   "source": [
    "from sklearn.preprocessing import Binarizer\n",
    "\n",
    "#Binarizer의 threshold 설정값. 분류 결정 임곗값임.  \n",
    "custom_threshold = 0.5\n",
    "\n",
    "# predict_proba( ) 반환값의 두번째 컬럼 , 즉 Positive 클래스 컬럼 하나만 추출하여 Binarizer를 적용\n",
    "pred_proba_1 = pred_proba[:,1].reshape(-1,1)\n",
    "\n",
    "binarizer = Binarizer(threshold=custom_threshold).fit(pred_proba_1) \n",
    "custom_predict = binarizer.transform(pred_proba_1)\n",
    "\n",
    "get_clf_eval(y_test, custom_predict)"
   ]
  },
  {
   "cell_type": "code",
   "execution_count": 36,
   "metadata": {},
   "outputs": [],
   "source": [
    "from sklearn.metrics import precision_recall_curve\n",
    "\n",
    "# 레이블 값이 1일때의 예측 확률을 추출 \n",
    "pred_proba_class1 = lgbm_clf_best.predict_proba(X_test)[:, 1] \n"
   ]
  },
  {
   "cell_type": "code",
   "execution_count": 37,
   "metadata": {},
   "outputs": [
    {
     "data": {
      "image/png": "[encoded data removed]",
      "text/plain": [
       "<Figure size 576x432 with 1 Axes>"
      ]
     },
     "metadata": {
      "needs_background": "light"
     },
     "output_type": "display_data"
    }
   ],
   "source": [
    "import matplotlib.pyplot as plt\n",
    "import matplotlib.ticker as ticker\n",
    "%matplotlib inline\n",
    "\n",
    "def precision_recall_curve_plot(y_test, pred_proba_c1):\n",
    "    # threshold ndarray와 이 threshold에 따른 정밀도, 재현율 ndarray 추출. \n",
    "    precisions, recalls, thresholds = precision_recall_curve( y_test, pred_proba_c1)\n",
    "    \n",
    "    # X축을 threshold값으로, Y축은 정밀도, 재현율 값으로 각각 Plot 수행. 정밀도는 점선으로 표시\n",
    "    plt.figure(figsize=(8,6))\n",
    "    threshold_boundary = thresholds.shape[0]\n",
    "    plt.plot(thresholds, precisions[0:threshold_boundary], linestyle='--', label='precision')\n",
    "    plt.plot(thresholds, recalls[0:threshold_boundary],label='recall')\n",
    "    \n",
    "    # threshold 값 X 축의 Scale을 0.1 단위로 변경\n",
    "    start, end = plt.xlim()\n",
    "    plt.xticks(np.round(np.arange(start, end, 0.1),2))\n",
    "    \n",
    "    # x축, y축 label과 legend, 그리고 grid 설정\n",
    "    plt.xlabel('Threshold value'); plt.ylabel('Precision and Recall value')\n",
    "    plt.legend(); plt.grid()\n",
    "    plt.show()\n",
    "    \n",
    "precision_recall_curve_plot(y_test, lgbm_clf_best.predict_proba(X_test)[:, 1] )\n"
   ]
  },
  {
   "cell_type": "code",
   "execution_count": 38,
   "metadata": {},
   "outputs": [
    {
     "data": {
      "text/plain": [
       "(0.495, 0.4576)"
      ]
     },
     "execution_count": 38,
     "metadata": {},
     "output_type": "execute_result"
    }
   ],
   "source": [
    "def Find_threshold(model, X_test, y_test):\n",
    "    thresholds = np.arange(0,1,0.05)\n",
    "    threshold_count = []\n",
    "    pred_proba=model.predict_proba(X_test)\n",
    "    pred_proba_1 = pred_proba[:,1].reshape(-1,1)\n",
    "    for threshold in thresholds:\n",
    "        binarizer = Binarizer(threshold=threshold)\n",
    "        model_cl_pred = binarizer.transform(pred_proba_1)\n",
    "        threshold_count.append([threshold, metrics.f1_score(model_cl_pred, y_test)])\n",
    "\n",
    "    MAX=thresholds[np.array(threshold_count)[:,1].argmax()]\n",
    "    \n",
    "    thresholds = np.arange(MAX-0.05,MAX+0.05,0.005)\n",
    "    threshold_count = []\n",
    "    for threshold in thresholds:\n",
    "        binarizer = Binarizer(threshold=threshold)\n",
    "        model_cl_pred = binarizer.transform(pred_proba_1)\n",
    "        #threshold_count.append([threshold, metrics.f1_score(log_cl_pred, y_test)])\n",
    "        #print('threshold: {0:.4f}, f1_score: {1:.4f}'.format(threshold,metrics.f1_score(model_cl_pred, y_test)))\n",
    "        threshold_count.append([threshold, metrics.f1_score(model_cl_pred, y_test)])\n",
    "    \n",
    "    return np.round(thresholds[np.array(threshold_count)[:,1].argmax()],4), np.round(metrics.f1_score(Binarizer(threshold=thresholds[np.array(threshold_count)[:,1].argmax()]).transform(pred_proba_1), y_test),4)\n",
    "\n",
    "Find_threshold(lgbm_clf_best, X_test, y_test)"
   ]
  },
  {
   "cell_type": "code",
   "execution_count": 39,
   "metadata": {},
   "outputs": [
    {
     "name": "stdout",
     "output_type": "stream",
     "text": [
      "오차 행렬\n",
      "[[3648  336]\n",
      " [ 278  259]]\n",
      "정확도: 0.8642, 정밀도: 0.4353, 재현율: 0.4823, F1_score:  0.482309\n"
     ]
    }
   ],
   "source": [
    "# Binarizer의 베스트 threshold 설정값 지정 \n",
    "\n",
    "custom_threshold = 0.495\n",
    "pred_proba_1 = pred_proba[:,1].reshape(-1,1)\n",
    "binarizer = Binarizer(threshold=custom_threshold).fit(pred_proba_1) \n",
    "custom_predict = binarizer.transform(pred_proba_1)\n",
    "\n",
    "get_clf_eval(y_test , custom_predict)"
   ]
  },
  {
   "cell_type": "code",
   "execution_count": 40,
   "metadata": {},
   "outputs": [],
   "source": [
    "test = pd.read_csv('./test_dummies.csv')\n",
    "pred_proba_1 = lgbm_clf_best.predict_proba(test)\n",
    "binarizer_pred = Binarizer(threshold=0.495).transform(pred_proba_1[:,1].reshape(-1,1)) \n",
    "binarizer_pred = binarizer_pred.reshape(-1,)\n",
    "submit = pd.read_csv('./sample_submission.csv')\n",
    "submit['y'] = binarizer_pred\n",
    "submit['y'] = submit.y.astype('bool')\n",
    "submit.to_csv('./under_cnn_0.495_grid.csv', index = False)"
   ]
  },
  {
   "cell_type": "markdown",
   "metadata": {},
   "source": [
    "# RandomizedGridsearch"
   ]
  },
  {
   "cell_type": "code",
   "execution_count": 41,
   "metadata": {},
   "outputs": [
    {
     "name": "stdout",
     "output_type": "stream",
     "text": [
      "{'n_estimators': [100, 311, 522, 733, 944, 1155, 1366, 1577, 1788, 2000], 'max_features': ['auto', 'sqrt'], 'max_depth': [10, 20, 30, 40, 50, 60, 70, 80, 90, 100, 110, None], 'min_samples_split': [1, 2, 3, 4, 5, 6, 7, 8, 9, 10], 'min_samples_leaf': [1, 2, 3, 4, 5, 6, 7, 8, 9, 10], 'bootstrap': [True, False]}\n"
     ]
    }
   ],
   "source": [
    "from sklearn.model_selection import RandomizedSearchCV\n",
    "\n",
    "# Number of trees in random forest\n",
    "\n",
    "n_estimators = [int(x) for x in np.linspace(start = 100, stop = 2000, num = 10)]\n",
    "\n",
    "# Number of features to consider at every split\n",
    "\n",
    "max_features = ['auto', 'sqrt']\n",
    "\n",
    "# Maximum number of levels in tree\n",
    "\n",
    "max_depth = [int(x) for x in np.linspace(10, 110, num = 11)]\n",
    "\n",
    "max_depth.append(None)\n",
    "\n",
    "# Minimum number of samples required to split a node\n",
    "\n",
    "min_samples_split = [1,2,3,4,5,6,7,8,9,10]\n",
    "\n",
    "# Minimum number of samples required at each leaf node\n",
    "\n",
    "min_samples_leaf = [1, 2, 3, 4, 5, 6, 7, 8, 9, 10]\n",
    "\n",
    "# Method of selecting samples for training each tree\n",
    "\n",
    "bootstrap = [True, False]\n",
    "\n",
    "# Create the random grid\n",
    "\n",
    "random_grid = {'n_estimators': n_estimators,\n",
    "               'max_features': max_features,\n",
    "               'max_depth': max_depth,\n",
    "               'min_samples_split': min_samples_split,\n",
    "               'min_samples_leaf': min_samples_leaf,\n",
    "               'bootstrap': bootstrap}\n",
    "\n",
    "print(random_grid)\n",
    "\n",
    "# {'bootstrap': [True, False],\n",
    "#  'max_depth': [10, 20, 30, 40, 50, 60, 70, 80, 90, 100, None],\n",
    "#  'max_features': ['auto', 'sqrt'],\n",
    "#  'min_samples_leaf': [1, 2, 4],\n",
    "#  'min_samples_split': [2, 5, 10],\n",
    "#  'n_estimators': [200, 400, 600, 800, 1000, 1200, 1400, 1600, 1800, 2000]}"
   ]
  },
  {
   "cell_type": "code",
   "execution_count": 42,
   "metadata": {},
   "outputs": [
    {
     "name": "stdout",
     "output_type": "stream",
     "text": [
      "Fitting 3 folds for each of 100 candidates, totalling 300 fits\n"
     ]
    },
    {
     "name": "stderr",
     "output_type": "stream",
     "text": [
      "[Parallel(n_jobs=-1)]: Using backend LokyBackend with 8 concurrent workers.\n",
      "[Parallel(n_jobs=-1)]: Done  25 tasks      | elapsed:   17.9s\n",
      "[Parallel(n_jobs=-1)]: Done 146 tasks      | elapsed:  1.1min\n",
      "[Parallel(n_jobs=-1)]: Done 300 out of 300 | elapsed:  2.1min finished\n"
     ]
    },
    {
     "name": "stdout",
     "output_type": "stream",
     "text": [
      "LGBMClassifier(bootstrap=False, max_depth=40, max_features='sqrt',\n",
      "               min_samples_leaf=6, min_samples_split=9)\n"
     ]
    }
   ],
   "source": [
    "# Use the random grid to search for best hyperparameters\n",
    "# First create the base model to tune\n",
    "\n",
    "lg_cl = LGBMClassifier()\n",
    "\n",
    "# Random search of parameters, using 3 fold cross validation, \n",
    "# search across 100 different combinations, and use all available cores\n",
    "\n",
    "lg_random = RandomizedSearchCV(estimator = lg_cl, param_distributions = random_grid, n_iter = 100, cv = 3, verbose=2, n_jobs = -1)\n",
    "\n",
    "# Fit the random search model\n",
    "\n",
    "lg_random.fit(X_train, y_train)\n",
    "print(lg_random.best_estimator_)"
   ]
  },
  {
   "cell_type": "code",
   "execution_count": 43,
   "metadata": {},
   "outputs": [],
   "source": [
    "lgb_random_best = LGBMClassifier(bootstrap=False, max_depth=40, max_features='sqrt',\n",
    "               min_samples_leaf=6, min_samples_split=9)"
   ]
  },
  {
   "cell_type": "code",
   "execution_count": 44,
   "metadata": {},
   "outputs": [
    {
     "data": {
      "text/plain": [
       "LGBMClassifier(bootstrap=False, max_depth=40, max_features='sqrt',\n",
       "               min_samples_leaf=6, min_samples_split=9)"
      ]
     },
     "execution_count": 44,
     "metadata": {},
     "output_type": "execute_result"
    }
   ],
   "source": [
    "lgb_random_best.fit(X_train, y_train)"
   ]
  },
  {
   "cell_type": "code",
   "execution_count": 45,
   "metadata": {},
   "outputs": [
    {
     "name": "stdout",
     "output_type": "stream",
     "text": [
      "pred_proba()결과 Shape : (4521, 2)\n",
      "pred_proba array에서 앞 3개만 샘플로 추출 \n",
      ": [[0.6299729  0.3700271 ]\n",
      " [0.34303257 0.65696743]\n",
      " [0.85921016 0.14078984]]\n",
      "두개의 class 중에서 더 큰 확률을 클래스 값으로 예측 \n",
      " [[0.6299729  0.3700271  0.6299729  0.3700271 ]\n",
      " [0.34303257 0.65696743 0.34303257 0.65696743]\n",
      " [0.85921016 0.14078984 0.85921016 0.14078984]]\n"
     ]
    }
   ],
   "source": [
    "## 1 ##\n",
    "\n",
    "pred_proba = lgb_random_best.predict_proba(X_test)\n",
    "pred  = lgb_random_best.predict_proba(X_test)\n",
    "print('pred_proba()결과 Shape : {0}'.format(pred_proba.shape))\n",
    "print('pred_proba array에서 앞 3개만 샘플로 추출 \\n:', pred_proba[:3])\n",
    "\n",
    "# 예측 확률 array 와 예측 결과값 array 를 concatenate 하여 예측 확률과 결과값을 한눈에 확인\n",
    "pred_proba_result = np.concatenate([pred_proba , pred.reshape(-1,2)],axis=1)\n",
    "print('두개의 class 중에서 더 큰 확률을 클래스 값으로 예측 \\n',pred_proba_result[:3])\n"
   ]
  },
  {
   "cell_type": "code",
   "execution_count": 46,
   "metadata": {},
   "outputs": [
    {
     "name": "stdout",
     "output_type": "stream",
     "text": [
      "오차 행렬\n",
      "[[3669  315]\n",
      " [ 287  250]]\n",
      "정확도: 0.8668, 정밀도: 0.4425, 재현율: 0.4655, F1_score:  0.465549\n"
     ]
    }
   ],
   "source": [
    "## 2\n",
    "\n",
    "from sklearn.preprocessing import Binarizer\n",
    "\n",
    "#Binarizer의 threshold 설정값. 분류 결정 임곗값임.  \n",
    "custom_threshold = 0.5\n",
    "\n",
    "# predict_proba( ) 반환값의 두번째 컬럼 , 즉 Positive 클래스 컬럼 하나만 추출하여 Binarizer를 적용\n",
    "pred_proba_1 = pred_proba[:,1].reshape(-1,1)\n",
    "\n",
    "binarizer = Binarizer(threshold=custom_threshold).fit(pred_proba_1) \n",
    "custom_predict = binarizer.transform(pred_proba_1)\n",
    "\n",
    "get_clf_eval(y_test, custom_predict)"
   ]
  },
  {
   "cell_type": "code",
   "execution_count": 47,
   "metadata": {},
   "outputs": [],
   "source": [
    "from sklearn.metrics import precision_recall_curve\n",
    "\n",
    "# 레이블 값이 1일때의 예측 확률을 추출 \n",
    "pred_proba_class1 = lgb_random_best.predict_proba(X_test)[:, 1] ###"
   ]
  },
  {
   "cell_type": "code",
   "execution_count": 48,
   "metadata": {},
   "outputs": [
    {
     "data": {
      "image/png": "[encoded data removed]",
      "text/plain": [
       "<Figure size 576x432 with 1 Axes>"
      ]
     },
     "metadata": {
      "needs_background": "light"
     },
     "output_type": "display_data"
    }
   ],
   "source": [
    "import matplotlib.pyplot as plt\n",
    "import matplotlib.ticker as ticker\n",
    "%matplotlib inline\n",
    "\n",
    "def precision_recall_curve_plot(y_test, pred_proba_c1):\n",
    "    # threshold ndarray와 이 threshold에 따른 정밀도, 재현율 ndarray 추출. \n",
    "    precisions, recalls, thresholds = precision_recall_curve( y_test, pred_proba_c1)\n",
    "    \n",
    "    # X축을 threshold값으로, Y축은 정밀도, 재현율 값으로 각각 Plot 수행. 정밀도는 점선으로 표시\n",
    "    plt.figure(figsize=(8,6))\n",
    "    threshold_boundary = thresholds.shape[0]\n",
    "    plt.plot(thresholds, precisions[0:threshold_boundary], linestyle='--', label='precision')\n",
    "    plt.plot(thresholds, recalls[0:threshold_boundary],label='recall')\n",
    "    \n",
    "    # threshold 값 X 축의 Scale을 0.1 단위로 변경\n",
    "    start, end = plt.xlim()\n",
    "    plt.xticks(np.round(np.arange(start, end, 0.1),2))\n",
    "    \n",
    "    # x축, y축 label과 legend, 그리고 grid 설정\n",
    "    plt.xlabel('Threshold value'); plt.ylabel('Precision and Recall value')\n",
    "    plt.legend(); plt.grid()\n",
    "    plt.show()\n",
    "    \n",
    "precision_recall_curve_plot(y_test, lgb_random_best.predict_proba(X_test)[:, 1]) ##\n"
   ]
  },
  {
   "cell_type": "code",
   "execution_count": 49,
   "metadata": {},
   "outputs": [
    {
     "data": {
      "text/plain": [
       "(0.41, 0.4664)"
      ]
     },
     "execution_count": 49,
     "metadata": {},
     "output_type": "execute_result"
    }
   ],
   "source": [
    "def Find_threshold(model, X_test, y_test):\n",
    "    thresholds = np.arange(0,1,0.05)\n",
    "    threshold_count = []\n",
    "    pred_proba=model.predict_proba(X_test)\n",
    "    pred_proba_1 = pred_proba[:,1].reshape(-1,1)\n",
    "    for threshold in thresholds:\n",
    "        binarizer = Binarizer(threshold=threshold)\n",
    "        model_cl_pred = binarizer.transform(pred_proba_1)\n",
    "        threshold_count.append([threshold, metrics.f1_score(model_cl_pred, y_test)])\n",
    "\n",
    "    MAX=thresholds[np.array(threshold_count)[:,1].argmax()]\n",
    "    \n",
    "    thresholds = np.arange(MAX-0.05,MAX+0.05,0.005)\n",
    "    threshold_count = []\n",
    "    for threshold in thresholds:\n",
    "        binarizer = Binarizer(threshold=threshold)\n",
    "        model_cl_pred = binarizer.transform(pred_proba_1)\n",
    "        #threshold_count.append([threshold, metrics.f1_score(log_cl_pred, y_test)])\n",
    "        #print('threshold: {0:.4f}, f1_score: {1:.4f}'.format(threshold,metrics.f1_score(model_cl_pred, y_test)))\n",
    "        threshold_count.append([threshold, metrics.f1_score(model_cl_pred, y_test)])\n",
    "    \n",
    "    return np.round(thresholds[np.array(threshold_count)[:,1].argmax()],4), np.round(metrics.f1_score(Binarizer(threshold=thresholds[np.array(threshold_count)[:,1].argmax()]).transform(pred_proba_1), y_test),4)\n",
    "\n",
    "Find_threshold(lgb_random_best, X_test, y_test)"
   ]
  },
  {
   "cell_type": "code",
   "execution_count": null,
   "metadata": {},
   "outputs": [],
   "source": [
    "# Binarizer의 베스트 threshold 설정값 지정 \n",
    "\n",
    "custom_threshold = 0.41\n",
    "pred_proba_1 = pred_proba[:,1].reshape(-1,1)\n",
    "binarizer = Binarizer(threshold=custom_threshold).fit(pred_proba_1) \n",
    "custom_predict = binarizer.transform(pred_proba_1)\n",
    "\n",
    "get_clf_eval(y_test , custom_predict)"
   ]
  },
  {
   "cell_type": "code",
   "execution_count": 50,
   "metadata": {},
   "outputs": [],
   "source": [
    "test = pd.read_csv('./test_dummies.csv')\n",
    "pred_proba_1 = lgb_random_best.predict_proba(test)\n",
    "binarizer_pred = Binarizer(threshold=0.41).transform(pred_proba_1[:,1].reshape(-1,1)) \n",
    "binarizer_pred = binarizer_pred.reshape(-1,)\n",
    "submit = pd.read_csv('./sample_submission.csv')\n",
    "submit['y'] = binarizer_pred\n",
    "submit['y'] = submit.y.astype('bool')\n",
    "submit.to_csv('./under_cnn_0.41_randomgrid.csv', index = False)"
   ]
  },
  {
   "cell_type": "code",
   "execution_count": null,
   "metadata": {},
   "outputs": [],
   "source": []
  },
  {
   "cell_type": "markdown",
   "metadata": {},
   "source": [
    "## BaysianOptimization"
   ]
  },
  {
   "cell_type": "code",
   "execution_count": 54,
   "metadata": {},
   "outputs": [],
   "source": [
    "bayes_params = {\n",
    "    'num_leaves': (24, 45),\n",
    "    'colsample_bytree':(0.5, 1), \n",
    "    'subsample': (0.5, 1),\n",
    "    'max_depth': (4, 12),\n",
    "    'reg_alpha': (0, 0.5),\n",
    "    'reg_lambda': (0, 0.5), \n",
    "    'min_split_gain': (0.001, 0.1),\n",
    "    'min_child_weight':(5, 50)\n",
    "}"
   ]
  },
  {
   "cell_type": "code",
   "execution_count": 55,
   "metadata": {},
   "outputs": [],
   "source": [
    "from lightgbm import LGBMClassifier\n",
    "from sklearn.metrics import roc_auc_score\n",
    "\n",
    "def lgb_roc_eval(num_leaves, colsample_bytree, subsample, max_depth, reg_alpha, reg_lambda, min_split_gain, min_child_weight):\n",
    "    \n",
    "    params = {\n",
    "        \"n_estimator\":200,\n",
    "        \"learning_rate\":0.02,\n",
    "        'num_leaves': int(round(num_leaves)),\n",
    "        'colsample_bytree': colsample_bytree, \n",
    "        'subsample': subsample,\n",
    "        'max_depth': int(round(max_depth)),\n",
    "        'reg_alpha': reg_alpha,\n",
    "        'reg_lambda': reg_lambda, \n",
    "        'min_split_gain': min_split_gain,\n",
    "        'min_child_weight': min_child_weight,\n",
    "        'verbosity': -1\n",
    "    }\n",
    "    print(\"params:\", params)\n",
    "    lgb_model = LGBMClassifier(**params)\n",
    "    lgb_model.fit(X_train, y_train, eval_set=[(X_test, y_test)], early_stopping_rounds=30, eval_metric=\"auc\", verbose=100 )\n",
    "    best_iter = lgb_model.best_iteration_\n",
    "    print('best_iter:', best_iter)\n",
    "    valid_proba = lgb_model.predict_proba(X_test, num_iteration=best_iter)[:, 1]\n",
    "    roc_preds = roc_auc_score(y_test, valid_proba)\n",
    "    print('roc_auc:', roc_preds)\n",
    "    return roc_preds\n",
    "    \n",
    "    "
   ]
  },
  {
   "cell_type": "code",
   "execution_count": 56,
   "metadata": {},
   "outputs": [],
   "source": [
    "from bayes_opt import BayesianOptimization\n",
    "\n",
    "BO_lgb = BayesianOptimization(lgb_roc_eval, bayes_params, random_state=0)\n"
   ]
  },
  {
   "cell_type": "code",
   "execution_count": 57,
   "metadata": {},
   "outputs": [
    {
     "name": "stdout",
     "output_type": "stream",
     "text": [
      "|   iter    |  target   | colsam... | max_depth | min_ch... | min_sp... | num_le... | reg_alpha | reg_la... | subsample |\n",
      "-------------------------------------------------------------------------------------------------------------------------\n",
      "params: {'n_estimator': 200, 'learning_rate': 0.02, 'num_leaves': 33, 'colsample_bytree': 0.7744067519636624, 'subsample': 0.9458865003910399, 'max_depth': 10, 'reg_alpha': 0.32294705653332806, 'reg_lambda': 0.21879360563134626, 'min_split_gain': 0.05494343511669279, 'min_child_weight': 32.12435192322397, 'verbosity': -1}\n",
      "Training until validation scores don't improve for 30 rounds\n",
      "[100]\tvalid_0's auc: 0.773459\tvalid_0's binary_logloss: 0.407508\n",
      "Did not meet early stopping. Best iteration is:\n",
      "[98]\tvalid_0's auc: 0.773493\tvalid_0's binary_logloss: 0.407862\n",
      "best_iter: 98\n",
      "roc_auc: 0.7734934150007852\n",
      "| \u001b[0m 1       \u001b[0m | \u001b[0m 0.7735  \u001b[0m | \u001b[0m 0.7744  \u001b[0m | \u001b[0m 9.722   \u001b[0m | \u001b[0m 32.12   \u001b[0m | \u001b[0m 0.05494 \u001b[0m | \u001b[0m 32.9    \u001b[0m | \u001b[0m 0.3229  \u001b[0m | \u001b[0m 0.2188  \u001b[0m | \u001b[0m 0.9459  \u001b[0m |\n",
      "params: {'n_estimator': 200, 'learning_rate': 0.02, 'num_leaves': 36, 'colsample_bytree': 0.9818313802505146, 'subsample': 0.5435646498507704, 'max_depth': 7, 'reg_alpha': 0.4627983191463305, 'reg_lambda': 0.03551802909894347, 'min_split_gain': 0.05336059705553755, 'min_child_weight': 40.627626713719906, 'verbosity': -1}\n",
      "Training until validation scores don't improve for 30 rounds\n",
      "[100]\tvalid_0's auc: 0.761231\tvalid_0's binary_logloss: 0.412683\n",
      "Did not meet early stopping. Best iteration is:\n",
      "[100]\tvalid_0's auc: 0.761231\tvalid_0's binary_logloss: 0.412683\n",
      "best_iter: 100\n",
      "roc_auc: 0.7612309106070465\n",
      "| \u001b[0m 2       \u001b[0m | \u001b[0m 0.7612  \u001b[0m | \u001b[0m 0.9818  \u001b[0m | \u001b[0m 7.068   \u001b[0m | \u001b[0m 40.63   \u001b[0m | \u001b[0m 0.05336 \u001b[0m | \u001b[0m 35.93   \u001b[0m | \u001b[0m 0.4628  \u001b[0m | \u001b[0m 0.03552 \u001b[0m | \u001b[0m 0.5436  \u001b[0m |\n",
      "params: {'n_estimator': 200, 'learning_rate': 0.02, 'num_leaves': 45, 'colsample_bytree': 0.5101091987201629, 'subsample': 0.8902645881432277, 'max_depth': 11, 'reg_alpha': 0.3995792821083618, 'reg_lambda': 0.23073968112646592, 'min_split_gain': 0.08713120267643511, 'min_child_weight': 40.01705379274327, 'verbosity': -1}\n",
      "Training until validation scores don't improve for 30 rounds\n",
      "[100]\tvalid_0's auc: 0.773889\tvalid_0's binary_logloss: 0.413128\n",
      "Did not meet early stopping. Best iteration is:\n",
      "[82]\tvalid_0's auc: 0.774176\tvalid_0's binary_logloss: 0.418861\n",
      "best_iter: 82\n",
      "roc_auc: 0.7741763141953288\n",
      "| \u001b[95m 3       \u001b[0m | \u001b[95m 0.7742  \u001b[0m | \u001b[95m 0.5101  \u001b[0m | \u001b[95m 10.66   \u001b[0m | \u001b[95m 40.02   \u001b[0m | \u001b[95m 0.08713 \u001b[0m | \u001b[95m 44.55   \u001b[0m | \u001b[95m 0.3996  \u001b[0m | \u001b[95m 0.2307  \u001b[0m | \u001b[95m 0.8903  \u001b[0m |\n",
      "params: {'n_estimator': 200, 'learning_rate': 0.02, 'num_leaves': 35, 'colsample_bytree': 0.5591372129344666, 'subsample': 0.8871168447171083, 'max_depth': 9, 'reg_alpha': 0.2073309699952618, 'reg_lambda': 0.13227780605231348, 'min_split_gain': 0.09452222278790881, 'min_child_weight': 11.450897933407088, 'verbosity': -1}\n",
      "Training until validation scores don't improve for 30 rounds\n",
      "[100]\tvalid_0's auc: 0.785467\tvalid_0's binary_logloss: 0.404814\n",
      "Did not meet early stopping. Best iteration is:\n",
      "[98]\tvalid_0's auc: 0.78561\tvalid_0's binary_logloss: 0.405186\n",
      "best_iter: 98\n",
      "roc_auc: 0.7856100846589336\n",
      "| \u001b[95m 4       \u001b[0m | \u001b[95m 0.7856  \u001b[0m | \u001b[95m 0.5591  \u001b[0m | \u001b[95m 9.119   \u001b[0m | \u001b[95m 11.45   \u001b[0m | \u001b[95m 0.09452 \u001b[0m | \u001b[95m 34.96   \u001b[0m | \u001b[95m 0.2073  \u001b[0m | \u001b[95m 0.1323  \u001b[0m | \u001b[95m 0.8871  \u001b[0m |\n",
      "params: {'n_estimator': 200, 'learning_rate': 0.02, 'num_leaves': 37, 'colsample_bytree': 0.7280751661082743, 'subsample': 0.8409101495517417, 'max_depth': 9, 'reg_alpha': 0.30846699843737846, 'reg_lambda': 0.4718740392573121, 'min_split_gain': 0.062145914210511834, 'min_child_weight': 5.845541019635982, 'verbosity': -1}\n",
      "Training until validation scores don't improve for 30 rounds\n",
      "[100]\tvalid_0's auc: 0.785272\tvalid_0's binary_logloss: 0.399485\n",
      "Did not meet early stopping. Best iteration is:\n",
      "[99]\tvalid_0's auc: 0.785276\tvalid_0's binary_logloss: 0.399765\n",
      "best_iter: 99\n",
      "roc_auc: 0.7852761137660511\n",
      "| \u001b[0m 5       \u001b[0m | \u001b[0m 0.7853  \u001b[0m | \u001b[0m 0.7281  \u001b[0m | \u001b[0m 8.547   \u001b[0m | \u001b[0m 5.846   \u001b[0m | \u001b[0m 0.06215 \u001b[0m | \u001b[0m 36.85   \u001b[0m | \u001b[0m 0.3085  \u001b[0m | \u001b[0m 0.4719  \u001b[0m | \u001b[0m 0.8409  \u001b[0m |\n",
      "params: {'n_estimator': 200, 'learning_rate': 0.02, 'num_leaves': 45, 'colsample_bytree': 1.0, 'subsample': 0.5, 'max_depth': 12, 'reg_alpha': 0.0, 'reg_lambda': 0.02123210343811574, 'min_split_gain': 0.09811583606930532, 'min_child_weight': 12.703459969399296, 'verbosity': -1}\n",
      "Training until validation scores don't improve for 30 rounds\n",
      "[100]\tvalid_0's auc: 0.775986\tvalid_0's binary_logloss: 0.399378\n",
      "Did not meet early stopping. Best iteration is:\n",
      "[100]\tvalid_0's auc: 0.775986\tvalid_0's binary_logloss: 0.399378\n",
      "best_iter: 100\n",
      "roc_auc: 0.7759856932385033\n",
      "| \u001b[0m 6       \u001b[0m | \u001b[0m 0.776   \u001b[0m | \u001b[0m 1.0     \u001b[0m | \u001b[0m 12.0    \u001b[0m | \u001b[0m 12.7    \u001b[0m | \u001b[0m 0.09812 \u001b[0m | \u001b[0m 45.0    \u001b[0m | \u001b[0m 0.0     \u001b[0m | \u001b[0m 0.02123 \u001b[0m | \u001b[0m 0.5     \u001b[0m |\n",
      "params: {'n_estimator': 200, 'learning_rate': 0.02, 'num_leaves': 28, 'colsample_bytree': 0.5350639217026704, 'subsample': 0.9629726341903534, 'max_depth': 6, 'reg_alpha': 0.09451297576653038, 'reg_lambda': 0.41826044483422303, 'min_split_gain': 0.030117158166877152, 'min_child_weight': 6.574782987400286, 'verbosity': -1}\n",
      "Training until validation scores don't improve for 30 rounds\n",
      "[100]\tvalid_0's auc: 0.779019\tvalid_0's binary_logloss: 0.41076\n",
      "Did not meet early stopping. Best iteration is:\n",
      "[98]\tvalid_0's auc: 0.779236\tvalid_0's binary_logloss: 0.411158\n",
      "best_iter: 98\n",
      "roc_auc: 0.7792363588431941\n",
      "| \u001b[0m 7       \u001b[0m | \u001b[0m 0.7792  \u001b[0m | \u001b[0m 0.5351  \u001b[0m | \u001b[0m 5.726   \u001b[0m | \u001b[0m 6.575   \u001b[0m | \u001b[0m 0.03012 \u001b[0m | \u001b[0m 28.0    \u001b[0m | \u001b[0m 0.09451 \u001b[0m | \u001b[0m 0.4183  \u001b[0m | \u001b[0m 0.963   \u001b[0m |\n",
      "params: {'n_estimator': 200, 'learning_rate': 0.02, 'num_leaves': 39, 'colsample_bytree': 0.9714467238406681, 'subsample': 0.9490660812870206, 'max_depth': 4, 'reg_alpha': 0.3069511368314862, 'reg_lambda': 0.14034971579911992, 'min_split_gain': 0.0014000542282160333, 'min_child_weight': 9.589287028647028, 'verbosity': -1}\n",
      "Training until validation scores don't improve for 30 rounds\n",
      "[100]\tvalid_0's auc: 0.747246\tvalid_0's binary_logloss: 0.424648\n",
      "Did not meet early stopping. Best iteration is:\n",
      "[100]\tvalid_0's auc: 0.747246\tvalid_0's binary_logloss: 0.424648\n",
      "best_iter: 100\n",
      "roc_auc: 0.7472464345276824\n",
      "| \u001b[0m 8       \u001b[0m | \u001b[0m 0.7472  \u001b[0m | \u001b[0m 0.9714  \u001b[0m | \u001b[0m 4.002   \u001b[0m | \u001b[0m 9.589   \u001b[0m | \u001b[0m 0.0014  \u001b[0m | \u001b[0m 38.99   \u001b[0m | \u001b[0m 0.307   \u001b[0m | \u001b[0m 0.1403  \u001b[0m | \u001b[0m 0.9491  \u001b[0m |\n",
      "params: {'n_estimator': 200, 'learning_rate': 0.02, 'num_leaves': 31, 'colsample_bytree': 0.8029669550130942, 'subsample': 0.6551903227995404, 'max_depth': 7, 'reg_alpha': 0.320350739464454, 'reg_lambda': 0.123615644828728, 'min_split_gain': 0.09962054308027271, 'min_child_weight': 37.933441258045384, 'verbosity': -1}\n",
      "Training until validation scores don't improve for 30 rounds\n",
      "[100]\tvalid_0's auc: 0.761976\tvalid_0's binary_logloss: 0.412445\n",
      "Did not meet early stopping. Best iteration is:\n",
      "[100]\tvalid_0's auc: 0.761976\tvalid_0's binary_logloss: 0.412445\n",
      "best_iter: 100\n",
      "roc_auc: 0.76197644395085\n",
      "| \u001b[0m 9       \u001b[0m | \u001b[0m 0.762   \u001b[0m | \u001b[0m 0.803   \u001b[0m | \u001b[0m 6.702   \u001b[0m | \u001b[0m 37.93   \u001b[0m | \u001b[0m 0.09962 \u001b[0m | \u001b[0m 30.73   \u001b[0m | \u001b[0m 0.3204  \u001b[0m | \u001b[0m 0.1236  \u001b[0m | \u001b[0m 0.6552  \u001b[0m |\n",
      "params: {'n_estimator': 200, 'learning_rate': 0.02, 'num_leaves': 36, 'colsample_bytree': 0.8829527630545442, 'subsample': 0.6283698908213962, 'max_depth': 10, 'reg_alpha': 0.28738981384706735, 'reg_lambda': 0.3612785260617759, 'min_split_gain': 0.012052250396166305, 'min_child_weight': 10.935001919505396, 'verbosity': -1}\n",
      "Training until validation scores don't improve for 30 rounds\n",
      "[100]\tvalid_0's auc: 0.780771\tvalid_0's binary_logloss: 0.398866\n",
      "Did not meet early stopping. Best iteration is:\n",
      "[100]\tvalid_0's auc: 0.780771\tvalid_0's binary_logloss: 0.398866\n",
      "best_iter: 100\n",
      "roc_auc: 0.7807711292095758\n",
      "| \u001b[0m 10      \u001b[0m | \u001b[0m 0.7808  \u001b[0m | \u001b[0m 0.883   \u001b[0m | \u001b[0m 10.13   \u001b[0m | \u001b[0m 10.94   \u001b[0m | \u001b[0m 0.01205 \u001b[0m | \u001b[0m 35.51   \u001b[0m | \u001b[0m 0.2874  \u001b[0m | \u001b[0m 0.3613  \u001b[0m | \u001b[0m 0.6284  \u001b[0m |\n",
      "params: {'n_estimator': 200, 'learning_rate': 0.02, 'num_leaves': 34, 'colsample_bytree': 0.5, 'subsample': 1.0, 'max_depth': 9, 'reg_alpha': 0.14433040630742966, 'reg_lambda': 0.09285266203493213, 'min_split_gain': 0.1, 'min_child_weight': 8.103906133629357, 'verbosity': -1}\n",
      "Training until validation scores don't improve for 30 rounds\n",
      "[100]\tvalid_0's auc: 0.789429\tvalid_0's binary_logloss: 0.404073\n",
      "Did not meet early stopping. Best iteration is:\n",
      "[100]\tvalid_0's auc: 0.789429\tvalid_0's binary_logloss: 0.404073\n",
      "best_iter: 100\n",
      "roc_auc: 0.7894291317972075\n",
      "| \u001b[95m 11      \u001b[0m | \u001b[95m 0.7894  \u001b[0m | \u001b[95m 0.5     \u001b[0m | \u001b[95m 8.552   \u001b[0m | \u001b[95m 8.104   \u001b[0m | \u001b[95m 0.1     \u001b[0m | \u001b[95m 34.15   \u001b[0m | \u001b[95m 0.1443  \u001b[0m | \u001b[95m 0.09285 \u001b[0m | \u001b[95m 1.0     \u001b[0m |\n",
      "params: {'n_estimator': 200, 'learning_rate': 0.02, 'num_leaves': 31, 'colsample_bytree': 0.5, 'subsample': 1.0, 'max_depth': 9, 'reg_alpha': 0.0, 'reg_lambda': 0.0, 'min_split_gain': 0.1, 'min_child_weight': 10.579537156057704, 'verbosity': -1}\n",
      "Training until validation scores don't improve for 30 rounds\n",
      "[100]\tvalid_0's auc: 0.7879\tvalid_0's binary_logloss: 0.404344\n",
      "Did not meet early stopping. Best iteration is:\n",
      "[98]\tvalid_0's auc: 0.788133\tvalid_0's binary_logloss: 0.404685\n",
      "best_iter: 98\n",
      "roc_auc: 0.7881329788427452\n",
      "| \u001b[0m 12      \u001b[0m | \u001b[0m 0.7881  \u001b[0m | \u001b[0m 0.5     \u001b[0m | \u001b[0m 8.791   \u001b[0m | \u001b[0m 10.58   \u001b[0m | \u001b[0m 0.1     \u001b[0m | \u001b[0m 31.06   \u001b[0m | \u001b[0m 0.0     \u001b[0m | \u001b[0m 0.0     \u001b[0m | \u001b[0m 1.0     \u001b[0m |\n",
      "params: {'n_estimator': 200, 'learning_rate': 0.02, 'num_leaves': 33, 'colsample_bytree': 0.5, 'subsample': 1.0, 'max_depth': 11, 'reg_alpha': 0.0, 'reg_lambda': 0.0, 'min_split_gain': 0.1, 'min_child_weight': 5.0, 'verbosity': -1}\n",
      "Training until validation scores don't improve for 30 rounds\n",
      "[100]\tvalid_0's auc: 0.790628\tvalid_0's binary_logloss: 0.402449\n",
      "Did not meet early stopping. Best iteration is:\n",
      "[87]\tvalid_0's auc: 0.791083\tvalid_0's binary_logloss: 0.406359\n",
      "best_iter: 87\n",
      "roc_auc: 0.7910828603052807\n",
      "| \u001b[95m 13      \u001b[0m | \u001b[95m 0.7911  \u001b[0m | \u001b[95m 0.5     \u001b[0m | \u001b[95m 11.13   \u001b[0m | \u001b[95m 5.0     \u001b[0m | \u001b[95m 0.1     \u001b[0m | \u001b[95m 32.52   \u001b[0m | \u001b[95m 0.0     \u001b[0m | \u001b[95m 0.0     \u001b[0m | \u001b[95m 1.0     \u001b[0m |\n",
      "params: {'n_estimator': 200, 'learning_rate': 0.02, 'num_leaves': 32, 'colsample_bytree': 0.5, 'subsample': 1.0, 'max_depth': 9, 'reg_alpha': 0.0, 'reg_lambda': 0.0, 'min_split_gain': 0.1, 'min_child_weight': 16.86644323199829, 'verbosity': -1}\n",
      "Training until validation scores don't improve for 30 rounds\n",
      "[100]\tvalid_0's auc: 0.785039\tvalid_0's binary_logloss: 0.406205\n",
      "Did not meet early stopping. Best iteration is:\n",
      "[96]\tvalid_0's auc: 0.785329\tvalid_0's binary_logloss: 0.407213\n",
      "best_iter: 96\n",
      "roc_auc: 0.7853293995348245\n",
      "| \u001b[0m 14      \u001b[0m | \u001b[0m 0.7853  \u001b[0m | \u001b[0m 0.5     \u001b[0m | \u001b[0m 8.739   \u001b[0m | \u001b[0m 16.87   \u001b[0m | \u001b[0m 0.1     \u001b[0m | \u001b[0m 31.59   \u001b[0m | \u001b[0m 0.0     \u001b[0m | \u001b[0m 0.0     \u001b[0m | \u001b[0m 1.0     \u001b[0m |\n",
      "params: {'n_estimator': 200, 'learning_rate': 0.02, 'num_leaves': 25, 'colsample_bytree': 0.5, 'subsample': 1.0, 'max_depth': 12, 'reg_alpha': 0.5, 'reg_lambda': 0.0, 'min_split_gain': 0.1, 'min_child_weight': 14.882165373506451, 'verbosity': -1}\n",
      "Training until validation scores don't improve for 30 rounds\n",
      "[100]\tvalid_0's auc: 0.787037\tvalid_0's binary_logloss: 0.405866\n",
      "Did not meet early stopping. Best iteration is:\n",
      "[96]\tvalid_0's auc: 0.787229\tvalid_0's binary_logloss: 0.406835\n",
      "best_iter: 96\n",
      "roc_auc: 0.7872287567401823\n",
      "| \u001b[0m 15      \u001b[0m | \u001b[0m 0.7872  \u001b[0m | \u001b[0m 0.5     \u001b[0m | \u001b[0m 12.0    \u001b[0m | \u001b[0m 14.88   \u001b[0m | \u001b[0m 0.1     \u001b[0m | \u001b[0m 25.42   \u001b[0m | \u001b[0m 0.5     \u001b[0m | \u001b[0m 0.0     \u001b[0m | \u001b[0m 1.0     \u001b[0m |\n",
      "=========================================================================================================================\n"
     ]
    }
   ],
   "source": [
    "BO_lgb.maximize(init_points=5, n_iter=10)"
   ]
  },
  {
   "cell_type": "code",
   "execution_count": 58,
   "metadata": {},
   "outputs": [
    {
     "data": {
      "text/plain": [
       "{'target': 0.7910828603052807,\n",
       " 'params': {'colsample_bytree': 0.5,\n",
       "  'max_depth': 11.12679483678059,\n",
       "  'min_child_weight': 5.0,\n",
       "  'min_split_gain': 0.1,\n",
       "  'num_leaves': 32.522642185216355,\n",
       "  'reg_alpha': 0.0,\n",
       "  'reg_lambda': 0.0,\n",
       "  'subsample': 1.0}}"
      ]
     },
     "execution_count": 58,
     "metadata": {},
     "output_type": "execute_result"
    }
   ],
   "source": [
    "BO_lgb.max"
   ]
  },
  {
   "cell_type": "code",
   "execution_count": 59,
   "metadata": {},
   "outputs": [
    {
     "name": "stdout",
     "output_type": "stream",
     "text": [
      "[1]\tvalid_0's auc: 0.693246\tvalid_0's binary_logloss: 0.49416\n",
      "Training until validation scores don't improve for 100 rounds\n",
      "[2]\tvalid_0's auc: 0.704157\tvalid_0's binary_logloss: 0.492731\n",
      "[3]\tvalid_0's auc: 0.713638\tvalid_0's binary_logloss: 0.49078\n",
      "[4]\tvalid_0's auc: 0.725675\tvalid_0's binary_logloss: 0.488828\n",
      "[5]\tvalid_0's auc: 0.732925\tvalid_0's binary_logloss: 0.486777\n",
      "[6]\tvalid_0's auc: 0.736101\tvalid_0's binary_logloss: 0.484953\n",
      "[7]\tvalid_0's auc: 0.737922\tvalid_0's binary_logloss: 0.483194\n",
      "[8]\tvalid_0's auc: 0.755949\tvalid_0's binary_logloss: 0.480851\n",
      "[9]\tvalid_0's auc: 0.762304\tvalid_0's binary_logloss: 0.478356\n",
      "[10]\tvalid_0's auc: 0.764042\tvalid_0's binary_logloss: 0.476744\n",
      "[11]\tvalid_0's auc: 0.768317\tvalid_0's binary_logloss: 0.474271\n",
      "[12]\tvalid_0's auc: 0.767927\tvalid_0's binary_logloss: 0.473187\n",
      "[13]\tvalid_0's auc: 0.769539\tvalid_0's binary_logloss: 0.471151\n",
      "[14]\tvalid_0's auc: 0.774981\tvalid_0's binary_logloss: 0.468984\n",
      "[15]\tvalid_0's auc: 0.774106\tvalid_0's binary_logloss: 0.467718\n",
      "[16]\tvalid_0's auc: 0.777293\tvalid_0's binary_logloss: 0.46575\n",
      "[17]\tvalid_0's auc: 0.77693\tvalid_0's binary_logloss: 0.464265\n",
      "[18]\tvalid_0's auc: 0.777424\tvalid_0's binary_logloss: 0.463034\n",
      "[19]\tvalid_0's auc: 0.777014\tvalid_0's binary_logloss: 0.46211\n",
      "[20]\tvalid_0's auc: 0.778499\tvalid_0's binary_logloss: 0.460497\n",
      "[21]\tvalid_0's auc: 0.778735\tvalid_0's binary_logloss: 0.459358\n",
      "[22]\tvalid_0's auc: 0.779645\tvalid_0's binary_logloss: 0.45757\n",
      "[23]\tvalid_0's auc: 0.780537\tvalid_0's binary_logloss: 0.455714\n",
      "[24]\tvalid_0's auc: 0.780328\tvalid_0's binary_logloss: 0.454418\n",
      "[25]\tvalid_0's auc: 0.781599\tvalid_0's binary_logloss: 0.452535\n",
      "[26]\tvalid_0's auc: 0.783126\tvalid_0's binary_logloss: 0.451197\n",
      "[27]\tvalid_0's auc: 0.78364\tvalid_0's binary_logloss: 0.450042\n",
      "[28]\tvalid_0's auc: 0.784635\tvalid_0's binary_logloss: 0.448492\n",
      "[29]\tvalid_0's auc: 0.784936\tvalid_0's binary_logloss: 0.447379\n",
      "[30]\tvalid_0's auc: 0.784769\tvalid_0's binary_logloss: 0.446634\n",
      "[31]\tvalid_0's auc: 0.784384\tvalid_0's binary_logloss: 0.445907\n",
      "[32]\tvalid_0's auc: 0.78493\tvalid_0's binary_logloss: 0.444506\n",
      "[33]\tvalid_0's auc: 0.785134\tvalid_0's binary_logloss: 0.443282\n",
      "[34]\tvalid_0's auc: 0.785148\tvalid_0's binary_logloss: 0.442199\n",
      "[35]\tvalid_0's auc: 0.784704\tvalid_0's binary_logloss: 0.441262\n",
      "[36]\tvalid_0's auc: 0.785141\tvalid_0's binary_logloss: 0.44012\n",
      "[37]\tvalid_0's auc: 0.785455\tvalid_0's binary_logloss: 0.439382\n",
      "[38]\tvalid_0's auc: 0.785208\tvalid_0's binary_logloss: 0.438537\n",
      "[39]\tvalid_0's auc: 0.784909\tvalid_0's binary_logloss: 0.437892\n",
      "[40]\tvalid_0's auc: 0.78586\tvalid_0's binary_logloss: 0.436462\n",
      "[41]\tvalid_0's auc: 0.787596\tvalid_0's binary_logloss: 0.43498\n",
      "[42]\tvalid_0's auc: 0.788233\tvalid_0's binary_logloss: 0.433886\n",
      "[43]\tvalid_0's auc: 0.788964\tvalid_0's binary_logloss: 0.432603\n",
      "[44]\tvalid_0's auc: 0.78891\tvalid_0's binary_logloss: 0.431906\n",
      "[45]\tvalid_0's auc: 0.788653\tvalid_0's binary_logloss: 0.43116\n",
      "[46]\tvalid_0's auc: 0.788599\tvalid_0's binary_logloss: 0.430422\n",
      "[47]\tvalid_0's auc: 0.788869\tvalid_0's binary_logloss: 0.429615\n",
      "[48]\tvalid_0's auc: 0.789031\tvalid_0's binary_logloss: 0.428454\n",
      "[49]\tvalid_0's auc: 0.789209\tvalid_0's binary_logloss: 0.427427\n",
      "[50]\tvalid_0's auc: 0.789842\tvalid_0's binary_logloss: 0.426194\n",
      "[51]\tvalid_0's auc: 0.789917\tvalid_0's binary_logloss: 0.425377\n",
      "[52]\tvalid_0's auc: 0.789741\tvalid_0's binary_logloss: 0.424512\n",
      "[53]\tvalid_0's auc: 0.789675\tvalid_0's binary_logloss: 0.423994\n",
      "[54]\tvalid_0's auc: 0.790028\tvalid_0's binary_logloss: 0.423164\n",
      "[55]\tvalid_0's auc: 0.79014\tvalid_0's binary_logloss: 0.422656\n",
      "[56]\tvalid_0's auc: 0.78985\tvalid_0's binary_logloss: 0.422181\n",
      "[57]\tvalid_0's auc: 0.789411\tvalid_0's binary_logloss: 0.421862\n",
      "[58]\tvalid_0's auc: 0.789143\tvalid_0's binary_logloss: 0.42113\n",
      "[59]\tvalid_0's auc: 0.788859\tvalid_0's binary_logloss: 0.420591\n",
      "[60]\tvalid_0's auc: 0.789295\tvalid_0's binary_logloss: 0.419568\n",
      "[61]\tvalid_0's auc: 0.78979\tvalid_0's binary_logloss: 0.418659\n",
      "[62]\tvalid_0's auc: 0.789765\tvalid_0's binary_logloss: 0.418333\n",
      "[63]\tvalid_0's auc: 0.789854\tvalid_0's binary_logloss: 0.417824\n",
      "[64]\tvalid_0's auc: 0.789801\tvalid_0's binary_logloss: 0.41726\n",
      "[65]\tvalid_0's auc: 0.789661\tvalid_0's binary_logloss: 0.416833\n",
      "[66]\tvalid_0's auc: 0.789558\tvalid_0's binary_logloss: 0.416406\n",
      "[67]\tvalid_0's auc: 0.789533\tvalid_0's binary_logloss: 0.415999\n",
      "[68]\tvalid_0's auc: 0.789368\tvalid_0's binary_logloss: 0.415679\n",
      "[69]\tvalid_0's auc: 0.789365\tvalid_0's binary_logloss: 0.415324\n",
      "[70]\tvalid_0's auc: 0.789096\tvalid_0's binary_logloss: 0.415037\n",
      "[71]\tvalid_0's auc: 0.789185\tvalid_0's binary_logloss: 0.414505\n",
      "[72]\tvalid_0's auc: 0.789166\tvalid_0's binary_logloss: 0.41386\n",
      "[73]\tvalid_0's auc: 0.789328\tvalid_0's binary_logloss: 0.413374\n",
      "[74]\tvalid_0's auc: 0.789867\tvalid_0's binary_logloss: 0.412438\n",
      "[75]\tvalid_0's auc: 0.790311\tvalid_0's binary_logloss: 0.411722\n",
      "[76]\tvalid_0's auc: 0.790414\tvalid_0's binary_logloss: 0.411211\n",
      "[77]\tvalid_0's auc: 0.790148\tvalid_0's binary_logloss: 0.4109\n",
      "[78]\tvalid_0's auc: 0.790268\tvalid_0's binary_logloss: 0.410338\n",
      "[79]\tvalid_0's auc: 0.790299\tvalid_0's binary_logloss: 0.409966\n",
      "[80]\tvalid_0's auc: 0.790288\tvalid_0's binary_logloss: 0.409503\n",
      "[81]\tvalid_0's auc: 0.790603\tvalid_0's binary_logloss: 0.409065\n",
      "[82]\tvalid_0's auc: 0.790857\tvalid_0's binary_logloss: 0.408314\n",
      "[83]\tvalid_0's auc: 0.790694\tvalid_0's binary_logloss: 0.408121\n",
      "[84]\tvalid_0's auc: 0.790872\tvalid_0's binary_logloss: 0.407555\n",
      "[85]\tvalid_0's auc: 0.790927\tvalid_0's binary_logloss: 0.407135\n",
      "[86]\tvalid_0's auc: 0.791009\tvalid_0's binary_logloss: 0.406647\n",
      "[87]\tvalid_0's auc: 0.791083\tvalid_0's binary_logloss: 0.406359\n",
      "[88]\tvalid_0's auc: 0.79102\tvalid_0's binary_logloss: 0.406076\n",
      "[89]\tvalid_0's auc: 0.791038\tvalid_0's binary_logloss: 0.405864\n",
      "[90]\tvalid_0's auc: 0.79102\tvalid_0's binary_logloss: 0.405482\n",
      "[91]\tvalid_0's auc: 0.790687\tvalid_0's binary_logloss: 0.405368\n",
      "[92]\tvalid_0's auc: 0.790492\tvalid_0's binary_logloss: 0.404989\n",
      "[93]\tvalid_0's auc: 0.790556\tvalid_0's binary_logloss: 0.404553\n",
      "[94]\tvalid_0's auc: 0.790777\tvalid_0's binary_logloss: 0.404273\n",
      "[95]\tvalid_0's auc: 0.790698\tvalid_0's binary_logloss: 0.404\n",
      "[96]\tvalid_0's auc: 0.790807\tvalid_0's binary_logloss: 0.403448\n",
      "[97]\tvalid_0's auc: 0.790631\tvalid_0's binary_logloss: 0.403309\n",
      "[98]\tvalid_0's auc: 0.790686\tvalid_0's binary_logloss: 0.40292\n",
      "[99]\tvalid_0's auc: 0.790503\tvalid_0's binary_logloss: 0.40274\n",
      "[100]\tvalid_0's auc: 0.790628\tvalid_0's binary_logloss: 0.402449\n",
      "[101]\tvalid_0's auc: 0.790331\tvalid_0's binary_logloss: 0.402275\n",
      "[102]\tvalid_0's auc: 0.7906\tvalid_0's binary_logloss: 0.40172\n",
      "[103]\tvalid_0's auc: 0.790759\tvalid_0's binary_logloss: 0.401263\n",
      "[104]\tvalid_0's auc: 0.790921\tvalid_0's binary_logloss: 0.401014\n",
      "[105]\tvalid_0's auc: 0.791092\tvalid_0's binary_logloss: 0.40077\n",
      "[106]\tvalid_0's auc: 0.791165\tvalid_0's binary_logloss: 0.400586\n",
      "[107]\tvalid_0's auc: 0.791225\tvalid_0's binary_logloss: 0.400473\n",
      "[108]\tvalid_0's auc: 0.791138\tvalid_0's binary_logloss: 0.40008\n",
      "[109]\tvalid_0's auc: 0.791297\tvalid_0's binary_logloss: 0.399721\n",
      "[110]\tvalid_0's auc: 0.791434\tvalid_0's binary_logloss: 0.399267\n",
      "[111]\tvalid_0's auc: 0.791591\tvalid_0's binary_logloss: 0.39887\n",
      "[112]\tvalid_0's auc: 0.791661\tvalid_0's binary_logloss: 0.398633\n",
      "[113]\tvalid_0's auc: 0.791589\tvalid_0's binary_logloss: 0.398529\n",
      "[114]\tvalid_0's auc: 0.791644\tvalid_0's binary_logloss: 0.398317\n",
      "[115]\tvalid_0's auc: 0.791818\tvalid_0's binary_logloss: 0.398068\n",
      "[116]\tvalid_0's auc: 0.791883\tvalid_0's binary_logloss: 0.397773\n",
      "[117]\tvalid_0's auc: 0.791736\tvalid_0's binary_logloss: 0.397672\n",
      "[118]\tvalid_0's auc: 0.791756\tvalid_0's binary_logloss: 0.397518\n",
      "[119]\tvalid_0's auc: 0.791895\tvalid_0's binary_logloss: 0.397478\n",
      "[120]\tvalid_0's auc: 0.791749\tvalid_0's binary_logloss: 0.39735\n",
      "[121]\tvalid_0's auc: 0.791842\tvalid_0's binary_logloss: 0.397184\n",
      "[122]\tvalid_0's auc: 0.791667\tvalid_0's binary_logloss: 0.397062\n",
      "[123]\tvalid_0's auc: 0.791498\tvalid_0's binary_logloss: 0.396747\n",
      "[124]\tvalid_0's auc: 0.791519\tvalid_0's binary_logloss: 0.396475\n",
      "[125]\tvalid_0's auc: 0.791419\tvalid_0's binary_logloss: 0.396362\n",
      "[126]\tvalid_0's auc: 0.791574\tvalid_0's binary_logloss: 0.395994\n",
      "[127]\tvalid_0's auc: 0.791702\tvalid_0's binary_logloss: 0.395851\n",
      "[128]\tvalid_0's auc: 0.791737\tvalid_0's binary_logloss: 0.395757\n",
      "[129]\tvalid_0's auc: 0.79174\tvalid_0's binary_logloss: 0.395659\n",
      "[130]\tvalid_0's auc: 0.791573\tvalid_0's binary_logloss: 0.395589\n",
      "[131]\tvalid_0's auc: 0.79169\tvalid_0's binary_logloss: 0.395352\n",
      "[132]\tvalid_0's auc: 0.791543\tvalid_0's binary_logloss: 0.395217\n",
      "[133]\tvalid_0's auc: 0.791588\tvalid_0's binary_logloss: 0.395065\n",
      "[134]\tvalid_0's auc: 0.791625\tvalid_0's binary_logloss: 0.394902\n",
      "[135]\tvalid_0's auc: 0.791466\tvalid_0's binary_logloss: 0.394795\n",
      "[136]\tvalid_0's auc: 0.791476\tvalid_0's binary_logloss: 0.394597\n",
      "[137]\tvalid_0's auc: 0.791679\tvalid_0's binary_logloss: 0.394304\n",
      "[138]\tvalid_0's auc: 0.791706\tvalid_0's binary_logloss: 0.394208\n",
      "[139]\tvalid_0's auc: 0.791464\tvalid_0's binary_logloss: 0.394143\n",
      "[140]\tvalid_0's auc: 0.79148\tvalid_0's binary_logloss: 0.393937\n",
      "[141]\tvalid_0's auc: 0.791518\tvalid_0's binary_logloss: 0.393857\n",
      "[142]\tvalid_0's auc: 0.791261\tvalid_0's binary_logloss: 0.393799\n",
      "[143]\tvalid_0's auc: 0.791322\tvalid_0's binary_logloss: 0.393673\n",
      "[144]\tvalid_0's auc: 0.791289\tvalid_0's binary_logloss: 0.393592\n",
      "[145]\tvalid_0's auc: 0.791249\tvalid_0's binary_logloss: 0.393514\n",
      "[146]\tvalid_0's auc: 0.791533\tvalid_0's binary_logloss: 0.393182\n",
      "[147]\tvalid_0's auc: 0.791521\tvalid_0's binary_logloss: 0.393056\n",
      "[148]\tvalid_0's auc: 0.791653\tvalid_0's binary_logloss: 0.392718\n",
      "[149]\tvalid_0's auc: 0.791683\tvalid_0's binary_logloss: 0.392627\n",
      "[150]\tvalid_0's auc: 0.791609\tvalid_0's binary_logloss: 0.392551\n",
      "[151]\tvalid_0's auc: 0.79151\tvalid_0's binary_logloss: 0.392489\n",
      "[152]\tvalid_0's auc: 0.791455\tvalid_0's binary_logloss: 0.392451\n",
      "[153]\tvalid_0's auc: 0.791568\tvalid_0's binary_logloss: 0.392096\n",
      "[154]\tvalid_0's auc: 0.79178\tvalid_0's binary_logloss: 0.391809\n",
      "[155]\tvalid_0's auc: 0.791635\tvalid_0's binary_logloss: 0.39178\n",
      "[156]\tvalid_0's auc: 0.791738\tvalid_0's binary_logloss: 0.391567\n",
      "[157]\tvalid_0's auc: 0.791852\tvalid_0's binary_logloss: 0.391401\n",
      "[158]\tvalid_0's auc: 0.791941\tvalid_0's binary_logloss: 0.391322\n",
      "[159]\tvalid_0's auc: 0.791874\tvalid_0's binary_logloss: 0.391242\n",
      "[160]\tvalid_0's auc: 0.79173\tvalid_0's binary_logloss: 0.391221\n",
      "[161]\tvalid_0's auc: 0.791707\tvalid_0's binary_logloss: 0.391131\n",
      "[162]\tvalid_0's auc: 0.791842\tvalid_0's binary_logloss: 0.39105\n",
      "[163]\tvalid_0's auc: 0.792063\tvalid_0's binary_logloss: 0.390791\n",
      "[164]\tvalid_0's auc: 0.792032\tvalid_0's binary_logloss: 0.390738\n",
      "[165]\tvalid_0's auc: 0.791961\tvalid_0's binary_logloss: 0.390712\n",
      "[166]\tvalid_0's auc: 0.791939\tvalid_0's binary_logloss: 0.390566\n",
      "[167]\tvalid_0's auc: 0.792101\tvalid_0's binary_logloss: 0.390379\n",
      "[168]\tvalid_0's auc: 0.792058\tvalid_0's binary_logloss: 0.390251\n",
      "[169]\tvalid_0's auc: 0.792224\tvalid_0's binary_logloss: 0.390059\n",
      "[170]\tvalid_0's auc: 0.792391\tvalid_0's binary_logloss: 0.38984\n",
      "[171]\tvalid_0's auc: 0.79229\tvalid_0's binary_logloss: 0.389821\n",
      "[172]\tvalid_0's auc: 0.792056\tvalid_0's binary_logloss: 0.389757\n",
      "[173]\tvalid_0's auc: 0.791834\tvalid_0's binary_logloss: 0.389731\n",
      "[174]\tvalid_0's auc: 0.791908\tvalid_0's binary_logloss: 0.389649\n",
      "[175]\tvalid_0's auc: 0.79201\tvalid_0's binary_logloss: 0.389398\n",
      "[176]\tvalid_0's auc: 0.792087\tvalid_0's binary_logloss: 0.389315\n",
      "[177]\tvalid_0's auc: 0.792029\tvalid_0's binary_logloss: 0.389242\n",
      "[178]\tvalid_0's auc: 0.792234\tvalid_0's binary_logloss: 0.388959\n",
      "[179]\tvalid_0's auc: 0.792334\tvalid_0's binary_logloss: 0.388715\n",
      "[180]\tvalid_0's auc: 0.792391\tvalid_0's binary_logloss: 0.388563\n",
      "[181]\tvalid_0's auc: 0.792364\tvalid_0's binary_logloss: 0.388486\n",
      "[182]\tvalid_0's auc: 0.792321\tvalid_0's binary_logloss: 0.388463\n",
      "[183]\tvalid_0's auc: 0.792295\tvalid_0's binary_logloss: 0.388459\n",
      "[184]\tvalid_0's auc: 0.792211\tvalid_0's binary_logloss: 0.388476\n",
      "[185]\tvalid_0's auc: 0.792171\tvalid_0's binary_logloss: 0.388387\n",
      "[186]\tvalid_0's auc: 0.792255\tvalid_0's binary_logloss: 0.388228\n",
      "[187]\tvalid_0's auc: 0.792073\tvalid_0's binary_logloss: 0.388249\n",
      "[188]\tvalid_0's auc: 0.792109\tvalid_0's binary_logloss: 0.388072\n",
      "[189]\tvalid_0's auc: 0.792111\tvalid_0's binary_logloss: 0.387956\n",
      "[190]\tvalid_0's auc: 0.792283\tvalid_0's binary_logloss: 0.38789\n",
      "[191]\tvalid_0's auc: 0.792308\tvalid_0's binary_logloss: 0.387761\n",
      "[192]\tvalid_0's auc: 0.792434\tvalid_0's binary_logloss: 0.387514\n",
      "[193]\tvalid_0's auc: 0.792329\tvalid_0's binary_logloss: 0.387513\n",
      "[194]\tvalid_0's auc: 0.792374\tvalid_0's binary_logloss: 0.387384\n",
      "[195]\tvalid_0's auc: 0.792411\tvalid_0's binary_logloss: 0.387327\n",
      "[196]\tvalid_0's auc: 0.792483\tvalid_0's binary_logloss: 0.387289\n",
      "[197]\tvalid_0's auc: 0.792465\tvalid_0's binary_logloss: 0.38724\n",
      "[198]\tvalid_0's auc: 0.792482\tvalid_0's binary_logloss: 0.387161\n",
      "[199]\tvalid_0's auc: 0.792315\tvalid_0's binary_logloss: 0.387176\n",
      "[200]\tvalid_0's auc: 0.792401\tvalid_0's binary_logloss: 0.38712\n",
      "[201]\tvalid_0's auc: 0.792562\tvalid_0's binary_logloss: 0.387051\n",
      "[202]\tvalid_0's auc: 0.79256\tvalid_0's binary_logloss: 0.387019\n",
      "[203]\tvalid_0's auc: 0.792679\tvalid_0's binary_logloss: 0.38683\n",
      "[204]\tvalid_0's auc: 0.79254\tvalid_0's binary_logloss: 0.386813\n",
      "[205]\tvalid_0's auc: 0.792553\tvalid_0's binary_logloss: 0.386769\n",
      "[206]\tvalid_0's auc: 0.792509\tvalid_0's binary_logloss: 0.386733\n",
      "[207]\tvalid_0's auc: 0.792526\tvalid_0's binary_logloss: 0.386732\n",
      "[208]\tvalid_0's auc: 0.792478\tvalid_0's binary_logloss: 0.386721\n",
      "[209]\tvalid_0's auc: 0.792526\tvalid_0's binary_logloss: 0.386549\n",
      "[210]\tvalid_0's auc: 0.79259\tvalid_0's binary_logloss: 0.386456\n",
      "[211]\tvalid_0's auc: 0.792678\tvalid_0's binary_logloss: 0.386293\n",
      "[212]\tvalid_0's auc: 0.792685\tvalid_0's binary_logloss: 0.386288\n",
      "[213]\tvalid_0's auc: 0.792657\tvalid_0's binary_logloss: 0.386221\n",
      "[214]\tvalid_0's auc: 0.792644\tvalid_0's binary_logloss: 0.3862\n",
      "[215]\tvalid_0's auc: 0.79272\tvalid_0's binary_logloss: 0.386117\n",
      "[216]\tvalid_0's auc: 0.792906\tvalid_0's binary_logloss: 0.386006\n",
      "[217]\tvalid_0's auc: 0.792944\tvalid_0's binary_logloss: 0.385909\n",
      "[218]\tvalid_0's auc: 0.792934\tvalid_0's binary_logloss: 0.385854\n",
      "[219]\tvalid_0's auc: 0.792965\tvalid_0's binary_logloss: 0.385764\n",
      "[220]\tvalid_0's auc: 0.793026\tvalid_0's binary_logloss: 0.385698\n",
      "[221]\tvalid_0's auc: 0.793085\tvalid_0's binary_logloss: 0.385559\n",
      "[222]\tvalid_0's auc: 0.792982\tvalid_0's binary_logloss: 0.38555\n",
      "[223]\tvalid_0's auc: 0.792992\tvalid_0's binary_logloss: 0.38552\n",
      "[224]\tvalid_0's auc: 0.792903\tvalid_0's binary_logloss: 0.385491\n",
      "[225]\tvalid_0's auc: 0.792915\tvalid_0's binary_logloss: 0.385497\n",
      "[226]\tvalid_0's auc: 0.792826\tvalid_0's binary_logloss: 0.385446\n",
      "[227]\tvalid_0's auc: 0.792889\tvalid_0's binary_logloss: 0.385353\n",
      "[228]\tvalid_0's auc: 0.792905\tvalid_0's binary_logloss: 0.385352\n",
      "[229]\tvalid_0's auc: 0.792985\tvalid_0's binary_logloss: 0.385295\n",
      "[230]\tvalid_0's auc: 0.793033\tvalid_0's binary_logloss: 0.385169\n",
      "[231]\tvalid_0's auc: 0.793028\tvalid_0's binary_logloss: 0.385017\n",
      "[232]\tvalid_0's auc: 0.793025\tvalid_0's binary_logloss: 0.384998\n",
      "[233]\tvalid_0's auc: 0.792973\tvalid_0's binary_logloss: 0.384989\n",
      "[234]\tvalid_0's auc: 0.79284\tvalid_0's binary_logloss: 0.385023\n",
      "[235]\tvalid_0's auc: 0.792883\tvalid_0's binary_logloss: 0.384946\n",
      "[236]\tvalid_0's auc: 0.792827\tvalid_0's binary_logloss: 0.38494\n",
      "[237]\tvalid_0's auc: 0.79284\tvalid_0's binary_logloss: 0.384849\n",
      "[238]\tvalid_0's auc: 0.792842\tvalid_0's binary_logloss: 0.384834\n",
      "[239]\tvalid_0's auc: 0.792802\tvalid_0's binary_logloss: 0.384817\n",
      "[240]\tvalid_0's auc: 0.79274\tvalid_0's binary_logloss: 0.384858\n",
      "[241]\tvalid_0's auc: 0.792702\tvalid_0's binary_logloss: 0.384886\n",
      "[242]\tvalid_0's auc: 0.792527\tvalid_0's binary_logloss: 0.38492\n",
      "[243]\tvalid_0's auc: 0.792597\tvalid_0's binary_logloss: 0.384892\n",
      "[244]\tvalid_0's auc: 0.792561\tvalid_0's binary_logloss: 0.384892\n",
      "[245]\tvalid_0's auc: 0.792453\tvalid_0's binary_logloss: 0.384902\n",
      "[246]\tvalid_0's auc: 0.792513\tvalid_0's binary_logloss: 0.384935\n",
      "[247]\tvalid_0's auc: 0.792556\tvalid_0's binary_logloss: 0.384904\n",
      "[248]\tvalid_0's auc: 0.792592\tvalid_0's binary_logloss: 0.384877\n",
      "[249]\tvalid_0's auc: 0.792639\tvalid_0's binary_logloss: 0.384854\n",
      "[250]\tvalid_0's auc: 0.792575\tvalid_0's binary_logloss: 0.384822\n",
      "[251]\tvalid_0's auc: 0.792362\tvalid_0's binary_logloss: 0.384816\n",
      "[252]\tvalid_0's auc: 0.792333\tvalid_0's binary_logloss: 0.384861\n",
      "[253]\tvalid_0's auc: 0.792375\tvalid_0's binary_logloss: 0.384836\n",
      "[254]\tvalid_0's auc: 0.792308\tvalid_0's binary_logloss: 0.384851\n",
      "[255]\tvalid_0's auc: 0.792272\tvalid_0's binary_logloss: 0.384885\n",
      "[256]\tvalid_0's auc: 0.792253\tvalid_0's binary_logloss: 0.384919\n",
      "[257]\tvalid_0's auc: 0.792211\tvalid_0's binary_logloss: 0.384902\n",
      "[258]\tvalid_0's auc: 0.792178\tvalid_0's binary_logloss: 0.384915\n",
      "[259]\tvalid_0's auc: 0.792171\tvalid_0's binary_logloss: 0.384885\n",
      "[260]\tvalid_0's auc: 0.792219\tvalid_0's binary_logloss: 0.384877\n",
      "[261]\tvalid_0's auc: 0.792323\tvalid_0's binary_logloss: 0.384809\n",
      "[262]\tvalid_0's auc: 0.792379\tvalid_0's binary_logloss: 0.384785\n",
      "[263]\tvalid_0's auc: 0.792412\tvalid_0's binary_logloss: 0.384762\n",
      "[264]\tvalid_0's auc: 0.792592\tvalid_0's binary_logloss: 0.384654\n",
      "[265]\tvalid_0's auc: 0.792772\tvalid_0's binary_logloss: 0.384614\n",
      "[266]\tvalid_0's auc: 0.79278\tvalid_0's binary_logloss: 0.384526\n",
      "[267]\tvalid_0's auc: 0.792769\tvalid_0's binary_logloss: 0.384566\n",
      "[268]\tvalid_0's auc: 0.792705\tvalid_0's binary_logloss: 0.384542\n",
      "[269]\tvalid_0's auc: 0.792739\tvalid_0's binary_logloss: 0.384486\n",
      "[270]\tvalid_0's auc: 0.792805\tvalid_0's binary_logloss: 0.384476\n",
      "[271]\tvalid_0's auc: 0.792755\tvalid_0's binary_logloss: 0.384508\n",
      "[272]\tvalid_0's auc: 0.792658\tvalid_0's binary_logloss: 0.384555\n",
      "[273]\tvalid_0's auc: 0.792587\tvalid_0's binary_logloss: 0.384552\n",
      "[274]\tvalid_0's auc: 0.792526\tvalid_0's binary_logloss: 0.38455\n",
      "[275]\tvalid_0's auc: 0.792529\tvalid_0's binary_logloss: 0.384493\n",
      "[276]\tvalid_0's auc: 0.79246\tvalid_0's binary_logloss: 0.384502\n",
      "[277]\tvalid_0's auc: 0.792338\tvalid_0's binary_logloss: 0.384511\n",
      "[278]\tvalid_0's auc: 0.792344\tvalid_0's binary_logloss: 0.384522\n",
      "[279]\tvalid_0's auc: 0.792288\tvalid_0's binary_logloss: 0.384533\n",
      "[280]\tvalid_0's auc: 0.792326\tvalid_0's binary_logloss: 0.384515\n",
      "[281]\tvalid_0's auc: 0.792339\tvalid_0's binary_logloss: 0.384516\n",
      "[282]\tvalid_0's auc: 0.792338\tvalid_0's binary_logloss: 0.384542\n",
      "[283]\tvalid_0's auc: 0.792193\tvalid_0's binary_logloss: 0.384541\n",
      "[284]\tvalid_0's auc: 0.792255\tvalid_0's binary_logloss: 0.384471\n",
      "[285]\tvalid_0's auc: 0.792287\tvalid_0's binary_logloss: 0.384431\n",
      "[286]\tvalid_0's auc: 0.792172\tvalid_0's binary_logloss: 0.38444\n",
      "[287]\tvalid_0's auc: 0.792196\tvalid_0's binary_logloss: 0.384431\n",
      "[288]\tvalid_0's auc: 0.792229\tvalid_0's binary_logloss: 0.384444\n",
      "[289]\tvalid_0's auc: 0.792182\tvalid_0's binary_logloss: 0.384452\n",
      "[290]\tvalid_0's auc: 0.792178\tvalid_0's binary_logloss: 0.384439\n",
      "[291]\tvalid_0's auc: 0.792128\tvalid_0's binary_logloss: 0.384429\n",
      "[292]\tvalid_0's auc: 0.792173\tvalid_0's binary_logloss: 0.384401\n",
      "[293]\tvalid_0's auc: 0.792178\tvalid_0's binary_logloss: 0.384373\n",
      "[294]\tvalid_0's auc: 0.792265\tvalid_0's binary_logloss: 0.384305\n",
      "[295]\tvalid_0's auc: 0.792192\tvalid_0's binary_logloss: 0.384307\n",
      "[296]\tvalid_0's auc: 0.792189\tvalid_0's binary_logloss: 0.384317\n",
      "[297]\tvalid_0's auc: 0.79222\tvalid_0's binary_logloss: 0.38433\n",
      "[298]\tvalid_0's auc: 0.792197\tvalid_0's binary_logloss: 0.384308\n",
      "[299]\tvalid_0's auc: 0.792186\tvalid_0's binary_logloss: 0.384295\n",
      "[300]\tvalid_0's auc: 0.792198\tvalid_0's binary_logloss: 0.384288\n",
      "[301]\tvalid_0's auc: 0.79219\tvalid_0's binary_logloss: 0.384288\n",
      "[302]\tvalid_0's auc: 0.792182\tvalid_0's binary_logloss: 0.384299\n",
      "[303]\tvalid_0's auc: 0.792101\tvalid_0's binary_logloss: 0.384274\n",
      "[304]\tvalid_0's auc: 0.791966\tvalid_0's binary_logloss: 0.384287\n",
      "[305]\tvalid_0's auc: 0.791941\tvalid_0's binary_logloss: 0.384308\n",
      "[306]\tvalid_0's auc: 0.79199\tvalid_0's binary_logloss: 0.384277\n",
      "[307]\tvalid_0's auc: 0.791904\tvalid_0's binary_logloss: 0.38428\n",
      "[308]\tvalid_0's auc: 0.791911\tvalid_0's binary_logloss: 0.384278\n",
      "[309]\tvalid_0's auc: 0.79198\tvalid_0's binary_logloss: 0.384269\n",
      "[310]\tvalid_0's auc: 0.791921\tvalid_0's binary_logloss: 0.384294\n",
      "[311]\tvalid_0's auc: 0.791925\tvalid_0's binary_logloss: 0.384329\n",
      "[312]\tvalid_0's auc: 0.791915\tvalid_0's binary_logloss: 0.384325\n",
      "[313]\tvalid_0's auc: 0.791991\tvalid_0's binary_logloss: 0.38427\n",
      "[314]\tvalid_0's auc: 0.792122\tvalid_0's binary_logloss: 0.384096\n",
      "[315]\tvalid_0's auc: 0.792183\tvalid_0's binary_logloss: 0.384025\n",
      "[316]\tvalid_0's auc: 0.792169\tvalid_0's binary_logloss: 0.384018\n",
      "[317]\tvalid_0's auc: 0.792077\tvalid_0's binary_logloss: 0.384033\n",
      "[318]\tvalid_0's auc: 0.792018\tvalid_0's binary_logloss: 0.384036\n",
      "[319]\tvalid_0's auc: 0.792113\tvalid_0's binary_logloss: 0.383936\n",
      "[320]\tvalid_0's auc: 0.79206\tvalid_0's binary_logloss: 0.383891\n",
      "[321]\tvalid_0's auc: 0.792066\tvalid_0's binary_logloss: 0.383848\n",
      "Early stopping, best iteration is:\n",
      "[221]\tvalid_0's auc: 0.793085\tvalid_0's binary_logloss: 0.385559\n",
      "ROC AUC: 0.7931\n"
     ]
    }
   ],
   "source": [
    "max_params = BO_lgb.max['params']\n",
    "\n",
    "max_params['num_leaves'] = int(round(max_params['num_leaves']))\n",
    "max_params['max_depth'] = int(round(max_params['max_depth']))\n",
    "\n",
    "lgbm_clf_bayes_best = LGBMClassifier(n_estimators=1000, learning_rate=0.02, **max_params)\n",
    "\n",
    "evals = [(X_test, y_test)]\n",
    "lgbm_clf_bayes_best.fit(X_train, y_train, early_stopping_rounds=100, eval_metric=\"auc\", eval_set=evals,\n",
    "                verbose=True)\n",
    "\n",
    "lgbm_roc_score = roc_auc_score(y_test, lgbm_clf_bayes_best.predict_proba(X_test)[:,1],average='macro')\n",
    "print('ROC AUC: {0:.4f}'.format(lgbm_roc_score))"
   ]
  },
  {
   "cell_type": "code",
   "execution_count": 60,
   "metadata": {},
   "outputs": [
    {
     "data": {
      "text/plain": [
       "LGBMClassifier(colsample_bytree=0.5, learning_rate=0.02, max_depth=11,\n",
       "               min_child_weight=5.0, min_split_gain=0.1, n_estimators=1000,\n",
       "               num_leaves=33)"
      ]
     },
     "execution_count": 60,
     "metadata": {},
     "output_type": "execute_result"
    }
   ],
   "source": [
    "lgbm_clf_bayes_best"
   ]
  },
  {
   "cell_type": "code",
   "execution_count": 61,
   "metadata": {},
   "outputs": [
    {
     "data": {
      "text/plain": [
       "LGBMClassifier(colsample_bytree=0.5, learning_rate=0.02, max_depth=11,\n",
       "               min_child_weight=5.0, min_split_gain=0.1, n_estimators=1000,\n",
       "               num_leaves=33)"
      ]
     },
     "execution_count": 61,
     "metadata": {},
     "output_type": "execute_result"
    }
   ],
   "source": [
    "lgbm_clf_bayes_best.fit(X_train, y_train)"
   ]
  },
  {
   "cell_type": "code",
   "execution_count": 62,
   "metadata": {},
   "outputs": [
    {
     "name": "stdout",
     "output_type": "stream",
     "text": [
      "pred_proba()결과 Shape : (4521, 2)\n",
      "pred_proba array에서 앞 3개만 샘플로 추출 \n",
      ": [[0.75571917 0.24428083]\n",
      " [0.26302062 0.73697938]\n",
      " [0.77088092 0.22911908]]\n",
      "두개의 class 중에서 더 큰 확률을 클래스 값으로 예측 \n",
      " [[0.75571917 0.24428083 0.72048272 0.27951728]\n",
      " [0.26302062 0.73697938 0.23623829 0.76376171]\n",
      " [0.77088092 0.22911908 0.74302844 0.25697156]]\n"
     ]
    }
   ],
   "source": [
    "## 1 ##\n",
    "\n",
    "pred_proba = lgbm_clf_bayes_best.predict_proba(X_test) ##\n",
    "pred  = lgbm_clf_best.predict_proba(X_test) ##\n",
    "print('pred_proba()결과 Shape : {0}'.format(pred_proba.shape))\n",
    "print('pred_proba array에서 앞 3개만 샘플로 추출 \\n:', pred_proba[:3])\n",
    "\n",
    "# 예측 확률 array 와 예측 결과값 array 를 concatenate 하여 예측 확률과 결과값을 한눈에 확인\n",
    "pred_proba_result = np.concatenate([pred_proba , pred.reshape(-1,2)],axis=1)\n",
    "print('두개의 class 중에서 더 큰 확률을 클래스 값으로 예측 \\n',pred_proba_result[:3])\n"
   ]
  },
  {
   "cell_type": "code",
   "execution_count": 63,
   "metadata": {},
   "outputs": [
    {
     "name": "stdout",
     "output_type": "stream",
     "text": [
      "오차 행렬\n",
      "[[3687  297]\n",
      " [ 281  256]]\n",
      "정확도: 0.8722, 정밀도: 0.4629, 재현율: 0.4767, F1_score:  0.476723\n"
     ]
    }
   ],
   "source": [
    "## 2\n",
    "\n",
    "from sklearn.preprocessing import Binarizer\n",
    "\n",
    "#Binarizer의 threshold 설정값. 분류 결정 임곗값임.  \n",
    "custom_threshold = 0.5\n",
    "\n",
    "# predict_proba( ) 반환값의 두번째 컬럼 , 즉 Positive 클래스 컬럼 하나만 추출하여 Binarizer를 적용\n",
    "pred_proba_1 = pred_proba[:,1].reshape(-1,1)\n",
    "\n",
    "binarizer = Binarizer(threshold=custom_threshold).fit(pred_proba_1) \n",
    "custom_predict = binarizer.transform(pred_proba_1)\n",
    "\n",
    "get_clf_eval(y_test, custom_predict)"
   ]
  },
  {
   "cell_type": "code",
   "execution_count": 64,
   "metadata": {},
   "outputs": [],
   "source": [
    "from sklearn.metrics import precision_recall_curve\n",
    "\n",
    "# 레이블 값이 1일때의 예측 확률을 추출 \n",
    "pred_proba_class1 = lgbm_clf_bayes_best.predict_proba(X_test)[:, 1] ###\n",
    "\n"
   ]
  },
  {
   "cell_type": "code",
   "execution_count": 65,
   "metadata": {},
   "outputs": [
    {
     "data": {
      "image/png": "[encoded data removed]",
      "text/plain": [
       "<Figure size 576x432 with 1 Axes>"
      ]
     },
     "metadata": {
      "needs_background": "light"
     },
     "output_type": "display_data"
    }
   ],
   "source": [
    "import matplotlib.pyplot as plt\n",
    "import matplotlib.ticker as ticker\n",
    "%matplotlib inline\n",
    "\n",
    "def precision_recall_curve_plot(y_test, pred_proba_c1):\n",
    "    # threshold ndarray와 이 threshold에 따른 정밀도, 재현율 ndarray 추출. \n",
    "    precisions, recalls, thresholds = precision_recall_curve( y_test, pred_proba_c1)\n",
    "    \n",
    "    # X축을 threshold값으로, Y축은 정밀도, 재현율 값으로 각각 Plot 수행. 정밀도는 점선으로 표시\n",
    "    plt.figure(figsize=(8,6))\n",
    "    threshold_boundary = thresholds.shape[0]\n",
    "    plt.plot(thresholds, precisions[0:threshold_boundary], linestyle='--', label='precision')\n",
    "    plt.plot(thresholds, recalls[0:threshold_boundary],label='recall')\n",
    "    \n",
    "    # threshold 값 X 축의 Scale을 0.1 단위로 변경\n",
    "    start, end = plt.xlim()\n",
    "    plt.xticks(np.round(np.arange(start, end, 0.1),2))\n",
    "    \n",
    "    # x축, y축 label과 legend, 그리고 grid 설정\n",
    "    plt.xlabel('Threshold value'); plt.ylabel('Precision and Recall value')\n",
    "    plt.legend(); plt.grid()\n",
    "    plt.show()\n",
    "    \n",
    "precision_recall_curve_plot(y_test, lgbm_clf_best.predict_proba(X_test)[:, 1] ) ####\n"
   ]
  },
  {
   "cell_type": "code",
   "execution_count": 66,
   "metadata": {},
   "outputs": [
    {
     "data": {
      "text/plain": [
       "(0.48, 0.4755)"
      ]
     },
     "execution_count": 66,
     "metadata": {},
     "output_type": "execute_result"
    }
   ],
   "source": [
    "def Find_threshold(model, X_test, y_test):\n",
    "    thresholds = np.arange(0,1,0.05)\n",
    "    threshold_count = []\n",
    "    pred_proba=model.predict_proba(X_test)\n",
    "    pred_proba_1 = pred_proba[:,1].reshape(-1,1)\n",
    "    for threshold in thresholds:\n",
    "        binarizer = Binarizer(threshold=threshold)\n",
    "        model_cl_pred = binarizer.transform(pred_proba_1)\n",
    "        threshold_count.append([threshold, metrics.f1_score(model_cl_pred, y_test)])\n",
    "\n",
    "    MAX=thresholds[np.array(threshold_count)[:,1].argmax()]\n",
    "    \n",
    "    thresholds = np.arange(MAX-0.05,MAX+0.05,0.005)\n",
    "    threshold_count = []\n",
    "    for threshold in thresholds:\n",
    "        binarizer = Binarizer(threshold=threshold)\n",
    "        model_cl_pred = binarizer.transform(pred_proba_1)\n",
    "        #threshold_count.append([threshold, metrics.f1_score(log_cl_pred, y_test)])\n",
    "        #print('threshold: {0:.4f}, f1_score: {1:.4f}'.format(threshold,metrics.f1_score(model_cl_pred, y_test)))\n",
    "        threshold_count.append([threshold, metrics.f1_score(model_cl_pred, y_test)])\n",
    "    \n",
    "    return np.round(thresholds[np.array(threshold_count)[:,1].argmax()],4), np.round(metrics.f1_score(Binarizer(threshold=thresholds[np.array(threshold_count)[:,1].argmax()]).transform(pred_proba_1), y_test),4)\n",
    "\n",
    "Find_threshold(lgbm_clf_bayes_best, X_test, y_test)"
   ]
  },
  {
   "cell_type": "code",
   "execution_count": 67,
   "metadata": {},
   "outputs": [
    {
     "name": "stdout",
     "output_type": "stream",
     "text": [
      "오차 행렬\n",
      "[[3665  319]\n",
      " [ 270  267]]\n",
      "정확도: 0.8697, 정밀도: 0.4556, 재현율: 0.4972, F1_score:  0.497207\n"
     ]
    }
   ],
   "source": [
    "# Binarizer의 베스트 threshold 설정값 지정 \n",
    "\n",
    "custom_threshold = 0.48\n",
    "pred_proba_1 = pred_proba[:,1].reshape(-1,1)\n",
    "binarizer = Binarizer(threshold=custom_threshold).fit(pred_proba_1) \n",
    "custom_predict = binarizer.transform(pred_proba_1)\n",
    "\n",
    "get_clf_eval(y_test , custom_predict)"
   ]
  },
  {
   "cell_type": "code",
   "execution_count": 68,
   "metadata": {},
   "outputs": [],
   "source": [
    "test = pd.read_csv('./test_dummies.csv')\n",
    "pred_proba_1 = lgbm_clf_bayes_best.predict_proba(test)\n",
    "binarizer_pred = Binarizer(threshold=0.48).transform(pred_proba_1[:,1].reshape(-1,1)) \n",
    "binarizer_pred = binarizer_pred.reshape(-1,)\n",
    "submit = pd.read_csv('./sample_submission.csv')\n",
    "submit['y'] = binarizer_pred\n",
    "submit['y'] = submit.y.astype('bool')\n",
    "submit.to_csv('./under_cnn_0.48_bayesgrid.csv', index = False)"
   ]
  },
  {
   "cell_type": "code",
   "execution_count": null,
   "metadata": {},
   "outputs": [],
   "source": []
  },
  {
   "cell_type": "markdown",
   "metadata": {},
   "source": [
    "### One Sided Selection\n",
    "\n",
    "- One Sided Selection은 토맥링크 방법과 Condensed Nearest Neighbour 방법을 섞은 것이다. \n",
    "- 토맥링크 중 다수 클래스를 제외하고 나머지 데이터 중에서도 서로 붙어있는 다수 클래스 데이터는 1-NN 방법으로 제외한다."
   ]
  },
  {
   "cell_type": "code",
   "execution_count": 69,
   "metadata": {},
   "outputs": [],
   "source": [
    "from sklearn.model_selection import train_test_split\n",
    "\n",
    "X_train, X_test, y_train, y_test = train_test_split(X, y, test_size = 0.2, shuffle = True, stratify = y)\n",
    "\n",
    "# 분류학습시 stratify = target으로 설정해야함."
   ]
  },
  {
   "cell_type": "code",
   "execution_count": 70,
   "metadata": {},
   "outputs": [],
   "source": [
    "X_train, y_train = OneSidedSelection(random_state=0,n_jobs=-1).fit_sample(X_train, y_train)"
   ]
  },
  {
   "cell_type": "code",
   "execution_count": 71,
   "metadata": {},
   "outputs": [
    {
     "name": "stdout",
     "output_type": "stream",
     "text": [
      "학습 세트 Shape:(17240, 31), 테스트 세트 Shape:(4521, 31)\n",
      " 학습 세트 레이블 값 분포 비율\n",
      "False    0.87529\n",
      "True     0.12471\n",
      "Name: y, dtype: float64\n",
      "\n",
      " 테스트 세트 레이블 값 분포 비율\n",
      "False    0.881221\n",
      "True     0.118779\n",
      "Name: y, dtype: float64\n"
     ]
    }
   ],
   "source": [
    "# 추후 오버,언더,하이드리브 샘플링 적용시 레이블 값 분포를 보기위한 코드.\n",
    "\n",
    "train_cnt = y_train.count()\n",
    "test_cnt = y_test.count()\n",
    "print('학습 세트 Shape:{0}, 테스트 세트 Shape:{1}'.format(X_train.shape , X_test.shape))\n",
    "\n",
    "print(' 학습 세트 레이블 값 분포 비율')\n",
    "print(y_train.value_counts()/train_cnt)\n",
    "print('\\n 테스트 세트 레이블 값 분포 비율')\n",
    "print(y_test.value_counts()/test_cnt)"
   ]
  },
  {
   "cell_type": "code",
   "execution_count": 72,
   "metadata": {},
   "outputs": [
    {
     "name": "stdout",
     "output_type": "stream",
     "text": [
      "Precision for Light GBM is  0.30353817504655495\n",
      "Recall for Light GBM is  0.573943661971831\n",
      "F1_score for Light GBM is  0.3970767356881852\n",
      "\n",
      "The cross validated precision for Light GBM is: 0.5752993964394424\n",
      "The cross validated recall for Light GBM is: 0.2623255813953488\n",
      "The cross validated f1_score for Light GBM is: 0.3596116365390817\n"
     ]
    }
   ],
   "source": [
    "# Light GBM\n",
    "\n",
    "lgbm_clf = LGBMClassifier(n_estimators=400, n_jobs = -1)\n",
    "lgbm_clf.fit(X_train, y_train)\n",
    "lgbm_clf_pred = lgbm_clf.predict(X_test)\n",
    "\n",
    "lgbm_clf_cv_pre = cross_val_score(lgbm_clf, X_train, y_train, cv = 10, scoring = 'precision', n_jobs=-1)\n",
    "lgbm_clf_cv_rec = cross_val_score(lgbm_clf, X_train, y_train, cv = 10, scoring = 'recall', n_jobs=-1)\n",
    "lgbm_clf_cv_f1 = cross_val_score(lgbm_clf, X_train, y_train, cv = 10, scoring = 'f1', n_jobs=-1)\n",
    "\n",
    "print('Precision for Light GBM is ', metrics.precision_score(lgbm_clf_pred, y_test))\n",
    "print('Recall for Light GBM is ', metrics.recall_score(lgbm_clf_pred, y_test))\n",
    "print('F1_score for Light GBM is ', metrics.f1_score(lgbm_clf_pred, y_test))\n",
    "print()\n",
    "print('The cross validated precision for Light GBM is:', lgbm_clf_cv_pre.mean())\n",
    "print('The cross validated recall for Light GBM is:', lgbm_clf_cv_rec.mean())\n",
    "print('The cross validated f1_score for Light GBM is:', lgbm_clf_cv_f1.mean())"
   ]
  },
  {
   "cell_type": "code",
   "execution_count": null,
   "metadata": {},
   "outputs": [],
   "source": [
    "##\n",
    "\n",
    "pred_proba = lgbm_clf.predict_proba(X_test)\n",
    "pred  = lgbm_clf.predict_proba(X_test)\n",
    "print('pred_proba()결과 Shape : {0}'.format(pred_proba.shape))\n",
    "print('pred_proba array에서 앞 3개만 샘플로 추출 \\n:', pred_proba[:3])\n",
    "\n",
    "# 예측 확률 array 와 예측 결과값 array 를 concatenate 하여 예측 확률과 결과값을 한눈에 확인\n",
    "pred_proba_result = np.concatenate([pred_proba , pred.reshape(-1,2)],axis=1)\n",
    "print('두개의 class 중에서 더 큰 확률을 클래스 값으로 예측 \\n',pred_proba_result[:3])\n"
   ]
  },
  {
   "cell_type": "code",
   "execution_count": 73,
   "metadata": {},
   "outputs": [
    {
     "name": "stdout",
     "output_type": "stream",
     "text": [
      "오차 행렬\n",
      "[[3497  487]\n",
      " [ 471   66]]\n",
      "정확도: 0.7881, 정밀도: 0.1193, 재현율: 0.1229, F1_score:  0.122905\n"
     ]
    }
   ],
   "source": [
    "from sklearn.preprocessing import Binarizer\n",
    "\n",
    "#Binarizer의 threshold 설정값. 분류 결정 임곗값임.  \n",
    "custom_threshold = 0.5\n",
    "\n",
    "# predict_proba( ) 반환값의 두번째 컬럼 , 즉 Positive 클래스 컬럼 하나만 추출하여 Binarizer를 적용\n",
    "pred_proba_1 = pred_proba[:,1].reshape(-1,1)\n",
    "\n",
    "binarizer = Binarizer(threshold=custom_threshold).fit(pred_proba_1) \n",
    "custom_predict = binarizer.transform(pred_proba_1)\n",
    "\n",
    "get_clf_eval(y_test, custom_predict)"
   ]
  },
  {
   "cell_type": "code",
   "execution_count": 74,
   "metadata": {},
   "outputs": [],
   "source": [
    "from sklearn.metrics import precision_recall_curve\n",
    "\n",
    "# 레이블 값이 1일때의 예측 확률을 추출 \n",
    "pred_proba_class1 = lgbm_clf.predict_proba(X_test)[:, 1] "
   ]
  },
  {
   "cell_type": "code",
   "execution_count": 75,
   "metadata": {},
   "outputs": [
    {
     "data": {
      "image/png": "[encoded data removed]",
      "text/plain": [
       "<Figure size 576x432 with 1 Axes>"
      ]
     },
     "metadata": {
      "needs_background": "light"
     },
     "output_type": "display_data"
    }
   ],
   "source": [
    "import matplotlib.pyplot as plt\n",
    "import matplotlib.ticker as ticker\n",
    "%matplotlib inline\n",
    "\n",
    "def precision_recall_curve_plot(y_test, pred_proba_c1):\n",
    "    # threshold ndarray와 이 threshold에 따른 정밀도, 재현율 ndarray 추출. \n",
    "    precisions, recalls, thresholds = precision_recall_curve( y_test, pred_proba_c1)\n",
    "    \n",
    "    # X축을 threshold값으로, Y축은 정밀도, 재현율 값으로 각각 Plot 수행. 정밀도는 점선으로 표시\n",
    "    plt.figure(figsize=(8,6))\n",
    "    threshold_boundary = thresholds.shape[0]\n",
    "    plt.plot(thresholds, precisions[0:threshold_boundary], linestyle='--', label='precision')\n",
    "    plt.plot(thresholds, recalls[0:threshold_boundary],label='recall')\n",
    "    \n",
    "    # threshold 값 X 축의 Scale을 0.1 단위로 변경\n",
    "    start, end = plt.xlim()\n",
    "    plt.xticks(np.round(np.arange(start, end, 0.1),2))\n",
    "    \n",
    "    # x축, y축 label과 legend, 그리고 grid 설정\n",
    "    plt.xlabel('Threshold value'); plt.ylabel('Precision and Recall value')\n",
    "    plt.legend(); plt.grid()\n",
    "    plt.show()\n",
    "    \n",
    "precision_recall_curve_plot(y_test, lgbm_clf.predict_proba(X_test)[:, 1] )\n"
   ]
  },
  {
   "cell_type": "code",
   "execution_count": 76,
   "metadata": {},
   "outputs": [
    {
     "data": {
      "text/plain": [
       "(0.225, 0.4715)"
      ]
     },
     "execution_count": 76,
     "metadata": {},
     "output_type": "execute_result"
    }
   ],
   "source": [
    "def Find_threshold(model, X_test, y_test):\n",
    "    thresholds = np.arange(0,1,0.05)\n",
    "    threshold_count = []\n",
    "    pred_proba=model.predict_proba(X_test)\n",
    "    pred_proba_1 = pred_proba[:,1].reshape(-1,1)\n",
    "    for threshold in thresholds:\n",
    "        binarizer = Binarizer(threshold=threshold)\n",
    "        model_cl_pred = binarizer.transform(pred_proba_1)\n",
    "        threshold_count.append([threshold, metrics.f1_score(model_cl_pred, y_test)])\n",
    "\n",
    "    MAX=thresholds[np.array(threshold_count)[:,1].argmax()]\n",
    "    \n",
    "    thresholds = np.arange(MAX-0.05,MAX+0.05,0.005)\n",
    "    threshold_count = []\n",
    "    for threshold in thresholds:\n",
    "        binarizer = Binarizer(threshold=threshold)\n",
    "        model_cl_pred = binarizer.transform(pred_proba_1)\n",
    "        #threshold_count.append([threshold, metrics.f1_score(log_cl_pred, y_test)])\n",
    "        #print('threshold: {0:.4f}, f1_score: {1:.4f}'.format(threshold,metrics.f1_score(model_cl_pred, y_test)))\n",
    "        threshold_count.append([threshold, metrics.f1_score(model_cl_pred, y_test)])\n",
    "    \n",
    "    return np.round(thresholds[np.array(threshold_count)[:,1].argmax()],4), np.round(metrics.f1_score(Binarizer(threshold=thresholds[np.array(threshold_count)[:,1].argmax()]).transform(pred_proba_1), y_test),4)\n",
    "\n",
    "Find_threshold(lgbm_clf, X_test, y_test)"
   ]
  },
  {
   "cell_type": "code",
   "execution_count": 77,
   "metadata": {},
   "outputs": [
    {
     "name": "stdout",
     "output_type": "stream",
     "text": [
      "오차 행렬\n",
      "[[2064 1920]\n",
      " [ 280  257]]\n",
      "정확도: 0.5134, 정밀도: 0.1181, 재현율: 0.4786, F1_score:  0.478585\n"
     ]
    }
   ],
   "source": [
    "# Binarizer의 베스트 threshold 설정값 지정 \n",
    "\n",
    "custom_threshold = 0.225\n",
    "pred_proba_1 = pred_proba[:,1].reshape(-1,1)\n",
    "binarizer = Binarizer(threshold=custom_threshold).fit(pred_proba_1) \n",
    "custom_predict = binarizer.transform(pred_proba_1)\n",
    "\n",
    "get_clf_eval(y_test , custom_predict)"
   ]
  },
  {
   "cell_type": "code",
   "execution_count": 78,
   "metadata": {},
   "outputs": [],
   "source": [
    "\n",
    "pred_proba_1 = lgbm_clf.predict_proba(test)\n",
    "binarizer_pred = Binarizer(threshold=0.225).transform(pred_proba_1[:,1].reshape(-1,1)) \n",
    "binarizer_pred = binarizer_pred.reshape(-1,)\n",
    "submit = pd.read_csv('./sample_submission.csv')\n",
    "submit['y'] = binarizer_pred\n",
    "submit['y'] = submit.y.astype('bool')\n",
    "submit.to_csv('./under_OSS_0.225_nongrid.csv', index = False)"
   ]
  },
  {
   "cell_type": "markdown",
   "metadata": {},
   "source": [
    "# GridsearchCV"
   ]
  },
  {
   "cell_type": "code",
   "execution_count": 79,
   "metadata": {},
   "outputs": [],
   "source": [
    "from sklearn.model_selection import GridSearchCV\n",
    "\n",
    "# 하이퍼 파라미터 테스트의 수행 속도를 향상시키기 위해 n_estimators를 100으로 감소\n",
    "\n",
    "params = {'num_leaves': [8 ,16 ,32, 64],\n",
    "          'max_depth':[16, 32, 64, 128, 160],\n",
    "          'min_child_samples':[20, 60, 100],\n",
    "          'subsample':[0.2, 0.4, 0.6, 0.8, 1],\n",
    "         'n_estimators':[100,300,500,700,900,1200]}\n",
    "\n",
    "\n",
    "\n",
    "gridcv = GridSearchCV(lgbm_clf, param_grid=params, verbose=3, n_jobs=-1, cv=3)"
   ]
  },
  {
   "cell_type": "code",
   "execution_count": 80,
   "metadata": {},
   "outputs": [
    {
     "name": "stdout",
     "output_type": "stream",
     "text": [
      "Fitting 3 folds for each of 1800 candidates, totalling 5400 fits\n"
     ]
    },
    {
     "name": "stderr",
     "output_type": "stream",
     "text": [
      "[Parallel(n_jobs=-1)]: Using backend LokyBackend with 8 concurrent workers.\n",
      "[Parallel(n_jobs=-1)]: Done  16 tasks      | elapsed:    4.4s\n",
      "[Parallel(n_jobs=-1)]: Done 112 tasks      | elapsed:   15.0s\n",
      "[Parallel(n_jobs=-1)]: Done 272 tasks      | elapsed:   32.9s\n",
      "[Parallel(n_jobs=-1)]: Done 496 tasks      | elapsed:   57.5s\n",
      "[Parallel(n_jobs=-1)]: Done 784 tasks      | elapsed:  1.5min\n",
      "[Parallel(n_jobs=-1)]: Done 1136 tasks      | elapsed:  2.1min\n",
      "[Parallel(n_jobs=-1)]: Done 1552 tasks      | elapsed:  2.9min\n",
      "[Parallel(n_jobs=-1)]: Done 2032 tasks      | elapsed:  3.8min\n",
      "[Parallel(n_jobs=-1)]: Done 2576 tasks      | elapsed:  4.9min\n",
      "[Parallel(n_jobs=-1)]: Done 3184 tasks      | elapsed:  6.3min\n",
      "[Parallel(n_jobs=-1)]: Done 3856 tasks      | elapsed:  7.8min\n",
      "[Parallel(n_jobs=-1)]: Done 4592 tasks      | elapsed:  9.5min\n",
      "[Parallel(n_jobs=-1)]: Done 5400 out of 5400 | elapsed: 11.2min finished\n"
     ]
    },
    {
     "name": "stdout",
     "output_type": "stream",
     "text": [
      "[1]\ttraining's binary_logloss: 0.362792\tvalid_1's binary_logloss: 0.350754\n",
      "Training until validation scores don't improve for 30 rounds\n",
      "[2]\ttraining's binary_logloss: 0.352749\tvalid_1's binary_logloss: 0.34009\n",
      "[3]\ttraining's binary_logloss: 0.345598\tvalid_1's binary_logloss: 0.332801\n",
      "[4]\ttraining's binary_logloss: 0.340506\tvalid_1's binary_logloss: 0.328064\n",
      "[5]\ttraining's binary_logloss: 0.335961\tvalid_1's binary_logloss: 0.3235\n",
      "[6]\ttraining's binary_logloss: 0.33227\tvalid_1's binary_logloss: 0.319541\n",
      "[7]\ttraining's binary_logloss: 0.329335\tvalid_1's binary_logloss: 0.316519\n",
      "[8]\ttraining's binary_logloss: 0.326898\tvalid_1's binary_logloss: 0.314027\n",
      "[9]\ttraining's binary_logloss: 0.32471\tvalid_1's binary_logloss: 0.312143\n",
      "[10]\ttraining's binary_logloss: 0.322872\tvalid_1's binary_logloss: 0.310454\n",
      "[11]\ttraining's binary_logloss: 0.321371\tvalid_1's binary_logloss: 0.309068\n",
      "[12]\ttraining's binary_logloss: 0.32009\tvalid_1's binary_logloss: 0.307671\n",
      "[13]\ttraining's binary_logloss: 0.31874\tvalid_1's binary_logloss: 0.306358\n",
      "[14]\ttraining's binary_logloss: 0.31744\tvalid_1's binary_logloss: 0.305071\n",
      "[15]\ttraining's binary_logloss: 0.316077\tvalid_1's binary_logloss: 0.303396\n",
      "[16]\ttraining's binary_logloss: 0.31523\tvalid_1's binary_logloss: 0.302646\n",
      "[17]\ttraining's binary_logloss: 0.314389\tvalid_1's binary_logloss: 0.301975\n",
      "[18]\ttraining's binary_logloss: 0.313689\tvalid_1's binary_logloss: 0.30143\n",
      "[19]\ttraining's binary_logloss: 0.312006\tvalid_1's binary_logloss: 0.299934\n",
      "[20]\ttraining's binary_logloss: 0.311258\tvalid_1's binary_logloss: 0.299568\n",
      "[21]\ttraining's binary_logloss: 0.310597\tvalid_1's binary_logloss: 0.299195\n",
      "[22]\ttraining's binary_logloss: 0.310004\tvalid_1's binary_logloss: 0.29885\n",
      "[23]\ttraining's binary_logloss: 0.308754\tvalid_1's binary_logloss: 0.297561\n",
      "[24]\ttraining's binary_logloss: 0.30793\tvalid_1's binary_logloss: 0.296977\n",
      "[25]\ttraining's binary_logloss: 0.307342\tvalid_1's binary_logloss: 0.296414\n",
      "[26]\ttraining's binary_logloss: 0.306791\tvalid_1's binary_logloss: 0.296308\n",
      "[27]\ttraining's binary_logloss: 0.305897\tvalid_1's binary_logloss: 0.295488\n",
      "[28]\ttraining's binary_logloss: 0.305265\tvalid_1's binary_logloss: 0.295086\n",
      "[29]\ttraining's binary_logloss: 0.304357\tvalid_1's binary_logloss: 0.294398\n",
      "[30]\ttraining's binary_logloss: 0.303723\tvalid_1's binary_logloss: 0.293671\n",
      "[31]\ttraining's binary_logloss: 0.303242\tvalid_1's binary_logloss: 0.293365\n",
      "[32]\ttraining's binary_logloss: 0.302864\tvalid_1's binary_logloss: 0.293363\n",
      "[33]\ttraining's binary_logloss: 0.302377\tvalid_1's binary_logloss: 0.293348\n",
      "[34]\ttraining's binary_logloss: 0.301889\tvalid_1's binary_logloss: 0.293014\n",
      "[35]\ttraining's binary_logloss: 0.301011\tvalid_1's binary_logloss: 0.292368\n",
      "[36]\ttraining's binary_logloss: 0.300529\tvalid_1's binary_logloss: 0.291983\n",
      "[37]\ttraining's binary_logloss: 0.300169\tvalid_1's binary_logloss: 0.291871\n",
      "[38]\ttraining's binary_logloss: 0.299783\tvalid_1's binary_logloss: 0.291679\n",
      "[39]\ttraining's binary_logloss: 0.29945\tvalid_1's binary_logloss: 0.291697\n",
      "[40]\ttraining's binary_logloss: 0.299126\tvalid_1's binary_logloss: 0.291459\n",
      "[41]\ttraining's binary_logloss: 0.298794\tvalid_1's binary_logloss: 0.291481\n",
      "[42]\ttraining's binary_logloss: 0.298337\tvalid_1's binary_logloss: 0.291214\n",
      "[43]\ttraining's binary_logloss: 0.297933\tvalid_1's binary_logloss: 0.290809\n",
      "[44]\ttraining's binary_logloss: 0.297612\tvalid_1's binary_logloss: 0.290782\n",
      "[45]\ttraining's binary_logloss: 0.297307\tvalid_1's binary_logloss: 0.290662\n",
      "[46]\ttraining's binary_logloss: 0.296794\tvalid_1's binary_logloss: 0.290294\n",
      "[47]\ttraining's binary_logloss: 0.296527\tvalid_1's binary_logloss: 0.29042\n",
      "[48]\ttraining's binary_logloss: 0.296221\tvalid_1's binary_logloss: 0.290251\n",
      "[49]\ttraining's binary_logloss: 0.295959\tvalid_1's binary_logloss: 0.290225\n",
      "[50]\ttraining's binary_logloss: 0.29558\tvalid_1's binary_logloss: 0.290155\n",
      "[51]\ttraining's binary_logloss: 0.294994\tvalid_1's binary_logloss: 0.289755\n",
      "[52]\ttraining's binary_logloss: 0.294642\tvalid_1's binary_logloss: 0.289545\n",
      "[53]\ttraining's binary_logloss: 0.294399\tvalid_1's binary_logloss: 0.289565\n",
      "[54]\ttraining's binary_logloss: 0.294199\tvalid_1's binary_logloss: 0.289638\n",
      "[55]\ttraining's binary_logloss: 0.29375\tvalid_1's binary_logloss: 0.289384\n",
      "[56]\ttraining's binary_logloss: 0.293536\tvalid_1's binary_logloss: 0.289316\n",
      "[57]\ttraining's binary_logloss: 0.293324\tvalid_1's binary_logloss: 0.289302\n",
      "[58]\ttraining's binary_logloss: 0.293127\tvalid_1's binary_logloss: 0.289309\n",
      "[59]\ttraining's binary_logloss: 0.292849\tvalid_1's binary_logloss: 0.28933\n",
      "[60]\ttraining's binary_logloss: 0.292442\tvalid_1's binary_logloss: 0.289084\n",
      "[61]\ttraining's binary_logloss: 0.292091\tvalid_1's binary_logloss: 0.288967\n",
      "[62]\ttraining's binary_logloss: 0.291929\tvalid_1's binary_logloss: 0.288919\n",
      "[63]\ttraining's binary_logloss: 0.291709\tvalid_1's binary_logloss: 0.288885\n",
      "[64]\ttraining's binary_logloss: 0.291395\tvalid_1's binary_logloss: 0.288698\n",
      "[65]\ttraining's binary_logloss: 0.29121\tvalid_1's binary_logloss: 0.288814\n",
      "[66]\ttraining's binary_logloss: 0.290882\tvalid_1's binary_logloss: 0.288448\n",
      "[67]\ttraining's binary_logloss: 0.290738\tvalid_1's binary_logloss: 0.288515\n",
      "[68]\ttraining's binary_logloss: 0.290479\tvalid_1's binary_logloss: 0.288408\n",
      "[69]\ttraining's binary_logloss: 0.290322\tvalid_1's binary_logloss: 0.288473\n",
      "[70]\ttraining's binary_logloss: 0.290157\tvalid_1's binary_logloss: 0.28851\n",
      "[71]\ttraining's binary_logloss: 0.28983\tvalid_1's binary_logloss: 0.288335\n",
      "[72]\ttraining's binary_logloss: 0.289662\tvalid_1's binary_logloss: 0.288263\n",
      "[73]\ttraining's binary_logloss: 0.289471\tvalid_1's binary_logloss: 0.288335\n",
      "[74]\ttraining's binary_logloss: 0.289357\tvalid_1's binary_logloss: 0.288394\n",
      "[75]\ttraining's binary_logloss: 0.289152\tvalid_1's binary_logloss: 0.288467\n",
      "[76]\ttraining's binary_logloss: 0.288695\tvalid_1's binary_logloss: 0.28837\n",
      "[77]\ttraining's binary_logloss: 0.288408\tvalid_1's binary_logloss: 0.288181\n",
      "[78]\ttraining's binary_logloss: 0.288151\tvalid_1's binary_logloss: 0.288074\n",
      "[79]\ttraining's binary_logloss: 0.287901\tvalid_1's binary_logloss: 0.287898\n",
      "[80]\ttraining's binary_logloss: 0.287727\tvalid_1's binary_logloss: 0.287976\n",
      "[81]\ttraining's binary_logloss: 0.287581\tvalid_1's binary_logloss: 0.287959\n",
      "[82]\ttraining's binary_logloss: 0.287325\tvalid_1's binary_logloss: 0.287931\n",
      "[83]\ttraining's binary_logloss: 0.287046\tvalid_1's binary_logloss: 0.287781\n",
      "[84]\ttraining's binary_logloss: 0.286935\tvalid_1's binary_logloss: 0.28786\n",
      "[85]\ttraining's binary_logloss: 0.28674\tvalid_1's binary_logloss: 0.287849\n",
      "[86]\ttraining's binary_logloss: 0.286565\tvalid_1's binary_logloss: 0.287741\n",
      "[87]\ttraining's binary_logloss: 0.286327\tvalid_1's binary_logloss: 0.287637\n",
      "[88]\ttraining's binary_logloss: 0.286231\tvalid_1's binary_logloss: 0.287785\n",
      "[89]\ttraining's binary_logloss: 0.28609\tvalid_1's binary_logloss: 0.287805\n",
      "[90]\ttraining's binary_logloss: 0.285943\tvalid_1's binary_logloss: 0.287739\n",
      "[91]\ttraining's binary_logloss: 0.285738\tvalid_1's binary_logloss: 0.287708\n",
      "[92]\ttraining's binary_logloss: 0.28558\tvalid_1's binary_logloss: 0.287727\n",
      "[93]\ttraining's binary_logloss: 0.285484\tvalid_1's binary_logloss: 0.287729\n",
      "[94]\ttraining's binary_logloss: 0.285215\tvalid_1's binary_logloss: 0.287501\n",
      "[95]\ttraining's binary_logloss: 0.285038\tvalid_1's binary_logloss: 0.287521\n",
      "[96]\ttraining's binary_logloss: 0.284775\tvalid_1's binary_logloss: 0.287653\n",
      "[97]\ttraining's binary_logloss: 0.284652\tvalid_1's binary_logloss: 0.287673\n",
      "[98]\ttraining's binary_logloss: 0.284442\tvalid_1's binary_logloss: 0.287544\n",
      "[99]\ttraining's binary_logloss: 0.284268\tvalid_1's binary_logloss: 0.287524\n",
      "[100]\ttraining's binary_logloss: 0.284044\tvalid_1's binary_logloss: 0.287458\n",
      "Did not meet early stopping. Best iteration is:\n",
      "[100]\ttraining's binary_logloss: 0.284044\tvalid_1's binary_logloss: 0.287458\n"
     ]
    },
    {
     "data": {
      "text/plain": [
       "GridSearchCV(cv=3, estimator=LGBMClassifier(n_estimators=400), n_jobs=-1,\n",
       "             param_grid={'max_depth': [16, 32, 64, 128, 160],\n",
       "                         'min_child_samples': [20, 60, 100],\n",
       "                         'n_estimators': [100, 300, 500, 700, 900, 1200],\n",
       "                         'num_leaves': [8, 16, 32, 64],\n",
       "                         'subsample': [0.2, 0.4, 0.6, 0.8, 1]},\n",
       "             verbose=3)"
      ]
     },
     "execution_count": 80,
     "metadata": {},
     "output_type": "execute_result"
    }
   ],
   "source": [
    "gridcv.fit(X_train, y_train, early_stopping_rounds=30, eval_metric=\"f1\",\n",
    "           eval_set=[(X_train, y_train), (X_test, y_test)])"
   ]
  },
  {
   "cell_type": "code",
   "execution_count": 81,
   "metadata": {},
   "outputs": [
    {
     "data": {
      "text/plain": [
       "LGBMClassifier(max_depth=16, num_leaves=8, subsample=0.2)"
      ]
     },
     "execution_count": 81,
     "metadata": {},
     "output_type": "execute_result"
    }
   ],
   "source": [
    "gridcv.best_estimator_"
   ]
  },
  {
   "cell_type": "code",
   "execution_count": 82,
   "metadata": {},
   "outputs": [],
   "source": [
    "lgbm_clf_best = LGBMClassifier(max_depth=16, num_leaves=8, subsample=0.2)"
   ]
  },
  {
   "cell_type": "code",
   "execution_count": 83,
   "metadata": {},
   "outputs": [
    {
     "data": {
      "text/plain": [
       "LGBMClassifier(max_depth=16, num_leaves=8, subsample=0.2)"
      ]
     },
     "execution_count": 83,
     "metadata": {},
     "output_type": "execute_result"
    }
   ],
   "source": [
    "lgbm_clf_best.fit(X_train, y_train)"
   ]
  },
  {
   "cell_type": "code",
   "execution_count": 84,
   "metadata": {},
   "outputs": [
    {
     "name": "stdout",
     "output_type": "stream",
     "text": [
      "pred_proba()결과 Shape : (4521, 2)\n",
      "pred_proba array에서 앞 3개만 샘플로 추출 \n",
      ": [[0.95778395 0.04221605]\n",
      " [0.95439164 0.04560836]\n",
      " [0.94361479 0.05638521]]\n",
      "두개의 class 중에서 더 큰 확률을 클래스 값으로 예측 \n",
      " [[0.95778395 0.04221605 0.95778395 0.04221605]\n",
      " [0.95439164 0.04560836 0.95439164 0.04560836]\n",
      " [0.94361479 0.05638521 0.94361479 0.05638521]]\n"
     ]
    }
   ],
   "source": [
    "##\n",
    "\n",
    "pred_proba = lgbm_clf_best.predict_proba(X_test)\n",
    "pred  = lgbm_clf_best.predict_proba(X_test)\n",
    "print('pred_proba()결과 Shape : {0}'.format(pred_proba.shape))\n",
    "print('pred_proba array에서 앞 3개만 샘플로 추출 \\n:', pred_proba[:3])\n",
    "\n",
    "# 예측 확률 array 와 예측 결과값 array 를 concatenate 하여 예측 확률과 결과값을 한눈에 확인\n",
    "pred_proba_result = np.concatenate([pred_proba , pred.reshape(-1,2)],axis=1)\n",
    "print('두개의 class 중에서 더 큰 확률을 클래스 값으로 예측 \\n',pred_proba_result[:3])\n"
   ]
  },
  {
   "cell_type": "code",
   "execution_count": 85,
   "metadata": {},
   "outputs": [
    {
     "name": "stdout",
     "output_type": "stream",
     "text": [
      "오차 행렬\n",
      "[[3909   75]\n",
      " [ 413  124]]\n",
      "정확도: 0.8921, 정밀도: 0.6231, 재현율: 0.2309, F1_score:  0.230912\n"
     ]
    }
   ],
   "source": [
    "from sklearn.preprocessing import Binarizer\n",
    "\n",
    "#Binarizer의 threshold 설정값. 분류 결정 임곗값임.  \n",
    "custom_threshold = 0.5\n",
    "\n",
    "# predict_proba( ) 반환값의 두번째 컬럼 , 즉 Positive 클래스 컬럼 하나만 추출하여 Binarizer를 적용\n",
    "pred_proba_1 = pred_proba[:,1].reshape(-1,1)\n",
    "\n",
    "binarizer = Binarizer(threshold=custom_threshold).fit(pred_proba_1) \n",
    "custom_predict = binarizer.transform(pred_proba_1)\n",
    "\n",
    "get_clf_eval(y_test, custom_predict)"
   ]
  },
  {
   "cell_type": "code",
   "execution_count": 86,
   "metadata": {},
   "outputs": [],
   "source": [
    "from sklearn.metrics import precision_recall_curve\n",
    "\n",
    "# 레이블 값이 1일때의 예측 확률을 추출 \n",
    "pred_proba_class1 = lgbm_clf_best.predict_proba(X_test)[:, 1] "
   ]
  },
  {
   "cell_type": "code",
   "execution_count": 87,
   "metadata": {},
   "outputs": [
    {
     "data": {
      "image/png": "[encoded data removed]",
      "text/plain": [
       "<Figure size 576x432 with 1 Axes>"
      ]
     },
     "metadata": {
      "needs_background": "light"
     },
     "output_type": "display_data"
    }
   ],
   "source": [
    "import matplotlib.pyplot as plt\n",
    "import matplotlib.ticker as ticker\n",
    "%matplotlib inline\n",
    "\n",
    "def precision_recall_curve_plot(y_test, pred_proba_c1):\n",
    "    # threshold ndarray와 이 threshold에 따른 정밀도, 재현율 ndarray 추출. \n",
    "    precisions, recalls, thresholds = precision_recall_curve( y_test, pred_proba_c1)\n",
    "    \n",
    "    # X축을 threshold값으로, Y축은 정밀도, 재현율 값으로 각각 Plot 수행. 정밀도는 점선으로 표시\n",
    "    plt.figure(figsize=(8,6))\n",
    "    threshold_boundary = thresholds.shape[0]\n",
    "    plt.plot(thresholds, precisions[0:threshold_boundary], linestyle='--', label='precision')\n",
    "    plt.plot(thresholds, recalls[0:threshold_boundary],label='recall')\n",
    "    \n",
    "    # threshold 값 X 축의 Scale을 0.1 단위로 변경\n",
    "    start, end = plt.xlim()\n",
    "    plt.xticks(np.round(np.arange(start, end, 0.1),2))\n",
    "    \n",
    "    # x축, y축 label과 legend, 그리고 grid 설정\n",
    "    plt.xlabel('Threshold value'); plt.ylabel('Precision and Recall value')\n",
    "    plt.legend(); plt.grid()\n",
    "    plt.show()\n",
    "    \n",
    "precision_recall_curve_plot(y_test, lgbm_clf_best.predict_proba(X_test)[:, 1] )\n"
   ]
  },
  {
   "cell_type": "code",
   "execution_count": 91,
   "metadata": {},
   "outputs": [
    {
     "data": {
      "text/plain": [
       "(0.2163, 0.5095)"
      ]
     },
     "execution_count": 91,
     "metadata": {},
     "output_type": "execute_result"
    }
   ],
   "source": [
    "def Find_threshold(model, X_test, y_test):\n",
    "    thresholds = np.arange(0,1,0.001)\n",
    "    threshold_count = []\n",
    "    pred_proba=model.predict_proba(X_test)\n",
    "    pred_proba_1 = pred_proba[:,1].reshape(-1,1)\n",
    "    for threshold in thresholds:\n",
    "        binarizer = Binarizer(threshold=threshold)\n",
    "        model_cl_pred = binarizer.transform(pred_proba_1)\n",
    "        threshold_count.append([threshold, metrics.f1_score(model_cl_pred, y_test)])\n",
    "\n",
    "    MAX=thresholds[np.array(threshold_count)[:,1].argmax()]\n",
    "    \n",
    "    thresholds = np.arange(MAX-0.05,MAX+0.05,0.005)\n",
    "    threshold_count = []\n",
    "    for threshold in thresholds:\n",
    "        binarizer = Binarizer(threshold=threshold)\n",
    "        model_cl_pred = binarizer.transform(pred_proba_1)\n",
    "        #threshold_count.append([threshold, metrics.f1_score(log_cl_pred, y_test)])\n",
    "        #print('threshold: {0:.4f}, f1_score: {1:.4f}'.format(threshold,metrics.f1_score(model_cl_pred, y_test)))\n",
    "        threshold_count.append([threshold, metrics.f1_score(model_cl_pred, y_test)])\n",
    "    \n",
    "    return np.round(thresholds[np.array(threshold_count)[:,1].argmax()],4), np.round(metrics.f1_score(Binarizer(threshold=thresholds[np.array(threshold_count)[:,1].argmax()]).transform(pred_proba_1), y_test),4)\n",
    "\n",
    "Find_threshold(lgbm_clf_best, X_test, y_test)"
   ]
  },
  {
   "cell_type": "code",
   "execution_count": 92,
   "metadata": {},
   "outputs": [
    {
     "name": "stdout",
     "output_type": "stream",
     "text": [
      "오차 행렬\n",
      "[[3661  323]\n",
      " [ 243  294]]\n",
      "정확도: 0.8748, 정밀도: 0.4765, 재현율: 0.5475, F1_score:  0.547486\n"
     ]
    }
   ],
   "source": [
    "# Binarizer의 베스트 threshold 설정값 지정 \n",
    "\n",
    "custom_threshold = 0.2163\n",
    "pred_proba_1 = pred_proba[:,1].reshape(-1,1)\n",
    "binarizer = Binarizer(threshold=custom_threshold).fit(pred_proba_1) \n",
    "custom_predict = binarizer.transform(pred_proba_1)\n",
    "\n",
    "get_clf_eval(y_test , custom_predict)"
   ]
  },
  {
   "cell_type": "code",
   "execution_count": 93,
   "metadata": {},
   "outputs": [],
   "source": [
    "test = pd.read_csv('./test_dummies.csv')\n",
    "pred_proba_1 = lgbm_clf_best.predict_proba(test)\n",
    "binarizer_pred = Binarizer(threshold=0.2163).transform(pred_proba_1[:,1].reshape(-1,1)) \n",
    "binarizer_pred = binarizer_pred.reshape(-1,)\n",
    "submit = pd.read_csv('./sample_submission.csv')\n",
    "submit['y'] = binarizer_pred\n",
    "submit['y'] = submit.y.astype('bool')\n",
    "submit.to_csv('./under_OSS_0.2163_grid.csv', index = False)"
   ]
  },
  {
   "cell_type": "code",
   "execution_count": null,
   "metadata": {},
   "outputs": [],
   "source": []
  },
  {
   "cell_type": "code",
   "execution_count": null,
   "metadata": {},
   "outputs": [],
   "source": []
  },
  {
   "cell_type": "markdown",
   "metadata": {},
   "source": [
    "## RandomizedGridsearchCV"
   ]
  },
  {
   "cell_type": "code",
   "execution_count": 94,
   "metadata": {},
   "outputs": [
    {
     "name": "stdout",
     "output_type": "stream",
     "text": [
      "{'n_estimators': [100, 311, 522, 733, 944, 1155, 1366, 1577, 1788, 2000], 'max_features': ['auto', 'sqrt'], 'max_depth': [10, 20, 30, 40, 50, 60, 70, 80, 90, 100, 110, None], 'min_samples_split': [1, 2, 3, 4, 5, 6, 7, 8, 9, 10], 'min_samples_leaf': [1, 2, 3, 4, 5, 6, 7, 8, 9, 10], 'bootstrap': [True, False]}\n"
     ]
    }
   ],
   "source": [
    "from sklearn.model_selection import RandomizedSearchCV\n",
    "\n",
    "# Number of trees in random forest\n",
    "\n",
    "n_estimators = [int(x) for x in np.linspace(start = 100, stop = 2000, num = 10)]\n",
    "\n",
    "# Number of features to consider at every split\n",
    "\n",
    "max_features = ['auto', 'sqrt']\n",
    "\n",
    "# Maximum number of levels in tree\n",
    "\n",
    "max_depth = [int(x) for x in np.linspace(10, 110, num = 11)]\n",
    "\n",
    "max_depth.append(None)\n",
    "\n",
    "# Minimum number of samples required to split a node\n",
    "\n",
    "min_samples_split = [1,2,3,4,5,6,7,8,9,10]\n",
    "\n",
    "# Minimum number of samples required at each leaf node\n",
    "\n",
    "min_samples_leaf = [1, 2, 3, 4, 5, 6, 7, 8, 9, 10]\n",
    "\n",
    "# Method of selecting samples for training each tree\n",
    "\n",
    "bootstrap = [True, False]\n",
    "\n",
    "# Create the random grid\n",
    "\n",
    "random_grid = {'n_estimators': n_estimators,\n",
    "               'max_features': max_features,\n",
    "               'max_depth': max_depth,\n",
    "               'min_samples_split': min_samples_split,\n",
    "               'min_samples_leaf': min_samples_leaf,\n",
    "               'bootstrap': bootstrap}\n",
    "\n",
    "print(random_grid)\n",
    "\n",
    "# {'bootstrap': [True, False],\n",
    "#  'max_depth': [10, 20, 30, 40, 50, 60, 70, 80, 90, 100, None],\n",
    "#  'max_features': ['auto', 'sqrt'],\n",
    "#  'min_samples_leaf': [1, 2, 4],\n",
    "#  'min_samples_split': [2, 5, 10],\n",
    "#  'n_estimators': [200, 400, 600, 800, 1000, 1200, 1400, 1600, 1800, 2000]}"
   ]
  },
  {
   "cell_type": "code",
   "execution_count": null,
   "metadata": {},
   "outputs": [],
   "source": [
    "from sklearn.model_selection import RandomizedSearchCV\n",
    "\n",
    "n_estimators = [int(x) for x in np.linspace(start = 100, stop = 2000, num = 10)]\n",
    "\n",
    "max_features = ['auto', 'sqrt']\n",
    "\n",
    "max_depth = [int(x) for x in np.linspace(10, 110, num = 11)]\n",
    "\n",
    "max_depth.append(None)\n",
    "\n",
    "min_samples_split = [1,2,3,4,5,6,7,8,9,10]\n",
    "\n",
    "min_samples_leaf = [1, 2, 3, 4, 5, 6, 7, 8, 9, 10]\n",
    "\n",
    "bootstrap = [True, False]\n",
    "\n",
    "random_grid = {'n_estimators': n_estimators,\n",
    "               'max_features': max_features,\n",
    "               'max_depth': max_depth,\n",
    "               'min_samples_split': min_samples_split,\n",
    "               'min_samples_leaf': min_samples_leaf,\n",
    "               'bootstrap': bootstrap}"
   ]
  },
  {
   "cell_type": "code",
   "execution_count": 95,
   "metadata": {},
   "outputs": [
    {
     "name": "stdout",
     "output_type": "stream",
     "text": [
      "Fitting 3 folds for each of 100 candidates, totalling 300 fits\n"
     ]
    },
    {
     "name": "stderr",
     "output_type": "stream",
     "text": [
      "[Parallel(n_jobs=-1)]: Using backend LokyBackend with 8 concurrent workers.\n",
      "[Parallel(n_jobs=-1)]: Done  25 tasks      | elapsed:   18.1s\n",
      "[Parallel(n_jobs=-1)]: Done 146 tasks      | elapsed:  1.7min\n",
      "[Parallel(n_jobs=-1)]: Done 300 out of 300 | elapsed:  3.7min finished\n"
     ]
    },
    {
     "name": "stdout",
     "output_type": "stream",
     "text": [
      "LGBMClassifier(bootstrap=False, max_depth=40, max_features='sqrt',\n",
      "               min_samples_leaf=5, min_samples_split=7)\n"
     ]
    }
   ],
   "source": [
    "lg_cl = LGBMClassifier()\n",
    "\n",
    "lg_random = RandomizedSearchCV(estimator = lg_cl, param_distributions = random_grid, n_iter = 100, cv = 3, verbose=2, n_jobs = -1)\n",
    "\n",
    "lg_random.fit(X_train, y_train)\n",
    "print(lg_random.best_estimator_)"
   ]
  },
  {
   "cell_type": "code",
   "execution_count": 96,
   "metadata": {},
   "outputs": [],
   "source": [
    "lgb_random_best = LGBMClassifier(bootstrap=False, max_depth=40, max_features='sqrt',\n",
    "               min_samples_leaf=5, min_samples_split=7)"
   ]
  },
  {
   "cell_type": "code",
   "execution_count": 97,
   "metadata": {
    "scrolled": true
   },
   "outputs": [
    {
     "data": {
      "text/plain": [
       "LGBMClassifier(bootstrap=False, max_depth=40, max_features='sqrt',\n",
       "               min_samples_leaf=5, min_samples_split=7)"
      ]
     },
     "execution_count": 97,
     "metadata": {},
     "output_type": "execute_result"
    }
   ],
   "source": [
    "lgb_random_best.fit(X_train, y_train)"
   ]
  },
  {
   "cell_type": "code",
   "execution_count": 98,
   "metadata": {},
   "outputs": [
    {
     "name": "stdout",
     "output_type": "stream",
     "text": [
      "pred_proba()결과 Shape : (4521, 2)\n",
      "pred_proba array에서 앞 3개만 샘플로 추출 \n",
      ": [[0.96855366 0.03144634]\n",
      " [0.95146942 0.04853058]\n",
      " [0.96443795 0.03556205]]\n",
      "두개의 class 중에서 더 큰 확률을 클래스 값으로 예측 \n",
      " [[0.96855366 0.03144634 0.96855366 0.03144634]\n",
      " [0.95146942 0.04853058 0.95146942 0.04853058]\n",
      " [0.96443795 0.03556205 0.96443795 0.03556205]]\n"
     ]
    }
   ],
   "source": [
    "## 1 ##\n",
    "\n",
    "pred_proba = lgb_random_best.predict_proba(X_test)\n",
    "pred  = lgb_random_best.predict_proba(X_test)\n",
    "print('pred_proba()결과 Shape : {0}'.format(pred_proba.shape))\n",
    "print('pred_proba array에서 앞 3개만 샘플로 추출 \\n:', pred_proba[:3])\n",
    "\n",
    "# 예측 확률 array 와 예측 결과값 array 를 concatenate 하여 예측 확률과 결과값을 한눈에 확인\n",
    "pred_proba_result = np.concatenate([pred_proba , pred.reshape(-1,2)],axis=1)\n",
    "print('두개의 class 중에서 더 큰 확률을 클래스 값으로 예측 \\n',pred_proba_result[:3])\n"
   ]
  },
  {
   "cell_type": "code",
   "execution_count": 99,
   "metadata": {},
   "outputs": [
    {
     "name": "stdout",
     "output_type": "stream",
     "text": [
      "오차 행렬\n",
      "[[3879  105]\n",
      " [ 381  156]]\n",
      "정확도: 0.8925, 정밀도: 0.5977, 재현율: 0.2905, F1_score:  0.290503\n"
     ]
    }
   ],
   "source": [
    "## 2\n",
    "\n",
    "from sklearn.preprocessing import Binarizer\n",
    "\n",
    "#Binarizer의 threshold 설정값. 분류 결정 임곗값임.  \n",
    "custom_threshold = 0.5\n",
    "\n",
    "# predict_proba( ) 반환값의 두번째 컬럼 , 즉 Positive 클래스 컬럼 하나만 추출하여 Binarizer를 적용\n",
    "pred_proba_1 = pred_proba[:,1].reshape(-1,1)\n",
    "\n",
    "binarizer = Binarizer(threshold=custom_threshold).fit(pred_proba_1) \n",
    "custom_predict = binarizer.transform(pred_proba_1)\n",
    "\n",
    "get_clf_eval(y_test, custom_predict)"
   ]
  },
  {
   "cell_type": "code",
   "execution_count": 100,
   "metadata": {},
   "outputs": [],
   "source": [
    "from sklearn.metrics import precision_recall_curve\n",
    "\n",
    "# 레이블 값이 1일때의 예측 확률을 추출 \n",
    "pred_proba_class1 = lgb_random_best.predict_proba(X_test)[:, 1] ###"
   ]
  },
  {
   "cell_type": "code",
   "execution_count": 101,
   "metadata": {},
   "outputs": [
    {
     "data": {
      "image/png": "[encoded data removed]",
      "text/plain": [
       "<Figure size 576x432 with 1 Axes>"
      ]
     },
     "metadata": {
      "needs_background": "light"
     },
     "output_type": "display_data"
    }
   ],
   "source": [
    "import matplotlib.pyplot as plt\n",
    "import matplotlib.ticker as ticker\n",
    "%matplotlib inline\n",
    "\n",
    "def precision_recall_curve_plot(y_test, pred_proba_c1):\n",
    "    # threshold ndarray와 이 threshold에 따른 정밀도, 재현율 ndarray 추출. \n",
    "    precisions, recalls, thresholds = precision_recall_curve( y_test, pred_proba_c1)\n",
    "    \n",
    "    # X축을 threshold값으로, Y축은 정밀도, 재현율 값으로 각각 Plot 수행. 정밀도는 점선으로 표시\n",
    "    plt.figure(figsize=(8,6))\n",
    "    threshold_boundary = thresholds.shape[0]\n",
    "    plt.plot(thresholds, precisions[0:threshold_boundary], linestyle='--', label='precision')\n",
    "    plt.plot(thresholds, recalls[0:threshold_boundary],label='recall')\n",
    "    \n",
    "    # threshold 값 X 축의 Scale을 0.1 단위로 변경\n",
    "    start, end = plt.xlim()\n",
    "    plt.xticks(np.round(np.arange(start, end, 0.1),2))\n",
    "    \n",
    "    # x축, y축 label과 legend, 그리고 grid 설정\n",
    "    plt.xlabel('Threshold value'); plt.ylabel('Precision and Recall value')\n",
    "    plt.legend(); plt.grid()\n",
    "    plt.show()\n",
    "    \n",
    "precision_recall_curve_plot(y_test, lgb_random_best.predict_proba(X_test)[:, 1]) ##\n"
   ]
  },
  {
   "cell_type": "code",
   "execution_count": 102,
   "metadata": {},
   "outputs": [
    {
     "data": {
      "text/plain": [
       "(0.2, 0.5077)"
      ]
     },
     "execution_count": 102,
     "metadata": {},
     "output_type": "execute_result"
    }
   ],
   "source": [
    "def Find_threshold(model, X_test, y_test):\n",
    "    thresholds = np.arange(0,1,0.05)\n",
    "    threshold_count = []\n",
    "    pred_proba=model.predict_proba(X_test)\n",
    "    pred_proba_1 = pred_proba[:,1].reshape(-1,1)\n",
    "    for threshold in thresholds:\n",
    "        binarizer = Binarizer(threshold=threshold)\n",
    "        model_cl_pred = binarizer.transform(pred_proba_1)\n",
    "        threshold_count.append([threshold, metrics.f1_score(model_cl_pred, y_test)])\n",
    "\n",
    "    MAX=thresholds[np.array(threshold_count)[:,1].argmax()]\n",
    "    \n",
    "    thresholds = np.arange(MAX-0.05,MAX+0.05,0.005)\n",
    "    threshold_count = []\n",
    "    for threshold in thresholds:\n",
    "        binarizer = Binarizer(threshold=threshold)\n",
    "        model_cl_pred = binarizer.transform(pred_proba_1)\n",
    "        #threshold_count.append([threshold, metrics.f1_score(log_cl_pred, y_test)])\n",
    "        #print('threshold: {0:.4f}, f1_score: {1:.4f}'.format(threshold,metrics.f1_score(model_cl_pred, y_test)))\n",
    "        threshold_count.append([threshold, metrics.f1_score(model_cl_pred, y_test)])\n",
    "    \n",
    "    return np.round(thresholds[np.array(threshold_count)[:,1].argmax()],4), np.round(metrics.f1_score(Binarizer(threshold=thresholds[np.array(threshold_count)[:,1].argmax()]).transform(pred_proba_1), y_test),4)\n",
    "\n",
    "Find_threshold(lgb_random_best, X_test, y_test)"
   ]
  },
  {
   "cell_type": "code",
   "execution_count": 104,
   "metadata": {},
   "outputs": [
    {
     "name": "stdout",
     "output_type": "stream",
     "text": [
      "오차 행렬\n",
      "[[3595  389]\n",
      " [ 222  315]]\n",
      "정확도: 0.8649, 정밀도: 0.4474, 재현율: 0.5866, F1_score:  0.586592\n"
     ]
    }
   ],
   "source": [
    "# Binarizer의 베스트 threshold 설정값 지정 \n",
    "\n",
    "custom_threshold = 0.2\n",
    "pred_proba_1 = pred_proba[:,1].reshape(-1,1)\n",
    "binarizer = Binarizer(threshold=custom_threshold).fit(pred_proba_1) \n",
    "custom_predict = binarizer.transform(pred_proba_1)\n",
    "\n",
    "get_clf_eval(y_test , custom_predict)"
   ]
  },
  {
   "cell_type": "code",
   "execution_count": 105,
   "metadata": {},
   "outputs": [],
   "source": [
    "test = pd.read_csv('./test_dummies.csv')\n",
    "pred_proba_1 = lgb_random_best.predict_proba(test)\n",
    "binarizer_pred = Binarizer(threshold=0.2).transform(pred_proba_1[:,1].reshape(-1,1)) \n",
    "binarizer_pred = binarizer_pred.reshape(-1,)\n",
    "submit = pd.read_csv('./sample_submission.csv')\n",
    "submit['y'] = binarizer_pred\n",
    "submit['y'] = submit.y.astype('bool')\n",
    "submit.to_csv('./under_OSS_0.2_randomgrid.csv', index = False)"
   ]
  },
  {
   "cell_type": "markdown",
   "metadata": {},
   "source": [
    "## BaysianOptimization"
   ]
  },
  {
   "cell_type": "code",
   "execution_count": 106,
   "metadata": {},
   "outputs": [],
   "source": [
    "bayes_params = {\n",
    "    'num_leaves': (24, 45),\n",
    "    'colsample_bytree':(0.5, 1), \n",
    "    'subsample': (0.5, 1),\n",
    "    'max_depth': (4, 12),\n",
    "    'reg_alpha': (0, 0.5),\n",
    "    'reg_lambda': (0, 0.5), \n",
    "    'min_split_gain': (0.001, 0.1),\n",
    "    'min_child_weight':(5, 50)\n",
    "}"
   ]
  },
  {
   "cell_type": "code",
   "execution_count": 107,
   "metadata": {},
   "outputs": [],
   "source": [
    "from lightgbm import LGBMClassifier\n",
    "from sklearn.metrics import roc_auc_score\n",
    "\n",
    "def lgb_roc_eval(num_leaves, colsample_bytree, subsample, max_depth, reg_alpha, reg_lambda, min_split_gain, min_child_weight):\n",
    "    \n",
    "    params = {\n",
    "        \"n_estimator\":200,\n",
    "        \"learning_rate\":0.02,\n",
    "        'num_leaves': int(round(num_leaves)),\n",
    "        'colsample_bytree': colsample_bytree, \n",
    "        'subsample': subsample,\n",
    "        'max_depth': int(round(max_depth)),\n",
    "        'reg_alpha': reg_alpha,\n",
    "        'reg_lambda': reg_lambda, \n",
    "        'min_split_gain': min_split_gain,\n",
    "        'min_child_weight': min_child_weight,\n",
    "        'verbosity': -1\n",
    "    }\n",
    "    print(\"params:\", params)\n",
    "    lgb_model = LGBMClassifier(**params)\n",
    "    lgb_model.fit(X_train, y_train, eval_set=[(X_test, y_test)], early_stopping_rounds=30, eval_metric=\"auc\", verbose=100 )\n",
    "    best_iter = lgb_model.best_iteration_\n",
    "    print('best_iter:', best_iter)\n",
    "    valid_proba = lgb_model.predict_proba(X_test, num_iteration=best_iter)[:, 1]\n",
    "    roc_preds = roc_auc_score(y_test, valid_proba)\n",
    "    print('roc_auc:', roc_preds)\n",
    "    return roc_preds\n",
    "    \n",
    "    "
   ]
  },
  {
   "cell_type": "code",
   "execution_count": 108,
   "metadata": {},
   "outputs": [],
   "source": [
    "from bayes_opt import BayesianOptimization\n",
    "\n",
    "BO_lgb = BayesianOptimization(lgb_roc_eval, bayes_params, random_state=0)\n"
   ]
  },
  {
   "cell_type": "code",
   "execution_count": 109,
   "metadata": {
    "scrolled": true
   },
   "outputs": [
    {
     "name": "stdout",
     "output_type": "stream",
     "text": [
      "|   iter    |  target   | colsam... | max_depth | min_ch... | min_sp... | num_le... | reg_alpha | reg_la... | subsample |\n",
      "-------------------------------------------------------------------------------------------------------------------------\n",
      "params: {'n_estimator': 200, 'learning_rate': 0.02, 'num_leaves': 33, 'colsample_bytree': 0.7744067519636624, 'subsample': 0.9458865003910399, 'max_depth': 10, 'reg_alpha': 0.32294705653332806, 'reg_lambda': 0.21879360563134626, 'min_split_gain': 0.05494343511669279, 'min_child_weight': 32.12435192322397, 'verbosity': -1}\n",
      "Training until validation scores don't improve for 30 rounds\n",
      "[100]\tvalid_0's auc: 0.796566\tvalid_0's binary_logloss: 0.294599\n",
      "Did not meet early stopping. Best iteration is:\n",
      "[100]\tvalid_0's auc: 0.796566\tvalid_0's binary_logloss: 0.294599\n",
      "best_iter: 100\n",
      "roc_auc: 0.796565919170163\n",
      "| \u001b[0m 1       \u001b[0m | \u001b[0m 0.7966  \u001b[0m | \u001b[0m 0.7744  \u001b[0m | \u001b[0m 9.722   \u001b[0m | \u001b[0m 32.12   \u001b[0m | \u001b[0m 0.05494 \u001b[0m | \u001b[0m 32.9    \u001b[0m | \u001b[0m 0.3229  \u001b[0m | \u001b[0m 0.2188  \u001b[0m | \u001b[0m 0.9459  \u001b[0m |\n",
      "params: {'n_estimator': 200, 'learning_rate': 0.02, 'num_leaves': 36, 'colsample_bytree': 0.9818313802505146, 'subsample': 0.5435646498507704, 'max_depth': 7, 'reg_alpha': 0.4627983191463305, 'reg_lambda': 0.03551802909894347, 'min_split_gain': 0.05336059705553755, 'min_child_weight': 40.627626713719906, 'verbosity': -1}\n",
      "Training until validation scores don't improve for 30 rounds\n",
      "[100]\tvalid_0's auc: 0.790317\tvalid_0's binary_logloss: 0.298174\n",
      "Did not meet early stopping. Best iteration is:\n",
      "[100]\tvalid_0's auc: 0.790317\tvalid_0's binary_logloss: 0.298174\n",
      "best_iter: 100\n",
      "roc_auc: 0.7903167605244068\n",
      "| \u001b[0m 2       \u001b[0m | \u001b[0m 0.7903  \u001b[0m | \u001b[0m 0.9818  \u001b[0m | \u001b[0m 7.068   \u001b[0m | \u001b[0m 40.63   \u001b[0m | \u001b[0m 0.05336 \u001b[0m | \u001b[0m 35.93   \u001b[0m | \u001b[0m 0.4628  \u001b[0m | \u001b[0m 0.03552 \u001b[0m | \u001b[0m 0.5436  \u001b[0m |\n",
      "params: {'n_estimator': 200, 'learning_rate': 0.02, 'num_leaves': 45, 'colsample_bytree': 0.5101091987201629, 'subsample': 0.8902645881432277, 'max_depth': 11, 'reg_alpha': 0.3995792821083618, 'reg_lambda': 0.23073968112646592, 'min_split_gain': 0.08713120267643511, 'min_child_weight': 40.01705379274327, 'verbosity': -1}\n",
      "Training until validation scores don't improve for 30 rounds\n",
      "[100]\tvalid_0's auc: 0.793785\tvalid_0's binary_logloss: 0.29865\n",
      "Did not meet early stopping. Best iteration is:\n",
      "[96]\tvalid_0's auc: 0.794026\tvalid_0's binary_logloss: 0.299191\n",
      "best_iter: 96\n",
      "roc_auc: 0.7940257304824512\n",
      "| \u001b[0m 3       \u001b[0m | \u001b[0m 0.794   \u001b[0m | \u001b[0m 0.5101  \u001b[0m | \u001b[0m 10.66   \u001b[0m | \u001b[0m 40.02   \u001b[0m | \u001b[0m 0.08713 \u001b[0m | \u001b[0m 44.55   \u001b[0m | \u001b[0m 0.3996  \u001b[0m | \u001b[0m 0.2307  \u001b[0m | \u001b[0m 0.8903  \u001b[0m |\n",
      "params: {'n_estimator': 200, 'learning_rate': 0.02, 'num_leaves': 35, 'colsample_bytree': 0.5591372129344666, 'subsample': 0.8871168447171083, 'max_depth': 9, 'reg_alpha': 0.2073309699952618, 'reg_lambda': 0.13227780605231348, 'min_split_gain': 0.09452222278790881, 'min_child_weight': 11.450897933407088, 'verbosity': -1}\n",
      "Training until validation scores don't improve for 30 rounds\n",
      "[100]\tvalid_0's auc: 0.802662\tvalid_0's binary_logloss: 0.29191\n",
      "Did not meet early stopping. Best iteration is:\n",
      "[98]\tvalid_0's auc: 0.802987\tvalid_0's binary_logloss: 0.292115\n",
      "best_iter: 98\n",
      "roc_auc: 0.8029873217263842\n",
      "| \u001b[95m 4       \u001b[0m | \u001b[95m 0.803   \u001b[0m | \u001b[95m 0.5591  \u001b[0m | \u001b[95m 9.119   \u001b[0m | \u001b[95m 11.45   \u001b[0m | \u001b[95m 0.09452 \u001b[0m | \u001b[95m 34.96   \u001b[0m | \u001b[95m 0.2073  \u001b[0m | \u001b[95m 0.1323  \u001b[0m | \u001b[95m 0.8871  \u001b[0m |\n",
      "params: {'n_estimator': 200, 'learning_rate': 0.02, 'num_leaves': 37, 'colsample_bytree': 0.7280751661082743, 'subsample': 0.8409101495517417, 'max_depth': 9, 'reg_alpha': 0.30846699843737846, 'reg_lambda': 0.4718740392573121, 'min_split_gain': 0.062145914210511834, 'min_child_weight': 5.845541019635982, 'verbosity': -1}\n",
      "Training until validation scores don't improve for 30 rounds\n",
      "Early stopping, best iteration is:\n",
      "[60]\tvalid_0's auc: 0.806439\tvalid_0's binary_logloss: 0.296707\n",
      "best_iter: 60\n",
      "roc_auc: 0.8064394449305602\n",
      "| \u001b[95m 5       \u001b[0m | \u001b[95m 0.8064  \u001b[0m | \u001b[95m 0.7281  \u001b[0m | \u001b[95m 8.547   \u001b[0m | \u001b[95m 5.846   \u001b[0m | \u001b[95m 0.06215 \u001b[0m | \u001b[95m 36.85   \u001b[0m | \u001b[95m 0.3085  \u001b[0m | \u001b[95m 0.4719  \u001b[0m | \u001b[95m 0.8409  \u001b[0m |\n",
      "params: {'n_estimator': 200, 'learning_rate': 0.02, 'num_leaves': 45, 'colsample_bytree': 1.0, 'subsample': 0.5, 'max_depth': 4, 'reg_alpha': 0.0, 'reg_lambda': 0.5, 'min_split_gain': 0.001, 'min_child_weight': 5.0, 'verbosity': -1}\n",
      "Training until validation scores don't improve for 30 rounds\n",
      "[100]\tvalid_0's auc: 0.783246\tvalid_0's binary_logloss: 0.305699\n",
      "Did not meet early stopping. Best iteration is:\n",
      "[100]\tvalid_0's auc: 0.783246\tvalid_0's binary_logloss: 0.305699\n",
      "best_iter: 100\n",
      "roc_auc: 0.7832461129433937\n",
      "| \u001b[0m 6       \u001b[0m | \u001b[0m 0.7832  \u001b[0m | \u001b[0m 1.0     \u001b[0m | \u001b[0m 4.0     \u001b[0m | \u001b[0m 5.0     \u001b[0m | \u001b[0m 0.001   \u001b[0m | \u001b[0m 45.0    \u001b[0m | \u001b[0m 0.0     \u001b[0m | \u001b[0m 0.5     \u001b[0m | \u001b[0m 0.5     \u001b[0m |\n",
      "params: {'n_estimator': 200, 'learning_rate': 0.02, 'num_leaves': 33, 'colsample_bytree': 0.5908266608125428, 'subsample': 0.9704069902166567, 'max_depth': 10, 'reg_alpha': 0.4790182065192246, 'reg_lambda': 0.4963664850551089, 'min_split_gain': 0.0826092851323336, 'min_child_weight': 6.594498053909639, 'verbosity': -1}\n",
      "Training until validation scores don't improve for 30 rounds\n",
      "[100]\tvalid_0's auc: 0.804508\tvalid_0's binary_logloss: 0.290326\n",
      "Did not meet early stopping. Best iteration is:\n",
      "[86]\tvalid_0's auc: 0.80517\tvalid_0's binary_logloss: 0.292377\n",
      "best_iter: 86\n",
      "roc_auc: 0.8051697011509726\n",
      "| \u001b[0m 7       \u001b[0m | \u001b[0m 0.8052  \u001b[0m | \u001b[0m 0.5908  \u001b[0m | \u001b[0m 10.45   \u001b[0m | \u001b[0m 6.594   \u001b[0m | \u001b[0m 0.08261 \u001b[0m | \u001b[0m 33.39   \u001b[0m | \u001b[0m 0.479   \u001b[0m | \u001b[0m 0.4964  \u001b[0m | \u001b[0m 0.9704  \u001b[0m |\n",
      "params: {'n_estimator': 200, 'learning_rate': 0.02, 'num_leaves': 32, 'colsample_bytree': 0.7990954557574014, 'subsample': 0.5843402273206101, 'max_depth': 4, 'reg_alpha': 0.0, 'reg_lambda': 0.3320018719715821, 'min_split_gain': 0.1, 'min_child_weight': 5.614301556728107, 'verbosity': -1}\n",
      "Training until validation scores don't improve for 30 rounds\n",
      "[100]\tvalid_0's auc: 0.783418\tvalid_0's binary_logloss: 0.306092\n",
      "Did not meet early stopping. Best iteration is:\n",
      "[100]\tvalid_0's auc: 0.783418\tvalid_0's binary_logloss: 0.306092\n",
      "best_iter: 100\n",
      "roc_auc: 0.7834183568538586\n",
      "| \u001b[0m 8       \u001b[0m | \u001b[0m 0.7834  \u001b[0m | \u001b[0m 0.7991  \u001b[0m | \u001b[0m 4.293   \u001b[0m | \u001b[0m 5.614   \u001b[0m | \u001b[0m 0.1     \u001b[0m | \u001b[0m 32.13   \u001b[0m | \u001b[0m 0.0     \u001b[0m | \u001b[0m 0.332   \u001b[0m | \u001b[0m 0.5843  \u001b[0m |\n",
      "params: {'n_estimator': 200, 'learning_rate': 0.02, 'num_leaves': 37, 'colsample_bytree': 0.5954554024394456, 'subsample': 1.0, 'max_depth': 11, 'reg_alpha': 0.46499560551958374, 'reg_lambda': 0.4274302866810839, 'min_split_gain': 0.06679736545485095, 'min_child_weight': 7.955690035867051, 'verbosity': -1}\n",
      "Training until validation scores don't improve for 30 rounds\n",
      "Early stopping, best iteration is:\n",
      "[55]\tvalid_0's auc: 0.804151\tvalid_0's binary_logloss: 0.300639\n",
      "best_iter: 55\n",
      "roc_auc: 0.804150727677937\n",
      "| \u001b[0m 9       \u001b[0m | \u001b[0m 0.8042  \u001b[0m | \u001b[0m 0.5955  \u001b[0m | \u001b[0m 11.25   \u001b[0m | \u001b[0m 7.956   \u001b[0m | \u001b[0m 0.0668  \u001b[0m | \u001b[0m 36.72   \u001b[0m | \u001b[0m 0.465   \u001b[0m | \u001b[0m 0.4274  \u001b[0m | \u001b[0m 1.0     \u001b[0m |\n",
      "params: {'n_estimator': 200, 'learning_rate': 0.02, 'num_leaves': 31, 'colsample_bytree': 0.9658176379629984, 'subsample': 0.5163845629036936, 'max_depth': 12, 'reg_alpha': 0.2627407105071365, 'reg_lambda': 0.07411478958390882, 'min_split_gain': 0.09184153744564923, 'min_child_weight': 10.499385712336355, 'verbosity': -1}\n",
      "Training until validation scores don't improve for 30 rounds\n",
      "[100]\tvalid_0's auc: 0.800819\tvalid_0's binary_logloss: 0.289707\n",
      "Did not meet early stopping. Best iteration is:\n",
      "[100]\tvalid_0's auc: 0.800819\tvalid_0's binary_logloss: 0.289707\n",
      "best_iter: 100\n",
      "roc_auc: 0.8008189648725255\n",
      "| \u001b[0m 10      \u001b[0m | \u001b[0m 0.8008  \u001b[0m | \u001b[0m 0.9658  \u001b[0m | \u001b[0m 11.59   \u001b[0m | \u001b[0m 10.5    \u001b[0m | \u001b[0m 0.09184 \u001b[0m | \u001b[0m 30.51   \u001b[0m | \u001b[0m 0.2627  \u001b[0m | \u001b[0m 0.07411 \u001b[0m | \u001b[0m 0.5164  \u001b[0m |\n",
      "params: {'n_estimator': 200, 'learning_rate': 0.02, 'num_leaves': 39, 'colsample_bytree': 0.925892563939883, 'subsample': 0.7772197107236947, 'max_depth': 12, 'reg_alpha': 0.45165444796328524, 'reg_lambda': 0.35688575786882437, 'min_split_gain': 0.09528214558595513, 'min_child_weight': 5.310954519115291, 'verbosity': -1}\n",
      "Training until validation scores don't improve for 30 rounds\n",
      "[100]\tvalid_0's auc: 0.801284\tvalid_0's binary_logloss: 0.28928\n",
      "Did not meet early stopping. Best iteration is:\n",
      "[94]\tvalid_0's auc: 0.801622\tvalid_0's binary_logloss: 0.289825\n",
      "best_iter: 94\n",
      "roc_auc: 0.8016217570468093\n",
      "| \u001b[0m 11      \u001b[0m | \u001b[0m 0.8016  \u001b[0m | \u001b[0m 0.9259  \u001b[0m | \u001b[0m 11.96   \u001b[0m | \u001b[0m 5.311   \u001b[0m | \u001b[0m 0.09528 \u001b[0m | \u001b[0m 39.47   \u001b[0m | \u001b[0m 0.4517  \u001b[0m | \u001b[0m 0.3569  \u001b[0m | \u001b[0m 0.7772  \u001b[0m |\n",
      "params: {'n_estimator': 200, 'learning_rate': 0.02, 'num_leaves': 36, 'colsample_bytree': 1.0, 'subsample': 0.5, 'max_depth': 12, 'reg_alpha': 0.5, 'reg_lambda': 0.5, 'min_split_gain': 0.001, 'min_child_weight': 17.04800336938478, 'verbosity': -1}\n",
      "Training until validation scores don't improve for 30 rounds\n",
      "[100]\tvalid_0's auc: 0.797885\tvalid_0's binary_logloss: 0.291012\n",
      "Did not meet early stopping. Best iteration is:\n",
      "[99]\tvalid_0's auc: 0.798014\tvalid_0's binary_logloss: 0.291117\n",
      "best_iter: 99\n",
      "roc_auc: 0.7980139833075318\n",
      "| \u001b[0m 12      \u001b[0m | \u001b[0m 0.798   \u001b[0m | \u001b[0m 1.0     \u001b[0m | \u001b[0m 12.0    \u001b[0m | \u001b[0m 17.05   \u001b[0m | \u001b[0m 0.001   \u001b[0m | \u001b[0m 35.68   \u001b[0m | \u001b[0m 0.5     \u001b[0m | \u001b[0m 0.5     \u001b[0m | \u001b[0m 0.5     \u001b[0m |\n",
      "params: {'n_estimator': 200, 'learning_rate': 0.02, 'num_leaves': 40, 'colsample_bytree': 0.7169371993125843, 'subsample': 0.618017072533794, 'max_depth': 9, 'reg_alpha': 0.36268001137869466, 'reg_lambda': 0.19249302331481938, 'min_split_gain': 0.04602741885116075, 'min_child_weight': 12.307954647699844, 'verbosity': -1}\n",
      "Training until validation scores don't improve for 30 rounds\n",
      "[100]\tvalid_0's auc: 0.802055\tvalid_0's binary_logloss: 0.290484\n",
      "Did not meet early stopping. Best iteration is:\n",
      "[99]\tvalid_0's auc: 0.802114\tvalid_0's binary_logloss: 0.290556\n",
      "best_iter: 99\n",
      "roc_auc: 0.8021137155699146\n",
      "| \u001b[0m 13      \u001b[0m | \u001b[0m 0.8021  \u001b[0m | \u001b[0m 0.7169  \u001b[0m | \u001b[0m 8.675   \u001b[0m | \u001b[0m 12.31   \u001b[0m | \u001b[0m 0.04603 \u001b[0m | \u001b[0m 40.39   \u001b[0m | \u001b[0m 0.3627  \u001b[0m | \u001b[0m 0.1925  \u001b[0m | \u001b[0m 0.618   \u001b[0m |\n",
      "params: {'n_estimator': 200, 'learning_rate': 0.02, 'num_leaves': 39, 'colsample_bytree': 0.5, 'subsample': 1.0, 'max_depth': 4, 'reg_alpha': 0.07785721664664957, 'reg_lambda': 0.0, 'min_split_gain': 0.1, 'min_child_weight': 16.97320505033121, 'verbosity': -1}\n",
      "Training until validation scores don't improve for 30 rounds\n",
      "[100]\tvalid_0's auc: 0.788823\tvalid_0's binary_logloss: 0.304447\n",
      "Did not meet early stopping. Best iteration is:\n",
      "[100]\tvalid_0's auc: 0.788823\tvalid_0's binary_logloss: 0.304447\n",
      "best_iter: 100\n",
      "roc_auc: 0.7888228893226538\n",
      "| \u001b[0m 14      \u001b[0m | \u001b[0m 0.7888  \u001b[0m | \u001b[0m 0.5     \u001b[0m | \u001b[0m 4.279   \u001b[0m | \u001b[0m 16.97   \u001b[0m | \u001b[0m 0.1     \u001b[0m | \u001b[0m 38.64   \u001b[0m | \u001b[0m 0.07786 \u001b[0m | \u001b[0m 0.0     \u001b[0m | \u001b[0m 1.0     \u001b[0m |\n",
      "params: {'n_estimator': 200, 'learning_rate': 0.02, 'num_leaves': 35, 'colsample_bytree': 1.0, 'subsample': 0.5, 'max_depth': 12, 'reg_alpha': 0.0, 'reg_lambda': 0.0, 'min_split_gain': 0.001, 'min_child_weight': 5.0, 'verbosity': -1}\n",
      "Training until validation scores don't improve for 30 rounds\n",
      "[100]\tvalid_0's auc: 0.802614\tvalid_0's binary_logloss: 0.289027\n",
      "Did not meet early stopping. Best iteration is:\n",
      "[96]\tvalid_0's auc: 0.802748\tvalid_0's binary_logloss: 0.28931\n",
      "best_iter: 96\n",
      "roc_auc: 0.8027475357669036\n",
      "| \u001b[0m 15      \u001b[0m | \u001b[0m 0.8027  \u001b[0m | \u001b[0m 1.0     \u001b[0m | \u001b[0m 12.0    \u001b[0m | \u001b[0m 5.0     \u001b[0m | \u001b[0m 0.001   \u001b[0m | \u001b[0m 35.26   \u001b[0m | \u001b[0m 0.0     \u001b[0m | \u001b[0m 0.0     \u001b[0m | \u001b[0m 0.5     \u001b[0m |\n",
      "=========================================================================================================================\n"
     ]
    }
   ],
   "source": [
    "BO_lgb.maximize(init_points=5, n_iter=10)"
   ]
  },
  {
   "cell_type": "code",
   "execution_count": 110,
   "metadata": {},
   "outputs": [
    {
     "data": {
      "text/plain": [
       "{'target': 0.8064394449305602,\n",
       " 'params': {'colsample_bytree': 0.7280751661082743,\n",
       "  'max_depth': 8.547471590949188,\n",
       "  'min_child_weight': 5.845541019635982,\n",
       "  'min_split_gain': 0.062145914210511834,\n",
       "  'num_leaves': 36.85401017717085,\n",
       "  'reg_alpha': 0.30846699843737846,\n",
       "  'reg_lambda': 0.4718740392573121,\n",
       "  'subsample': 0.8409101495517417}}"
      ]
     },
     "execution_count": 110,
     "metadata": {},
     "output_type": "execute_result"
    }
   ],
   "source": [
    "BO_lgb.max"
   ]
  },
  {
   "cell_type": "code",
   "execution_count": 111,
   "metadata": {},
   "outputs": [
    {
     "name": "stdout",
     "output_type": "stream",
     "text": [
      "[1]\tvalid_0's auc: 0.755642\tvalid_0's binary_logloss: 0.361176\n",
      "Training until validation scores don't improve for 100 rounds\n",
      "[2]\tvalid_0's auc: 0.796754\tvalid_0's binary_logloss: 0.357849\n",
      "[3]\tvalid_0's auc: 0.800805\tvalid_0's binary_logloss: 0.354942\n",
      "[4]\tvalid_0's auc: 0.797208\tvalid_0's binary_logloss: 0.352393\n",
      "[5]\tvalid_0's auc: 0.797053\tvalid_0's binary_logloss: 0.350064\n",
      "[6]\tvalid_0's auc: 0.797028\tvalid_0's binary_logloss: 0.347862\n",
      "[7]\tvalid_0's auc: 0.797559\tvalid_0's binary_logloss: 0.345815\n",
      "[8]\tvalid_0's auc: 0.799448\tvalid_0's binary_logloss: 0.343342\n",
      "[9]\tvalid_0's auc: 0.800101\tvalid_0's binary_logloss: 0.341015\n",
      "[10]\tvalid_0's auc: 0.800144\tvalid_0's binary_logloss: 0.339326\n",
      "[11]\tvalid_0's auc: 0.801525\tvalid_0's binary_logloss: 0.33715\n",
      "[12]\tvalid_0's auc: 0.80088\tvalid_0's binary_logloss: 0.335912\n",
      "[13]\tvalid_0's auc: 0.800711\tvalid_0's binary_logloss: 0.334008\n",
      "[14]\tvalid_0's auc: 0.800504\tvalid_0's binary_logloss: 0.332529\n",
      "[15]\tvalid_0's auc: 0.799439\tvalid_0's binary_logloss: 0.331172\n",
      "[16]\tvalid_0's auc: 0.799436\tvalid_0's binary_logloss: 0.329718\n",
      "[17]\tvalid_0's auc: 0.798823\tvalid_0's binary_logloss: 0.32837\n",
      "[18]\tvalid_0's auc: 0.798768\tvalid_0's binary_logloss: 0.326948\n",
      "[19]\tvalid_0's auc: 0.801211\tvalid_0's binary_logloss: 0.325458\n",
      "[20]\tvalid_0's auc: 0.801248\tvalid_0's binary_logloss: 0.324301\n",
      "[21]\tvalid_0's auc: 0.80147\tvalid_0's binary_logloss: 0.322885\n",
      "[22]\tvalid_0's auc: 0.802026\tvalid_0's binary_logloss: 0.321495\n",
      "[23]\tvalid_0's auc: 0.802178\tvalid_0's binary_logloss: 0.320302\n",
      "[24]\tvalid_0's auc: 0.802409\tvalid_0's binary_logloss: 0.319109\n",
      "[25]\tvalid_0's auc: 0.802377\tvalid_0's binary_logloss: 0.317979\n",
      "[26]\tvalid_0's auc: 0.802527\tvalid_0's binary_logloss: 0.317066\n",
      "[27]\tvalid_0's auc: 0.802067\tvalid_0's binary_logloss: 0.316215\n",
      "[28]\tvalid_0's auc: 0.802316\tvalid_0's binary_logloss: 0.315275\n",
      "[29]\tvalid_0's auc: 0.802452\tvalid_0's binary_logloss: 0.314286\n",
      "[30]\tvalid_0's auc: 0.80381\tvalid_0's binary_logloss: 0.31327\n",
      "[31]\tvalid_0's auc: 0.804187\tvalid_0's binary_logloss: 0.312571\n",
      "[32]\tvalid_0's auc: 0.804259\tvalid_0's binary_logloss: 0.311766\n",
      "[33]\tvalid_0's auc: 0.804553\tvalid_0's binary_logloss: 0.310969\n",
      "[34]\tvalid_0's auc: 0.804848\tvalid_0's binary_logloss: 0.310179\n",
      "[35]\tvalid_0's auc: 0.804753\tvalid_0's binary_logloss: 0.309523\n",
      "[36]\tvalid_0's auc: 0.804775\tvalid_0's binary_logloss: 0.308727\n",
      "[37]\tvalid_0's auc: 0.804865\tvalid_0's binary_logloss: 0.308171\n",
      "[38]\tvalid_0's auc: 0.804648\tvalid_0's binary_logloss: 0.3074\n",
      "[39]\tvalid_0's auc: 0.805076\tvalid_0's binary_logloss: 0.30675\n",
      "[40]\tvalid_0's auc: 0.805046\tvalid_0's binary_logloss: 0.306068\n",
      "[41]\tvalid_0's auc: 0.805376\tvalid_0's binary_logloss: 0.305386\n",
      "[42]\tvalid_0's auc: 0.805728\tvalid_0's binary_logloss: 0.304732\n",
      "[43]\tvalid_0's auc: 0.805658\tvalid_0's binary_logloss: 0.30413\n",
      "[44]\tvalid_0's auc: 0.805781\tvalid_0's binary_logloss: 0.303497\n",
      "[45]\tvalid_0's auc: 0.805835\tvalid_0's binary_logloss: 0.303102\n",
      "[46]\tvalid_0's auc: 0.805886\tvalid_0's binary_logloss: 0.302532\n",
      "[47]\tvalid_0's auc: 0.805744\tvalid_0's binary_logloss: 0.302181\n",
      "[48]\tvalid_0's auc: 0.805739\tvalid_0's binary_logloss: 0.30161\n",
      "[49]\tvalid_0's auc: 0.805781\tvalid_0's binary_logloss: 0.301098\n",
      "[50]\tvalid_0's auc: 0.806385\tvalid_0's binary_logloss: 0.300533\n",
      "[51]\tvalid_0's auc: 0.80624\tvalid_0's binary_logloss: 0.300112\n",
      "[52]\tvalid_0's auc: 0.806303\tvalid_0's binary_logloss: 0.299704\n",
      "[53]\tvalid_0's auc: 0.806127\tvalid_0's binary_logloss: 0.299225\n",
      "[54]\tvalid_0's auc: 0.806419\tvalid_0's binary_logloss: 0.298731\n",
      "[55]\tvalid_0's auc: 0.806413\tvalid_0's binary_logloss: 0.298525\n",
      "[56]\tvalid_0's auc: 0.806245\tvalid_0's binary_logloss: 0.298216\n",
      "[57]\tvalid_0's auc: 0.805954\tvalid_0's binary_logloss: 0.297956\n",
      "[58]\tvalid_0's auc: 0.806152\tvalid_0's binary_logloss: 0.297529\n",
      "[59]\tvalid_0's auc: 0.806284\tvalid_0's binary_logloss: 0.297161\n",
      "[60]\tvalid_0's auc: 0.806439\tvalid_0's binary_logloss: 0.296707\n",
      "[61]\tvalid_0's auc: 0.806358\tvalid_0's binary_logloss: 0.296345\n",
      "[62]\tvalid_0's auc: 0.806283\tvalid_0's binary_logloss: 0.29607\n",
      "[63]\tvalid_0's auc: 0.806082\tvalid_0's binary_logloss: 0.295773\n",
      "[64]\tvalid_0's auc: 0.806025\tvalid_0's binary_logloss: 0.295527\n",
      "[65]\tvalid_0's auc: 0.805798\tvalid_0's binary_logloss: 0.295344\n",
      "[66]\tvalid_0's auc: 0.805847\tvalid_0's binary_logloss: 0.295055\n",
      "[67]\tvalid_0's auc: 0.805755\tvalid_0's binary_logloss: 0.294829\n",
      "[68]\tvalid_0's auc: 0.805585\tvalid_0's binary_logloss: 0.29462\n",
      "[69]\tvalid_0's auc: 0.805694\tvalid_0's binary_logloss: 0.294358\n",
      "[70]\tvalid_0's auc: 0.805395\tvalid_0's binary_logloss: 0.294163\n",
      "[71]\tvalid_0's auc: 0.805262\tvalid_0's binary_logloss: 0.293871\n",
      "[72]\tvalid_0's auc: 0.805118\tvalid_0's binary_logloss: 0.293636\n",
      "[73]\tvalid_0's auc: 0.805123\tvalid_0's binary_logloss: 0.293381\n",
      "[74]\tvalid_0's auc: 0.805246\tvalid_0's binary_logloss: 0.293136\n",
      "[75]\tvalid_0's auc: 0.805105\tvalid_0's binary_logloss: 0.292916\n",
      "[76]\tvalid_0's auc: 0.804904\tvalid_0's binary_logloss: 0.292627\n",
      "[77]\tvalid_0's auc: 0.80491\tvalid_0's binary_logloss: 0.292449\n",
      "[78]\tvalid_0's auc: 0.804839\tvalid_0's binary_logloss: 0.292277\n",
      "[79]\tvalid_0's auc: 0.804779\tvalid_0's binary_logloss: 0.292135\n",
      "[80]\tvalid_0's auc: 0.804771\tvalid_0's binary_logloss: 0.291954\n",
      "[81]\tvalid_0's auc: 0.804693\tvalid_0's binary_logloss: 0.291828\n",
      "[82]\tvalid_0's auc: 0.804938\tvalid_0's binary_logloss: 0.291532\n",
      "[83]\tvalid_0's auc: 0.804597\tvalid_0's binary_logloss: 0.291447\n",
      "[84]\tvalid_0's auc: 0.80456\tvalid_0's binary_logloss: 0.291236\n",
      "[85]\tvalid_0's auc: 0.804558\tvalid_0's binary_logloss: 0.291044\n",
      "[86]\tvalid_0's auc: 0.804814\tvalid_0's binary_logloss: 0.290793\n",
      "[87]\tvalid_0's auc: 0.804835\tvalid_0's binary_logloss: 0.290631\n",
      "[88]\tvalid_0's auc: 0.804664\tvalid_0's binary_logloss: 0.290546\n",
      "[89]\tvalid_0's auc: 0.80454\tvalid_0's binary_logloss: 0.290428\n",
      "[90]\tvalid_0's auc: 0.804516\tvalid_0's binary_logloss: 0.29029\n",
      "[91]\tvalid_0's auc: 0.804552\tvalid_0's binary_logloss: 0.290205\n",
      "[92]\tvalid_0's auc: 0.804636\tvalid_0's binary_logloss: 0.289984\n",
      "[93]\tvalid_0's auc: 0.80477\tvalid_0's binary_logloss: 0.289751\n",
      "[94]\tvalid_0's auc: 0.80484\tvalid_0's binary_logloss: 0.289574\n",
      "[95]\tvalid_0's auc: 0.804957\tvalid_0's binary_logloss: 0.289421\n",
      "[96]\tvalid_0's auc: 0.804924\tvalid_0's binary_logloss: 0.289289\n",
      "[97]\tvalid_0's auc: 0.804768\tvalid_0's binary_logloss: 0.2892\n",
      "[98]\tvalid_0's auc: 0.805028\tvalid_0's binary_logloss: 0.288989\n",
      "[99]\tvalid_0's auc: 0.804994\tvalid_0's binary_logloss: 0.288888\n",
      "[100]\tvalid_0's auc: 0.804951\tvalid_0's binary_logloss: 0.288786\n",
      "[101]\tvalid_0's auc: 0.804697\tvalid_0's binary_logloss: 0.288753\n",
      "[102]\tvalid_0's auc: 0.804835\tvalid_0's binary_logloss: 0.288564\n",
      "[103]\tvalid_0's auc: 0.804878\tvalid_0's binary_logloss: 0.288392\n",
      "[104]\tvalid_0's auc: 0.804847\tvalid_0's binary_logloss: 0.288284\n",
      "[105]\tvalid_0's auc: 0.804996\tvalid_0's binary_logloss: 0.288195\n",
      "[106]\tvalid_0's auc: 0.805104\tvalid_0's binary_logloss: 0.288141\n",
      "[107]\tvalid_0's auc: 0.805077\tvalid_0's binary_logloss: 0.28807\n",
      "[108]\tvalid_0's auc: 0.805104\tvalid_0's binary_logloss: 0.287977\n",
      "[109]\tvalid_0's auc: 0.805143\tvalid_0's binary_logloss: 0.287832\n",
      "[110]\tvalid_0's auc: 0.805184\tvalid_0's binary_logloss: 0.287734\n",
      "[111]\tvalid_0's auc: 0.805219\tvalid_0's binary_logloss: 0.287637\n",
      "[112]\tvalid_0's auc: 0.805112\tvalid_0's binary_logloss: 0.287588\n",
      "[113]\tvalid_0's auc: 0.805258\tvalid_0's binary_logloss: 0.287474\n",
      "[114]\tvalid_0's auc: 0.805088\tvalid_0's binary_logloss: 0.287453\n",
      "[115]\tvalid_0's auc: 0.805035\tvalid_0's binary_logloss: 0.287381\n",
      "[116]\tvalid_0's auc: 0.804939\tvalid_0's binary_logloss: 0.287354\n",
      "[117]\tvalid_0's auc: 0.804887\tvalid_0's binary_logloss: 0.287333\n",
      "[118]\tvalid_0's auc: 0.804934\tvalid_0's binary_logloss: 0.287214\n",
      "[119]\tvalid_0's auc: 0.804677\tvalid_0's binary_logloss: 0.287235\n",
      "[120]\tvalid_0's auc: 0.804648\tvalid_0's binary_logloss: 0.287223\n",
      "[121]\tvalid_0's auc: 0.804556\tvalid_0's binary_logloss: 0.287236\n",
      "[122]\tvalid_0's auc: 0.804534\tvalid_0's binary_logloss: 0.28721\n",
      "[123]\tvalid_0's auc: 0.80466\tvalid_0's binary_logloss: 0.287076\n",
      "[124]\tvalid_0's auc: 0.804832\tvalid_0's binary_logloss: 0.286952\n",
      "[125]\tvalid_0's auc: 0.804619\tvalid_0's binary_logloss: 0.286974\n",
      "[126]\tvalid_0's auc: 0.804857\tvalid_0's binary_logloss: 0.286873\n",
      "[127]\tvalid_0's auc: 0.804851\tvalid_0's binary_logloss: 0.286854\n",
      "[128]\tvalid_0's auc: 0.804947\tvalid_0's binary_logloss: 0.286725\n",
      "[129]\tvalid_0's auc: 0.805105\tvalid_0's binary_logloss: 0.286575\n",
      "[130]\tvalid_0's auc: 0.805165\tvalid_0's binary_logloss: 0.286488\n",
      "[131]\tvalid_0's auc: 0.805297\tvalid_0's binary_logloss: 0.286422\n",
      "[132]\tvalid_0's auc: 0.805076\tvalid_0's binary_logloss: 0.286427\n",
      "[133]\tvalid_0's auc: 0.805057\tvalid_0's binary_logloss: 0.28634\n",
      "[134]\tvalid_0's auc: 0.805192\tvalid_0's binary_logloss: 0.286188\n",
      "[135]\tvalid_0's auc: 0.805027\tvalid_0's binary_logloss: 0.286185\n",
      "[136]\tvalid_0's auc: 0.805096\tvalid_0's binary_logloss: 0.286067\n",
      "[137]\tvalid_0's auc: 0.804956\tvalid_0's binary_logloss: 0.286072\n",
      "[138]\tvalid_0's auc: 0.804959\tvalid_0's binary_logloss: 0.286003\n",
      "[139]\tvalid_0's auc: 0.804928\tvalid_0's binary_logloss: 0.285999\n",
      "[140]\tvalid_0's auc: 0.805078\tvalid_0's binary_logloss: 0.285897\n",
      "[141]\tvalid_0's auc: 0.804715\tvalid_0's binary_logloss: 0.285933\n",
      "[142]\tvalid_0's auc: 0.804612\tvalid_0's binary_logloss: 0.285918\n",
      "[143]\tvalid_0's auc: 0.804728\tvalid_0's binary_logloss: 0.285865\n",
      "[144]\tvalid_0's auc: 0.804553\tvalid_0's binary_logloss: 0.285869\n",
      "[145]\tvalid_0's auc: 0.804696\tvalid_0's binary_logloss: 0.285732\n",
      "[146]\tvalid_0's auc: 0.804862\tvalid_0's binary_logloss: 0.285673\n",
      "[147]\tvalid_0's auc: 0.804903\tvalid_0's binary_logloss: 0.285615\n",
      "[148]\tvalid_0's auc: 0.804996\tvalid_0's binary_logloss: 0.285544\n",
      "[149]\tvalid_0's auc: 0.804911\tvalid_0's binary_logloss: 0.285534\n",
      "[150]\tvalid_0's auc: 0.804973\tvalid_0's binary_logloss: 0.285472\n",
      "[151]\tvalid_0's auc: 0.804929\tvalid_0's binary_logloss: 0.285475\n",
      "[152]\tvalid_0's auc: 0.805184\tvalid_0's binary_logloss: 0.285293\n",
      "[153]\tvalid_0's auc: 0.805354\tvalid_0's binary_logloss: 0.28518\n",
      "[154]\tvalid_0's auc: 0.805323\tvalid_0's binary_logloss: 0.28508\n",
      "[155]\tvalid_0's auc: 0.805361\tvalid_0's binary_logloss: 0.285067\n",
      "[156]\tvalid_0's auc: 0.805391\tvalid_0's binary_logloss: 0.285026\n",
      "[157]\tvalid_0's auc: 0.805494\tvalid_0's binary_logloss: 0.284977\n",
      "[158]\tvalid_0's auc: 0.805628\tvalid_0's binary_logloss: 0.284832\n",
      "[159]\tvalid_0's auc: 0.805786\tvalid_0's binary_logloss: 0.284683\n",
      "[160]\tvalid_0's auc: 0.805727\tvalid_0's binary_logloss: 0.28467\n",
      "Early stopping, best iteration is:\n",
      "[60]\tvalid_0's auc: 0.806439\tvalid_0's binary_logloss: 0.296707\n",
      "ROC AUC: 0.8064\n"
     ]
    }
   ],
   "source": [
    "max_params = BO_lgb.max['params']\n",
    "\n",
    "max_params['num_leaves'] = int(round(max_params['num_leaves']))\n",
    "max_params['max_depth'] = int(round(max_params['max_depth']))\n",
    "\n",
    "lgbm_clf_bayes_best = LGBMClassifier(n_estimators=1000, learning_rate=0.02, **max_params)\n",
    "\n",
    "evals = [(X_test, y_test)]\n",
    "lgbm_clf_bayes_best.fit(X_train, y_train, early_stopping_rounds=100, eval_metric=\"auc\", eval_set=evals,\n",
    "                verbose=True)\n",
    "\n",
    "lgbm_roc_score = roc_auc_score(y_test, lgbm_clf_bayes_best.predict_proba(X_test)[:,1],average='macro')\n",
    "print('ROC AUC: {0:.4f}'.format(lgbm_roc_score))"
   ]
  },
  {
   "cell_type": "code",
   "execution_count": 112,
   "metadata": {},
   "outputs": [
    {
     "data": {
      "text/plain": [
       "LGBMClassifier(colsample_bytree=0.7280751661082743, learning_rate=0.02,\n",
       "               max_depth=9, min_child_weight=5.845541019635982,\n",
       "               min_split_gain=0.062145914210511834, n_estimators=1000,\n",
       "               num_leaves=37, reg_alpha=0.30846699843737846,\n",
       "               reg_lambda=0.4718740392573121, subsample=0.8409101495517417)"
      ]
     },
     "execution_count": 112,
     "metadata": {},
     "output_type": "execute_result"
    }
   ],
   "source": [
    "lgbm_clf_bayes_best"
   ]
  },
  {
   "cell_type": "code",
   "execution_count": 113,
   "metadata": {},
   "outputs": [
    {
     "data": {
      "text/plain": [
       "LGBMClassifier(colsample_bytree=0.7280751661082743, learning_rate=0.02,\n",
       "               max_depth=9, min_child_weight=5.845541019635982,\n",
       "               min_split_gain=0.062145914210511834, n_estimators=1000,\n",
       "               num_leaves=37, reg_alpha=0.30846699843737846,\n",
       "               reg_lambda=0.4718740392573121, subsample=0.8409101495517417)"
      ]
     },
     "execution_count": 113,
     "metadata": {},
     "output_type": "execute_result"
    }
   ],
   "source": [
    "lgbm_clf_bayes_best.fit(X_train, y_train)"
   ]
  },
  {
   "cell_type": "code",
   "execution_count": 114,
   "metadata": {},
   "outputs": [
    {
     "name": "stdout",
     "output_type": "stream",
     "text": [
      "pred_proba()결과 Shape : (4521, 2)\n",
      "pred_proba array에서 앞 3개만 샘플로 추출 \n",
      ": [[0.98031785 0.01968215]\n",
      " [0.94411939 0.05588061]\n",
      " [0.97845843 0.02154157]]\n",
      "두개의 class 중에서 더 큰 확률을 클래스 값으로 예측 \n",
      " [[0.98031785 0.01968215 0.95778395 0.04221605]\n",
      " [0.94411939 0.05588061 0.95439164 0.04560836]\n",
      " [0.97845843 0.02154157 0.94361479 0.05638521]]\n"
     ]
    }
   ],
   "source": [
    "## 1 ##\n",
    "\n",
    "pred_proba = lgbm_clf_bayes_best.predict_proba(X_test) ##\n",
    "pred  = lgbm_clf_best.predict_proba(X_test) ##\n",
    "print('pred_proba()결과 Shape : {0}'.format(pred_proba.shape))\n",
    "print('pred_proba array에서 앞 3개만 샘플로 추출 \\n:', pred_proba[:3])\n",
    "\n",
    "# 예측 확률 array 와 예측 결과값 array 를 concatenate 하여 예측 확률과 결과값을 한눈에 확인\n",
    "pred_proba_result = np.concatenate([pred_proba , pred.reshape(-1,2)],axis=1)\n",
    "print('두개의 class 중에서 더 큰 확률을 클래스 값으로 예측 \\n',pred_proba_result[:3])\n"
   ]
  },
  {
   "cell_type": "code",
   "execution_count": 115,
   "metadata": {},
   "outputs": [
    {
     "name": "stdout",
     "output_type": "stream",
     "text": [
      "오차 행렬\n",
      "[[3869  115]\n",
      " [ 380  157]]\n",
      "정확도: 0.8905, 정밀도: 0.5772, 재현율: 0.2924, F1_score:  0.292365\n"
     ]
    }
   ],
   "source": [
    "## 2\n",
    "\n",
    "from sklearn.preprocessing import Binarizer\n",
    "\n",
    "#Binarizer의 threshold 설정값. 분류 결정 임곗값임.  \n",
    "custom_threshold = 0.5\n",
    "\n",
    "# predict_proba( ) 반환값의 두번째 컬럼 , 즉 Positive 클래스 컬럼 하나만 추출하여 Binarizer를 적용\n",
    "pred_proba_1 = pred_proba[:,1].reshape(-1,1)\n",
    "\n",
    "binarizer = Binarizer(threshold=custom_threshold).fit(pred_proba_1) \n",
    "custom_predict = binarizer.transform(pred_proba_1)\n",
    "\n",
    "get_clf_eval(y_test, custom_predict)"
   ]
  },
  {
   "cell_type": "code",
   "execution_count": 116,
   "metadata": {},
   "outputs": [],
   "source": [
    "from sklearn.metrics import precision_recall_curve\n",
    "\n",
    "# 레이블 값이 1일때의 예측 확률을 추출 \n",
    "pred_proba_class1 = lgbm_clf_bayes_best.predict_proba(X_test)[:, 1] ###"
   ]
  },
  {
   "cell_type": "code",
   "execution_count": 117,
   "metadata": {},
   "outputs": [
    {
     "data": {
      "image/png": "[encoded data removed]",
      "text/plain": [
       "<Figure size 576x432 with 1 Axes>"
      ]
     },
     "metadata": {
      "needs_background": "light"
     },
     "output_type": "display_data"
    }
   ],
   "source": [
    "import matplotlib.pyplot as plt\n",
    "import matplotlib.ticker as ticker\n",
    "%matplotlib inline\n",
    "\n",
    "def precision_recall_curve_plot(y_test, pred_proba_c1):\n",
    "    # threshold ndarray와 이 threshold에 따른 정밀도, 재현율 ndarray 추출. \n",
    "    precisions, recalls, thresholds = precision_recall_curve( y_test, pred_proba_c1)\n",
    "    \n",
    "    # X축을 threshold값으로, Y축은 정밀도, 재현율 값으로 각각 Plot 수행. 정밀도는 점선으로 표시\n",
    "    plt.figure(figsize=(8,6))\n",
    "    threshold_boundary = thresholds.shape[0]\n",
    "    plt.plot(thresholds, precisions[0:threshold_boundary], linestyle='--', label='precision')\n",
    "    plt.plot(thresholds, recalls[0:threshold_boundary],label='recall')\n",
    "    \n",
    "    # threshold 값 X 축의 Scale을 0.1 단위로 변경\n",
    "    start, end = plt.xlim()\n",
    "    plt.xticks(np.round(np.arange(start, end, 0.1),2))\n",
    "    \n",
    "    # x축, y축 label과 legend, 그리고 grid 설정\n",
    "    plt.xlabel('Threshold value'); plt.ylabel('Precision and Recall value')\n",
    "    plt.legend(); plt.grid()\n",
    "    plt.show()\n",
    "    \n",
    "precision_recall_curve_plot(y_test, lgbm_clf_best.predict_proba(X_test)[:, 1] ) ####\n"
   ]
  },
  {
   "cell_type": "code",
   "execution_count": 118,
   "metadata": {},
   "outputs": [
    {
     "data": {
      "text/plain": [
       "(0.295, 0.5042)"
      ]
     },
     "execution_count": 118,
     "metadata": {},
     "output_type": "execute_result"
    }
   ],
   "source": [
    "def Find_threshold(model, X_test, y_test):\n",
    "    thresholds = np.arange(0,1,0.05)\n",
    "    threshold_count = []\n",
    "    pred_proba=model.predict_proba(X_test)\n",
    "    pred_proba_1 = pred_proba[:,1].reshape(-1,1)\n",
    "    for threshold in thresholds:\n",
    "        binarizer = Binarizer(threshold=threshold)\n",
    "        model_cl_pred = binarizer.transform(pred_proba_1)\n",
    "        threshold_count.append([threshold, metrics.f1_score(model_cl_pred, y_test)])\n",
    "\n",
    "    MAX=thresholds[np.array(threshold_count)[:,1].argmax()]\n",
    "    \n",
    "    thresholds = np.arange(MAX-0.05,MAX+0.05,0.005)\n",
    "    threshold_count = []\n",
    "    for threshold in thresholds:\n",
    "        binarizer = Binarizer(threshold=threshold)\n",
    "        model_cl_pred = binarizer.transform(pred_proba_1)\n",
    "        #threshold_count.append([threshold, metrics.f1_score(log_cl_pred, y_test)])\n",
    "        #print('threshold: {0:.4f}, f1_score: {1:.4f}'.format(threshold,metrics.f1_score(model_cl_pred, y_test)))\n",
    "        threshold_count.append([threshold, metrics.f1_score(model_cl_pred, y_test)])\n",
    "    \n",
    "    return np.round(thresholds[np.array(threshold_count)[:,1].argmax()],4), np.round(metrics.f1_score(Binarizer(threshold=thresholds[np.array(threshold_count)[:,1].argmax()]).transform(pred_proba_1), y_test),4)\n",
    "\n",
    "Find_threshold(lgbm_clf_bayes_best, X_test, y_test)"
   ]
  },
  {
   "cell_type": "code",
   "execution_count": 119,
   "metadata": {},
   "outputs": [
    {
     "name": "stdout",
     "output_type": "stream",
     "text": [
      "오차 행렬\n",
      "[[3720  264]\n",
      " [ 267  270]]\n",
      "정확도: 0.8825, 정밀도: 0.5056, 재현율: 0.5028, F1_score:  0.502793\n"
     ]
    }
   ],
   "source": [
    "# Binarizer의 베스트 threshold 설정값 지정 \n",
    "\n",
    "custom_threshold = 0.295\n",
    "pred_proba_1 = pred_proba[:,1].reshape(-1,1)\n",
    "binarizer = Binarizer(threshold=custom_threshold).fit(pred_proba_1) \n",
    "custom_predict = binarizer.transform(pred_proba_1)\n",
    "\n",
    "get_clf_eval(y_test , custom_predict)"
   ]
  },
  {
   "cell_type": "code",
   "execution_count": 120,
   "metadata": {},
   "outputs": [],
   "source": [
    "test = pd.read_csv('./test_dummies.csv')\n",
    "pred_proba_1 = lgbm_clf_bayes_best.predict_proba(test)\n",
    "binarizer_pred = Binarizer(threshold=0.295).transform(pred_proba_1[:,1].reshape(-1,1)) \n",
    "binarizer_pred = binarizer_pred.reshape(-1,)\n",
    "submit = pd.read_csv('./sample_submission.csv')\n",
    "submit['y'] = binarizer_pred\n",
    "submit['y'] = submit.y.astype('bool')\n",
    "submit.to_csv('./under_OSS_0.295_bayesgrid.csv', index = False)"
   ]
  },
  {
   "cell_type": "code",
   "execution_count": null,
   "metadata": {},
   "outputs": [],
   "source": []
  },
  {
   "cell_type": "markdown",
   "metadata": {},
   "source": [
    "### Edited Nearest Neighbours\n",
    "\n",
    "- ENN(Edited Nearest Neighbours) 방법은 다수 클래스 데이터 중 가장 가까운 k(n_neighbors)개의 데이터가 모두(kind_sel=\"all\") 또는 다수(kind_sel=\"mode\") 다수 클래스가 아니면 삭제하는 방법이다. 소수 클래스 주변의 다수 클래스 데이터는 사라진다."
   ]
  },
  {
   "cell_type": "code",
   "execution_count": 16,
   "metadata": {},
   "outputs": [],
   "source": [
    "from sklearn.model_selection import train_test_split\n",
    "\n",
    "X_train, X_test, y_train, y_test = train_test_split(X, y, test_size = 0.2, shuffle = True, stratify = y)\n",
    "\n",
    "# 분류학습시 stratify = target으로 설정해야함."
   ]
  },
  {
   "cell_type": "code",
   "execution_count": 17,
   "metadata": {},
   "outputs": [],
   "source": [
    "X_train, y_train = EditedNearestNeighbours(n_jobs=-1,n_neighbors=5).fit_sample(X_train, y_train)"
   ]
  },
  {
   "cell_type": "code",
   "execution_count": 18,
   "metadata": {},
   "outputs": [
    {
     "name": "stdout",
     "output_type": "stream",
     "text": [
      "학습 세트 Shape:(11993, 31), 테스트 세트 Shape:(4521, 31)\n",
      " 학습 세트 레이블 값 분포 비율\n",
      "False    0.820729\n",
      "True     0.179271\n",
      "Name: y, dtype: float64\n",
      "\n",
      " 테스트 세트 레이블 값 분포 비율\n",
      "False    0.881221\n",
      "True     0.118779\n",
      "Name: y, dtype: float64\n"
     ]
    }
   ],
   "source": [
    "# 추후 오버,언더,하이드리브 샘플링 적용시 레이블 값 분포를 보기위한 코드.\n",
    "\n",
    "train_cnt = y_train.count()\n",
    "test_cnt = y_test.count()\n",
    "print('학습 세트 Shape:{0}, 테스트 세트 Shape:{1}'.format(X_train.shape , X_test.shape))\n",
    "\n",
    "print(' 학습 세트 레이블 값 분포 비율')\n",
    "print(y_train.value_counts()/train_cnt)\n",
    "print('\\n 테스트 세트 레이블 값 분포 비율')\n",
    "print(y_test.value_counts()/test_cnt)"
   ]
  },
  {
   "cell_type": "code",
   "execution_count": null,
   "metadata": {},
   "outputs": [],
   "source": []
  },
  {
   "cell_type": "code",
   "execution_count": 19,
   "metadata": {},
   "outputs": [
    {
     "name": "stdout",
     "output_type": "stream",
     "text": [
      "Precision for Light GBM is  0.42830540037243947\n",
      "Recall for Light GBM is  0.42124542124542125\n",
      "F1_score for Light GBM is  0.42474607571560485\n",
      "\n",
      "The cross validated precision for Light GBM is: 0.7321599723709288\n",
      "The cross validated recall for Light GBM is: 0.44372093023255815\n",
      "The cross validated f1_score for Light GBM is: 0.5518622618215966\n"
     ]
    }
   ],
   "source": [
    "# Light GBM\n",
    "\n",
    "lgbm_clf = LGBMClassifier(n_estimators=400, n_jobs = -1)\n",
    "lgbm_clf.fit(X_train, y_train)\n",
    "lgbm_clf_pred = lgbm_clf.predict(X_test)\n",
    "\n",
    "lgbm_clf_cv_pre = cross_val_score(lgbm_clf, X_train, y_train, cv = 10, scoring = 'precision', n_jobs=-1)\n",
    "lgbm_clf_cv_rec = cross_val_score(lgbm_clf, X_train, y_train, cv = 10, scoring = 'recall', n_jobs=-1)\n",
    "lgbm_clf_cv_f1 = cross_val_score(lgbm_clf, X_train, y_train, cv = 10, scoring = 'f1', n_jobs=-1)\n",
    "\n",
    "print('Precision for Light GBM is ', metrics.precision_score(lgbm_clf_pred, y_test))\n",
    "print('Recall for Light GBM is ', metrics.recall_score(lgbm_clf_pred, y_test))\n",
    "print('F1_score for Light GBM is ', metrics.f1_score(lgbm_clf_pred, y_test))\n",
    "print()\n",
    "print('The cross validated precision for Light GBM is:', lgbm_clf_cv_pre.mean())\n",
    "print('The cross validated recall for Light GBM is:', lgbm_clf_cv_rec.mean())\n",
    "print('The cross validated f1_score for Light GBM is:', lgbm_clf_cv_f1.mean())"
   ]
  },
  {
   "cell_type": "code",
   "execution_count": 20,
   "metadata": {},
   "outputs": [
    {
     "name": "stdout",
     "output_type": "stream",
     "text": [
      "pred_proba()결과 Shape : (4521, 2)\n",
      "pred_proba array에서 앞 3개만 샘플로 추출 \n",
      ": [[0.85696327 0.14303673]\n",
      " [0.98857628 0.01142372]\n",
      " [0.96495706 0.03504294]]\n",
      "두개의 class 중에서 더 큰 확률을 클래스 값으로 예측 \n",
      " [[0.85696327 0.14303673 0.85696327 0.14303673]\n",
      " [0.98857628 0.01142372 0.98857628 0.01142372]\n",
      " [0.96495706 0.03504294 0.96495706 0.03504294]]\n"
     ]
    }
   ],
   "source": [
    "##\n",
    "\n",
    "pred_proba = lgbm_clf.predict_proba(X_test)\n",
    "pred  = lgbm_clf.predict_proba(X_test)\n",
    "print('pred_proba()결과 Shape : {0}'.format(pred_proba.shape))\n",
    "print('pred_proba array에서 앞 3개만 샘플로 추출 \\n:', pred_proba[:3])\n",
    "\n",
    "# 예측 확률 array 와 예측 결과값 array 를 concatenate 하여 예측 확률과 결과값을 한눈에 확인\n",
    "pred_proba_result = np.concatenate([pred_proba , pred.reshape(-1,2)],axis=1)\n",
    "print('두개의 class 중에서 더 큰 확률을 클래스 값으로 예측 \\n',pred_proba_result[:3])\n"
   ]
  },
  {
   "cell_type": "code",
   "execution_count": 24,
   "metadata": {},
   "outputs": [
    {
     "name": "stdout",
     "output_type": "stream",
     "text": [
      "오차 행렬\n",
      "[[3668  316]\n",
      " [ 307  230]]\n",
      "정확도: 0.8622, 정밀도: 0.4212, 재현율: 0.4283, F1_score:  0.428305\n"
     ]
    }
   ],
   "source": [
    "from sklearn.preprocessing import Binarizer\n",
    "\n",
    "#Binarizer의 threshold 설정값. 분류 결정 임곗값임.  \n",
    "custom_threshold = 0.5\n",
    "\n",
    "# predict_proba( ) 반환값의 두번째 컬럼 , 즉 Positive 클래스 컬럼 하나만 추출하여 Binarizer를 적용\n",
    "pred_proba_1 = pred_proba[:,1].reshape(-1,1)\n",
    "\n",
    "binarizer = Binarizer(threshold=custom_threshold).fit(pred_proba_1) \n",
    "custom_predict = binarizer.transform(pred_proba_1)\n",
    "\n",
    "get_clf_eval(y_test, custom_predict)"
   ]
  },
  {
   "cell_type": "code",
   "execution_count": 25,
   "metadata": {},
   "outputs": [],
   "source": [
    "from sklearn.metrics import precision_recall_curve\n",
    "\n",
    "# 레이블 값이 1일때의 예측 확률을 추출 \n",
    "pred_proba_class1 = lgbm_clf.predict_proba(X_test)[:, 1] "
   ]
  },
  {
   "cell_type": "code",
   "execution_count": 26,
   "metadata": {},
   "outputs": [
    {
     "data": {
      "image/png": "[encoded data removed]",
      "text/plain": [
       "<Figure size 576x432 with 1 Axes>"
      ]
     },
     "metadata": {
      "needs_background": "light"
     },
     "output_type": "display_data"
    }
   ],
   "source": [
    "import matplotlib.pyplot as plt\n",
    "import matplotlib.ticker as ticker\n",
    "%matplotlib inline\n",
    "\n",
    "def precision_recall_curve_plot(y_test, pred_proba_c1):\n",
    "    # threshold ndarray와 이 threshold에 따른 정밀도, 재현율 ndarray 추출. \n",
    "    precisions, recalls, thresholds = precision_recall_curve( y_test, pred_proba_c1)\n",
    "    \n",
    "    # X축을 threshold값으로, Y축은 정밀도, 재현율 값으로 각각 Plot 수행. 정밀도는 점선으로 표시\n",
    "    plt.figure(figsize=(8,6))\n",
    "    threshold_boundary = thresholds.shape[0]\n",
    "    plt.plot(thresholds, precisions[0:threshold_boundary], linestyle='--', label='precision')\n",
    "    plt.plot(thresholds, recalls[0:threshold_boundary],label='recall')\n",
    "    \n",
    "    # threshold 값 X 축의 Scale을 0.1 단위로 변경\n",
    "    start, end = plt.xlim()\n",
    "    plt.xticks(np.round(np.arange(start, end, 0.1),2))\n",
    "    \n",
    "    # x축, y축 label과 legend, 그리고 grid 설정\n",
    "    plt.xlabel('Threshold value'); plt.ylabel('Precision and Recall value')\n",
    "    plt.legend(); plt.grid()\n",
    "    plt.show()\n",
    "    \n",
    "precision_recall_curve_plot(y_test, lgbm_clf.predict_proba(X_test)[:, 1] )\n"
   ]
  },
  {
   "cell_type": "code",
   "execution_count": 27,
   "metadata": {},
   "outputs": [
    {
     "data": {
      "text/plain": [
       "(0.42, 0.4458)"
      ]
     },
     "execution_count": 27,
     "metadata": {},
     "output_type": "execute_result"
    }
   ],
   "source": [
    "def Find_threshold(model, X_test, y_test):\n",
    "    thresholds = np.arange(0,1,0.05)\n",
    "    threshold_count = []\n",
    "    pred_proba=model.predict_proba(X_test)\n",
    "    pred_proba_1 = pred_proba[:,1].reshape(-1,1)\n",
    "    for threshold in thresholds:\n",
    "        binarizer = Binarizer(threshold=threshold)\n",
    "        model_cl_pred = binarizer.transform(pred_proba_1)\n",
    "        threshold_count.append([threshold, metrics.f1_score(model_cl_pred, y_test)])\n",
    "\n",
    "    MAX=thresholds[np.array(threshold_count)[:,1].argmax()]\n",
    "    \n",
    "    thresholds = np.arange(MAX-0.05,MAX+0.05,0.005)\n",
    "    threshold_count = []\n",
    "    for threshold in thresholds:\n",
    "        binarizer = Binarizer(threshold=threshold)\n",
    "        model_cl_pred = binarizer.transform(pred_proba_1)\n",
    "        #threshold_count.append([threshold, metrics.f1_score(log_cl_pred, y_test)])\n",
    "        #print('threshold: {0:.4f}, f1_score: {1:.4f}'.format(threshold,metrics.f1_score(model_cl_pred, y_test)))\n",
    "        threshold_count.append([threshold, metrics.f1_score(model_cl_pred, y_test)])\n",
    "    \n",
    "    return np.round(thresholds[np.array(threshold_count)[:,1].argmax()],4), np.round(metrics.f1_score(Binarizer(threshold=thresholds[np.array(threshold_count)[:,1].argmax()]).transform(pred_proba_1), y_test),4)\n",
    "\n",
    "Find_threshold(lgbm_clf, X_test, y_test)"
   ]
  },
  {
   "cell_type": "code",
   "execution_count": 28,
   "metadata": {},
   "outputs": [
    {
     "name": "stdout",
     "output_type": "stream",
     "text": [
      "오차 행렬\n",
      "[[3604  380]\n",
      " [ 274  263]]\n",
      "정확도: 0.8553, 정밀도: 0.4090, 재현율: 0.4898, F1_score:  0.489758\n"
     ]
    }
   ],
   "source": [
    "# Binarizer의 베스트 threshold 설정값 지정 \n",
    "\n",
    "custom_threshold = 0.42\n",
    "pred_proba_1 = pred_proba[:,1].reshape(-1,1)\n",
    "binarizer = Binarizer(threshold=custom_threshold).fit(pred_proba_1) \n",
    "custom_predict = binarizer.transform(pred_proba_1)\n",
    "\n",
    "get_clf_eval(y_test , custom_predict)"
   ]
  },
  {
   "cell_type": "code",
   "execution_count": 29,
   "metadata": {},
   "outputs": [],
   "source": [
    "\n",
    "pred_proba_1 = lgbm_clf.predict_proba(test)\n",
    "binarizer_pred = Binarizer(threshold=0.42).transform(pred_proba_1[:,1].reshape(-1,1)) \n",
    "binarizer_pred = binarizer_pred.reshape(-1,)\n",
    "submit = pd.read_csv('./sample_submission.csv')\n",
    "submit['y'] = binarizer_pred\n",
    "submit['y'] = submit.y.astype('bool')\n",
    "submit.to_csv('./under_ENN_0.42_nongrid.csv', index = False)"
   ]
  },
  {
   "cell_type": "markdown",
   "metadata": {},
   "source": [
    "## GridsearchCV"
   ]
  },
  {
   "cell_type": "code",
   "execution_count": 30,
   "metadata": {},
   "outputs": [],
   "source": [
    "from sklearn.model_selection import GridSearchCV\n",
    "\n",
    "# 하이퍼 파라미터 테스트의 수행 속도를 향상시키기 위해 n_estimators를 100으로 감소\n",
    "\n",
    "params = {'num_leaves': [8 ,16 ,32, 64],\n",
    "          'max_depth':[16, 32, 64, 128, 160],\n",
    "          'min_child_samples':[20, 60, 100],\n",
    "          'subsample':[0.2, 0.4, 0.6, 0.8, 1],\n",
    "         'n_estimators':[100,300,500,700,900,1200]}\n",
    "\n",
    "\n",
    "\n",
    "gridcv = GridSearchCV(lgbm_clf, param_grid=params, verbose=3, n_jobs=-1, cv=3)"
   ]
  },
  {
   "cell_type": "code",
   "execution_count": 31,
   "metadata": {},
   "outputs": [
    {
     "name": "stdout",
     "output_type": "stream",
     "text": [
      "Fitting 3 folds for each of 1800 candidates, totalling 5400 fits\n"
     ]
    },
    {
     "name": "stderr",
     "output_type": "stream",
     "text": [
      "[Parallel(n_jobs=-1)]: Using backend LokyBackend with 8 concurrent workers.\n",
      "[Parallel(n_jobs=-1)]: Done  16 tasks      | elapsed:    1.7s\n",
      "[Parallel(n_jobs=-1)]: Done 112 tasks      | elapsed:   10.5s\n",
      "[Parallel(n_jobs=-1)]: Done 272 tasks      | elapsed:   23.7s\n",
      "[Parallel(n_jobs=-1)]: Done 496 tasks      | elapsed:   43.0s\n",
      "[Parallel(n_jobs=-1)]: Done 784 tasks      | elapsed:  1.1min\n",
      "[Parallel(n_jobs=-1)]: Done 1136 tasks      | elapsed:  1.6min\n",
      "[Parallel(n_jobs=-1)]: Done 1552 tasks      | elapsed:  2.2min\n",
      "[Parallel(n_jobs=-1)]: Done 2032 tasks      | elapsed:  2.9min\n",
      "[Parallel(n_jobs=-1)]: Done 2576 tasks      | elapsed:  3.7min\n",
      "[Parallel(n_jobs=-1)]: Done 3184 tasks      | elapsed:  4.5min\n",
      "[Parallel(n_jobs=-1)]: Done 3856 tasks      | elapsed:  5.5min\n",
      "[Parallel(n_jobs=-1)]: Done 4592 tasks      | elapsed:  6.6min\n",
      "[Parallel(n_jobs=-1)]: Done 5400 out of 5400 | elapsed:  7.7min finished\n"
     ]
    },
    {
     "name": "stdout",
     "output_type": "stream",
     "text": [
      "[1]\ttraining's binary_logloss: 0.445644\tvalid_1's binary_logloss: 0.363181\n",
      "Training until validation scores don't improve for 30 rounds\n",
      "[2]\ttraining's binary_logloss: 0.429338\tvalid_1's binary_logloss: 0.353425\n",
      "[3]\ttraining's binary_logloss: 0.416626\tvalid_1's binary_logloss: 0.346846\n",
      "[4]\ttraining's binary_logloss: 0.405604\tvalid_1's binary_logloss: 0.341312\n",
      "[5]\ttraining's binary_logloss: 0.396617\tvalid_1's binary_logloss: 0.337165\n",
      "[6]\ttraining's binary_logloss: 0.389406\tvalid_1's binary_logloss: 0.33367\n",
      "[7]\ttraining's binary_logloss: 0.383471\tvalid_1's binary_logloss: 0.331449\n",
      "[8]\ttraining's binary_logloss: 0.378106\tvalid_1's binary_logloss: 0.32956\n",
      "[9]\ttraining's binary_logloss: 0.372309\tvalid_1's binary_logloss: 0.327943\n",
      "[10]\ttraining's binary_logloss: 0.366808\tvalid_1's binary_logloss: 0.326535\n",
      "[11]\ttraining's binary_logloss: 0.362949\tvalid_1's binary_logloss: 0.325695\n",
      "[12]\ttraining's binary_logloss: 0.359818\tvalid_1's binary_logloss: 0.325073\n",
      "[13]\ttraining's binary_logloss: 0.357138\tvalid_1's binary_logloss: 0.324731\n",
      "[14]\ttraining's binary_logloss: 0.354495\tvalid_1's binary_logloss: 0.324436\n",
      "[15]\ttraining's binary_logloss: 0.351367\tvalid_1's binary_logloss: 0.324512\n",
      "[16]\ttraining's binary_logloss: 0.348837\tvalid_1's binary_logloss: 0.32501\n",
      "[17]\ttraining's binary_logloss: 0.346604\tvalid_1's binary_logloss: 0.325664\n",
      "[18]\ttraining's binary_logloss: 0.344093\tvalid_1's binary_logloss: 0.325389\n",
      "[19]\ttraining's binary_logloss: 0.34153\tvalid_1's binary_logloss: 0.325283\n",
      "[20]\ttraining's binary_logloss: 0.339618\tvalid_1's binary_logloss: 0.324941\n",
      "[21]\ttraining's binary_logloss: 0.338088\tvalid_1's binary_logloss: 0.325603\n",
      "[22]\ttraining's binary_logloss: 0.335661\tvalid_1's binary_logloss: 0.325273\n",
      "[23]\ttraining's binary_logloss: 0.334321\tvalid_1's binary_logloss: 0.325943\n",
      "[24]\ttraining's binary_logloss: 0.332685\tvalid_1's binary_logloss: 0.325857\n",
      "[25]\ttraining's binary_logloss: 0.33151\tvalid_1's binary_logloss: 0.325988\n",
      "[26]\ttraining's binary_logloss: 0.330461\tvalid_1's binary_logloss: 0.326372\n",
      "[27]\ttraining's binary_logloss: 0.329283\tvalid_1's binary_logloss: 0.326508\n",
      "[28]\ttraining's binary_logloss: 0.328409\tvalid_1's binary_logloss: 0.327128\n",
      "[29]\ttraining's binary_logloss: 0.327235\tvalid_1's binary_logloss: 0.327119\n",
      "[30]\ttraining's binary_logloss: 0.32622\tvalid_1's binary_logloss: 0.327983\n",
      "[31]\ttraining's binary_logloss: 0.325205\tvalid_1's binary_logloss: 0.328429\n",
      "[32]\ttraining's binary_logloss: 0.323852\tvalid_1's binary_logloss: 0.328056\n",
      "[33]\ttraining's binary_logloss: 0.322815\tvalid_1's binary_logloss: 0.327897\n",
      "[34]\ttraining's binary_logloss: 0.321972\tvalid_1's binary_logloss: 0.328211\n",
      "[35]\ttraining's binary_logloss: 0.321202\tvalid_1's binary_logloss: 0.328428\n",
      "[36]\ttraining's binary_logloss: 0.320283\tvalid_1's binary_logloss: 0.328423\n",
      "[37]\ttraining's binary_logloss: 0.319543\tvalid_1's binary_logloss: 0.328927\n",
      "[38]\ttraining's binary_logloss: 0.318775\tvalid_1's binary_logloss: 0.329269\n",
      "[39]\ttraining's binary_logloss: 0.317561\tvalid_1's binary_logloss: 0.328972\n",
      "[40]\ttraining's binary_logloss: 0.316452\tvalid_1's binary_logloss: 0.329201\n",
      "[41]\ttraining's binary_logloss: 0.315504\tvalid_1's binary_logloss: 0.329083\n",
      "[42]\ttraining's binary_logloss: 0.314658\tvalid_1's binary_logloss: 0.329023\n",
      "[43]\ttraining's binary_logloss: 0.313914\tvalid_1's binary_logloss: 0.32944\n",
      "[44]\ttraining's binary_logloss: 0.313054\tvalid_1's binary_logloss: 0.3292\n",
      "Early stopping, best iteration is:\n",
      "[14]\ttraining's binary_logloss: 0.354495\tvalid_1's binary_logloss: 0.324436\n"
     ]
    },
    {
     "data": {
      "text/plain": [
       "GridSearchCV(cv=3, estimator=LGBMClassifier(n_estimators=400), n_jobs=-1,\n",
       "             param_grid={'max_depth': [16, 32, 64, 128, 160],\n",
       "                         'min_child_samples': [20, 60, 100],\n",
       "                         'n_estimators': [100, 300, 500, 700, 900, 1200],\n",
       "                         'num_leaves': [8, 16, 32, 64],\n",
       "                         'subsample': [0.2, 0.4, 0.6, 0.8, 1]},\n",
       "             verbose=3)"
      ]
     },
     "execution_count": 31,
     "metadata": {},
     "output_type": "execute_result"
    }
   ],
   "source": [
    "gridcv.fit(X_train, y_train, early_stopping_rounds=30, eval_metric=\"f1\",\n",
    "           eval_set=[(X_train, y_train), (X_test, y_test)])"
   ]
  },
  {
   "cell_type": "code",
   "execution_count": 33,
   "metadata": {},
   "outputs": [
    {
     "data": {
      "text/plain": [
       "LGBMClassifier(max_depth=16, num_leaves=16, subsample=0.2)"
      ]
     },
     "execution_count": 33,
     "metadata": {},
     "output_type": "execute_result"
    }
   ],
   "source": [
    "gridcv.best_estimator_"
   ]
  },
  {
   "cell_type": "code",
   "execution_count": 34,
   "metadata": {},
   "outputs": [],
   "source": [
    "lgbm_clf_best = LGBMClassifier(max_depth=16, num_leaves=16, subsample=0.2)"
   ]
  },
  {
   "cell_type": "code",
   "execution_count": 35,
   "metadata": {},
   "outputs": [
    {
     "data": {
      "text/plain": [
       "LGBMClassifier(max_depth=16, num_leaves=16, subsample=0.2)"
      ]
     },
     "execution_count": 35,
     "metadata": {},
     "output_type": "execute_result"
    }
   ],
   "source": [
    "lgbm_clf_best.fit(X_train, y_train)"
   ]
  },
  {
   "cell_type": "code",
   "execution_count": 36,
   "metadata": {},
   "outputs": [
    {
     "name": "stdout",
     "output_type": "stream",
     "text": [
      "pred_proba()결과 Shape : (4521, 2)\n",
      "pred_proba array에서 앞 3개만 샘플로 추출 \n",
      ": [[0.88253262 0.11746738]\n",
      " [0.93163307 0.06836693]\n",
      " [0.90854898 0.09145102]]\n",
      "두개의 class 중에서 더 큰 확률을 클래스 값으로 예측 \n",
      " [[0.88253262 0.11746738 0.88253262 0.11746738]\n",
      " [0.93163307 0.06836693 0.93163307 0.06836693]\n",
      " [0.90854898 0.09145102 0.90854898 0.09145102]]\n"
     ]
    }
   ],
   "source": [
    "##\n",
    "\n",
    "pred_proba = lgbm_clf_best.predict_proba(X_test)\n",
    "pred  = lgbm_clf_best.predict_proba(X_test)\n",
    "print('pred_proba()결과 Shape : {0}'.format(pred_proba.shape))\n",
    "print('pred_proba array에서 앞 3개만 샘플로 추출 \\n:', pred_proba[:3])\n",
    "\n",
    "# 예측 확률 array 와 예측 결과값 array 를 concatenate 하여 예측 확률과 결과값을 한눈에 확인\n",
    "pred_proba_result = np.concatenate([pred_proba , pred.reshape(-1,2)],axis=1)\n",
    "print('두개의 class 중에서 더 큰 확률을 클래스 값으로 예측 \\n',pred_proba_result[:3])\n"
   ]
  },
  {
   "cell_type": "code",
   "execution_count": 37,
   "metadata": {},
   "outputs": [
    {
     "name": "stdout",
     "output_type": "stream",
     "text": [
      "오차 행렬\n",
      "[[3721  263]\n",
      " [ 305  232]]\n",
      "정확도: 0.8744, 정밀도: 0.4687, 재현율: 0.4320, F1_score:  0.432030\n"
     ]
    }
   ],
   "source": [
    "from sklearn.preprocessing import Binarizer\n",
    "\n",
    "#Binarizer의 threshold 설정값. 분류 결정 임곗값임.  \n",
    "custom_threshold = 0.5\n",
    "\n",
    "# predict_proba( ) 반환값의 두번째 컬럼 , 즉 Positive 클래스 컬럼 하나만 추출하여 Binarizer를 적용\n",
    "pred_proba_1 = pred_proba[:,1].reshape(-1,1)\n",
    "\n",
    "binarizer = Binarizer(threshold=custom_threshold).fit(pred_proba_1) \n",
    "custom_predict = binarizer.transform(pred_proba_1)\n",
    "\n",
    "get_clf_eval(y_test, custom_predict)"
   ]
  },
  {
   "cell_type": "code",
   "execution_count": 38,
   "metadata": {},
   "outputs": [],
   "source": [
    "from sklearn.metrics import precision_recall_curve\n",
    "\n",
    "# 레이블 값이 1일때의 예측 확률을 추출 \n",
    "pred_proba_class1 = lgbm_clf_best.predict_proba(X_test)[:, 1] "
   ]
  },
  {
   "cell_type": "code",
   "execution_count": 39,
   "metadata": {},
   "outputs": [
    {
     "data": {
      "image/png": "[encoded data removed]",
      "text/plain": [
       "<Figure size 576x432 with 1 Axes>"
      ]
     },
     "metadata": {
      "needs_background": "light"
     },
     "output_type": "display_data"
    }
   ],
   "source": [
    "import matplotlib.pyplot as plt\n",
    "import matplotlib.ticker as ticker\n",
    "%matplotlib inline\n",
    "\n",
    "def precision_recall_curve_plot(y_test, pred_proba_c1):\n",
    "    # threshold ndarray와 이 threshold에 따른 정밀도, 재현율 ndarray 추출. \n",
    "    precisions, recalls, thresholds = precision_recall_curve( y_test, pred_proba_c1)\n",
    "    \n",
    "    # X축을 threshold값으로, Y축은 정밀도, 재현율 값으로 각각 Plot 수행. 정밀도는 점선으로 표시\n",
    "    plt.figure(figsize=(8,6))\n",
    "    threshold_boundary = thresholds.shape[0]\n",
    "    plt.plot(thresholds, precisions[0:threshold_boundary], linestyle='--', label='precision')\n",
    "    plt.plot(thresholds, recalls[0:threshold_boundary],label='recall')\n",
    "    \n",
    "    # threshold 값 X 축의 Scale을 0.1 단위로 변경\n",
    "    start, end = plt.xlim()\n",
    "    plt.xticks(np.round(np.arange(start, end, 0.1),2))\n",
    "    \n",
    "    # x축, y축 label과 legend, 그리고 grid 설정\n",
    "    plt.xlabel('Threshold value'); plt.ylabel('Precision and Recall value')\n",
    "    plt.legend(); plt.grid()\n",
    "    plt.show()\n",
    "    \n",
    "precision_recall_curve_plot(y_test, lgbm_clf_best.predict_proba(X_test)[:, 1] )\n"
   ]
  },
  {
   "cell_type": "code",
   "execution_count": 40,
   "metadata": {},
   "outputs": [
    {
     "data": {
      "text/plain": [
       "(0.364, 0.4807)"
      ]
     },
     "execution_count": 40,
     "metadata": {},
     "output_type": "execute_result"
    }
   ],
   "source": [
    "def Find_threshold(model, X_test, y_test):\n",
    "    thresholds = np.arange(0,1,0.001)\n",
    "    threshold_count = []\n",
    "    pred_proba=model.predict_proba(X_test)\n",
    "    pred_proba_1 = pred_proba[:,1].reshape(-1,1)\n",
    "    for threshold in thresholds:\n",
    "        binarizer = Binarizer(threshold=threshold)\n",
    "        model_cl_pred = binarizer.transform(pred_proba_1)\n",
    "        threshold_count.append([threshold, metrics.f1_score(model_cl_pred, y_test)])\n",
    "\n",
    "    MAX=thresholds[np.array(threshold_count)[:,1].argmax()]\n",
    "    \n",
    "    thresholds = np.arange(MAX-0.05,MAX+0.05,0.005)\n",
    "    threshold_count = []\n",
    "    for threshold in thresholds:\n",
    "        binarizer = Binarizer(threshold=threshold)\n",
    "        model_cl_pred = binarizer.transform(pred_proba_1)\n",
    "        #threshold_count.append([threshold, metrics.f1_score(log_cl_pred, y_test)])\n",
    "        #print('threshold: {0:.4f}, f1_score: {1:.4f}'.format(threshold,metrics.f1_score(model_cl_pred, y_test)))\n",
    "        threshold_count.append([threshold, metrics.f1_score(model_cl_pred, y_test)])\n",
    "    \n",
    "    return np.round(thresholds[np.array(threshold_count)[:,1].argmax()],4), np.round(metrics.f1_score(Binarizer(threshold=thresholds[np.array(threshold_count)[:,1].argmax()]).transform(pred_proba_1), y_test),4)\n",
    "\n",
    "Find_threshold(lgbm_clf_best, X_test, y_test)"
   ]
  },
  {
   "cell_type": "code",
   "execution_count": 41,
   "metadata": {},
   "outputs": [
    {
     "name": "stdout",
     "output_type": "stream",
     "text": [
      "오차 행렬\n",
      "[[3614  370]\n",
      " [ 250  287]]\n",
      "정확도: 0.8629, 정밀도: 0.4368, 재현율: 0.5345, F1_score:  0.534451\n"
     ]
    }
   ],
   "source": [
    "# Binarizer의 베스트 threshold 설정값 지정 \n",
    "\n",
    "custom_threshold = 0.364\n",
    "pred_proba_1 = pred_proba[:,1].reshape(-1,1)\n",
    "binarizer = Binarizer(threshold=custom_threshold).fit(pred_proba_1) \n",
    "custom_predict = binarizer.transform(pred_proba_1)\n",
    "\n",
    "get_clf_eval(y_test , custom_predict)"
   ]
  },
  {
   "cell_type": "code",
   "execution_count": 42,
   "metadata": {},
   "outputs": [],
   "source": [
    "test = pd.read_csv('./test_dummies.csv')\n",
    "pred_proba_1 = lgbm_clf_best.predict_proba(test)\n",
    "binarizer_pred = Binarizer(threshold=0.364).transform(pred_proba_1[:,1].reshape(-1,1)) \n",
    "binarizer_pred = binarizer_pred.reshape(-1,)\n",
    "submit = pd.read_csv('./sample_submission.csv')\n",
    "submit['y'] = binarizer_pred\n",
    "submit['y'] = submit.y.astype('bool')\n",
    "submit.to_csv('./under_ENN_0.364_grid.csv', index = False)"
   ]
  },
  {
   "cell_type": "code",
   "execution_count": null,
   "metadata": {},
   "outputs": [],
   "source": []
  },
  {
   "cell_type": "code",
   "execution_count": null,
   "metadata": {},
   "outputs": [],
   "source": []
  },
  {
   "cell_type": "markdown",
   "metadata": {},
   "source": [
    "## RandomizedGridsearchCV"
   ]
  },
  {
   "cell_type": "code",
   "execution_count": 43,
   "metadata": {},
   "outputs": [
    {
     "name": "stdout",
     "output_type": "stream",
     "text": [
      "{'n_estimators': [100, 311, 522, 733, 944, 1155, 1366, 1577, 1788, 2000], 'max_features': ['auto', 'sqrt'], 'max_depth': [10, 20, 30, 40, 50, 60, 70, 80, 90, 100, 110, None], 'min_samples_split': [1, 2, 3, 4, 5, 6, 7, 8, 9, 10], 'min_samples_leaf': [1, 2, 3, 4, 5, 6, 7, 8, 9, 10], 'bootstrap': [True, False]}\n"
     ]
    }
   ],
   "source": [
    "from sklearn.model_selection import RandomizedSearchCV\n",
    "\n",
    "# Number of trees in random forest\n",
    "\n",
    "n_estimators = [int(x) for x in np.linspace(start = 100, stop = 2000, num = 10)]\n",
    "\n",
    "# Number of features to consider at every split\n",
    "\n",
    "max_features = ['auto', 'sqrt']\n",
    "\n",
    "# Maximum number of levels in tree\n",
    "\n",
    "max_depth = [int(x) for x in np.linspace(10, 110, num = 11)]\n",
    "\n",
    "max_depth.append(None)\n",
    "\n",
    "# Minimum number of samples required to split a node\n",
    "\n",
    "min_samples_split = [1,2,3,4,5,6,7,8,9,10]\n",
    "\n",
    "# Minimum number of samples required at each leaf node\n",
    "\n",
    "min_samples_leaf = [1, 2, 3, 4, 5, 6, 7, 8, 9, 10]\n",
    "\n",
    "# Method of selecting samples for training each tree\n",
    "\n",
    "bootstrap = [True, False]\n",
    "\n",
    "# Create the random grid\n",
    "\n",
    "random_grid = {'n_estimators': n_estimators,\n",
    "               'max_features': max_features,\n",
    "               'max_depth': max_depth,\n",
    "               'min_samples_split': min_samples_split,\n",
    "               'min_samples_leaf': min_samples_leaf,\n",
    "               'bootstrap': bootstrap}\n",
    "\n",
    "print(random_grid)\n",
    "\n",
    "# {'bootstrap': [True, False],\n",
    "#  'max_depth': [10, 20, 30, 40, 50, 60, 70, 80, 90, 100, None],\n",
    "#  'max_features': ['auto', 'sqrt'],\n",
    "#  'min_samples_leaf': [1, 2, 4],\n",
    "#  'min_samples_split': [2, 5, 10],\n",
    "#  'n_estimators': [200, 400, 600, 800, 1000, 1200, 1400, 1600, 1800, 2000]}"
   ]
  },
  {
   "cell_type": "code",
   "execution_count": 44,
   "metadata": {},
   "outputs": [],
   "source": [
    "from sklearn.model_selection import RandomizedSearchCV\n",
    "\n",
    "n_estimators = [int(x) for x in np.linspace(start = 100, stop = 2000, num = 10)]\n",
    "\n",
    "max_features = ['auto', 'sqrt']\n",
    "\n",
    "max_depth = [int(x) for x in np.linspace(10, 110, num = 11)]\n",
    "\n",
    "max_depth.append(None)\n",
    "\n",
    "min_samples_split = [1,2,3,4,5,6,7,8,9,10]\n",
    "\n",
    "min_samples_leaf = [1, 2, 3, 4, 5, 6, 7, 8, 9, 10]\n",
    "\n",
    "bootstrap = [True, False]\n",
    "\n",
    "random_grid = {'n_estimators': n_estimators,\n",
    "               'max_features': max_features,\n",
    "               'max_depth': max_depth,\n",
    "               'min_samples_split': min_samples_split,\n",
    "               'min_samples_leaf': min_samples_leaf,\n",
    "               'bootstrap': bootstrap}"
   ]
  },
  {
   "cell_type": "code",
   "execution_count": 95,
   "metadata": {},
   "outputs": [
    {
     "name": "stdout",
     "output_type": "stream",
     "text": [
      "Fitting 3 folds for each of 100 candidates, totalling 300 fits\n"
     ]
    },
    {
     "name": "stderr",
     "output_type": "stream",
     "text": [
      "[Parallel(n_jobs=-1)]: Using backend LokyBackend with 8 concurrent workers.\n",
      "[Parallel(n_jobs=-1)]: Done  25 tasks      | elapsed:   18.1s\n",
      "[Parallel(n_jobs=-1)]: Done 146 tasks      | elapsed:  1.7min\n",
      "[Parallel(n_jobs=-1)]: Done 300 out of 300 | elapsed:  3.7min finished\n"
     ]
    },
    {
     "name": "stdout",
     "output_type": "stream",
     "text": [
      "LGBMClassifier(bootstrap=False, max_depth=40, max_features='sqrt',\n",
      "               min_samples_leaf=5, min_samples_split=7)\n"
     ]
    }
   ],
   "source": [
    "lg_cl = LGBMClassifier()\n",
    "\n",
    "lg_random = RandomizedSearchCV(estimator = lg_cl, param_distributions = random_grid, n_iter = 100, cv = 3, verbose=2, n_jobs = -1)\n",
    "\n",
    "lg_random.fit(X_train, y_train)\n",
    "print(lg_random.best_estimator_)"
   ]
  },
  {
   "cell_type": "code",
   "execution_count": 45,
   "metadata": {},
   "outputs": [],
   "source": [
    "lgb_random_best = LGBMClassifier(bootstrap=False, max_depth=40, max_features='sqrt',\n",
    "               min_samples_leaf=5, min_samples_split=7)"
   ]
  },
  {
   "cell_type": "code",
   "execution_count": 46,
   "metadata": {
    "scrolled": true
   },
   "outputs": [
    {
     "data": {
      "text/plain": [
       "LGBMClassifier(bootstrap=False, max_depth=40, max_features='sqrt',\n",
       "               min_samples_leaf=5, min_samples_split=7)"
      ]
     },
     "execution_count": 46,
     "metadata": {},
     "output_type": "execute_result"
    }
   ],
   "source": [
    "lgb_random_best.fit(X_train, y_train)"
   ]
  },
  {
   "cell_type": "code",
   "execution_count": 47,
   "metadata": {},
   "outputs": [
    {
     "name": "stdout",
     "output_type": "stream",
     "text": [
      "pred_proba()결과 Shape : (4521, 2)\n",
      "pred_proba array에서 앞 3개만 샘플로 추출 \n",
      ": [[0.82812877 0.17187123]\n",
      " [0.96999085 0.03000915]\n",
      " [0.92129077 0.07870923]]\n",
      "두개의 class 중에서 더 큰 확률을 클래스 값으로 예측 \n",
      " [[0.82812877 0.17187123 0.82812877 0.17187123]\n",
      " [0.96999085 0.03000915 0.96999085 0.03000915]\n",
      " [0.92129077 0.07870923 0.92129077 0.07870923]]\n"
     ]
    }
   ],
   "source": [
    "## 1 ##\n",
    "\n",
    "pred_proba = lgb_random_best.predict_proba(X_test)\n",
    "pred  = lgb_random_best.predict_proba(X_test)\n",
    "print('pred_proba()결과 Shape : {0}'.format(pred_proba.shape))\n",
    "print('pred_proba array에서 앞 3개만 샘플로 추출 \\n:', pred_proba[:3])\n",
    "\n",
    "# 예측 확률 array 와 예측 결과값 array 를 concatenate 하여 예측 확률과 결과값을 한눈에 확인\n",
    "pred_proba_result = np.concatenate([pred_proba , pred.reshape(-1,2)],axis=1)\n",
    "print('두개의 class 중에서 더 큰 확률을 클래스 값으로 예측 \\n',pred_proba_result[:3])\n"
   ]
  },
  {
   "cell_type": "code",
   "execution_count": 48,
   "metadata": {},
   "outputs": [
    {
     "name": "stdout",
     "output_type": "stream",
     "text": [
      "오차 행렬\n",
      "[[3713  271]\n",
      " [ 299  238]]\n",
      "정확도: 0.8739, 정밀도: 0.4676, 재현율: 0.4432, F1_score:  0.443203\n"
     ]
    }
   ],
   "source": [
    "## 2\n",
    "\n",
    "from sklearn.preprocessing import Binarizer\n",
    "\n",
    "#Binarizer의 threshold 설정값. 분류 결정 임곗값임.  \n",
    "custom_threshold = 0.5\n",
    "\n",
    "# predict_proba( ) 반환값의 두번째 컬럼 , 즉 Positive 클래스 컬럼 하나만 추출하여 Binarizer를 적용\n",
    "pred_proba_1 = pred_proba[:,1].reshape(-1,1)\n",
    "\n",
    "binarizer = Binarizer(threshold=custom_threshold).fit(pred_proba_1) \n",
    "custom_predict = binarizer.transform(pred_proba_1)\n",
    "\n",
    "get_clf_eval(y_test, custom_predict)"
   ]
  },
  {
   "cell_type": "code",
   "execution_count": 49,
   "metadata": {},
   "outputs": [],
   "source": [
    "from sklearn.metrics import precision_recall_curve\n",
    "\n",
    "# 레이블 값이 1일때의 예측 확률을 추출 \n",
    "pred_proba_class1 = lgb_random_best.predict_proba(X_test)[:, 1] ###"
   ]
  },
  {
   "cell_type": "code",
   "execution_count": 50,
   "metadata": {},
   "outputs": [
    {
     "data": {
      "image/png": "[encoded data removed]",
      "text/plain": [
       "<Figure size 576x432 with 1 Axes>"
      ]
     },
     "metadata": {
      "needs_background": "light"
     },
     "output_type": "display_data"
    }
   ],
   "source": [
    "import matplotlib.pyplot as plt\n",
    "import matplotlib.ticker as ticker\n",
    "%matplotlib inline\n",
    "\n",
    "def precision_recall_curve_plot(y_test, pred_proba_c1):\n",
    "    # threshold ndarray와 이 threshold에 따른 정밀도, 재현율 ndarray 추출. \n",
    "    precisions, recalls, thresholds = precision_recall_curve( y_test, pred_proba_c1)\n",
    "    \n",
    "    # X축을 threshold값으로, Y축은 정밀도, 재현율 값으로 각각 Plot 수행. 정밀도는 점선으로 표시\n",
    "    plt.figure(figsize=(8,6))\n",
    "    threshold_boundary = thresholds.shape[0]\n",
    "    plt.plot(thresholds, precisions[0:threshold_boundary], linestyle='--', label='precision')\n",
    "    plt.plot(thresholds, recalls[0:threshold_boundary],label='recall')\n",
    "    \n",
    "    # threshold 값 X 축의 Scale을 0.1 단위로 변경\n",
    "    start, end = plt.xlim()\n",
    "    plt.xticks(np.round(np.arange(start, end, 0.1),2))\n",
    "    \n",
    "    # x축, y축 label과 legend, 그리고 grid 설정\n",
    "    plt.xlabel('Threshold value'); plt.ylabel('Precision and Recall value')\n",
    "    plt.legend(); plt.grid()\n",
    "    plt.show()\n",
    "    \n",
    "precision_recall_curve_plot(y_test, lgb_random_best.predict_proba(X_test)[:, 1]) ##\n"
   ]
  },
  {
   "cell_type": "code",
   "execution_count": 102,
   "metadata": {},
   "outputs": [
    {
     "data": {
      "text/plain": [
       "(0.2, 0.5077)"
      ]
     },
     "execution_count": 102,
     "metadata": {},
     "output_type": "execute_result"
    }
   ],
   "source": [
    "def Find_threshold(model, X_test, y_test):\n",
    "    thresholds = np.arange(0,1,0.05)\n",
    "    threshold_count = []\n",
    "    pred_proba=model.predict_proba(X_test)\n",
    "    pred_proba_1 = pred_proba[:,1].reshape(-1,1)\n",
    "    for threshold in thresholds:\n",
    "        binarizer = Binarizer(threshold=threshold)\n",
    "        model_cl_pred = binarizer.transform(pred_proba_1)\n",
    "        threshold_count.append([threshold, metrics.f1_score(model_cl_pred, y_test)])\n",
    "\n",
    "    MAX=thresholds[np.array(threshold_count)[:,1].argmax()]\n",
    "    \n",
    "    thresholds = np.arange(MAX-0.05,MAX+0.05,0.005)\n",
    "    threshold_count = []\n",
    "    for threshold in thresholds:\n",
    "        binarizer = Binarizer(threshold=threshold)\n",
    "        model_cl_pred = binarizer.transform(pred_proba_1)\n",
    "        #threshold_count.append([threshold, metrics.f1_score(log_cl_pred, y_test)])\n",
    "        #print('threshold: {0:.4f}, f1_score: {1:.4f}'.format(threshold,metrics.f1_score(model_cl_pred, y_test)))\n",
    "        threshold_count.append([threshold, metrics.f1_score(model_cl_pred, y_test)])\n",
    "    \n",
    "    return np.round(thresholds[np.array(threshold_count)[:,1].argmax()],4), np.round(metrics.f1_score(Binarizer(threshold=thresholds[np.array(threshold_count)[:,1].argmax()]).transform(pred_proba_1), y_test),4)\n",
    "\n",
    "Find_threshold(lgb_random_best, X_test, y_test)"
   ]
  },
  {
   "cell_type": "code",
   "execution_count": 51,
   "metadata": {},
   "outputs": [
    {
     "name": "stdout",
     "output_type": "stream",
     "text": [
      "오차 행렬\n",
      "[[3150  834]\n",
      " [ 178  359]]\n",
      "정확도: 0.7762, 정밀도: 0.3009, 재현율: 0.6685, F1_score:  0.668529\n"
     ]
    }
   ],
   "source": [
    "# Binarizer의 베스트 threshold 설정값 지정 \n",
    "\n",
    "custom_threshold = 0.2\n",
    "pred_proba_1 = pred_proba[:,1].reshape(-1,1)\n",
    "binarizer = Binarizer(threshold=custom_threshold).fit(pred_proba_1) \n",
    "custom_predict = binarizer.transform(pred_proba_1)\n",
    "\n",
    "get_clf_eval(y_test , custom_predict)"
   ]
  },
  {
   "cell_type": "code",
   "execution_count": 52,
   "metadata": {},
   "outputs": [],
   "source": [
    "test = pd.read_csv('./test_dummies.csv')\n",
    "pred_proba_1 = lgb_random_best.predict_proba(test)\n",
    "binarizer_pred = Binarizer(threshold=0.2).transform(pred_proba_1[:,1].reshape(-1,1)) \n",
    "binarizer_pred = binarizer_pred.reshape(-1,)\n",
    "submit = pd.read_csv('./sample_submission.csv')\n",
    "submit['y'] = binarizer_pred\n",
    "submit['y'] = submit.y.astype('bool')\n",
    "submit.to_csv('./under_ENN_0.2_randomgrid.csv', index = False)"
   ]
  },
  {
   "cell_type": "code",
   "execution_count": null,
   "metadata": {},
   "outputs": [],
   "source": []
  },
  {
   "cell_type": "markdown",
   "metadata": {},
   "source": [
    "## BaysianOptimization"
   ]
  },
  {
   "cell_type": "code",
   "execution_count": 53,
   "metadata": {},
   "outputs": [],
   "source": [
    "bayes_params = {\n",
    "    'num_leaves': (24, 45),\n",
    "    'colsample_bytree':(0.5, 1), \n",
    "    'subsample': (0.5, 1),\n",
    "    'max_depth': (4, 12),\n",
    "    'reg_alpha': (0, 0.5),\n",
    "    'reg_lambda': (0, 0.5), \n",
    "    'min_split_gain': (0.001, 0.1),\n",
    "    'min_child_weight':(5, 50)\n",
    "}"
   ]
  },
  {
   "cell_type": "code",
   "execution_count": 54,
   "metadata": {},
   "outputs": [],
   "source": [
    "from lightgbm import LGBMClassifier\n",
    "from sklearn.metrics import roc_auc_score\n",
    "\n",
    "def lgb_roc_eval(num_leaves, colsample_bytree, subsample, max_depth, reg_alpha, reg_lambda, min_split_gain, min_child_weight):\n",
    "    \n",
    "    params = {\n",
    "        \"n_estimator\":200,\n",
    "        \"learning_rate\":0.02,\n",
    "        'num_leaves': int(round(num_leaves)),\n",
    "        'colsample_bytree': colsample_bytree, \n",
    "        'subsample': subsample,\n",
    "        'max_depth': int(round(max_depth)),\n",
    "        'reg_alpha': reg_alpha,\n",
    "        'reg_lambda': reg_lambda, \n",
    "        'min_split_gain': min_split_gain,\n",
    "        'min_child_weight': min_child_weight,\n",
    "        'verbosity': -1\n",
    "    }\n",
    "    print(\"params:\", params)\n",
    "    lgb_model = LGBMClassifier(**params)\n",
    "    lgb_model.fit(X_train, y_train, eval_set=[(X_test, y_test)], early_stopping_rounds=30, eval_metric=\"auc\", verbose=100 )\n",
    "    best_iter = lgb_model.best_iteration_\n",
    "    print('best_iter:', best_iter)\n",
    "    valid_proba = lgb_model.predict_proba(X_test, num_iteration=best_iter)[:, 1]\n",
    "    roc_preds = roc_auc_score(y_test, valid_proba)\n",
    "    print('roc_auc:', roc_preds)\n",
    "    return roc_preds\n",
    "    \n",
    "    "
   ]
  },
  {
   "cell_type": "code",
   "execution_count": 55,
   "metadata": {},
   "outputs": [],
   "source": [
    "from bayes_opt import BayesianOptimization\n",
    "\n",
    "BO_lgb = BayesianOptimization(lgb_roc_eval, bayes_params, random_state=0)\n"
   ]
  },
  {
   "cell_type": "code",
   "execution_count": 56,
   "metadata": {
    "scrolled": true
   },
   "outputs": [
    {
     "name": "stdout",
     "output_type": "stream",
     "text": [
      "|   iter    |  target   | colsam... | max_depth | min_ch... | min_sp... | num_le... | reg_alpha | reg_la... | subsample |\n",
      "-------------------------------------------------------------------------------------------------------------------------\n",
      "params: {'n_estimator': 200, 'learning_rate': 0.02, 'num_leaves': 33, 'colsample_bytree': 0.7744067519636624, 'subsample': 0.9458865003910399, 'max_depth': 10, 'reg_alpha': 0.32294705653332806, 'reg_lambda': 0.21879360563134626, 'min_split_gain': 0.05494343511669279, 'min_child_weight': 32.12435192322397, 'verbosity': -1}\n",
      "Training until validation scores don't improve for 30 rounds\n",
      "[100]\tvalid_0's auc: 0.774576\tvalid_0's binary_logloss: 0.326389\n",
      "Did not meet early stopping. Best iteration is:\n",
      "[100]\tvalid_0's auc: 0.774576\tvalid_0's binary_logloss: 0.326389\n",
      "best_iter: 100\n",
      "roc_auc: 0.7745757237516172\n",
      "| \u001b[0m 1       \u001b[0m | \u001b[0m 0.7746  \u001b[0m | \u001b[0m 0.7744  \u001b[0m | \u001b[0m 9.722   \u001b[0m | \u001b[0m 32.12   \u001b[0m | \u001b[0m 0.05494 \u001b[0m | \u001b[0m 32.9    \u001b[0m | \u001b[0m 0.3229  \u001b[0m | \u001b[0m 0.2188  \u001b[0m | \u001b[0m 0.9459  \u001b[0m |\n",
      "params: {'n_estimator': 200, 'learning_rate': 0.02, 'num_leaves': 36, 'colsample_bytree': 0.9818313802505146, 'subsample': 0.5435646498507704, 'max_depth': 7, 'reg_alpha': 0.4627983191463305, 'reg_lambda': 0.03551802909894347, 'min_split_gain': 0.05336059705553755, 'min_child_weight': 40.627626713719906, 'verbosity': -1}\n",
      "Training until validation scores don't improve for 30 rounds\n",
      "[100]\tvalid_0's auc: 0.768921\tvalid_0's binary_logloss: 0.330517\n",
      "Did not meet early stopping. Best iteration is:\n",
      "[100]\tvalid_0's auc: 0.768921\tvalid_0's binary_logloss: 0.330517\n",
      "best_iter: 100\n",
      "roc_auc: 0.7689213558143186\n",
      "| \u001b[0m 2       \u001b[0m | \u001b[0m 0.7689  \u001b[0m | \u001b[0m 0.9818  \u001b[0m | \u001b[0m 7.068   \u001b[0m | \u001b[0m 40.63   \u001b[0m | \u001b[0m 0.05336 \u001b[0m | \u001b[0m 35.93   \u001b[0m | \u001b[0m 0.4628  \u001b[0m | \u001b[0m 0.03552 \u001b[0m | \u001b[0m 0.5436  \u001b[0m |\n",
      "params: {'n_estimator': 200, 'learning_rate': 0.02, 'num_leaves': 45, 'colsample_bytree': 0.5101091987201629, 'subsample': 0.8902645881432277, 'max_depth': 11, 'reg_alpha': 0.3995792821083618, 'reg_lambda': 0.23073968112646592, 'min_split_gain': 0.08713120267643511, 'min_child_weight': 40.01705379274327, 'verbosity': -1}\n",
      "Training until validation scores don't improve for 30 rounds\n",
      "[100]\tvalid_0's auc: 0.772126\tvalid_0's binary_logloss: 0.328456\n",
      "Did not meet early stopping. Best iteration is:\n",
      "[100]\tvalid_0's auc: 0.772126\tvalid_0's binary_logloss: 0.328456\n",
      "best_iter: 100\n",
      "roc_auc: 0.7721257469356009\n",
      "| \u001b[0m 3       \u001b[0m | \u001b[0m 0.7721  \u001b[0m | \u001b[0m 0.5101  \u001b[0m | \u001b[0m 10.66   \u001b[0m | \u001b[0m 40.02   \u001b[0m | \u001b[0m 0.08713 \u001b[0m | \u001b[0m 44.55   \u001b[0m | \u001b[0m 0.3996  \u001b[0m | \u001b[0m 0.2307  \u001b[0m | \u001b[0m 0.8903  \u001b[0m |\n",
      "params: {'n_estimator': 200, 'learning_rate': 0.02, 'num_leaves': 35, 'colsample_bytree': 0.5591372129344666, 'subsample': 0.8871168447171083, 'max_depth': 9, 'reg_alpha': 0.2073309699952618, 'reg_lambda': 0.13227780605231348, 'min_split_gain': 0.09452222278790881, 'min_child_weight': 11.450897933407088, 'verbosity': -1}\n",
      "Training until validation scores don't improve for 30 rounds\n",
      "[100]\tvalid_0's auc: 0.780781\tvalid_0's binary_logloss: 0.32244\n",
      "Did not meet early stopping. Best iteration is:\n",
      "[99]\tvalid_0's auc: 0.78081\tvalid_0's binary_logloss: 0.322306\n",
      "best_iter: 99\n",
      "roc_auc: 0.7808101586981071\n",
      "| \u001b[95m 4       \u001b[0m | \u001b[95m 0.7808  \u001b[0m | \u001b[95m 0.5591  \u001b[0m | \u001b[95m 9.119   \u001b[0m | \u001b[95m 11.45   \u001b[0m | \u001b[95m 0.09452 \u001b[0m | \u001b[95m 34.96   \u001b[0m | \u001b[95m 0.2073  \u001b[0m | \u001b[95m 0.1323  \u001b[0m | \u001b[95m 0.8871  \u001b[0m |\n",
      "params: {'n_estimator': 200, 'learning_rate': 0.02, 'num_leaves': 37, 'colsample_bytree': 0.7280751661082743, 'subsample': 0.8409101495517417, 'max_depth': 9, 'reg_alpha': 0.30846699843737846, 'reg_lambda': 0.4718740392573121, 'min_split_gain': 0.062145914210511834, 'min_child_weight': 5.845541019635982, 'verbosity': -1}\n",
      "Training until validation scores don't improve for 30 rounds\n",
      "[100]\tvalid_0's auc: 0.784157\tvalid_0's binary_logloss: 0.321165\n",
      "Did not meet early stopping. Best iteration is:\n",
      "[100]\tvalid_0's auc: 0.784157\tvalid_0's binary_logloss: 0.321165\n",
      "best_iter: 100\n",
      "roc_auc: 0.7841568789122972\n",
      "| \u001b[95m 5       \u001b[0m | \u001b[95m 0.7842  \u001b[0m | \u001b[95m 0.7281  \u001b[0m | \u001b[95m 8.547   \u001b[0m | \u001b[95m 5.846   \u001b[0m | \u001b[95m 0.06215 \u001b[0m | \u001b[95m 36.85   \u001b[0m | \u001b[95m 0.3085  \u001b[0m | \u001b[95m 0.4719  \u001b[0m | \u001b[95m 0.8409  \u001b[0m |\n",
      "params: {'n_estimator': 200, 'learning_rate': 0.02, 'num_leaves': 45, 'colsample_bytree': 1.0, 'subsample': 0.5, 'max_depth': 4, 'reg_alpha': 0.0, 'reg_lambda': 0.5, 'min_split_gain': 0.001, 'min_child_weight': 5.0, 'verbosity': -1}\n",
      "Training until validation scores don't improve for 30 rounds\n",
      "[100]\tvalid_0's auc: 0.772178\tvalid_0's binary_logloss: 0.327795\n",
      "Did not meet early stopping. Best iteration is:\n",
      "[100]\tvalid_0's auc: 0.772178\tvalid_0's binary_logloss: 0.327795\n",
      "best_iter: 100\n",
      "roc_auc: 0.7721776304473014\n",
      "| \u001b[0m 6       \u001b[0m | \u001b[0m 0.7722  \u001b[0m | \u001b[0m 1.0     \u001b[0m | \u001b[0m 4.0     \u001b[0m | \u001b[0m 5.0     \u001b[0m | \u001b[0m 0.001   \u001b[0m | \u001b[0m 45.0    \u001b[0m | \u001b[0m 0.0     \u001b[0m | \u001b[0m 0.5     \u001b[0m | \u001b[0m 0.5     \u001b[0m |\n",
      "params: {'n_estimator': 200, 'learning_rate': 0.02, 'num_leaves': 33, 'colsample_bytree': 0.9967840217936915, 'subsample': 0.9908541362718701, 'max_depth': 12, 'reg_alpha': 0.5, 'reg_lambda': 0.5, 'min_split_gain': 0.08435001830022228, 'min_child_weight': 5.0, 'verbosity': -1}\n",
      "Training until validation scores don't improve for 30 rounds\n",
      "[100]\tvalid_0's auc: 0.78194\tvalid_0's binary_logloss: 0.322346\n",
      "Did not meet early stopping. Best iteration is:\n",
      "[99]\tvalid_0's auc: 0.781956\tvalid_0's binary_logloss: 0.322176\n",
      "best_iter: 99\n",
      "roc_auc: 0.7819555690172233\n",
      "| \u001b[0m 7       \u001b[0m | \u001b[0m 0.782   \u001b[0m | \u001b[0m 0.9968  \u001b[0m | \u001b[0m 11.96   \u001b[0m | \u001b[0m 5.0     \u001b[0m | \u001b[0m 0.08435 \u001b[0m | \u001b[0m 32.53   \u001b[0m | \u001b[0m 0.5     \u001b[0m | \u001b[0m 0.5     \u001b[0m | \u001b[0m 0.9909  \u001b[0m |\n",
      "params: {'n_estimator': 200, 'learning_rate': 0.02, 'num_leaves': 31, 'colsample_bytree': 0.5, 'subsample': 0.815547632461939, 'max_depth': 4, 'reg_alpha': 0.5, 'reg_lambda': 0.5, 'min_split_gain': 0.001, 'min_child_weight': 5.0, 'verbosity': -1}\n",
      "Training until validation scores don't improve for 30 rounds\n",
      "[100]\tvalid_0's auc: 0.768271\tvalid_0's binary_logloss: 0.32901\n",
      "Did not meet early stopping. Best iteration is:\n",
      "[100]\tvalid_0's auc: 0.768271\tvalid_0's binary_logloss: 0.32901\n",
      "best_iter: 100\n",
      "roc_auc: 0.7682707085324539\n",
      "| \u001b[0m 8       \u001b[0m | \u001b[0m 0.7683  \u001b[0m | \u001b[0m 0.5     \u001b[0m | \u001b[0m 4.0     \u001b[0m | \u001b[0m 5.0     \u001b[0m | \u001b[0m 0.001   \u001b[0m | \u001b[0m 31.41   \u001b[0m | \u001b[0m 0.5     \u001b[0m | \u001b[0m 0.5     \u001b[0m | \u001b[0m 0.8155  \u001b[0m |\n",
      "params: {'n_estimator': 200, 'learning_rate': 0.02, 'num_leaves': 37, 'colsample_bytree': 1.0, 'subsample': 1.0, 'max_depth': 12, 'reg_alpha': 0.48147700478331573, 'reg_lambda': 0.4948540537744346, 'min_split_gain': 0.06792998247897739, 'min_child_weight': 7.318561192334165, 'verbosity': -1}\n",
      "Training until validation scores don't improve for 30 rounds\n",
      "[100]\tvalid_0's auc: 0.779376\tvalid_0's binary_logloss: 0.322898\n",
      "Did not meet early stopping. Best iteration is:\n",
      "[100]\tvalid_0's auc: 0.779376\tvalid_0's binary_logloss: 0.322898\n",
      "best_iter: 100\n",
      "roc_auc: 0.7793763508409803\n",
      "| \u001b[0m 9       \u001b[0m | \u001b[0m 0.7794  \u001b[0m | \u001b[0m 1.0     \u001b[0m | \u001b[0m 12.0    \u001b[0m | \u001b[0m 7.319   \u001b[0m | \u001b[0m 0.06793 \u001b[0m | \u001b[0m 36.8    \u001b[0m | \u001b[0m 0.4815  \u001b[0m | \u001b[0m 0.4949  \u001b[0m | \u001b[0m 1.0     \u001b[0m |\n",
      "params: {'n_estimator': 200, 'learning_rate': 0.02, 'num_leaves': 38, 'colsample_bytree': 0.5, 'subsample': 1.0, 'max_depth': 7, 'reg_alpha': 0.0, 'reg_lambda': 0.0, 'min_split_gain': 0.1, 'min_child_weight': 8.769974158630797, 'verbosity': -1}\n",
      "Training until validation scores don't improve for 30 rounds\n",
      "[100]\tvalid_0's auc: 0.778688\tvalid_0's binary_logloss: 0.323709\n",
      "Did not meet early stopping. Best iteration is:\n",
      "[100]\tvalid_0's auc: 0.778688\tvalid_0's binary_logloss: 0.323709\n",
      "best_iter: 100\n",
      "roc_auc: 0.7786883100371691\n",
      "| \u001b[0m 10      \u001b[0m | \u001b[0m 0.7787  \u001b[0m | \u001b[0m 0.5     \u001b[0m | \u001b[0m 7.461   \u001b[0m | \u001b[0m 8.77    \u001b[0m | \u001b[0m 0.1     \u001b[0m | \u001b[0m 38.29   \u001b[0m | \u001b[0m 0.0     \u001b[0m | \u001b[0m 0.0     \u001b[0m | \u001b[0m 1.0     \u001b[0m |\n",
      "params: {'n_estimator': 200, 'learning_rate': 0.02, 'num_leaves': 34, 'colsample_bytree': 0.5, 'subsample': 0.5, 'max_depth': 9, 'reg_alpha': 0.0, 'reg_lambda': 0.0, 'min_split_gain': 0.1, 'min_child_weight': 7.167643104160319, 'verbosity': -1}\n",
      "Training until validation scores don't improve for 30 rounds\n",
      "[100]\tvalid_0's auc: 0.781809\tvalid_0's binary_logloss: 0.322215\n",
      "Did not meet early stopping. Best iteration is:\n",
      "[100]\tvalid_0's auc: 0.781809\tvalid_0's binary_logloss: 0.322215\n",
      "best_iter: 100\n",
      "roc_auc: 0.7818087994435843\n",
      "| \u001b[0m 11      \u001b[0m | \u001b[0m 0.7818  \u001b[0m | \u001b[0m 0.5     \u001b[0m | \u001b[0m 9.402   \u001b[0m | \u001b[0m 7.168   \u001b[0m | \u001b[0m 0.1     \u001b[0m | \u001b[0m 34.08   \u001b[0m | \u001b[0m 0.0     \u001b[0m | \u001b[0m 0.0     \u001b[0m | \u001b[0m 0.5     \u001b[0m |\n",
      "params: {'n_estimator': 200, 'learning_rate': 0.02, 'num_leaves': 30, 'colsample_bytree': 1.0, 'subsample': 1.0, 'max_depth': 12, 'reg_alpha': 0.5, 'reg_lambda': 0.5, 'min_split_gain': 0.1, 'min_child_weight': 10.654675752187341, 'verbosity': -1}\n",
      "Training until validation scores don't improve for 30 rounds\n",
      "[100]\tvalid_0's auc: 0.777071\tvalid_0's binary_logloss: 0.32401\n",
      "Did not meet early stopping. Best iteration is:\n",
      "[97]\tvalid_0's auc: 0.777385\tvalid_0's binary_logloss: 0.32347\n",
      "best_iter: 97\n",
      "roc_auc: 0.7773851457973422\n",
      "| \u001b[0m 12      \u001b[0m | \u001b[0m 0.7774  \u001b[0m | \u001b[0m 1.0     \u001b[0m | \u001b[0m 12.0    \u001b[0m | \u001b[0m 10.65   \u001b[0m | \u001b[0m 0.1     \u001b[0m | \u001b[0m 30.08   \u001b[0m | \u001b[0m 0.5     \u001b[0m | \u001b[0m 0.5     \u001b[0m | \u001b[0m 1.0     \u001b[0m |\n",
      "params: {'n_estimator': 200, 'learning_rate': 0.02, 'num_leaves': 35, 'colsample_bytree': 0.5, 'subsample': 0.5, 'max_depth': 9, 'reg_alpha': 0.392518007786061, 'reg_lambda': 0.0, 'min_split_gain': 0.0020081645077291398, 'min_child_weight': 17.452500300231815, 'verbosity': -1}\n",
      "Training until validation scores don't improve for 30 rounds\n",
      "[100]\tvalid_0's auc: 0.777795\tvalid_0's binary_logloss: 0.324404\n",
      "Did not meet early stopping. Best iteration is:\n",
      "[100]\tvalid_0's auc: 0.777795\tvalid_0's binary_logloss: 0.324404\n",
      "best_iter: 100\n",
      "roc_auc: 0.7777946048626536\n",
      "| \u001b[0m 13      \u001b[0m | \u001b[0m 0.7778  \u001b[0m | \u001b[0m 0.5     \u001b[0m | \u001b[0m 8.912   \u001b[0m | \u001b[0m 17.45   \u001b[0m | \u001b[0m 0.002008\u001b[0m | \u001b[0m 35.01   \u001b[0m | \u001b[0m 0.3925  \u001b[0m | \u001b[0m 0.0     \u001b[0m | \u001b[0m 0.5     \u001b[0m |\n",
      "params: {'n_estimator': 200, 'learning_rate': 0.02, 'num_leaves': 40, 'colsample_bytree': 0.961617735511592, 'subsample': 0.806767480682046, 'max_depth': 10, 'reg_alpha': 0.47233874972106116, 'reg_lambda': 0.45942128810337624, 'min_split_gain': 0.09059327040719999, 'min_child_weight': 5.080103347317903, 'verbosity': -1}\n",
      "Training until validation scores don't improve for 30 rounds\n",
      "[100]\tvalid_0's auc: 0.782867\tvalid_0's binary_logloss: 0.322188\n",
      "Did not meet early stopping. Best iteration is:\n",
      "[100]\tvalid_0's auc: 0.782867\tvalid_0's binary_logloss: 0.322188\n",
      "best_iter: 100\n",
      "roc_auc: 0.7828668024051513\n",
      "| \u001b[0m 14      \u001b[0m | \u001b[0m 0.7829  \u001b[0m | \u001b[0m 0.9616  \u001b[0m | \u001b[0m 9.859   \u001b[0m | \u001b[0m 5.08    \u001b[0m | \u001b[0m 0.09059 \u001b[0m | \u001b[0m 40.21   \u001b[0m | \u001b[0m 0.4723  \u001b[0m | \u001b[0m 0.4594  \u001b[0m | \u001b[0m 0.8068  \u001b[0m |\n",
      "params: {'n_estimator': 200, 'learning_rate': 0.02, 'num_leaves': 24, 'colsample_bytree': 0.8173255397942709, 'subsample': 0.7602076224004051, 'max_depth': 4, 'reg_alpha': 0.30380717148576547, 'reg_lambda': 0.48595922372043443, 'min_split_gain': 0.03653696693542095, 'min_child_weight': 22.690025205492667, 'verbosity': -1}\n",
      "Training until validation scores don't improve for 30 rounds\n",
      "[100]\tvalid_0's auc: 0.765547\tvalid_0's binary_logloss: 0.330568\n",
      "Did not meet early stopping. Best iteration is:\n",
      "[99]\tvalid_0's auc: 0.765577\tvalid_0's binary_logloss: 0.330526\n",
      "best_iter: 99\n",
      "roc_auc: 0.7655774401142745\n",
      "| \u001b[0m 15      \u001b[0m | \u001b[0m 0.7656  \u001b[0m | \u001b[0m 0.8173  \u001b[0m | \u001b[0m 4.087   \u001b[0m | \u001b[0m 22.69   \u001b[0m | \u001b[0m 0.03654 \u001b[0m | \u001b[0m 24.12   \u001b[0m | \u001b[0m 0.3038  \u001b[0m | \u001b[0m 0.486   \u001b[0m | \u001b[0m 0.7602  \u001b[0m |\n",
      "=========================================================================================================================\n"
     ]
    }
   ],
   "source": [
    "BO_lgb.maximize(init_points=5, n_iter=10)"
   ]
  },
  {
   "cell_type": "code",
   "execution_count": 57,
   "metadata": {},
   "outputs": [
    {
     "data": {
      "text/plain": [
       "{'target': 0.7841568789122972,\n",
       " 'params': {'colsample_bytree': 0.7280751661082743,\n",
       "  'max_depth': 8.547471590949188,\n",
       "  'min_child_weight': 5.845541019635982,\n",
       "  'min_split_gain': 0.062145914210511834,\n",
       "  'num_leaves': 36.85401017717085,\n",
       "  'reg_alpha': 0.30846699843737846,\n",
       "  'reg_lambda': 0.4718740392573121,\n",
       "  'subsample': 0.8409101495517417}}"
      ]
     },
     "execution_count": 57,
     "metadata": {},
     "output_type": "execute_result"
    }
   ],
   "source": [
    "BO_lgb.max"
   ]
  },
  {
   "cell_type": "code",
   "execution_count": 58,
   "metadata": {},
   "outputs": [
    {
     "name": "stdout",
     "output_type": "stream",
     "text": [
      "[1]\tvalid_0's auc: 0.749461\tvalid_0's binary_logloss: 0.374693\n",
      "Training until validation scores don't improve for 100 rounds\n",
      "[2]\tvalid_0's auc: 0.771266\tvalid_0's binary_logloss: 0.371596\n",
      "[3]\tvalid_0's auc: 0.772386\tvalid_0's binary_logloss: 0.368868\n",
      "[4]\tvalid_0's auc: 0.775247\tvalid_0's binary_logloss: 0.366555\n",
      "[5]\tvalid_0's auc: 0.775376\tvalid_0's binary_logloss: 0.364458\n",
      "[6]\tvalid_0's auc: 0.773949\tvalid_0's binary_logloss: 0.36241\n",
      "[7]\tvalid_0's auc: 0.770849\tvalid_0's binary_logloss: 0.3607\n",
      "[8]\tvalid_0's auc: 0.774992\tvalid_0's binary_logloss: 0.358345\n",
      "[9]\tvalid_0's auc: 0.776938\tvalid_0's binary_logloss: 0.356127\n",
      "[10]\tvalid_0's auc: 0.776761\tvalid_0's binary_logloss: 0.354569\n",
      "[11]\tvalid_0's auc: 0.778028\tvalid_0's binary_logloss: 0.352674\n",
      "[12]\tvalid_0's auc: 0.777411\tvalid_0's binary_logloss: 0.351482\n",
      "[13]\tvalid_0's auc: 0.778219\tvalid_0's binary_logloss: 0.349822\n",
      "[14]\tvalid_0's auc: 0.777941\tvalid_0's binary_logloss: 0.348303\n",
      "[15]\tvalid_0's auc: 0.777006\tvalid_0's binary_logloss: 0.347191\n",
      "[16]\tvalid_0's auc: 0.777461\tvalid_0's binary_logloss: 0.345692\n",
      "[17]\tvalid_0's auc: 0.77747\tvalid_0's binary_logloss: 0.344307\n",
      "[18]\tvalid_0's auc: 0.776932\tvalid_0's binary_logloss: 0.343162\n",
      "[19]\tvalid_0's auc: 0.777906\tvalid_0's binary_logloss: 0.341986\n",
      "[20]\tvalid_0's auc: 0.777213\tvalid_0's binary_logloss: 0.340986\n",
      "[21]\tvalid_0's auc: 0.777975\tvalid_0's binary_logloss: 0.339769\n",
      "[22]\tvalid_0's auc: 0.778636\tvalid_0's binary_logloss: 0.338563\n",
      "[23]\tvalid_0's auc: 0.778567\tvalid_0's binary_logloss: 0.337675\n",
      "[24]\tvalid_0's auc: 0.778457\tvalid_0's binary_logloss: 0.336717\n",
      "[25]\tvalid_0's auc: 0.778811\tvalid_0's binary_logloss: 0.335744\n",
      "[26]\tvalid_0's auc: 0.778478\tvalid_0's binary_logloss: 0.335091\n",
      "[27]\tvalid_0's auc: 0.777869\tvalid_0's binary_logloss: 0.334358\n",
      "[28]\tvalid_0's auc: 0.778137\tvalid_0's binary_logloss: 0.333581\n",
      "[29]\tvalid_0's auc: 0.777945\tvalid_0's binary_logloss: 0.332908\n",
      "[30]\tvalid_0's auc: 0.778906\tvalid_0's binary_logloss: 0.331965\n",
      "[31]\tvalid_0's auc: 0.779014\tvalid_0's binary_logloss: 0.331433\n",
      "[32]\tvalid_0's auc: 0.77919\tvalid_0's binary_logloss: 0.330829\n",
      "[33]\tvalid_0's auc: 0.779249\tvalid_0's binary_logloss: 0.330267\n",
      "[34]\tvalid_0's auc: 0.779541\tvalid_0's binary_logloss: 0.329715\n",
      "[35]\tvalid_0's auc: 0.779608\tvalid_0's binary_logloss: 0.329336\n",
      "[36]\tvalid_0's auc: 0.779709\tvalid_0's binary_logloss: 0.328714\n",
      "[37]\tvalid_0's auc: 0.779723\tvalid_0's binary_logloss: 0.328342\n",
      "[38]\tvalid_0's auc: 0.779628\tvalid_0's binary_logloss: 0.327912\n",
      "[39]\tvalid_0's auc: 0.779895\tvalid_0's binary_logloss: 0.327392\n",
      "[40]\tvalid_0's auc: 0.780243\tvalid_0's binary_logloss: 0.326842\n",
      "[41]\tvalid_0's auc: 0.780353\tvalid_0's binary_logloss: 0.32655\n",
      "[42]\tvalid_0's auc: 0.781003\tvalid_0's binary_logloss: 0.32598\n",
      "[43]\tvalid_0's auc: 0.780931\tvalid_0's binary_logloss: 0.325637\n",
      "[44]\tvalid_0's auc: 0.781107\tvalid_0's binary_logloss: 0.32516\n",
      "[45]\tvalid_0's auc: 0.780967\tvalid_0's binary_logloss: 0.324984\n",
      "[46]\tvalid_0's auc: 0.781065\tvalid_0's binary_logloss: 0.324575\n",
      "[47]\tvalid_0's auc: 0.781218\tvalid_0's binary_logloss: 0.32428\n",
      "[48]\tvalid_0's auc: 0.781201\tvalid_0's binary_logloss: 0.323982\n",
      "[49]\tvalid_0's auc: 0.781701\tvalid_0's binary_logloss: 0.323464\n",
      "[50]\tvalid_0's auc: 0.781912\tvalid_0's binary_logloss: 0.323163\n",
      "[51]\tvalid_0's auc: 0.782107\tvalid_0's binary_logloss: 0.322837\n",
      "[52]\tvalid_0's auc: 0.782062\tvalid_0's binary_logloss: 0.322663\n",
      "[53]\tvalid_0's auc: 0.78208\tvalid_0's binary_logloss: 0.322498\n",
      "[54]\tvalid_0's auc: 0.781845\tvalid_0's binary_logloss: 0.322338\n",
      "[55]\tvalid_0's auc: 0.781861\tvalid_0's binary_logloss: 0.322231\n",
      "[56]\tvalid_0's auc: 0.781535\tvalid_0's binary_logloss: 0.32221\n",
      "[57]\tvalid_0's auc: 0.781481\tvalid_0's binary_logloss: 0.322194\n",
      "[58]\tvalid_0's auc: 0.781422\tvalid_0's binary_logloss: 0.322099\n",
      "[59]\tvalid_0's auc: 0.781345\tvalid_0's binary_logloss: 0.322056\n",
      "[60]\tvalid_0's auc: 0.781422\tvalid_0's binary_logloss: 0.32185\n",
      "[61]\tvalid_0's auc: 0.782048\tvalid_0's binary_logloss: 0.321499\n",
      "[62]\tvalid_0's auc: 0.781947\tvalid_0's binary_logloss: 0.321523\n",
      "[63]\tvalid_0's auc: 0.782068\tvalid_0's binary_logloss: 0.32136\n",
      "[64]\tvalid_0's auc: 0.781902\tvalid_0's binary_logloss: 0.321355\n",
      "[65]\tvalid_0's auc: 0.781877\tvalid_0's binary_logloss: 0.321352\n",
      "[66]\tvalid_0's auc: 0.781916\tvalid_0's binary_logloss: 0.32129\n",
      "[67]\tvalid_0's auc: 0.781876\tvalid_0's binary_logloss: 0.321281\n",
      "[68]\tvalid_0's auc: 0.781765\tvalid_0's binary_logloss: 0.321279\n",
      "[69]\tvalid_0's auc: 0.781844\tvalid_0's binary_logloss: 0.321235\n",
      "[70]\tvalid_0's auc: 0.781921\tvalid_0's binary_logloss: 0.32131\n",
      "[71]\tvalid_0's auc: 0.781864\tvalid_0's binary_logloss: 0.321338\n",
      "[72]\tvalid_0's auc: 0.78188\tvalid_0's binary_logloss: 0.32136\n",
      "[73]\tvalid_0's auc: 0.781803\tvalid_0's binary_logloss: 0.321386\n",
      "[74]\tvalid_0's auc: 0.78224\tvalid_0's binary_logloss: 0.321188\n",
      "[75]\tvalid_0's auc: 0.782461\tvalid_0's binary_logloss: 0.321077\n",
      "[76]\tvalid_0's auc: 0.782211\tvalid_0's binary_logloss: 0.321205\n",
      "[77]\tvalid_0's auc: 0.782505\tvalid_0's binary_logloss: 0.321086\n",
      "[78]\tvalid_0's auc: 0.782812\tvalid_0's binary_logloss: 0.321005\n",
      "[79]\tvalid_0's auc: 0.783008\tvalid_0's binary_logloss: 0.320939\n",
      "[80]\tvalid_0's auc: 0.782929\tvalid_0's binary_logloss: 0.320987\n",
      "[81]\tvalid_0's auc: 0.783135\tvalid_0's binary_logloss: 0.32092\n",
      "[82]\tvalid_0's auc: 0.783309\tvalid_0's binary_logloss: 0.320816\n",
      "[83]\tvalid_0's auc: 0.783193\tvalid_0's binary_logloss: 0.320943\n",
      "[84]\tvalid_0's auc: 0.783398\tvalid_0's binary_logloss: 0.320889\n",
      "[85]\tvalid_0's auc: 0.78331\tvalid_0's binary_logloss: 0.320909\n",
      "[86]\tvalid_0's auc: 0.783472\tvalid_0's binary_logloss: 0.320849\n",
      "[87]\tvalid_0's auc: 0.78382\tvalid_0's binary_logloss: 0.320738\n",
      "[88]\tvalid_0's auc: 0.783631\tvalid_0's binary_logloss: 0.320946\n",
      "[89]\tvalid_0's auc: 0.783607\tvalid_0's binary_logloss: 0.321003\n",
      "[90]\tvalid_0's auc: 0.783528\tvalid_0's binary_logloss: 0.321067\n",
      "[91]\tvalid_0's auc: 0.783459\tvalid_0's binary_logloss: 0.321141\n",
      "[92]\tvalid_0's auc: 0.78335\tvalid_0's binary_logloss: 0.321134\n",
      "[93]\tvalid_0's auc: 0.783662\tvalid_0's binary_logloss: 0.321097\n",
      "[94]\tvalid_0's auc: 0.78367\tvalid_0's binary_logloss: 0.321118\n",
      "[95]\tvalid_0's auc: 0.783619\tvalid_0's binary_logloss: 0.321191\n",
      "[96]\tvalid_0's auc: 0.783751\tvalid_0's binary_logloss: 0.321129\n",
      "[97]\tvalid_0's auc: 0.783907\tvalid_0's binary_logloss: 0.321128\n",
      "[98]\tvalid_0's auc: 0.783991\tvalid_0's binary_logloss: 0.321111\n",
      "[99]\tvalid_0's auc: 0.784064\tvalid_0's binary_logloss: 0.321147\n",
      "[100]\tvalid_0's auc: 0.784157\tvalid_0's binary_logloss: 0.321165\n",
      "[101]\tvalid_0's auc: 0.784061\tvalid_0's binary_logloss: 0.3213\n",
      "[102]\tvalid_0's auc: 0.784124\tvalid_0's binary_logloss: 0.321369\n",
      "[103]\tvalid_0's auc: 0.78432\tvalid_0's binary_logloss: 0.321339\n",
      "[104]\tvalid_0's auc: 0.784326\tvalid_0's binary_logloss: 0.321377\n",
      "[105]\tvalid_0's auc: 0.784495\tvalid_0's binary_logloss: 0.321399\n",
      "[106]\tvalid_0's auc: 0.784382\tvalid_0's binary_logloss: 0.321547\n",
      "[107]\tvalid_0's auc: 0.784412\tvalid_0's binary_logloss: 0.32164\n",
      "[108]\tvalid_0's auc: 0.784413\tvalid_0's binary_logloss: 0.321664\n",
      "[109]\tvalid_0's auc: 0.784628\tvalid_0's binary_logloss: 0.3216\n",
      "[110]\tvalid_0's auc: 0.784793\tvalid_0's binary_logloss: 0.321618\n",
      "[111]\tvalid_0's auc: 0.784867\tvalid_0's binary_logloss: 0.321663\n",
      "[112]\tvalid_0's auc: 0.784851\tvalid_0's binary_logloss: 0.3217\n",
      "[113]\tvalid_0's auc: 0.784922\tvalid_0's binary_logloss: 0.321808\n",
      "[114]\tvalid_0's auc: 0.784712\tvalid_0's binary_logloss: 0.321971\n",
      "[115]\tvalid_0's auc: 0.784725\tvalid_0's binary_logloss: 0.322151\n",
      "[116]\tvalid_0's auc: 0.784784\tvalid_0's binary_logloss: 0.322188\n",
      "[117]\tvalid_0's auc: 0.784626\tvalid_0's binary_logloss: 0.322346\n",
      "[118]\tvalid_0's auc: 0.784648\tvalid_0's binary_logloss: 0.322418\n",
      "[119]\tvalid_0's auc: 0.784731\tvalid_0's binary_logloss: 0.322489\n",
      "[120]\tvalid_0's auc: 0.78485\tvalid_0's binary_logloss: 0.322551\n",
      "[121]\tvalid_0's auc: 0.784821\tvalid_0's binary_logloss: 0.322578\n",
      "[122]\tvalid_0's auc: 0.784886\tvalid_0's binary_logloss: 0.322634\n",
      "[123]\tvalid_0's auc: 0.784972\tvalid_0's binary_logloss: 0.322691\n",
      "[124]\tvalid_0's auc: 0.785176\tvalid_0's binary_logloss: 0.322753\n",
      "[125]\tvalid_0's auc: 0.78527\tvalid_0's binary_logloss: 0.322789\n",
      "[126]\tvalid_0's auc: 0.785282\tvalid_0's binary_logloss: 0.322926\n",
      "[127]\tvalid_0's auc: 0.785399\tvalid_0's binary_logloss: 0.322954\n",
      "[128]\tvalid_0's auc: 0.785495\tvalid_0's binary_logloss: 0.323053\n",
      "[129]\tvalid_0's auc: 0.785459\tvalid_0's binary_logloss: 0.323209\n",
      "[130]\tvalid_0's auc: 0.785345\tvalid_0's binary_logloss: 0.323323\n",
      "[131]\tvalid_0's auc: 0.785318\tvalid_0's binary_logloss: 0.323395\n",
      "[132]\tvalid_0's auc: 0.785152\tvalid_0's binary_logloss: 0.323572\n",
      "[133]\tvalid_0's auc: 0.785258\tvalid_0's binary_logloss: 0.323675\n",
      "[134]\tvalid_0's auc: 0.785353\tvalid_0's binary_logloss: 0.323757\n",
      "[135]\tvalid_0's auc: 0.785348\tvalid_0's binary_logloss: 0.323905\n",
      "[136]\tvalid_0's auc: 0.785407\tvalid_0's binary_logloss: 0.323973\n",
      "[137]\tvalid_0's auc: 0.785636\tvalid_0's binary_logloss: 0.323983\n",
      "[138]\tvalid_0's auc: 0.785602\tvalid_0's binary_logloss: 0.324078\n",
      "[139]\tvalid_0's auc: 0.785892\tvalid_0's binary_logloss: 0.32406\n",
      "[140]\tvalid_0's auc: 0.785914\tvalid_0's binary_logloss: 0.32414\n",
      "[141]\tvalid_0's auc: 0.785862\tvalid_0's binary_logloss: 0.324298\n",
      "[142]\tvalid_0's auc: 0.785738\tvalid_0's binary_logloss: 0.324461\n",
      "[143]\tvalid_0's auc: 0.78569\tvalid_0's binary_logloss: 0.324653\n",
      "[144]\tvalid_0's auc: 0.785705\tvalid_0's binary_logloss: 0.324832\n",
      "[145]\tvalid_0's auc: 0.785765\tvalid_0's binary_logloss: 0.324934\n",
      "[146]\tvalid_0's auc: 0.78577\tvalid_0's binary_logloss: 0.325052\n",
      "[147]\tvalid_0's auc: 0.785898\tvalid_0's binary_logloss: 0.325206\n",
      "[148]\tvalid_0's auc: 0.78596\tvalid_0's binary_logloss: 0.32535\n",
      "[149]\tvalid_0's auc: 0.785931\tvalid_0's binary_logloss: 0.325465\n",
      "[150]\tvalid_0's auc: 0.785971\tvalid_0's binary_logloss: 0.325587\n",
      "[151]\tvalid_0's auc: 0.786033\tvalid_0's binary_logloss: 0.325664\n",
      "[152]\tvalid_0's auc: 0.785916\tvalid_0's binary_logloss: 0.325838\n",
      "[153]\tvalid_0's auc: 0.785819\tvalid_0's binary_logloss: 0.325906\n",
      "[154]\tvalid_0's auc: 0.785739\tvalid_0's binary_logloss: 0.326079\n",
      "[155]\tvalid_0's auc: 0.785842\tvalid_0's binary_logloss: 0.326147\n",
      "[156]\tvalid_0's auc: 0.785958\tvalid_0's binary_logloss: 0.326194\n",
      "[157]\tvalid_0's auc: 0.785974\tvalid_0's binary_logloss: 0.326261\n",
      "[158]\tvalid_0's auc: 0.786007\tvalid_0's binary_logloss: 0.32647\n",
      "[159]\tvalid_0's auc: 0.78601\tvalid_0's binary_logloss: 0.326546\n",
      "[160]\tvalid_0's auc: 0.786189\tvalid_0's binary_logloss: 0.326545\n",
      "[161]\tvalid_0's auc: 0.786279\tvalid_0's binary_logloss: 0.32664\n",
      "[162]\tvalid_0's auc: 0.786195\tvalid_0's binary_logloss: 0.326797\n",
      "[163]\tvalid_0's auc: 0.78624\tvalid_0's binary_logloss: 0.326912\n",
      "[164]\tvalid_0's auc: 0.78631\tvalid_0's binary_logloss: 0.327015\n",
      "[165]\tvalid_0's auc: 0.786408\tvalid_0's binary_logloss: 0.32704\n",
      "[166]\tvalid_0's auc: 0.786482\tvalid_0's binary_logloss: 0.327053\n",
      "[167]\tvalid_0's auc: 0.786461\tvalid_0's binary_logloss: 0.327104\n",
      "[168]\tvalid_0's auc: 0.78633\tvalid_0's binary_logloss: 0.327264\n",
      "[169]\tvalid_0's auc: 0.786481\tvalid_0's binary_logloss: 0.32724\n",
      "[170]\tvalid_0's auc: 0.786624\tvalid_0's binary_logloss: 0.327256\n",
      "[171]\tvalid_0's auc: 0.786801\tvalid_0's binary_logloss: 0.327273\n",
      "[172]\tvalid_0's auc: 0.786811\tvalid_0's binary_logloss: 0.32735\n",
      "[173]\tvalid_0's auc: 0.786788\tvalid_0's binary_logloss: 0.32752\n",
      "[174]\tvalid_0's auc: 0.786745\tvalid_0's binary_logloss: 0.327613\n",
      "[175]\tvalid_0's auc: 0.786792\tvalid_0's binary_logloss: 0.327706\n",
      "[176]\tvalid_0's auc: 0.78683\tvalid_0's binary_logloss: 0.327717\n",
      "[177]\tvalid_0's auc: 0.786825\tvalid_0's binary_logloss: 0.327791\n",
      "[178]\tvalid_0's auc: 0.786886\tvalid_0's binary_logloss: 0.327872\n",
      "[179]\tvalid_0's auc: 0.786883\tvalid_0's binary_logloss: 0.327948\n",
      "[180]\tvalid_0's auc: 0.786896\tvalid_0's binary_logloss: 0.328008\n",
      "[181]\tvalid_0's auc: 0.78699\tvalid_0's binary_logloss: 0.328167\n",
      "[182]\tvalid_0's auc: 0.78697\tvalid_0's binary_logloss: 0.328252\n",
      "[183]\tvalid_0's auc: 0.786864\tvalid_0's binary_logloss: 0.328331\n",
      "[184]\tvalid_0's auc: 0.786815\tvalid_0's binary_logloss: 0.328454\n",
      "[185]\tvalid_0's auc: 0.786972\tvalid_0's binary_logloss: 0.328403\n",
      "[186]\tvalid_0's auc: 0.787029\tvalid_0's binary_logloss: 0.328452\n",
      "[187]\tvalid_0's auc: 0.787088\tvalid_0's binary_logloss: 0.328472\n",
      "Early stopping, best iteration is:\n",
      "[87]\tvalid_0's auc: 0.78382\tvalid_0's binary_logloss: 0.320738\n",
      "ROC AUC: 0.7838\n"
     ]
    }
   ],
   "source": [
    "max_params = BO_lgb.max['params']\n",
    "\n",
    "max_params['num_leaves'] = int(round(max_params['num_leaves']))\n",
    "max_params['max_depth'] = int(round(max_params['max_depth']))\n",
    "\n",
    "lgbm_clf_bayes_best = LGBMClassifier(n_estimators=1000, learning_rate=0.02, **max_params)\n",
    "\n",
    "evals = [(X_test, y_test)]\n",
    "lgbm_clf_bayes_best.fit(X_train, y_train, early_stopping_rounds=100, eval_metric=\"auc\", eval_set=evals,\n",
    "                verbose=True)\n",
    "\n",
    "lgbm_roc_score = roc_auc_score(y_test, lgbm_clf_bayes_best.predict_proba(X_test)[:,1],average='macro')\n",
    "print('ROC AUC: {0:.4f}'.format(lgbm_roc_score))"
   ]
  },
  {
   "cell_type": "code",
   "execution_count": 59,
   "metadata": {},
   "outputs": [
    {
     "data": {
      "text/plain": [
       "LGBMClassifier(colsample_bytree=0.7280751661082743, learning_rate=0.02,\n",
       "               max_depth=9, min_child_weight=5.845541019635982,\n",
       "               min_split_gain=0.062145914210511834, n_estimators=1000,\n",
       "               num_leaves=37, reg_alpha=0.30846699843737846,\n",
       "               reg_lambda=0.4718740392573121, subsample=0.8409101495517417)"
      ]
     },
     "execution_count": 59,
     "metadata": {},
     "output_type": "execute_result"
    }
   ],
   "source": [
    "lgbm_clf_bayes_best"
   ]
  },
  {
   "cell_type": "code",
   "execution_count": 60,
   "metadata": {},
   "outputs": [
    {
     "data": {
      "text/plain": [
       "LGBMClassifier(colsample_bytree=0.7280751661082743, learning_rate=0.02,\n",
       "               max_depth=9, min_child_weight=5.845541019635982,\n",
       "               min_split_gain=0.062145914210511834, n_estimators=1000,\n",
       "               num_leaves=37, reg_alpha=0.30846699843737846,\n",
       "               reg_lambda=0.4718740392573121, subsample=0.8409101495517417)"
      ]
     },
     "execution_count": 60,
     "metadata": {},
     "output_type": "execute_result"
    }
   ],
   "source": [
    "lgbm_clf_bayes_best.fit(X_train, y_train)"
   ]
  },
  {
   "cell_type": "code",
   "execution_count": 61,
   "metadata": {},
   "outputs": [
    {
     "name": "stdout",
     "output_type": "stream",
     "text": [
      "pred_proba()결과 Shape : (4521, 2)\n",
      "pred_proba array에서 앞 3개만 샘플로 추출 \n",
      ": [[0.82201572 0.17798428]\n",
      " [0.9711502  0.0288498 ]\n",
      " [0.94390235 0.05609765]]\n",
      "두개의 class 중에서 더 큰 확률을 클래스 값으로 예측 \n",
      " [[0.82201572 0.17798428 0.88253262 0.11746738]\n",
      " [0.9711502  0.0288498  0.93163307 0.06836693]\n",
      " [0.94390235 0.05609765 0.90854898 0.09145102]]\n"
     ]
    }
   ],
   "source": [
    "## 1 ##\n",
    "\n",
    "pred_proba = lgbm_clf_bayes_best.predict_proba(X_test) ##\n",
    "pred  = lgbm_clf_best.predict_proba(X_test) ##\n",
    "print('pred_proba()결과 Shape : {0}'.format(pred_proba.shape))\n",
    "print('pred_proba array에서 앞 3개만 샘플로 추출 \\n:', pred_proba[:3])\n",
    "\n",
    "# 예측 확률 array 와 예측 결과값 array 를 concatenate 하여 예측 확률과 결과값을 한눈에 확인\n",
    "pred_proba_result = np.concatenate([pred_proba , pred.reshape(-1,2)],axis=1)\n",
    "print('두개의 class 중에서 더 큰 확률을 클래스 값으로 예측 \\n',pred_proba_result[:3])\n"
   ]
  },
  {
   "cell_type": "code",
   "execution_count": 62,
   "metadata": {},
   "outputs": [
    {
     "name": "stdout",
     "output_type": "stream",
     "text": [
      "오차 행렬\n",
      "[[3713  271]\n",
      " [ 306  231]]\n",
      "정확도: 0.8724, 정밀도: 0.4602, 재현율: 0.4302, F1_score:  0.430168\n"
     ]
    }
   ],
   "source": [
    "## 2\n",
    "\n",
    "from sklearn.preprocessing import Binarizer\n",
    "\n",
    "#Binarizer의 threshold 설정값. 분류 결정 임곗값임.  \n",
    "custom_threshold = 0.5\n",
    "\n",
    "# predict_proba( ) 반환값의 두번째 컬럼 , 즉 Positive 클래스 컬럼 하나만 추출하여 Binarizer를 적용\n",
    "pred_proba_1 = pred_proba[:,1].reshape(-1,1)\n",
    "\n",
    "binarizer = Binarizer(threshold=custom_threshold).fit(pred_proba_1) \n",
    "custom_predict = binarizer.transform(pred_proba_1)\n",
    "\n",
    "get_clf_eval(y_test, custom_predict)"
   ]
  },
  {
   "cell_type": "code",
   "execution_count": 63,
   "metadata": {},
   "outputs": [],
   "source": [
    "from sklearn.metrics import precision_recall_curve\n",
    "\n",
    "# 레이블 값이 1일때의 예측 확률을 추출 \n",
    "pred_proba_class1 = lgbm_clf_bayes_best.predict_proba(X_test)[:, 1] ###"
   ]
  },
  {
   "cell_type": "code",
   "execution_count": 64,
   "metadata": {},
   "outputs": [
    {
     "data": {
      "image/png": "[encoded data removed]",
      "text/plain": [
       "<Figure size 576x432 with 1 Axes>"
      ]
     },
     "metadata": {
      "needs_background": "light"
     },
     "output_type": "display_data"
    }
   ],
   "source": [
    "import matplotlib.pyplot as plt\n",
    "import matplotlib.ticker as ticker\n",
    "%matplotlib inline\n",
    "\n",
    "def precision_recall_curve_plot(y_test, pred_proba_c1):\n",
    "    # threshold ndarray와 이 threshold에 따른 정밀도, 재현율 ndarray 추출. \n",
    "    precisions, recalls, thresholds = precision_recall_curve( y_test, pred_proba_c1)\n",
    "    \n",
    "    # X축을 threshold값으로, Y축은 정밀도, 재현율 값으로 각각 Plot 수행. 정밀도는 점선으로 표시\n",
    "    plt.figure(figsize=(8,6))\n",
    "    threshold_boundary = thresholds.shape[0]\n",
    "    plt.plot(thresholds, precisions[0:threshold_boundary], linestyle='--', label='precision')\n",
    "    plt.plot(thresholds, recalls[0:threshold_boundary],label='recall')\n",
    "    \n",
    "    # threshold 값 X 축의 Scale을 0.1 단위로 변경\n",
    "    start, end = plt.xlim()\n",
    "    plt.xticks(np.round(np.arange(start, end, 0.1),2))\n",
    "    \n",
    "    # x축, y축 label과 legend, 그리고 grid 설정\n",
    "    plt.xlabel('Threshold value'); plt.ylabel('Precision and Recall value')\n",
    "    plt.legend(); plt.grid()\n",
    "    plt.show()\n",
    "    \n",
    "precision_recall_curve_plot(y_test, lgbm_clf_best.predict_proba(X_test)[:, 1] ) ####\n"
   ]
  },
  {
   "cell_type": "code",
   "execution_count": 65,
   "metadata": {},
   "outputs": [
    {
     "data": {
      "text/plain": [
       "(0.425, 0.4629)"
      ]
     },
     "execution_count": 65,
     "metadata": {},
     "output_type": "execute_result"
    }
   ],
   "source": [
    "def Find_threshold(model, X_test, y_test):\n",
    "    thresholds = np.arange(0,1,0.05)\n",
    "    threshold_count = []\n",
    "    pred_proba=model.predict_proba(X_test)\n",
    "    pred_proba_1 = pred_proba[:,1].reshape(-1,1)\n",
    "    for threshold in thresholds:\n",
    "        binarizer = Binarizer(threshold=threshold)\n",
    "        model_cl_pred = binarizer.transform(pred_proba_1)\n",
    "        threshold_count.append([threshold, metrics.f1_score(model_cl_pred, y_test)])\n",
    "\n",
    "    MAX=thresholds[np.array(threshold_count)[:,1].argmax()]\n",
    "    \n",
    "    thresholds = np.arange(MAX-0.05,MAX+0.05,0.005)\n",
    "    threshold_count = []\n",
    "    for threshold in thresholds:\n",
    "        binarizer = Binarizer(threshold=threshold)\n",
    "        model_cl_pred = binarizer.transform(pred_proba_1)\n",
    "        #threshold_count.append([threshold, metrics.f1_score(log_cl_pred, y_test)])\n",
    "        #print('threshold: {0:.4f}, f1_score: {1:.4f}'.format(threshold,metrics.f1_score(model_cl_pred, y_test)))\n",
    "        threshold_count.append([threshold, metrics.f1_score(model_cl_pred, y_test)])\n",
    "    \n",
    "    return np.round(thresholds[np.array(threshold_count)[:,1].argmax()],4), np.round(metrics.f1_score(Binarizer(threshold=thresholds[np.array(threshold_count)[:,1].argmax()]).transform(pred_proba_1), y_test),4)\n",
    "\n",
    "Find_threshold(lgbm_clf_bayes_best, X_test, y_test)"
   ]
  },
  {
   "cell_type": "code",
   "execution_count": 66,
   "metadata": {},
   "outputs": [
    {
     "name": "stdout",
     "output_type": "stream",
     "text": [
      "오차 행렬\n",
      "[[3641  343]\n",
      " [ 272  265]]\n",
      "정확도: 0.8640, 정밀도: 0.4359, 재현율: 0.4935, F1_score:  0.493482\n"
     ]
    }
   ],
   "source": [
    "# Binarizer의 베스트 threshold 설정값 지정 \n",
    "\n",
    "custom_threshold = 0.425\n",
    "pred_proba_1 = pred_proba[:,1].reshape(-1,1)\n",
    "binarizer = Binarizer(threshold=custom_threshold).fit(pred_proba_1) \n",
    "custom_predict = binarizer.transform(pred_proba_1)\n",
    "\n",
    "get_clf_eval(y_test , custom_predict)"
   ]
  },
  {
   "cell_type": "code",
   "execution_count": 67,
   "metadata": {},
   "outputs": [],
   "source": [
    "test = pd.read_csv('./test_dummies.csv')\n",
    "pred_proba_1 = lgbm_clf_bayes_best.predict_proba(test)\n",
    "binarizer_pred = Binarizer(threshold=0.425).transform(pred_proba_1[:,1].reshape(-1,1)) \n",
    "binarizer_pred = binarizer_pred.reshape(-1,)\n",
    "submit = pd.read_csv('./sample_submission.csv')\n",
    "submit['y'] = binarizer_pred\n",
    "submit['y'] = submit.y.astype('bool')\n",
    "submit.to_csv('./under_ENN_0.425_bayesgrid.csv', index = False)"
   ]
  },
  {
   "cell_type": "code",
   "execution_count": null,
   "metadata": {},
   "outputs": [],
   "source": []
  },
  {
   "cell_type": "markdown",
   "metadata": {},
   "source": [
    "### Neighbourhood Cleaning Rule\n",
    "- Neighbourhood Cleaning Rule 방법은 CNN(Condensed Nearest Neighbour) 방법과 ENN(Edited Nearest Neighbours) 방법을 섞은 것이다."
   ]
  },
  {
   "cell_type": "code",
   "execution_count": 70,
   "metadata": {},
   "outputs": [],
   "source": [
    "from sklearn.model_selection import train_test_split\n",
    "\n",
    "X_train, X_test, y_train, y_test = train_test_split(X, y, test_size = 0.2, shuffle = True, stratify = y)\n",
    "\n",
    "# 분류학습시 stratify = target으로 설정해야함."
   ]
  },
  {
   "cell_type": "code",
   "execution_count": 71,
   "metadata": {},
   "outputs": [],
   "source": [
    "X_train, y_train = NeighbourhoodCleaningRule(n_jobs=-1).fit_sample(X_train, y_train)"
   ]
  },
  {
   "cell_type": "code",
   "execution_count": 72,
   "metadata": {},
   "outputs": [
    {
     "name": "stdout",
     "output_type": "stream",
     "text": [
      "학습 세트 Shape:(13713, 31), 테스트 세트 Shape:(4521, 31)\n",
      " 학습 세트 레이블 값 분포 비율\n",
      "False    0.843214\n",
      "True     0.156786\n",
      "Name: y, dtype: float64\n",
      "\n",
      " 테스트 세트 레이블 값 분포 비율\n",
      "False    0.881221\n",
      "True     0.118779\n",
      "Name: y, dtype: float64\n"
     ]
    }
   ],
   "source": [
    "# 추후 오버,언더,하이드리브 샘플링 적용시 레이블 값 분포를 보기위한 코드.\n",
    "\n",
    "train_cnt = y_train.count()\n",
    "test_cnt = y_test.count()\n",
    "print('학습 세트 Shape:{0}, 테스트 세트 Shape:{1}'.format(X_train.shape , X_test.shape))\n",
    "\n",
    "print(' 학습 세트 레이블 값 분포 비율')\n",
    "print(y_train.value_counts()/train_cnt)\n",
    "print('\\n 테스트 세트 레이블 값 분포 비율')\n",
    "print(y_test.value_counts()/test_cnt)"
   ]
  },
  {
   "cell_type": "code",
   "execution_count": null,
   "metadata": {},
   "outputs": [],
   "source": []
  },
  {
   "cell_type": "code",
   "execution_count": 73,
   "metadata": {},
   "outputs": [
    {
     "name": "stdout",
     "output_type": "stream",
     "text": [
      "Precision for Light GBM is  0.3854748603351955\n",
      "Recall for Light GBM is  0.47477064220183485\n",
      "F1_score for Light GBM is  0.4254881808838643\n",
      "\n",
      "The cross validated precision for Light GBM is: 0.6733088746799302\n",
      "The cross validated recall for Light GBM is: 0.3730232558139535\n",
      "The cross validated f1_score for Light GBM is: 0.47938606431695163\n"
     ]
    }
   ],
   "source": [
    "# Light GBM\n",
    "\n",
    "lgbm_clf = LGBMClassifier(n_estimators=400, n_jobs = -1)\n",
    "lgbm_clf.fit(X_train, y_train)\n",
    "lgbm_clf_pred = lgbm_clf.predict(X_test)\n",
    "\n",
    "lgbm_clf_cv_pre = cross_val_score(lgbm_clf, X_train, y_train, cv = 10, scoring = 'precision', n_jobs=-1)\n",
    "lgbm_clf_cv_rec = cross_val_score(lgbm_clf, X_train, y_train, cv = 10, scoring = 'recall', n_jobs=-1)\n",
    "lgbm_clf_cv_f1 = cross_val_score(lgbm_clf, X_train, y_train, cv = 10, scoring = 'f1', n_jobs=-1)\n",
    "\n",
    "print('Precision for Light GBM is ', metrics.precision_score(lgbm_clf_pred, y_test))\n",
    "print('Recall for Light GBM is ', metrics.recall_score(lgbm_clf_pred, y_test))\n",
    "print('F1_score for Light GBM is ', metrics.f1_score(lgbm_clf_pred, y_test))\n",
    "print()\n",
    "print('The cross validated precision for Light GBM is:', lgbm_clf_cv_pre.mean())\n",
    "print('The cross validated recall for Light GBM is:', lgbm_clf_cv_rec.mean())\n",
    "print('The cross validated f1_score for Light GBM is:', lgbm_clf_cv_f1.mean())"
   ]
  },
  {
   "cell_type": "code",
   "execution_count": 74,
   "metadata": {},
   "outputs": [
    {
     "name": "stdout",
     "output_type": "stream",
     "text": [
      "pred_proba()결과 Shape : (4521, 2)\n",
      "pred_proba array에서 앞 3개만 샘플로 추출 \n",
      ": [[0.20632407 0.79367593]\n",
      " [0.89885557 0.10114443]\n",
      " [0.86743062 0.13256938]]\n",
      "두개의 class 중에서 더 큰 확률을 클래스 값으로 예측 \n",
      " [[0.20632407 0.79367593 0.20632407 0.79367593]\n",
      " [0.89885557 0.10114443 0.89885557 0.10114443]\n",
      " [0.86743062 0.13256938 0.86743062 0.13256938]]\n"
     ]
    }
   ],
   "source": [
    "##\n",
    "\n",
    "pred_proba = lgbm_clf.predict_proba(X_test)\n",
    "pred  = lgbm_clf.predict_proba(X_test)\n",
    "print('pred_proba()결과 Shape : {0}'.format(pred_proba.shape))\n",
    "print('pred_proba array에서 앞 3개만 샘플로 추출 \\n:', pred_proba[:3])\n",
    "\n",
    "# 예측 확률 array 와 예측 결과값 array 를 concatenate 하여 예측 확률과 결과값을 한눈에 확인\n",
    "pred_proba_result = np.concatenate([pred_proba , pred.reshape(-1,2)],axis=1)\n",
    "print('두개의 class 중에서 더 큰 확률을 클래스 값으로 예측 \\n',pred_proba_result[:3])\n"
   ]
  },
  {
   "cell_type": "code",
   "execution_count": 75,
   "metadata": {},
   "outputs": [
    {
     "name": "stdout",
     "output_type": "stream",
     "text": [
      "오차 행렬\n",
      "[[3755  229]\n",
      " [ 330  207]]\n",
      "정확도: 0.8764, 정밀도: 0.4748, 재현율: 0.3855, F1_score:  0.385475\n"
     ]
    }
   ],
   "source": [
    "from sklearn.preprocessing import Binarizer\n",
    "\n",
    "#Binarizer의 threshold 설정값. 분류 결정 임곗값임.  \n",
    "custom_threshold = 0.5\n",
    "\n",
    "# predict_proba( ) 반환값의 두번째 컬럼 , 즉 Positive 클래스 컬럼 하나만 추출하여 Binarizer를 적용\n",
    "pred_proba_1 = pred_proba[:,1].reshape(-1,1)\n",
    "\n",
    "binarizer = Binarizer(threshold=custom_threshold).fit(pred_proba_1) \n",
    "custom_predict = binarizer.transform(pred_proba_1)\n",
    "\n",
    "get_clf_eval(y_test, custom_predict)"
   ]
  },
  {
   "cell_type": "code",
   "execution_count": 76,
   "metadata": {},
   "outputs": [],
   "source": [
    "from sklearn.metrics import precision_recall_curve\n",
    "\n",
    "# 레이블 값이 1일때의 예측 확률을 추출 \n",
    "pred_proba_class1 = lgbm_clf.predict_proba(X_test)[:, 1] "
   ]
  },
  {
   "cell_type": "code",
   "execution_count": 77,
   "metadata": {},
   "outputs": [
    {
     "data": {
      "image/png": "[encoded data removed]",
      "text/plain": [
       "<Figure size 576x432 with 1 Axes>"
      ]
     },
     "metadata": {
      "needs_background": "light"
     },
     "output_type": "display_data"
    }
   ],
   "source": [
    "import matplotlib.pyplot as plt\n",
    "import matplotlib.ticker as ticker\n",
    "%matplotlib inline\n",
    "\n",
    "def precision_recall_curve_plot(y_test, pred_proba_c1):\n",
    "    # threshold ndarray와 이 threshold에 따른 정밀도, 재현율 ndarray 추출. \n",
    "    precisions, recalls, thresholds = precision_recall_curve( y_test, pred_proba_c1)\n",
    "    \n",
    "    # X축을 threshold값으로, Y축은 정밀도, 재현율 값으로 각각 Plot 수행. 정밀도는 점선으로 표시\n",
    "    plt.figure(figsize=(8,6))\n",
    "    threshold_boundary = thresholds.shape[0]\n",
    "    plt.plot(thresholds, precisions[0:threshold_boundary], linestyle='--', label='precision')\n",
    "    plt.plot(thresholds, recalls[0:threshold_boundary],label='recall')\n",
    "    \n",
    "    # threshold 값 X 축의 Scale을 0.1 단위로 변경\n",
    "    start, end = plt.xlim()\n",
    "    plt.xticks(np.round(np.arange(start, end, 0.1),2))\n",
    "    \n",
    "    # x축, y축 label과 legend, 그리고 grid 설정\n",
    "    plt.xlabel('Threshold value'); plt.ylabel('Precision and Recall value')\n",
    "    plt.legend(); plt.grid()\n",
    "    plt.show()\n",
    "    \n",
    "precision_recall_curve_plot(y_test, lgbm_clf.predict_proba(X_test)[:, 1] )\n"
   ]
  },
  {
   "cell_type": "code",
   "execution_count": 78,
   "metadata": {},
   "outputs": [
    {
     "data": {
      "text/plain": [
       "(0.365, 0.451)"
      ]
     },
     "execution_count": 78,
     "metadata": {},
     "output_type": "execute_result"
    }
   ],
   "source": [
    "def Find_threshold(model, X_test, y_test):\n",
    "    thresholds = np.arange(0,1,0.05)\n",
    "    threshold_count = []\n",
    "    pred_proba=model.predict_proba(X_test)\n",
    "    pred_proba_1 = pred_proba[:,1].reshape(-1,1)\n",
    "    for threshold in thresholds:\n",
    "        binarizer = Binarizer(threshold=threshold)\n",
    "        model_cl_pred = binarizer.transform(pred_proba_1)\n",
    "        threshold_count.append([threshold, metrics.f1_score(model_cl_pred, y_test)])\n",
    "\n",
    "    MAX=thresholds[np.array(threshold_count)[:,1].argmax()]\n",
    "    \n",
    "    thresholds = np.arange(MAX-0.05,MAX+0.05,0.005)\n",
    "    threshold_count = []\n",
    "    for threshold in thresholds:\n",
    "        binarizer = Binarizer(threshold=threshold)\n",
    "        model_cl_pred = binarizer.transform(pred_proba_1)\n",
    "        #threshold_count.append([threshold, metrics.f1_score(log_cl_pred, y_test)])\n",
    "        #print('threshold: {0:.4f}, f1_score: {1:.4f}'.format(threshold,metrics.f1_score(model_cl_pred, y_test)))\n",
    "        threshold_count.append([threshold, metrics.f1_score(model_cl_pred, y_test)])\n",
    "    \n",
    "    return np.round(thresholds[np.array(threshold_count)[:,1].argmax()],4), np.round(metrics.f1_score(Binarizer(threshold=thresholds[np.array(threshold_count)[:,1].argmax()]).transform(pred_proba_1), y_test),4)\n",
    "\n",
    "Find_threshold(lgbm_clf, X_test, y_test)"
   ]
  },
  {
   "cell_type": "code",
   "execution_count": 80,
   "metadata": {},
   "outputs": [
    {
     "name": "stdout",
     "output_type": "stream",
     "text": [
      "오차 행렬\n",
      "[[3652  332]\n",
      " [ 284  253]]\n",
      "정확도: 0.8637, 정밀도: 0.4325, 재현율: 0.4711, F1_score:  0.471136\n"
     ]
    }
   ],
   "source": [
    "# Binarizer의 베스트 threshold 설정값 지정 \n",
    "\n",
    "custom_threshold = 0.365\n",
    "pred_proba_1 = pred_proba[:,1].reshape(-1,1)\n",
    "binarizer = Binarizer(threshold=custom_threshold).fit(pred_proba_1) \n",
    "custom_predict = binarizer.transform(pred_proba_1)\n",
    "\n",
    "get_clf_eval(y_test , custom_predict)"
   ]
  },
  {
   "cell_type": "code",
   "execution_count": 81,
   "metadata": {},
   "outputs": [],
   "source": [
    "\n",
    "pred_proba_1 = lgbm_clf.predict_proba(test)\n",
    "binarizer_pred = Binarizer(threshold=0.365).transform(pred_proba_1[:,1].reshape(-1,1)) \n",
    "binarizer_pred = binarizer_pred.reshape(-1,)\n",
    "submit = pd.read_csv('./sample_submission.csv')\n",
    "submit['y'] = binarizer_pred\n",
    "submit['y'] = submit.y.astype('bool')\n",
    "submit.to_csv('./under_NCR_0.365_nongrid.csv', index = False)"
   ]
  },
  {
   "cell_type": "markdown",
   "metadata": {},
   "source": [
    "## GridsearchCV"
   ]
  },
  {
   "cell_type": "code",
   "execution_count": 82,
   "metadata": {},
   "outputs": [],
   "source": [
    "from sklearn.model_selection import GridSearchCV\n",
    "\n",
    "# 하이퍼 파라미터 테스트의 수행 속도를 향상시키기 위해 n_estimators를 100으로 감소\n",
    "\n",
    "params = {'num_leaves': [8 ,16 ,32, 64],\n",
    "          'max_depth':[16, 32, 64, 128, 160],\n",
    "          'min_child_samples':[20, 60, 100],\n",
    "          'subsample':[0.2, 0.4, 0.6, 0.8, 1],\n",
    "         'n_estimators':[100,300,500,700,900,1200]}\n",
    "\n",
    "\n",
    "\n",
    "gridcv = GridSearchCV(lgbm_clf, param_grid=params, verbose=3, n_jobs=-1, cv=3)"
   ]
  },
  {
   "cell_type": "code",
   "execution_count": 83,
   "metadata": {},
   "outputs": [
    {
     "name": "stdout",
     "output_type": "stream",
     "text": [
      "Fitting 3 folds for each of 1800 candidates, totalling 5400 fits\n"
     ]
    },
    {
     "name": "stderr",
     "output_type": "stream",
     "text": [
      "[Parallel(n_jobs=-1)]: Using backend LokyBackend with 8 concurrent workers.\n",
      "[Parallel(n_jobs=-1)]: Done  16 tasks      | elapsed:    2.5s\n",
      "[Parallel(n_jobs=-1)]: Done 112 tasks      | elapsed:   13.3s\n",
      "[Parallel(n_jobs=-1)]: Done 272 tasks      | elapsed:   31.2s\n",
      "[Parallel(n_jobs=-1)]: Done 496 tasks      | elapsed:   55.9s\n",
      "[Parallel(n_jobs=-1)]: Done 784 tasks      | elapsed:  1.5min\n",
      "[Parallel(n_jobs=-1)]: Done 1136 tasks      | elapsed:  2.3min\n",
      "[Parallel(n_jobs=-1)]: Done 1552 tasks      | elapsed:  3.1min\n",
      "[Parallel(n_jobs=-1)]: Done 2032 tasks      | elapsed:  4.1min\n",
      "[Parallel(n_jobs=-1)]: Done 2576 tasks      | elapsed:  5.1min\n",
      "[Parallel(n_jobs=-1)]: Done 3184 tasks      | elapsed:  6.3min\n",
      "[Parallel(n_jobs=-1)]: Done 3856 tasks      | elapsed:  7.6min\n",
      "[Parallel(n_jobs=-1)]: Done 4592 tasks      | elapsed:  9.1min\n",
      "[Parallel(n_jobs=-1)]: Done 5400 out of 5400 | elapsed: 10.8min finished\n"
     ]
    },
    {
     "name": "stdout",
     "output_type": "stream",
     "text": [
      "[1]\ttraining's binary_logloss: 0.416483\tvalid_1's binary_logloss: 0.357725\n",
      "Training until validation scores don't improve for 30 rounds\n",
      "[2]\ttraining's binary_logloss: 0.405057\tvalid_1's binary_logloss: 0.34995\n",
      "[3]\ttraining's binary_logloss: 0.394656\tvalid_1's binary_logloss: 0.343214\n",
      "[4]\ttraining's binary_logloss: 0.387775\tvalid_1's binary_logloss: 0.338708\n",
      "[5]\ttraining's binary_logloss: 0.381142\tvalid_1's binary_logloss: 0.334723\n",
      "[6]\ttraining's binary_logloss: 0.37553\tvalid_1's binary_logloss: 0.33127\n",
      "[7]\ttraining's binary_logloss: 0.371338\tvalid_1's binary_logloss: 0.329021\n",
      "[8]\ttraining's binary_logloss: 0.367785\tvalid_1's binary_logloss: 0.327194\n",
      "[9]\ttraining's binary_logloss: 0.363992\tvalid_1's binary_logloss: 0.325638\n",
      "[10]\ttraining's binary_logloss: 0.361266\tvalid_1's binary_logloss: 0.32424\n",
      "[11]\ttraining's binary_logloss: 0.358311\tvalid_1's binary_logloss: 0.323224\n",
      "[12]\ttraining's binary_logloss: 0.355364\tvalid_1's binary_logloss: 0.322164\n",
      "[13]\ttraining's binary_logloss: 0.353386\tvalid_1's binary_logloss: 0.32117\n",
      "[14]\ttraining's binary_logloss: 0.351503\tvalid_1's binary_logloss: 0.320785\n",
      "[15]\ttraining's binary_logloss: 0.349705\tvalid_1's binary_logloss: 0.319917\n",
      "[16]\ttraining's binary_logloss: 0.348242\tvalid_1's binary_logloss: 0.319829\n",
      "[17]\ttraining's binary_logloss: 0.347005\tvalid_1's binary_logloss: 0.320001\n",
      "[18]\ttraining's binary_logloss: 0.345696\tvalid_1's binary_logloss: 0.319816\n",
      "[19]\ttraining's binary_logloss: 0.344401\tvalid_1's binary_logloss: 0.319436\n",
      "[20]\ttraining's binary_logloss: 0.3433\tvalid_1's binary_logloss: 0.319315\n",
      "[21]\ttraining's binary_logloss: 0.342195\tvalid_1's binary_logloss: 0.319051\n",
      "[22]\ttraining's binary_logloss: 0.341381\tvalid_1's binary_logloss: 0.319088\n",
      "[23]\ttraining's binary_logloss: 0.34025\tvalid_1's binary_logloss: 0.318529\n",
      "[24]\ttraining's binary_logloss: 0.3394\tvalid_1's binary_logloss: 0.318632\n",
      "[25]\ttraining's binary_logloss: 0.338536\tvalid_1's binary_logloss: 0.318635\n",
      "[26]\ttraining's binary_logloss: 0.337626\tvalid_1's binary_logloss: 0.318519\n",
      "[27]\ttraining's binary_logloss: 0.336907\tvalid_1's binary_logloss: 0.318378\n",
      "[28]\ttraining's binary_logloss: 0.336047\tvalid_1's binary_logloss: 0.318414\n",
      "[29]\ttraining's binary_logloss: 0.334413\tvalid_1's binary_logloss: 0.317538\n",
      "[30]\ttraining's binary_logloss: 0.333093\tvalid_1's binary_logloss: 0.316707\n",
      "[31]\ttraining's binary_logloss: 0.332462\tvalid_1's binary_logloss: 0.316829\n",
      "[32]\ttraining's binary_logloss: 0.331891\tvalid_1's binary_logloss: 0.316626\n",
      "[33]\ttraining's binary_logloss: 0.330794\tvalid_1's binary_logloss: 0.316057\n",
      "[34]\ttraining's binary_logloss: 0.330046\tvalid_1's binary_logloss: 0.31597\n",
      "[35]\ttraining's binary_logloss: 0.329553\tvalid_1's binary_logloss: 0.316046\n",
      "[36]\ttraining's binary_logloss: 0.328956\tvalid_1's binary_logloss: 0.315847\n",
      "[37]\ttraining's binary_logloss: 0.328473\tvalid_1's binary_logloss: 0.315655\n",
      "[38]\ttraining's binary_logloss: 0.328031\tvalid_1's binary_logloss: 0.31558\n",
      "[39]\ttraining's binary_logloss: 0.32759\tvalid_1's binary_logloss: 0.315819\n",
      "[40]\ttraining's binary_logloss: 0.327082\tvalid_1's binary_logloss: 0.315903\n",
      "[41]\ttraining's binary_logloss: 0.326677\tvalid_1's binary_logloss: 0.315972\n",
      "[42]\ttraining's binary_logloss: 0.32606\tvalid_1's binary_logloss: 0.316057\n",
      "[43]\ttraining's binary_logloss: 0.325068\tvalid_1's binary_logloss: 0.315599\n",
      "[44]\ttraining's binary_logloss: 0.324696\tvalid_1's binary_logloss: 0.315595\n",
      "[45]\ttraining's binary_logloss: 0.324217\tvalid_1's binary_logloss: 0.315838\n",
      "[46]\ttraining's binary_logloss: 0.323884\tvalid_1's binary_logloss: 0.315805\n",
      "[47]\ttraining's binary_logloss: 0.323444\tvalid_1's binary_logloss: 0.316052\n",
      "[48]\ttraining's binary_logloss: 0.322832\tvalid_1's binary_logloss: 0.315811\n",
      "[49]\ttraining's binary_logloss: 0.322486\tvalid_1's binary_logloss: 0.315944\n",
      "[50]\ttraining's binary_logloss: 0.322022\tvalid_1's binary_logloss: 0.315801\n",
      "[51]\ttraining's binary_logloss: 0.321162\tvalid_1's binary_logloss: 0.315279\n",
      "[52]\ttraining's binary_logloss: 0.320816\tvalid_1's binary_logloss: 0.315349\n",
      "[53]\ttraining's binary_logloss: 0.320092\tvalid_1's binary_logloss: 0.314997\n",
      "[54]\ttraining's binary_logloss: 0.319801\tvalid_1's binary_logloss: 0.314977\n",
      "[55]\ttraining's binary_logloss: 0.319149\tvalid_1's binary_logloss: 0.314743\n",
      "[56]\ttraining's binary_logloss: 0.318793\tvalid_1's binary_logloss: 0.315084\n",
      "[57]\ttraining's binary_logloss: 0.318288\tvalid_1's binary_logloss: 0.31494\n",
      "[58]\ttraining's binary_logloss: 0.318031\tvalid_1's binary_logloss: 0.314874\n",
      "[59]\ttraining's binary_logloss: 0.317545\tvalid_1's binary_logloss: 0.314698\n",
      "[60]\ttraining's binary_logloss: 0.317318\tvalid_1's binary_logloss: 0.314859\n",
      "[61]\ttraining's binary_logloss: 0.316773\tvalid_1's binary_logloss: 0.314738\n",
      "[62]\ttraining's binary_logloss: 0.316514\tvalid_1's binary_logloss: 0.314708\n",
      "[63]\ttraining's binary_logloss: 0.316283\tvalid_1's binary_logloss: 0.314672\n",
      "[64]\ttraining's binary_logloss: 0.31602\tvalid_1's binary_logloss: 0.314725\n",
      "[65]\ttraining's binary_logloss: 0.315635\tvalid_1's binary_logloss: 0.314582\n",
      "[66]\ttraining's binary_logloss: 0.315158\tvalid_1's binary_logloss: 0.314612\n",
      "[67]\ttraining's binary_logloss: 0.314778\tvalid_1's binary_logloss: 0.314518\n",
      "[68]\ttraining's binary_logloss: 0.314571\tvalid_1's binary_logloss: 0.314606\n",
      "[69]\ttraining's binary_logloss: 0.314367\tvalid_1's binary_logloss: 0.314695\n",
      "[70]\ttraining's binary_logloss: 0.314089\tvalid_1's binary_logloss: 0.3147\n",
      "[71]\ttraining's binary_logloss: 0.313897\tvalid_1's binary_logloss: 0.314637\n",
      "[72]\ttraining's binary_logloss: 0.313633\tvalid_1's binary_logloss: 0.314691\n",
      "[73]\ttraining's binary_logloss: 0.313319\tvalid_1's binary_logloss: 0.314691\n",
      "[74]\ttraining's binary_logloss: 0.312857\tvalid_1's binary_logloss: 0.31471\n",
      "[75]\ttraining's binary_logloss: 0.312697\tvalid_1's binary_logloss: 0.314805\n",
      "[76]\ttraining's binary_logloss: 0.312536\tvalid_1's binary_logloss: 0.314871\n",
      "[77]\ttraining's binary_logloss: 0.312367\tvalid_1's binary_logloss: 0.314895\n",
      "[78]\ttraining's binary_logloss: 0.31221\tvalid_1's binary_logloss: 0.31479\n",
      "[79]\ttraining's binary_logloss: 0.311926\tvalid_1's binary_logloss: 0.31483\n",
      "[80]\ttraining's binary_logloss: 0.311427\tvalid_1's binary_logloss: 0.314695\n",
      "[81]\ttraining's binary_logloss: 0.311219\tvalid_1's binary_logloss: 0.314773\n",
      "[82]\ttraining's binary_logloss: 0.311058\tvalid_1's binary_logloss: 0.314763\n",
      "[83]\ttraining's binary_logloss: 0.310866\tvalid_1's binary_logloss: 0.314897\n",
      "[84]\ttraining's binary_logloss: 0.310553\tvalid_1's binary_logloss: 0.314996\n",
      "[85]\ttraining's binary_logloss: 0.310285\tvalid_1's binary_logloss: 0.314947\n",
      "[86]\ttraining's binary_logloss: 0.310128\tvalid_1's binary_logloss: 0.314913\n",
      "[87]\ttraining's binary_logloss: 0.309834\tvalid_1's binary_logloss: 0.314852\n",
      "[88]\ttraining's binary_logloss: 0.309552\tvalid_1's binary_logloss: 0.314829\n",
      "[89]\ttraining's binary_logloss: 0.309281\tvalid_1's binary_logloss: 0.314975\n",
      "[90]\ttraining's binary_logloss: 0.309052\tvalid_1's binary_logloss: 0.314943\n",
      "[91]\ttraining's binary_logloss: 0.308668\tvalid_1's binary_logloss: 0.315094\n",
      "[92]\ttraining's binary_logloss: 0.30845\tvalid_1's binary_logloss: 0.315176\n",
      "[93]\ttraining's binary_logloss: 0.308283\tvalid_1's binary_logloss: 0.315111\n",
      "[94]\ttraining's binary_logloss: 0.308024\tvalid_1's binary_logloss: 0.315068\n",
      "[95]\ttraining's binary_logloss: 0.307641\tvalid_1's binary_logloss: 0.315042\n",
      "[96]\ttraining's binary_logloss: 0.307495\tvalid_1's binary_logloss: 0.315016\n",
      "[97]\ttraining's binary_logloss: 0.30731\tvalid_1's binary_logloss: 0.315008\n",
      "Early stopping, best iteration is:\n",
      "[67]\ttraining's binary_logloss: 0.314778\tvalid_1's binary_logloss: 0.314518\n"
     ]
    },
    {
     "data": {
      "text/plain": [
       "GridSearchCV(cv=3, estimator=LGBMClassifier(n_estimators=400), n_jobs=-1,\n",
       "             param_grid={'max_depth': [16, 32, 64, 128, 160],\n",
       "                         'min_child_samples': [20, 60, 100],\n",
       "                         'n_estimators': [100, 300, 500, 700, 900, 1200],\n",
       "                         'num_leaves': [8, 16, 32, 64],\n",
       "                         'subsample': [0.2, 0.4, 0.6, 0.8, 1]},\n",
       "             verbose=3)"
      ]
     },
     "execution_count": 83,
     "metadata": {},
     "output_type": "execute_result"
    }
   ],
   "source": [
    "gridcv.fit(X_train, y_train, early_stopping_rounds=30, eval_metric=\"f1\",\n",
    "           eval_set=[(X_train, y_train), (X_test, y_test)])"
   ]
  },
  {
   "cell_type": "code",
   "execution_count": 84,
   "metadata": {},
   "outputs": [
    {
     "data": {
      "text/plain": [
       "LGBMClassifier(max_depth=16, num_leaves=8, subsample=0.2)"
      ]
     },
     "execution_count": 84,
     "metadata": {},
     "output_type": "execute_result"
    }
   ],
   "source": [
    "gridcv.best_estimator_"
   ]
  },
  {
   "cell_type": "code",
   "execution_count": 85,
   "metadata": {},
   "outputs": [],
   "source": [
    "lgbm_clf_best = LGBMClassifier(max_depth=16, num_leaves=8, subsample=0.2)"
   ]
  },
  {
   "cell_type": "code",
   "execution_count": 86,
   "metadata": {},
   "outputs": [
    {
     "data": {
      "text/plain": [
       "LGBMClassifier(max_depth=16, num_leaves=8, subsample=0.2)"
      ]
     },
     "execution_count": 86,
     "metadata": {},
     "output_type": "execute_result"
    }
   ],
   "source": [
    "lgbm_clf_best.fit(X_train, y_train)"
   ]
  },
  {
   "cell_type": "code",
   "execution_count": 87,
   "metadata": {},
   "outputs": [
    {
     "name": "stdout",
     "output_type": "stream",
     "text": [
      "pred_proba()결과 Shape : (4521, 2)\n",
      "pred_proba array에서 앞 3개만 샘플로 추출 \n",
      ": [[0.47767876 0.52232124]\n",
      " [0.7221221  0.2778779 ]\n",
      " [0.89328544 0.10671456]]\n",
      "두개의 class 중에서 더 큰 확률을 클래스 값으로 예측 \n",
      " [[0.47767876 0.52232124 0.47767876 0.52232124]\n",
      " [0.7221221  0.2778779  0.7221221  0.2778779 ]\n",
      " [0.89328544 0.10671456 0.89328544 0.10671456]]\n"
     ]
    }
   ],
   "source": [
    "##\n",
    "\n",
    "pred_proba = lgbm_clf_best.predict_proba(X_test)\n",
    "pred  = lgbm_clf_best.predict_proba(X_test)\n",
    "print('pred_proba()결과 Shape : {0}'.format(pred_proba.shape))\n",
    "print('pred_proba array에서 앞 3개만 샘플로 추출 \\n:', pred_proba[:3])\n",
    "\n",
    "# 예측 확률 array 와 예측 결과값 array 를 concatenate 하여 예측 확률과 결과값을 한눈에 확인\n",
    "pred_proba_result = np.concatenate([pred_proba , pred.reshape(-1,2)],axis=1)\n",
    "print('두개의 class 중에서 더 큰 확률을 클래스 값으로 예측 \\n',pred_proba_result[:3])\n"
   ]
  },
  {
   "cell_type": "code",
   "execution_count": 88,
   "metadata": {},
   "outputs": [
    {
     "name": "stdout",
     "output_type": "stream",
     "text": [
      "오차 행렬\n",
      "[[3816  168]\n",
      " [ 368  169]]\n",
      "정확도: 0.8814, 정밀도: 0.5015, 재현율: 0.3147, F1_score:  0.314711\n"
     ]
    }
   ],
   "source": [
    "from sklearn.preprocessing import Binarizer\n",
    "\n",
    "#Binarizer의 threshold 설정값. 분류 결정 임곗값임.  \n",
    "custom_threshold = 0.5\n",
    "\n",
    "# predict_proba( ) 반환값의 두번째 컬럼 , 즉 Positive 클래스 컬럼 하나만 추출하여 Binarizer를 적용\n",
    "pred_proba_1 = pred_proba[:,1].reshape(-1,1)\n",
    "\n",
    "binarizer = Binarizer(threshold=custom_threshold).fit(pred_proba_1) \n",
    "custom_predict = binarizer.transform(pred_proba_1)\n",
    "\n",
    "get_clf_eval(y_test, custom_predict)"
   ]
  },
  {
   "cell_type": "code",
   "execution_count": 89,
   "metadata": {},
   "outputs": [],
   "source": [
    "from sklearn.metrics import precision_recall_curve\n",
    "\n",
    "# 레이블 값이 1일때의 예측 확률을 추출 \n",
    "pred_proba_class1 = lgbm_clf_best.predict_proba(X_test)[:, 1] "
   ]
  },
  {
   "cell_type": "code",
   "execution_count": 90,
   "metadata": {},
   "outputs": [
    {
     "data": {
      "image/png": "[encoded data removed]",
      "text/plain": [
       "<Figure size 576x432 with 1 Axes>"
      ]
     },
     "metadata": {
      "needs_background": "light"
     },
     "output_type": "display_data"
    }
   ],
   "source": [
    "import matplotlib.pyplot as plt\n",
    "import matplotlib.ticker as ticker\n",
    "%matplotlib inline\n",
    "\n",
    "def precision_recall_curve_plot(y_test, pred_proba_c1):\n",
    "    # threshold ndarray와 이 threshold에 따른 정밀도, 재현율 ndarray 추출. \n",
    "    precisions, recalls, thresholds = precision_recall_curve( y_test, pred_proba_c1)\n",
    "    \n",
    "    # X축을 threshold값으로, Y축은 정밀도, 재현율 값으로 각각 Plot 수행. 정밀도는 점선으로 표시\n",
    "    plt.figure(figsize=(8,6))\n",
    "    threshold_boundary = thresholds.shape[0]\n",
    "    plt.plot(thresholds, precisions[0:threshold_boundary], linestyle='--', label='precision')\n",
    "    plt.plot(thresholds, recalls[0:threshold_boundary],label='recall')\n",
    "    \n",
    "    # threshold 값 X 축의 Scale을 0.1 단위로 변경\n",
    "    start, end = plt.xlim()\n",
    "    plt.xticks(np.round(np.arange(start, end, 0.1),2))\n",
    "    \n",
    "    # x축, y축 label과 legend, 그리고 grid 설정\n",
    "    plt.xlabel('Threshold value'); plt.ylabel('Precision and Recall value')\n",
    "    plt.legend(); plt.grid()\n",
    "    plt.show()\n",
    "    \n",
    "precision_recall_curve_plot(y_test, lgbm_clf_best.predict_proba(X_test)[:, 1] )\n"
   ]
  },
  {
   "cell_type": "code",
   "execution_count": 91,
   "metadata": {},
   "outputs": [
    {
     "data": {
      "text/plain": [
       "(0.253, 0.465)"
      ]
     },
     "execution_count": 91,
     "metadata": {},
     "output_type": "execute_result"
    }
   ],
   "source": [
    "def Find_threshold(model, X_test, y_test):\n",
    "    thresholds = np.arange(0,1,0.001)\n",
    "    threshold_count = []\n",
    "    pred_proba=model.predict_proba(X_test)\n",
    "    pred_proba_1 = pred_proba[:,1].reshape(-1,1)\n",
    "    for threshold in thresholds:\n",
    "        binarizer = Binarizer(threshold=threshold)\n",
    "        model_cl_pred = binarizer.transform(pred_proba_1)\n",
    "        threshold_count.append([threshold, metrics.f1_score(model_cl_pred, y_test)])\n",
    "\n",
    "    MAX=thresholds[np.array(threshold_count)[:,1].argmax()]\n",
    "    \n",
    "    thresholds = np.arange(MAX-0.05,MAX+0.05,0.005)\n",
    "    threshold_count = []\n",
    "    for threshold in thresholds:\n",
    "        binarizer = Binarizer(threshold=threshold)\n",
    "        model_cl_pred = binarizer.transform(pred_proba_1)\n",
    "        #threshold_count.append([threshold, metrics.f1_score(log_cl_pred, y_test)])\n",
    "        #print('threshold: {0:.4f}, f1_score: {1:.4f}'.format(threshold,metrics.f1_score(model_cl_pred, y_test)))\n",
    "        threshold_count.append([threshold, metrics.f1_score(model_cl_pred, y_test)])\n",
    "    \n",
    "    return np.round(thresholds[np.array(threshold_count)[:,1].argmax()],4), np.round(metrics.f1_score(Binarizer(threshold=thresholds[np.array(threshold_count)[:,1].argmax()]).transform(pred_proba_1), y_test),4)\n",
    "\n",
    "Find_threshold(lgbm_clf_best, X_test, y_test)"
   ]
  },
  {
   "cell_type": "code",
   "execution_count": 92,
   "metadata": {},
   "outputs": [
    {
     "name": "stdout",
     "output_type": "stream",
     "text": [
      "오차 행렬\n",
      "[[3577  407]\n",
      " [ 251  286]]\n",
      "정확도: 0.8545, 정밀도: 0.4127, 재현율: 0.5326, F1_score:  0.532588\n"
     ]
    }
   ],
   "source": [
    "# Binarizer의 베스트 threshold 설정값 지정 \n",
    "\n",
    "custom_threshold = 0.253\n",
    "pred_proba_1 = pred_proba[:,1].reshape(-1,1)\n",
    "binarizer = Binarizer(threshold=custom_threshold).fit(pred_proba_1) \n",
    "custom_predict = binarizer.transform(pred_proba_1)\n",
    "\n",
    "get_clf_eval(y_test , custom_predict)"
   ]
  },
  {
   "cell_type": "code",
   "execution_count": 93,
   "metadata": {},
   "outputs": [],
   "source": [
    "test = pd.read_csv('./test_dummies.csv')\n",
    "pred_proba_1 = lgbm_clf_best.predict_proba(test)\n",
    "binarizer_pred = Binarizer(threshold=0.253).transform(pred_proba_1[:,1].reshape(-1,1)) \n",
    "binarizer_pred = binarizer_pred.reshape(-1,)\n",
    "submit = pd.read_csv('./sample_submission.csv')\n",
    "submit['y'] = binarizer_pred\n",
    "submit['y'] = submit.y.astype('bool')\n",
    "submit.to_csv('./under_NCR_0.253_grid.csv', index = False)"
   ]
  },
  {
   "cell_type": "code",
   "execution_count": null,
   "metadata": {},
   "outputs": [],
   "source": []
  },
  {
   "cell_type": "markdown",
   "metadata": {},
   "source": [
    "## RandomizedGridsearchCV"
   ]
  },
  {
   "cell_type": "code",
   "execution_count": 94,
   "metadata": {},
   "outputs": [
    {
     "name": "stdout",
     "output_type": "stream",
     "text": [
      "{'n_estimators': [100, 311, 522, 733, 944, 1155, 1366, 1577, 1788, 2000], 'max_features': ['auto', 'sqrt'], 'max_depth': [10, 20, 30, 40, 50, 60, 70, 80, 90, 100, 110, None], 'min_samples_split': [1, 2, 3, 4, 5, 6, 7, 8, 9, 10], 'min_samples_leaf': [1, 2, 3, 4, 5, 6, 7, 8, 9, 10], 'bootstrap': [True, False]}\n"
     ]
    }
   ],
   "source": [
    "from sklearn.model_selection import RandomizedSearchCV\n",
    "\n",
    "# Number of trees in random forest\n",
    "\n",
    "n_estimators = [int(x) for x in np.linspace(start = 100, stop = 2000, num = 10)]\n",
    "\n",
    "# Number of features to consider at every split\n",
    "\n",
    "max_features = ['auto', 'sqrt']\n",
    "\n",
    "# Maximum number of levels in tree\n",
    "\n",
    "max_depth = [int(x) for x in np.linspace(10, 110, num = 11)]\n",
    "\n",
    "max_depth.append(None)\n",
    "\n",
    "# Minimum number of samples required to split a node\n",
    "\n",
    "min_samples_split = [1,2,3,4,5,6,7,8,9,10]\n",
    "\n",
    "# Minimum number of samples required at each leaf node\n",
    "\n",
    "min_samples_leaf = [1, 2, 3, 4, 5, 6, 7, 8, 9, 10]\n",
    "\n",
    "# Method of selecting samples for training each tree\n",
    "\n",
    "bootstrap = [True, False]\n",
    "\n",
    "# Create the random grid\n",
    "\n",
    "random_grid = {'n_estimators': n_estimators,\n",
    "               'max_features': max_features,\n",
    "               'max_depth': max_depth,\n",
    "               'min_samples_split': min_samples_split,\n",
    "               'min_samples_leaf': min_samples_leaf,\n",
    "               'bootstrap': bootstrap}\n",
    "\n",
    "print(random_grid)\n",
    "\n",
    "# {'bootstrap': [True, False],\n",
    "#  'max_depth': [10, 20, 30, 40, 50, 60, 70, 80, 90, 100, None],\n",
    "#  'max_features': ['auto', 'sqrt'],\n",
    "#  'min_samples_leaf': [1, 2, 4],\n",
    "#  'min_samples_split': [2, 5, 10],\n",
    "#  'n_estimators': [200, 400, 600, 800, 1000, 1200, 1400, 1600, 1800, 2000]}"
   ]
  },
  {
   "cell_type": "code",
   "execution_count": 95,
   "metadata": {},
   "outputs": [],
   "source": [
    "from sklearn.model_selection import RandomizedSearchCV\n",
    "\n",
    "n_estimators = [int(x) for x in np.linspace(start = 100, stop = 2000, num = 10)]\n",
    "\n",
    "max_features = ['auto', 'sqrt']\n",
    "\n",
    "max_depth = [int(x) for x in np.linspace(10, 110, num = 11)]\n",
    "\n",
    "max_depth.append(None)\n",
    "\n",
    "min_samples_split = [1,2,3,4,5,6,7,8,9,10]\n",
    "\n",
    "min_samples_leaf = [1, 2, 3, 4, 5, 6, 7, 8, 9, 10]\n",
    "\n",
    "bootstrap = [True, False]\n",
    "\n",
    "random_grid = {'n_estimators': n_estimators,\n",
    "               'max_features': max_features,\n",
    "               'max_depth': max_depth,\n",
    "               'min_samples_split': min_samples_split,\n",
    "               'min_samples_leaf': min_samples_leaf,\n",
    "               'bootstrap': bootstrap}"
   ]
  },
  {
   "cell_type": "code",
   "execution_count": 96,
   "metadata": {},
   "outputs": [
    {
     "name": "stdout",
     "output_type": "stream",
     "text": [
      "Fitting 3 folds for each of 100 candidates, totalling 300 fits\n"
     ]
    },
    {
     "name": "stderr",
     "output_type": "stream",
     "text": [
      "[Parallel(n_jobs=-1)]: Using backend LokyBackend with 8 concurrent workers.\n",
      "[Parallel(n_jobs=-1)]: Done  25 tasks      | elapsed:   43.0s\n",
      "[Parallel(n_jobs=-1)]: Done 146 tasks      | elapsed:  2.7min\n",
      "[Parallel(n_jobs=-1)]: Done 300 out of 300 | elapsed:  5.4min finished\n"
     ]
    },
    {
     "name": "stdout",
     "output_type": "stream",
     "text": [
      "LGBMClassifier(bootstrap=False, max_depth=90, max_features='auto',\n",
      "               min_samples_leaf=5, min_samples_split=2, n_estimators=311)\n"
     ]
    }
   ],
   "source": [
    "lg_cl = LGBMClassifier()\n",
    "\n",
    "lg_random = RandomizedSearchCV(estimator = lg_cl, param_distributions = random_grid, n_iter = 100, cv = 3, verbose=2, n_jobs = -1)\n",
    "\n",
    "lg_random.fit(X_train, y_train)\n",
    "print(lg_random.best_estimator_)"
   ]
  },
  {
   "cell_type": "code",
   "execution_count": 97,
   "metadata": {},
   "outputs": [],
   "source": [
    "lgb_random_best = LGBMClassifier(bootstrap=False, max_depth=90, max_features='auto',\n",
    "               min_samples_leaf=5, min_samples_split=2, n_estimators=311)"
   ]
  },
  {
   "cell_type": "code",
   "execution_count": 98,
   "metadata": {
    "scrolled": true
   },
   "outputs": [
    {
     "data": {
      "text/plain": [
       "LGBMClassifier(bootstrap=False, max_depth=90, max_features='auto',\n",
       "               min_samples_leaf=5, min_samples_split=2, n_estimators=311)"
      ]
     },
     "execution_count": 98,
     "metadata": {},
     "output_type": "execute_result"
    }
   ],
   "source": [
    "lgb_random_best.fit(X_train, y_train)"
   ]
  },
  {
   "cell_type": "code",
   "execution_count": 99,
   "metadata": {},
   "outputs": [
    {
     "name": "stdout",
     "output_type": "stream",
     "text": [
      "pred_proba()결과 Shape : (4521, 2)\n",
      "pred_proba array에서 앞 3개만 샘플로 추출 \n",
      ": [[0.23228766 0.76771234]\n",
      " [0.87839179 0.12160821]\n",
      " [0.86000343 0.13999657]]\n",
      "두개의 class 중에서 더 큰 확률을 클래스 값으로 예측 \n",
      " [[0.23228766 0.76771234 0.23228766 0.76771234]\n",
      " [0.87839179 0.12160821 0.87839179 0.12160821]\n",
      " [0.86000343 0.13999657 0.86000343 0.13999657]]\n"
     ]
    }
   ],
   "source": [
    "## 1 ##\n",
    "\n",
    "pred_proba = lgb_random_best.predict_proba(X_test)\n",
    "pred  = lgb_random_best.predict_proba(X_test)\n",
    "print('pred_proba()결과 Shape : {0}'.format(pred_proba.shape))\n",
    "print('pred_proba array에서 앞 3개만 샘플로 추출 \\n:', pred_proba[:3])\n",
    "\n",
    "# 예측 확률 array 와 예측 결과값 array 를 concatenate 하여 예측 확률과 결과값을 한눈에 확인\n",
    "pred_proba_result = np.concatenate([pred_proba , pred.reshape(-1,2)],axis=1)\n",
    "print('두개의 class 중에서 더 큰 확률을 클래스 값으로 예측 \\n',pred_proba_result[:3])\n"
   ]
  },
  {
   "cell_type": "code",
   "execution_count": 100,
   "metadata": {},
   "outputs": [
    {
     "name": "stdout",
     "output_type": "stream",
     "text": [
      "오차 행렬\n",
      "[[3760  224]\n",
      " [ 335  202]]\n",
      "정확도: 0.8764, 정밀도: 0.4742, 재현율: 0.3762, F1_score:  0.376164\n"
     ]
    }
   ],
   "source": [
    "## 2\n",
    "\n",
    "from sklearn.preprocessing import Binarizer\n",
    "\n",
    "#Binarizer의 threshold 설정값. 분류 결정 임곗값임.  \n",
    "custom_threshold = 0.5\n",
    "\n",
    "# predict_proba( ) 반환값의 두번째 컬럼 , 즉 Positive 클래스 컬럼 하나만 추출하여 Binarizer를 적용\n",
    "pred_proba_1 = pred_proba[:,1].reshape(-1,1)\n",
    "\n",
    "binarizer = Binarizer(threshold=custom_threshold).fit(pred_proba_1) \n",
    "custom_predict = binarizer.transform(pred_proba_1)\n",
    "\n",
    "get_clf_eval(y_test, custom_predict)"
   ]
  },
  {
   "cell_type": "code",
   "execution_count": 101,
   "metadata": {},
   "outputs": [],
   "source": [
    "from sklearn.metrics import precision_recall_curve\n",
    "\n",
    "# 레이블 값이 1일때의 예측 확률을 추출 \n",
    "pred_proba_class1 = lgb_random_best.predict_proba(X_test)[:, 1] ###"
   ]
  },
  {
   "cell_type": "code",
   "execution_count": 102,
   "metadata": {},
   "outputs": [
    {
     "data": {
      "image/png": "[encoded data removed]",
      "text/plain": [
       "<Figure size 576x432 with 1 Axes>"
      ]
     },
     "metadata": {
      "needs_background": "light"
     },
     "output_type": "display_data"
    }
   ],
   "source": [
    "import matplotlib.pyplot as plt\n",
    "import matplotlib.ticker as ticker\n",
    "%matplotlib inline\n",
    "\n",
    "def precision_recall_curve_plot(y_test, pred_proba_c1):\n",
    "    # threshold ndarray와 이 threshold에 따른 정밀도, 재현율 ndarray 추출. \n",
    "    precisions, recalls, thresholds = precision_recall_curve( y_test, pred_proba_c1)\n",
    "    \n",
    "    # X축을 threshold값으로, Y축은 정밀도, 재현율 값으로 각각 Plot 수행. 정밀도는 점선으로 표시\n",
    "    plt.figure(figsize=(8,6))\n",
    "    threshold_boundary = thresholds.shape[0]\n",
    "    plt.plot(thresholds, precisions[0:threshold_boundary], linestyle='--', label='precision')\n",
    "    plt.plot(thresholds, recalls[0:threshold_boundary],label='recall')\n",
    "    \n",
    "    # threshold 값 X 축의 Scale을 0.1 단위로 변경\n",
    "    start, end = plt.xlim()\n",
    "    plt.xticks(np.round(np.arange(start, end, 0.1),2))\n",
    "    \n",
    "    # x축, y축 label과 legend, 그리고 grid 설정\n",
    "    plt.xlabel('Threshold value'); plt.ylabel('Precision and Recall value')\n",
    "    plt.legend(); plt.grid()\n",
    "    plt.show()\n",
    "    \n",
    "precision_recall_curve_plot(y_test, lgb_random_best.predict_proba(X_test)[:, 1]) ##\n"
   ]
  },
  {
   "cell_type": "code",
   "execution_count": 103,
   "metadata": {},
   "outputs": [
    {
     "data": {
      "text/plain": [
       "(0.34, 0.457)"
      ]
     },
     "execution_count": 103,
     "metadata": {},
     "output_type": "execute_result"
    }
   ],
   "source": [
    "def Find_threshold(model, X_test, y_test):\n",
    "    thresholds = np.arange(0,1,0.05)\n",
    "    threshold_count = []\n",
    "    pred_proba=model.predict_proba(X_test)\n",
    "    pred_proba_1 = pred_proba[:,1].reshape(-1,1)\n",
    "    for threshold in thresholds:\n",
    "        binarizer = Binarizer(threshold=threshold)\n",
    "        model_cl_pred = binarizer.transform(pred_proba_1)\n",
    "        threshold_count.append([threshold, metrics.f1_score(model_cl_pred, y_test)])\n",
    "\n",
    "    MAX=thresholds[np.array(threshold_count)[:,1].argmax()]\n",
    "    \n",
    "    thresholds = np.arange(MAX-0.05,MAX+0.05,0.005)\n",
    "    threshold_count = []\n",
    "    for threshold in thresholds:\n",
    "        binarizer = Binarizer(threshold=threshold)\n",
    "        model_cl_pred = binarizer.transform(pred_proba_1)\n",
    "        #threshold_count.append([threshold, metrics.f1_score(log_cl_pred, y_test)])\n",
    "        #print('threshold: {0:.4f}, f1_score: {1:.4f}'.format(threshold,metrics.f1_score(model_cl_pred, y_test)))\n",
    "        threshold_count.append([threshold, metrics.f1_score(model_cl_pred, y_test)])\n",
    "    \n",
    "    return np.round(thresholds[np.array(threshold_count)[:,1].argmax()],4), np.round(metrics.f1_score(Binarizer(threshold=thresholds[np.array(threshold_count)[:,1].argmax()]).transform(pred_proba_1), y_test),4)\n",
    "\n",
    "Find_threshold(lgb_random_best, X_test, y_test)"
   ]
  },
  {
   "cell_type": "code",
   "execution_count": 104,
   "metadata": {},
   "outputs": [
    {
     "name": "stdout",
     "output_type": "stream",
     "text": [
      "오차 행렬\n",
      "[[3623  361]\n",
      " [ 271  266]]\n",
      "정확도: 0.8602, 정밀도: 0.4242, 재현율: 0.4953, F1_score:  0.495345\n"
     ]
    }
   ],
   "source": [
    "# Binarizer의 베스트 threshold 설정값 지정 \n",
    "\n",
    "custom_threshold = 0.34\n",
    "pred_proba_1 = pred_proba[:,1].reshape(-1,1)\n",
    "binarizer = Binarizer(threshold=custom_threshold).fit(pred_proba_1) \n",
    "custom_predict = binarizer.transform(pred_proba_1)\n",
    "\n",
    "get_clf_eval(y_test , custom_predict)"
   ]
  },
  {
   "cell_type": "code",
   "execution_count": 105,
   "metadata": {},
   "outputs": [],
   "source": [
    "test = pd.read_csv('./test_dummies.csv')\n",
    "pred_proba_1 = lgb_random_best.predict_proba(test)\n",
    "binarizer_pred = Binarizer(threshold=0.34).transform(pred_proba_1[:,1].reshape(-1,1)) \n",
    "binarizer_pred = binarizer_pred.reshape(-1,)\n",
    "submit = pd.read_csv('./sample_submission.csv')\n",
    "submit['y'] = binarizer_pred\n",
    "submit['y'] = submit.y.astype('bool')\n",
    "submit.to_csv('./under_NCR_0.34_randomgrid.csv', index = False)"
   ]
  },
  {
   "cell_type": "code",
   "execution_count": null,
   "metadata": {},
   "outputs": [],
   "source": []
  },
  {
   "cell_type": "markdown",
   "metadata": {},
   "source": [
    "## BaysianOptimization"
   ]
  },
  {
   "cell_type": "code",
   "execution_count": 106,
   "metadata": {},
   "outputs": [],
   "source": [
    "bayes_params = {\n",
    "    'num_leaves': (24, 45),\n",
    "    'colsample_bytree':(0.5, 1), \n",
    "    'subsample': (0.5, 1),\n",
    "    'max_depth': (4, 12),\n",
    "    'reg_alpha': (0, 0.5),\n",
    "    'reg_lambda': (0, 0.5), \n",
    "    'min_split_gain': (0.001, 0.1),\n",
    "    'min_child_weight':(5, 50)\n",
    "}"
   ]
  },
  {
   "cell_type": "code",
   "execution_count": 107,
   "metadata": {},
   "outputs": [],
   "source": [
    "from lightgbm import LGBMClassifier\n",
    "from sklearn.metrics import roc_auc_score\n",
    "\n",
    "def lgb_roc_eval(num_leaves, colsample_bytree, subsample, max_depth, reg_alpha, reg_lambda, min_split_gain, min_child_weight):\n",
    "    \n",
    "    params = {\n",
    "        \"n_estimator\":200,\n",
    "        \"learning_rate\":0.02,\n",
    "        'num_leaves': int(round(num_leaves)),\n",
    "        'colsample_bytree': colsample_bytree, \n",
    "        'subsample': subsample,\n",
    "        'max_depth': int(round(max_depth)),\n",
    "        'reg_alpha': reg_alpha,\n",
    "        'reg_lambda': reg_lambda, \n",
    "        'min_split_gain': min_split_gain,\n",
    "        'min_child_weight': min_child_weight,\n",
    "        'verbosity': -1\n",
    "    }\n",
    "    print(\"params:\", params)\n",
    "    lgb_model = LGBMClassifier(**params)\n",
    "    lgb_model.fit(X_train, y_train, eval_set=[(X_test, y_test)], early_stopping_rounds=30, eval_metric=\"auc\", verbose=100 )\n",
    "    best_iter = lgb_model.best_iteration_\n",
    "    print('best_iter:', best_iter)\n",
    "    valid_proba = lgb_model.predict_proba(X_test, num_iteration=best_iter)[:, 1]\n",
    "    roc_preds = roc_auc_score(y_test, valid_proba)\n",
    "    print('roc_auc:', roc_preds)\n",
    "    return roc_preds\n",
    "    \n",
    "    "
   ]
  },
  {
   "cell_type": "code",
   "execution_count": 108,
   "metadata": {},
   "outputs": [],
   "source": [
    "from bayes_opt import BayesianOptimization\n",
    "\n",
    "BO_lgb = BayesianOptimization(lgb_roc_eval, bayes_params, random_state=0)\n"
   ]
  },
  {
   "cell_type": "code",
   "execution_count": 109,
   "metadata": {
    "scrolled": true
   },
   "outputs": [
    {
     "name": "stdout",
     "output_type": "stream",
     "text": [
      "|   iter    |  target   | colsam... | max_depth | min_ch... | min_sp... | num_le... | reg_alpha | reg_la... | subsample |\n",
      "-------------------------------------------------------------------------------------------------------------------------\n",
      "params: {'n_estimator': 200, 'learning_rate': 0.02, 'num_leaves': 33, 'colsample_bytree': 0.7744067519636624, 'subsample': 0.9458865003910399, 'max_depth': 10, 'reg_alpha': 0.32294705653332806, 'reg_lambda': 0.21879360563134626, 'min_split_gain': 0.05494343511669279, 'min_child_weight': 32.12435192322397, 'verbosity': -1}\n",
      "Training until validation scores don't improve for 30 rounds\n",
      "[100]\tvalid_0's auc: 0.765471\tvalid_0's binary_logloss: 0.315956\n",
      "Did not meet early stopping. Best iteration is:\n",
      "[100]\tvalid_0's auc: 0.765471\tvalid_0's binary_logloss: 0.315956\n",
      "best_iter: 100\n",
      "roc_auc: 0.76547110228624\n",
      "| \u001b[0m 1       \u001b[0m | \u001b[0m 0.7655  \u001b[0m | \u001b[0m 0.7744  \u001b[0m | \u001b[0m 9.722   \u001b[0m | \u001b[0m 32.12   \u001b[0m | \u001b[0m 0.05494 \u001b[0m | \u001b[0m 32.9    \u001b[0m | \u001b[0m 0.3229  \u001b[0m | \u001b[0m 0.2188  \u001b[0m | \u001b[0m 0.9459  \u001b[0m |\n",
      "params: {'n_estimator': 200, 'learning_rate': 0.02, 'num_leaves': 36, 'colsample_bytree': 0.9818313802505146, 'subsample': 0.5435646498507704, 'max_depth': 7, 'reg_alpha': 0.4627983191463305, 'reg_lambda': 0.03551802909894347, 'min_split_gain': 0.05336059705553755, 'min_child_weight': 40.627626713719906, 'verbosity': -1}\n",
      "Training until validation scores don't improve for 30 rounds\n",
      "[100]\tvalid_0's auc: 0.757116\tvalid_0's binary_logloss: 0.319494\n",
      "Did not meet early stopping. Best iteration is:\n",
      "[99]\tvalid_0's auc: 0.757275\tvalid_0's binary_logloss: 0.319416\n",
      "best_iter: 99\n",
      "roc_auc: 0.7572751434041567\n",
      "| \u001b[0m 2       \u001b[0m | \u001b[0m 0.7573  \u001b[0m | \u001b[0m 0.9818  \u001b[0m | \u001b[0m 7.068   \u001b[0m | \u001b[0m 40.63   \u001b[0m | \u001b[0m 0.05336 \u001b[0m | \u001b[0m 35.93   \u001b[0m | \u001b[0m 0.4628  \u001b[0m | \u001b[0m 0.03552 \u001b[0m | \u001b[0m 0.5436  \u001b[0m |\n",
      "params: {'n_estimator': 200, 'learning_rate': 0.02, 'num_leaves': 45, 'colsample_bytree': 0.5101091987201629, 'subsample': 0.8902645881432277, 'max_depth': 11, 'reg_alpha': 0.3995792821083618, 'reg_lambda': 0.23073968112646592, 'min_split_gain': 0.08713120267643511, 'min_child_weight': 40.01705379274327, 'verbosity': -1}\n",
      "Training until validation scores don't improve for 30 rounds\n",
      "[100]\tvalid_0's auc: 0.762949\tvalid_0's binary_logloss: 0.318852\n",
      "Did not meet early stopping. Best iteration is:\n",
      "[98]\tvalid_0's auc: 0.763054\tvalid_0's binary_logloss: 0.318853\n",
      "best_iter: 98\n",
      "roc_auc: 0.7630540785114388\n",
      "| \u001b[0m 3       \u001b[0m | \u001b[0m 0.7631  \u001b[0m | \u001b[0m 0.5101  \u001b[0m | \u001b[0m 10.66   \u001b[0m | \u001b[0m 40.02   \u001b[0m | \u001b[0m 0.08713 \u001b[0m | \u001b[0m 44.55   \u001b[0m | \u001b[0m 0.3996  \u001b[0m | \u001b[0m 0.2307  \u001b[0m | \u001b[0m 0.8903  \u001b[0m |\n",
      "params: {'n_estimator': 200, 'learning_rate': 0.02, 'num_leaves': 35, 'colsample_bytree': 0.5591372129344666, 'subsample': 0.8871168447171083, 'max_depth': 9, 'reg_alpha': 0.2073309699952618, 'reg_lambda': 0.13227780605231348, 'min_split_gain': 0.09452222278790881, 'min_child_weight': 11.450897933407088, 'verbosity': -1}\n",
      "Training until validation scores don't improve for 30 rounds\n",
      "[100]\tvalid_0's auc: 0.776825\tvalid_0's binary_logloss: 0.312407\n",
      "Did not meet early stopping. Best iteration is:\n",
      "[100]\tvalid_0's auc: 0.776825\tvalid_0's binary_logloss: 0.312407\n",
      "best_iter: 100\n",
      "roc_auc: 0.776825411515709\n",
      "| \u001b[95m 4       \u001b[0m | \u001b[95m 0.7768  \u001b[0m | \u001b[95m 0.5591  \u001b[0m | \u001b[95m 9.119   \u001b[0m | \u001b[95m 11.45   \u001b[0m | \u001b[95m 0.09452 \u001b[0m | \u001b[95m 34.96   \u001b[0m | \u001b[95m 0.2073  \u001b[0m | \u001b[95m 0.1323  \u001b[0m | \u001b[95m 0.8871  \u001b[0m |\n",
      "params: {'n_estimator': 200, 'learning_rate': 0.02, 'num_leaves': 37, 'colsample_bytree': 0.7280751661082743, 'subsample': 0.8409101495517417, 'max_depth': 9, 'reg_alpha': 0.30846699843737846, 'reg_lambda': 0.4718740392573121, 'min_split_gain': 0.062145914210511834, 'min_child_weight': 5.845541019635982, 'verbosity': -1}\n",
      "Training until validation scores don't improve for 30 rounds\n",
      "[100]\tvalid_0's auc: 0.780002\tvalid_0's binary_logloss: 0.310985\n",
      "Did not meet early stopping. Best iteration is:\n",
      "[100]\tvalid_0's auc: 0.780002\tvalid_0's binary_logloss: 0.310985\n",
      "best_iter: 100\n",
      "roc_auc: 0.7800019912050437\n",
      "| \u001b[95m 5       \u001b[0m | \u001b[95m 0.78    \u001b[0m | \u001b[95m 0.7281  \u001b[0m | \u001b[95m 8.547   \u001b[0m | \u001b[95m 5.846   \u001b[0m | \u001b[95m 0.06215 \u001b[0m | \u001b[95m 36.85   \u001b[0m | \u001b[95m 0.3085  \u001b[0m | \u001b[95m 0.4719  \u001b[0m | \u001b[95m 0.8409  \u001b[0m |\n",
      "params: {'n_estimator': 200, 'learning_rate': 0.02, 'num_leaves': 24, 'colsample_bytree': 1.0, 'subsample': 0.5, 'max_depth': 4, 'reg_alpha': 0.21036952866124276, 'reg_lambda': 0.5, 'min_split_gain': 0.001, 'min_child_weight': 5.0, 'verbosity': -1}\n",
      "Training until validation scores don't improve for 30 rounds\n",
      "[100]\tvalid_0's auc: 0.763815\tvalid_0's binary_logloss: 0.320153\n",
      "Did not meet early stopping. Best iteration is:\n",
      "[100]\tvalid_0's auc: 0.763815\tvalid_0's binary_logloss: 0.320153\n",
      "best_iter: 100\n",
      "roc_auc: 0.7638150366830451\n",
      "| \u001b[0m 6       \u001b[0m | \u001b[0m 0.7638  \u001b[0m | \u001b[0m 1.0     \u001b[0m | \u001b[0m 4.0     \u001b[0m | \u001b[0m 5.0     \u001b[0m | \u001b[0m 0.001   \u001b[0m | \u001b[0m 24.0    \u001b[0m | \u001b[0m 0.2104  \u001b[0m | \u001b[0m 0.5     \u001b[0m | \u001b[0m 0.5     \u001b[0m |\n",
      "params: {'n_estimator': 200, 'learning_rate': 0.02, 'num_leaves': 45, 'colsample_bytree': 0.5, 'subsample': 1.0, 'max_depth': 12, 'reg_alpha': 0.5, 'reg_lambda': 0.0, 'min_split_gain': 0.1, 'min_child_weight': 7.525120550625742, 'verbosity': -1}\n",
      "Training until validation scores don't improve for 30 rounds\n",
      "[100]\tvalid_0's auc: 0.781348\tvalid_0's binary_logloss: 0.311041\n",
      "Did not meet early stopping. Best iteration is:\n",
      "[98]\tvalid_0's auc: 0.781397\tvalid_0's binary_logloss: 0.311027\n",
      "best_iter: 98\n",
      "roc_auc: 0.7813965358641268\n",
      "| \u001b[95m 7       \u001b[0m | \u001b[95m 0.7814  \u001b[0m | \u001b[95m 0.5     \u001b[0m | \u001b[95m 12.0    \u001b[0m | \u001b[95m 7.525   \u001b[0m | \u001b[95m 0.1     \u001b[0m | \u001b[95m 45.0    \u001b[0m | \u001b[95m 0.5     \u001b[0m | \u001b[95m 0.0     \u001b[0m | \u001b[95m 1.0     \u001b[0m |\n",
      "params: {'n_estimator': 200, 'learning_rate': 0.02, 'num_leaves': 45, 'colsample_bytree': 1.0, 'subsample': 0.5, 'max_depth': 4, 'reg_alpha': 0.0, 'reg_lambda': 0.5, 'min_split_gain': 0.001, 'min_child_weight': 5.0, 'verbosity': -1}\n",
      "Training until validation scores don't improve for 30 rounds\n",
      "[100]\tvalid_0's auc: 0.763884\tvalid_0's binary_logloss: 0.32004\n",
      "Did not meet early stopping. Best iteration is:\n",
      "[100]\tvalid_0's auc: 0.763884\tvalid_0's binary_logloss: 0.32004\n",
      "best_iter: 100\n",
      "roc_auc: 0.7638837472796212\n",
      "| \u001b[0m 8       \u001b[0m | \u001b[0m 0.7639  \u001b[0m | \u001b[0m 1.0     \u001b[0m | \u001b[0m 4.0     \u001b[0m | \u001b[0m 5.0     \u001b[0m | \u001b[0m 0.001   \u001b[0m | \u001b[0m 45.0    \u001b[0m | \u001b[0m 0.0     \u001b[0m | \u001b[0m 0.5     \u001b[0m | \u001b[0m 0.5     \u001b[0m |\n",
      "params: {'n_estimator': 200, 'learning_rate': 0.02, 'num_leaves': 42, 'colsample_bytree': 1.0, 'subsample': 1.0, 'max_depth': 12, 'reg_alpha': 0.5, 'reg_lambda': 0.5, 'min_split_gain': 0.1, 'min_child_weight': 12.705913661777341, 'verbosity': -1}\n",
      "Training until validation scores don't improve for 30 rounds\n",
      "[100]\tvalid_0's auc: 0.765799\tvalid_0's binary_logloss: 0.314399\n",
      "Did not meet early stopping. Best iteration is:\n",
      "[100]\tvalid_0's auc: 0.765799\tvalid_0's binary_logloss: 0.314399\n",
      "best_iter: 100\n",
      "roc_auc: 0.765798763022294\n",
      "| \u001b[0m 9       \u001b[0m | \u001b[0m 0.7658  \u001b[0m | \u001b[0m 1.0     \u001b[0m | \u001b[0m 12.0    \u001b[0m | \u001b[0m 12.71   \u001b[0m | \u001b[0m 0.1     \u001b[0m | \u001b[0m 41.98   \u001b[0m | \u001b[0m 0.5     \u001b[0m | \u001b[0m 0.5     \u001b[0m | \u001b[0m 1.0     \u001b[0m |\n",
      "params: {'n_estimator': 200, 'learning_rate': 0.02, 'num_leaves': 41, 'colsample_bytree': 0.5, 'subsample': 0.991041115071728, 'max_depth': 11, 'reg_alpha': 0.4548383507022773, 'reg_lambda': 0.0, 'min_split_gain': 0.0970065573629875, 'min_child_weight': 5.807743807269834, 'verbosity': -1}\n",
      "Training until validation scores don't improve for 30 rounds\n",
      "[100]\tvalid_0's auc: 0.781858\tvalid_0's binary_logloss: 0.310787\n",
      "Did not meet early stopping. Best iteration is:\n",
      "[98]\tvalid_0's auc: 0.782122\tvalid_0's binary_logloss: 0.310731\n",
      "best_iter: 98\n",
      "roc_auc: 0.7821217364803723\n",
      "| \u001b[95m 10      \u001b[0m | \u001b[95m 0.7821  \u001b[0m | \u001b[95m 0.5     \u001b[0m | \u001b[95m 11.34   \u001b[0m | \u001b[95m 5.808   \u001b[0m | \u001b[95m 0.09701 \u001b[0m | \u001b[95m 41.19   \u001b[0m | \u001b[95m 0.4548  \u001b[0m | \u001b[95m 0.0     \u001b[0m | \u001b[95m 0.991   \u001b[0m |\n",
      "params: {'n_estimator': 200, 'learning_rate': 0.02, 'num_leaves': 34, 'colsample_bytree': 0.5, 'subsample': 1.0, 'max_depth': 12, 'reg_alpha': 0.0, 'reg_lambda': 0.0, 'min_split_gain': 0.1, 'min_child_weight': 5.0, 'verbosity': -1}\n",
      "Training until validation scores don't improve for 30 rounds\n",
      "[100]\tvalid_0's auc: 0.782455\tvalid_0's binary_logloss: 0.310809\n",
      "Did not meet early stopping. Best iteration is:\n",
      "[98]\tvalid_0's auc: 0.78271\tvalid_0's binary_logloss: 0.310776\n",
      "best_iter: 98\n",
      "roc_auc: 0.7827102170320014\n",
      "| \u001b[95m 11      \u001b[0m | \u001b[95m 0.7827  \u001b[0m | \u001b[95m 0.5     \u001b[0m | \u001b[95m 12.0    \u001b[0m | \u001b[95m 5.0     \u001b[0m | \u001b[95m 0.1     \u001b[0m | \u001b[95m 33.62   \u001b[0m | \u001b[95m 0.0     \u001b[0m | \u001b[95m 0.0     \u001b[0m | \u001b[95m 1.0     \u001b[0m |\n",
      "params: {'n_estimator': 200, 'learning_rate': 0.02, 'num_leaves': 28, 'colsample_bytree': 0.5, 'subsample': 1.0, 'max_depth': 12, 'reg_alpha': 0.0, 'reg_lambda': 0.0, 'min_split_gain': 0.1, 'min_child_weight': 10.791815918494361, 'verbosity': -1}\n",
      "Training until validation scores don't improve for 30 rounds\n",
      "[100]\tvalid_0's auc: 0.777685\tvalid_0's binary_logloss: 0.312468\n",
      "Did not meet early stopping. Best iteration is:\n",
      "[98]\tvalid_0's auc: 0.777795\tvalid_0's binary_logloss: 0.312447\n",
      "best_iter: 98\n",
      "roc_auc: 0.7777950722816779\n",
      "| \u001b[0m 12      \u001b[0m | \u001b[0m 0.7778  \u001b[0m | \u001b[0m 0.5     \u001b[0m | \u001b[0m 12.0    \u001b[0m | \u001b[0m 10.79   \u001b[0m | \u001b[0m 0.1     \u001b[0m | \u001b[0m 28.27   \u001b[0m | \u001b[0m 0.0     \u001b[0m | \u001b[0m 0.0     \u001b[0m | \u001b[0m 1.0     \u001b[0m |\n",
      "params: {'n_estimator': 200, 'learning_rate': 0.02, 'num_leaves': 24, 'colsample_bytree': 0.5, 'subsample': 1.0, 'max_depth': 12, 'reg_alpha': 0.0, 'reg_lambda': 0.0, 'min_split_gain': 0.1, 'min_child_weight': 20.381159242303227, 'verbosity': -1}\n",
      "Training until validation scores don't improve for 30 rounds\n",
      "[100]\tvalid_0's auc: 0.770872\tvalid_0's binary_logloss: 0.315089\n",
      "Did not meet early stopping. Best iteration is:\n",
      "[98]\tvalid_0's auc: 0.771043\tvalid_0's binary_logloss: 0.315094\n",
      "best_iter: 98\n",
      "roc_auc: 0.7710434381847688\n",
      "| \u001b[0m 13      \u001b[0m | \u001b[0m 0.771   \u001b[0m | \u001b[0m 0.5     \u001b[0m | \u001b[0m 12.0    \u001b[0m | \u001b[0m 20.38   \u001b[0m | \u001b[0m 0.1     \u001b[0m | \u001b[0m 24.0    \u001b[0m | \u001b[0m 0.0     \u001b[0m | \u001b[0m 0.0     \u001b[0m | \u001b[0m 1.0     \u001b[0m |\n",
      "params: {'n_estimator': 200, 'learning_rate': 0.02, 'num_leaves': 24, 'colsample_bytree': 0.5, 'subsample': 1.0, 'max_depth': 12, 'reg_alpha': 0.0, 'reg_lambda': 0.5, 'min_split_gain': 0.1, 'min_child_weight': 50.0, 'verbosity': -1}\n",
      "Training until validation scores don't improve for 30 rounds\n",
      "[100]\tvalid_0's auc: 0.762381\tvalid_0's binary_logloss: 0.319314\n",
      "Did not meet early stopping. Best iteration is:\n",
      "[98]\tvalid_0's auc: 0.762455\tvalid_0's binary_logloss: 0.319344\n",
      "best_iter: 98\n",
      "roc_auc: 0.7624548473222499\n",
      "| \u001b[0m 14      \u001b[0m | \u001b[0m 0.7625  \u001b[0m | \u001b[0m 0.5     \u001b[0m | \u001b[0m 12.0    \u001b[0m | \u001b[0m 50.0    \u001b[0m | \u001b[0m 0.1     \u001b[0m | \u001b[0m 24.0    \u001b[0m | \u001b[0m 0.0     \u001b[0m | \u001b[0m 0.5     \u001b[0m | \u001b[0m 1.0     \u001b[0m |\n",
      "params: {'n_estimator': 200, 'learning_rate': 0.02, 'num_leaves': 30, 'colsample_bytree': 0.5, 'subsample': 1.0, 'max_depth': 4, 'reg_alpha': 0.5, 'reg_lambda': 0.0, 'min_split_gain': 0.001, 'min_child_weight': 17.91325050062918, 'verbosity': -1}\n",
      "Training until validation scores don't improve for 30 rounds\n",
      "[100]\tvalid_0's auc: 0.753902\tvalid_0's binary_logloss: 0.322951\n",
      "Did not meet early stopping. Best iteration is:\n",
      "[100]\tvalid_0's auc: 0.753902\tvalid_0's binary_logloss: 0.322951\n",
      "best_iter: 100\n",
      "roc_auc: 0.7539017803055799\n",
      "| \u001b[0m 15      \u001b[0m | \u001b[0m 0.7539  \u001b[0m | \u001b[0m 0.5     \u001b[0m | \u001b[0m 4.0     \u001b[0m | \u001b[0m 17.91   \u001b[0m | \u001b[0m 0.001   \u001b[0m | \u001b[0m 30.08   \u001b[0m | \u001b[0m 0.5     \u001b[0m | \u001b[0m 0.0     \u001b[0m | \u001b[0m 1.0     \u001b[0m |\n",
      "=========================================================================================================================\n"
     ]
    }
   ],
   "source": [
    "BO_lgb.maximize(init_points=5, n_iter=10)"
   ]
  },
  {
   "cell_type": "code",
   "execution_count": 110,
   "metadata": {},
   "outputs": [
    {
     "data": {
      "text/plain": [
       "{'target': 0.7827102170320014,\n",
       " 'params': {'colsample_bytree': 0.5,\n",
       "  'max_depth': 12.0,\n",
       "  'min_child_weight': 5.0,\n",
       "  'min_split_gain': 0.1,\n",
       "  'num_leaves': 33.621116050160964,\n",
       "  'reg_alpha': 0.0,\n",
       "  'reg_lambda': 0.0,\n",
       "  'subsample': 1.0}}"
      ]
     },
     "execution_count": 110,
     "metadata": {},
     "output_type": "execute_result"
    }
   ],
   "source": [
    "BO_lgb.max"
   ]
  },
  {
   "cell_type": "code",
   "execution_count": 111,
   "metadata": {},
   "outputs": [
    {
     "name": "stdout",
     "output_type": "stream",
     "text": [
      "[1]\tvalid_0's auc: 0.687975\tvalid_0's binary_logloss: 0.367767\n",
      "Training until validation scores don't improve for 100 rounds\n",
      "[2]\tvalid_0's auc: 0.683573\tvalid_0's binary_logloss: 0.366383\n",
      "[3]\tvalid_0's auc: 0.695447\tvalid_0's binary_logloss: 0.364302\n",
      "[4]\tvalid_0's auc: 0.706713\tvalid_0's binary_logloss: 0.362216\n",
      "[5]\tvalid_0's auc: 0.720218\tvalid_0's binary_logloss: 0.360197\n",
      "[6]\tvalid_0's auc: 0.723094\tvalid_0's binary_logloss: 0.358766\n",
      "[7]\tvalid_0's auc: 0.723401\tvalid_0's binary_logloss: 0.35708\n",
      "[8]\tvalid_0's auc: 0.74139\tvalid_0's binary_logloss: 0.354748\n",
      "[9]\tvalid_0's auc: 0.752981\tvalid_0's binary_logloss: 0.352358\n",
      "[10]\tvalid_0's auc: 0.755369\tvalid_0's binary_logloss: 0.350894\n",
      "[11]\tvalid_0's auc: 0.760063\tvalid_0's binary_logloss: 0.349042\n",
      "[12]\tvalid_0's auc: 0.757719\tvalid_0's binary_logloss: 0.348239\n",
      "[13]\tvalid_0's auc: 0.759326\tvalid_0's binary_logloss: 0.346476\n",
      "[14]\tvalid_0's auc: 0.762457\tvalid_0's binary_logloss: 0.34469\n",
      "[15]\tvalid_0's auc: 0.762036\tvalid_0's binary_logloss: 0.34385\n",
      "[16]\tvalid_0's auc: 0.76434\tvalid_0's binary_logloss: 0.342233\n",
      "[17]\tvalid_0's auc: 0.763714\tvalid_0's binary_logloss: 0.341194\n",
      "[18]\tvalid_0's auc: 0.76333\tvalid_0's binary_logloss: 0.340308\n",
      "[19]\tvalid_0's auc: 0.761892\tvalid_0's binary_logloss: 0.339762\n",
      "[20]\tvalid_0's auc: 0.761615\tvalid_0's binary_logloss: 0.338776\n",
      "[21]\tvalid_0's auc: 0.761411\tvalid_0's binary_logloss: 0.337975\n",
      "[22]\tvalid_0's auc: 0.762734\tvalid_0's binary_logloss: 0.336731\n",
      "[23]\tvalid_0's auc: 0.764286\tvalid_0's binary_logloss: 0.335567\n",
      "[24]\tvalid_0's auc: 0.763591\tvalid_0's binary_logloss: 0.33483\n",
      "[25]\tvalid_0's auc: 0.76527\tvalid_0's binary_logloss: 0.333494\n",
      "[26]\tvalid_0's auc: 0.766785\tvalid_0's binary_logloss: 0.332551\n",
      "[27]\tvalid_0's auc: 0.767373\tvalid_0's binary_logloss: 0.33166\n",
      "[28]\tvalid_0's auc: 0.768266\tvalid_0's binary_logloss: 0.33061\n",
      "[29]\tvalid_0's auc: 0.768716\tvalid_0's binary_logloss: 0.329921\n",
      "[30]\tvalid_0's auc: 0.769057\tvalid_0's binary_logloss: 0.329485\n",
      "[31]\tvalid_0's auc: 0.768456\tvalid_0's binary_logloss: 0.329131\n",
      "[32]\tvalid_0's auc: 0.769161\tvalid_0's binary_logloss: 0.328317\n",
      "[33]\tvalid_0's auc: 0.76946\tvalid_0's binary_logloss: 0.327695\n",
      "[34]\tvalid_0's auc: 0.769705\tvalid_0's binary_logloss: 0.327104\n",
      "[35]\tvalid_0's auc: 0.76992\tvalid_0's binary_logloss: 0.326542\n",
      "[36]\tvalid_0's auc: 0.77137\tvalid_0's binary_logloss: 0.325656\n",
      "[37]\tvalid_0's auc: 0.771167\tvalid_0's binary_logloss: 0.325341\n",
      "[38]\tvalid_0's auc: 0.771347\tvalid_0's binary_logloss: 0.324889\n",
      "[39]\tvalid_0's auc: 0.771114\tvalid_0's binary_logloss: 0.324609\n",
      "[40]\tvalid_0's auc: 0.772603\tvalid_0's binary_logloss: 0.323819\n",
      "[41]\tvalid_0's auc: 0.774431\tvalid_0's binary_logloss: 0.322927\n",
      "[42]\tvalid_0's auc: 0.775043\tvalid_0's binary_logloss: 0.322269\n",
      "[43]\tvalid_0's auc: 0.775605\tvalid_0's binary_logloss: 0.321666\n",
      "[44]\tvalid_0's auc: 0.775405\tvalid_0's binary_logloss: 0.321371\n",
      "[45]\tvalid_0's auc: 0.775492\tvalid_0's binary_logloss: 0.321006\n",
      "[46]\tvalid_0's auc: 0.775355\tvalid_0's binary_logloss: 0.320694\n",
      "[47]\tvalid_0's auc: 0.775477\tvalid_0's binary_logloss: 0.320326\n",
      "[48]\tvalid_0's auc: 0.775906\tvalid_0's binary_logloss: 0.319787\n",
      "[49]\tvalid_0's auc: 0.776713\tvalid_0's binary_logloss: 0.319107\n",
      "[50]\tvalid_0's auc: 0.777176\tvalid_0's binary_logloss: 0.318625\n",
      "[51]\tvalid_0's auc: 0.777099\tvalid_0's binary_logloss: 0.318282\n",
      "[52]\tvalid_0's auc: 0.777308\tvalid_0's binary_logloss: 0.31785\n",
      "[53]\tvalid_0's auc: 0.777581\tvalid_0's binary_logloss: 0.317594\n",
      "[54]\tvalid_0's auc: 0.777976\tvalid_0's binary_logloss: 0.317346\n",
      "[55]\tvalid_0's auc: 0.777792\tvalid_0's binary_logloss: 0.317185\n",
      "[56]\tvalid_0's auc: 0.777986\tvalid_0's binary_logloss: 0.316976\n",
      "[57]\tvalid_0's auc: 0.778016\tvalid_0's binary_logloss: 0.316834\n",
      "[58]\tvalid_0's auc: 0.778547\tvalid_0's binary_logloss: 0.316396\n",
      "[59]\tvalid_0's auc: 0.778309\tvalid_0's binary_logloss: 0.316256\n",
      "[60]\tvalid_0's auc: 0.778625\tvalid_0's binary_logloss: 0.315793\n",
      "[61]\tvalid_0's auc: 0.779084\tvalid_0's binary_logloss: 0.315397\n",
      "[62]\tvalid_0's auc: 0.77861\tvalid_0's binary_logloss: 0.315415\n",
      "[63]\tvalid_0's auc: 0.778826\tvalid_0's binary_logloss: 0.315177\n",
      "[64]\tvalid_0's auc: 0.778651\tvalid_0's binary_logloss: 0.314983\n",
      "[65]\tvalid_0's auc: 0.778391\tvalid_0's binary_logloss: 0.314902\n",
      "[66]\tvalid_0's auc: 0.778585\tvalid_0's binary_logloss: 0.314772\n",
      "[67]\tvalid_0's auc: 0.778525\tvalid_0's binary_logloss: 0.31472\n",
      "[68]\tvalid_0's auc: 0.778707\tvalid_0's binary_logloss: 0.314618\n",
      "[69]\tvalid_0's auc: 0.778463\tvalid_0's binary_logloss: 0.314609\n",
      "[70]\tvalid_0's auc: 0.778357\tvalid_0's binary_logloss: 0.314584\n",
      "[71]\tvalid_0's auc: 0.778305\tvalid_0's binary_logloss: 0.314351\n",
      "[72]\tvalid_0's auc: 0.778577\tvalid_0's binary_logloss: 0.314087\n",
      "[73]\tvalid_0's auc: 0.778605\tvalid_0's binary_logloss: 0.313965\n",
      "[74]\tvalid_0's auc: 0.77923\tvalid_0's binary_logloss: 0.313551\n",
      "[75]\tvalid_0's auc: 0.779521\tvalid_0's binary_logloss: 0.313377\n",
      "[76]\tvalid_0's auc: 0.779596\tvalid_0's binary_logloss: 0.313251\n",
      "[77]\tvalid_0's auc: 0.779519\tvalid_0's binary_logloss: 0.313209\n",
      "[78]\tvalid_0's auc: 0.779805\tvalid_0's binary_logloss: 0.312945\n",
      "[79]\tvalid_0's auc: 0.779767\tvalid_0's binary_logloss: 0.31286\n",
      "[80]\tvalid_0's auc: 0.779937\tvalid_0's binary_logloss: 0.312698\n",
      "[81]\tvalid_0's auc: 0.779842\tvalid_0's binary_logloss: 0.312674\n",
      "[82]\tvalid_0's auc: 0.780418\tvalid_0's binary_logloss: 0.31231\n",
      "[83]\tvalid_0's auc: 0.780319\tvalid_0's binary_logloss: 0.312322\n",
      "[84]\tvalid_0's auc: 0.780916\tvalid_0's binary_logloss: 0.311936\n",
      "[85]\tvalid_0's auc: 0.780963\tvalid_0's binary_logloss: 0.311923\n",
      "[86]\tvalid_0's auc: 0.781462\tvalid_0's binary_logloss: 0.311607\n",
      "[87]\tvalid_0's auc: 0.781612\tvalid_0's binary_logloss: 0.311532\n",
      "[88]\tvalid_0's auc: 0.781565\tvalid_0's binary_logloss: 0.311537\n",
      "[89]\tvalid_0's auc: 0.781571\tvalid_0's binary_logloss: 0.311555\n",
      "[90]\tvalid_0's auc: 0.781837\tvalid_0's binary_logloss: 0.311483\n",
      "[91]\tvalid_0's auc: 0.781723\tvalid_0's binary_logloss: 0.311506\n",
      "[92]\tvalid_0's auc: 0.78167\tvalid_0's binary_logloss: 0.311375\n",
      "[93]\tvalid_0's auc: 0.781718\tvalid_0's binary_logloss: 0.311277\n",
      "[94]\tvalid_0's auc: 0.781867\tvalid_0's binary_logloss: 0.311235\n",
      "[95]\tvalid_0's auc: 0.781901\tvalid_0's binary_logloss: 0.31123\n",
      "[96]\tvalid_0's auc: 0.782387\tvalid_0's binary_logloss: 0.310932\n",
      "[97]\tvalid_0's auc: 0.782513\tvalid_0's binary_logloss: 0.310933\n",
      "[98]\tvalid_0's auc: 0.78271\tvalid_0's binary_logloss: 0.310776\n",
      "[99]\tvalid_0's auc: 0.782576\tvalid_0's binary_logloss: 0.310797\n",
      "[100]\tvalid_0's auc: 0.782455\tvalid_0's binary_logloss: 0.310809\n",
      "[101]\tvalid_0's auc: 0.78255\tvalid_0's binary_logloss: 0.31082\n",
      "[102]\tvalid_0's auc: 0.78293\tvalid_0's binary_logloss: 0.310565\n",
      "[103]\tvalid_0's auc: 0.783247\tvalid_0's binary_logloss: 0.310339\n",
      "[104]\tvalid_0's auc: 0.78345\tvalid_0's binary_logloss: 0.310273\n",
      "[105]\tvalid_0's auc: 0.783521\tvalid_0's binary_logloss: 0.310239\n",
      "[106]\tvalid_0's auc: 0.783214\tvalid_0's binary_logloss: 0.310354\n",
      "[107]\tvalid_0's auc: 0.783233\tvalid_0's binary_logloss: 0.310403\n",
      "[108]\tvalid_0's auc: 0.783296\tvalid_0's binary_logloss: 0.31037\n",
      "[109]\tvalid_0's auc: 0.783303\tvalid_0's binary_logloss: 0.310308\n",
      "[110]\tvalid_0's auc: 0.783672\tvalid_0's binary_logloss: 0.310076\n",
      "[111]\tvalid_0's auc: 0.783861\tvalid_0's binary_logloss: 0.309986\n",
      "[112]\tvalid_0's auc: 0.783832\tvalid_0's binary_logloss: 0.31003\n",
      "[113]\tvalid_0's auc: 0.783707\tvalid_0's binary_logloss: 0.310122\n",
      "[114]\tvalid_0's auc: 0.783777\tvalid_0's binary_logloss: 0.310114\n",
      "[115]\tvalid_0's auc: 0.783813\tvalid_0's binary_logloss: 0.310165\n",
      "[116]\tvalid_0's auc: 0.783788\tvalid_0's binary_logloss: 0.310199\n",
      "[117]\tvalid_0's auc: 0.783712\tvalid_0's binary_logloss: 0.310264\n",
      "[118]\tvalid_0's auc: 0.783845\tvalid_0's binary_logloss: 0.310298\n",
      "[119]\tvalid_0's auc: 0.783765\tvalid_0's binary_logloss: 0.310381\n",
      "[120]\tvalid_0's auc: 0.783757\tvalid_0's binary_logloss: 0.310465\n",
      "[121]\tvalid_0's auc: 0.783736\tvalid_0's binary_logloss: 0.31052\n",
      "[122]\tvalid_0's auc: 0.783853\tvalid_0's binary_logloss: 0.310587\n",
      "[123]\tvalid_0's auc: 0.783888\tvalid_0's binary_logloss: 0.310598\n",
      "[124]\tvalid_0's auc: 0.783917\tvalid_0's binary_logloss: 0.310571\n",
      "[125]\tvalid_0's auc: 0.784077\tvalid_0's binary_logloss: 0.31054\n",
      "[126]\tvalid_0's auc: 0.784467\tvalid_0's binary_logloss: 0.310322\n",
      "[127]\tvalid_0's auc: 0.784437\tvalid_0's binary_logloss: 0.31036\n",
      "[128]\tvalid_0's auc: 0.784451\tvalid_0's binary_logloss: 0.310444\n",
      "[129]\tvalid_0's auc: 0.78465\tvalid_0's binary_logloss: 0.310415\n",
      "[130]\tvalid_0's auc: 0.784529\tvalid_0's binary_logloss: 0.31044\n",
      "[131]\tvalid_0's auc: 0.784641\tvalid_0's binary_logloss: 0.310381\n",
      "[132]\tvalid_0's auc: 0.784552\tvalid_0's binary_logloss: 0.310465\n",
      "[133]\tvalid_0's auc: 0.785032\tvalid_0's binary_logloss: 0.310346\n",
      "[134]\tvalid_0's auc: 0.785135\tvalid_0's binary_logloss: 0.310273\n",
      "[135]\tvalid_0's auc: 0.785087\tvalid_0's binary_logloss: 0.310303\n",
      "[136]\tvalid_0's auc: 0.78509\tvalid_0's binary_logloss: 0.310283\n",
      "[137]\tvalid_0's auc: 0.785174\tvalid_0's binary_logloss: 0.310292\n",
      "[138]\tvalid_0's auc: 0.785049\tvalid_0's binary_logloss: 0.310339\n",
      "[139]\tvalid_0's auc: 0.785112\tvalid_0's binary_logloss: 0.310364\n",
      "[140]\tvalid_0's auc: 0.785204\tvalid_0's binary_logloss: 0.310344\n",
      "[141]\tvalid_0's auc: 0.785262\tvalid_0's binary_logloss: 0.310417\n",
      "[142]\tvalid_0's auc: 0.785344\tvalid_0's binary_logloss: 0.310489\n",
      "[143]\tvalid_0's auc: 0.785343\tvalid_0's binary_logloss: 0.310529\n",
      "[144]\tvalid_0's auc: 0.785231\tvalid_0's binary_logloss: 0.310652\n",
      "[145]\tvalid_0's auc: 0.785231\tvalid_0's binary_logloss: 0.310751\n",
      "[146]\tvalid_0's auc: 0.785442\tvalid_0's binary_logloss: 0.310645\n",
      "[147]\tvalid_0's auc: 0.785507\tvalid_0's binary_logloss: 0.3107\n",
      "[148]\tvalid_0's auc: 0.785789\tvalid_0's binary_logloss: 0.310564\n",
      "[149]\tvalid_0's auc: 0.785916\tvalid_0's binary_logloss: 0.31055\n",
      "[150]\tvalid_0's auc: 0.786013\tvalid_0's binary_logloss: 0.310575\n",
      "[151]\tvalid_0's auc: 0.786004\tvalid_0's binary_logloss: 0.310635\n",
      "[152]\tvalid_0's auc: 0.785832\tvalid_0's binary_logloss: 0.3107\n",
      "[153]\tvalid_0's auc: 0.7861\tvalid_0's binary_logloss: 0.310579\n",
      "[154]\tvalid_0's auc: 0.786217\tvalid_0's binary_logloss: 0.31062\n",
      "[155]\tvalid_0's auc: 0.786181\tvalid_0's binary_logloss: 0.310668\n",
      "[156]\tvalid_0's auc: 0.786214\tvalid_0's binary_logloss: 0.31066\n",
      "[157]\tvalid_0's auc: 0.786261\tvalid_0's binary_logloss: 0.310647\n",
      "[158]\tvalid_0's auc: 0.786253\tvalid_0's binary_logloss: 0.310709\n",
      "[159]\tvalid_0's auc: 0.786169\tvalid_0's binary_logloss: 0.310815\n",
      "[160]\tvalid_0's auc: 0.786426\tvalid_0's binary_logloss: 0.310809\n",
      "[161]\tvalid_0's auc: 0.786389\tvalid_0's binary_logloss: 0.310898\n",
      "[162]\tvalid_0's auc: 0.786268\tvalid_0's binary_logloss: 0.311005\n",
      "[163]\tvalid_0's auc: 0.786521\tvalid_0's binary_logloss: 0.310978\n",
      "[164]\tvalid_0's auc: 0.786413\tvalid_0's binary_logloss: 0.311088\n",
      "[165]\tvalid_0's auc: 0.786486\tvalid_0's binary_logloss: 0.311096\n",
      "[166]\tvalid_0's auc: 0.78653\tvalid_0's binary_logloss: 0.311156\n",
      "[167]\tvalid_0's auc: 0.786615\tvalid_0's binary_logloss: 0.311206\n",
      "[168]\tvalid_0's auc: 0.786672\tvalid_0's binary_logloss: 0.311219\n",
      "[169]\tvalid_0's auc: 0.786849\tvalid_0's binary_logloss: 0.311187\n",
      "[170]\tvalid_0's auc: 0.787028\tvalid_0's binary_logloss: 0.311129\n",
      "[171]\tvalid_0's auc: 0.78696\tvalid_0's binary_logloss: 0.311245\n",
      "[172]\tvalid_0's auc: 0.786861\tvalid_0's binary_logloss: 0.311338\n",
      "[173]\tvalid_0's auc: 0.786774\tvalid_0's binary_logloss: 0.311446\n",
      "[174]\tvalid_0's auc: 0.786776\tvalid_0's binary_logloss: 0.311487\n",
      "[175]\tvalid_0's auc: 0.787034\tvalid_0's binary_logloss: 0.31145\n",
      "[176]\tvalid_0's auc: 0.787175\tvalid_0's binary_logloss: 0.311508\n",
      "[177]\tvalid_0's auc: 0.787141\tvalid_0's binary_logloss: 0.311521\n",
      "[178]\tvalid_0's auc: 0.787433\tvalid_0's binary_logloss: 0.311445\n",
      "[179]\tvalid_0's auc: 0.787621\tvalid_0's binary_logloss: 0.311412\n",
      "[180]\tvalid_0's auc: 0.787769\tvalid_0's binary_logloss: 0.311326\n",
      "[181]\tvalid_0's auc: 0.787772\tvalid_0's binary_logloss: 0.311335\n",
      "[182]\tvalid_0's auc: 0.787768\tvalid_0's binary_logloss: 0.311367\n",
      "[183]\tvalid_0's auc: 0.787755\tvalid_0's binary_logloss: 0.311436\n",
      "[184]\tvalid_0's auc: 0.787689\tvalid_0's binary_logloss: 0.311505\n",
      "[185]\tvalid_0's auc: 0.787741\tvalid_0's binary_logloss: 0.311468\n",
      "[186]\tvalid_0's auc: 0.787927\tvalid_0's binary_logloss: 0.311404\n",
      "[187]\tvalid_0's auc: 0.787903\tvalid_0's binary_logloss: 0.311459\n",
      "[188]\tvalid_0's auc: 0.788141\tvalid_0's binary_logloss: 0.311392\n",
      "[189]\tvalid_0's auc: 0.788233\tvalid_0's binary_logloss: 0.311377\n",
      "[190]\tvalid_0's auc: 0.788243\tvalid_0's binary_logloss: 0.311448\n",
      "[191]\tvalid_0's auc: 0.788222\tvalid_0's binary_logloss: 0.311494\n",
      "[192]\tvalid_0's auc: 0.788174\tvalid_0's binary_logloss: 0.311522\n",
      "[193]\tvalid_0's auc: 0.788124\tvalid_0's binary_logloss: 0.311595\n",
      "[194]\tvalid_0's auc: 0.788164\tvalid_0's binary_logloss: 0.311645\n",
      "[195]\tvalid_0's auc: 0.788087\tvalid_0's binary_logloss: 0.311718\n",
      "[196]\tvalid_0's auc: 0.788115\tvalid_0's binary_logloss: 0.311769\n",
      "[197]\tvalid_0's auc: 0.788122\tvalid_0's binary_logloss: 0.311728\n",
      "[198]\tvalid_0's auc: 0.788174\tvalid_0's binary_logloss: 0.311747\n",
      "[199]\tvalid_0's auc: 0.788084\tvalid_0's binary_logloss: 0.311843\n",
      "[200]\tvalid_0's auc: 0.787919\tvalid_0's binary_logloss: 0.311891\n",
      "[201]\tvalid_0's auc: 0.788159\tvalid_0's binary_logloss: 0.311844\n",
      "[202]\tvalid_0's auc: 0.788174\tvalid_0's binary_logloss: 0.311901\n",
      "[203]\tvalid_0's auc: 0.788345\tvalid_0's binary_logloss: 0.311929\n",
      "[204]\tvalid_0's auc: 0.788271\tvalid_0's binary_logloss: 0.311991\n",
      "[205]\tvalid_0's auc: 0.788233\tvalid_0's binary_logloss: 0.312105\n",
      "[206]\tvalid_0's auc: 0.788326\tvalid_0's binary_logloss: 0.312102\n",
      "[207]\tvalid_0's auc: 0.788347\tvalid_0's binary_logloss: 0.312154\n",
      "[208]\tvalid_0's auc: 0.788257\tvalid_0's binary_logloss: 0.312256\n",
      "[209]\tvalid_0's auc: 0.788347\tvalid_0's binary_logloss: 0.312243\n",
      "[210]\tvalid_0's auc: 0.788499\tvalid_0's binary_logloss: 0.312224\n",
      "[211]\tvalid_0's auc: 0.788586\tvalid_0's binary_logloss: 0.312198\n",
      "Early stopping, best iteration is:\n",
      "[111]\tvalid_0's auc: 0.783861\tvalid_0's binary_logloss: 0.309986\n",
      "ROC AUC: 0.7839\n"
     ]
    }
   ],
   "source": [
    "max_params = BO_lgb.max['params']\n",
    "\n",
    "max_params['num_leaves'] = int(round(max_params['num_leaves']))\n",
    "max_params['max_depth'] = int(round(max_params['max_depth']))\n",
    "\n",
    "lgbm_clf_bayes_best = LGBMClassifier(n_estimators=1000, learning_rate=0.02, **max_params)\n",
    "\n",
    "evals = [(X_test, y_test)]\n",
    "lgbm_clf_bayes_best.fit(X_train, y_train, early_stopping_rounds=100, eval_metric=\"auc\", eval_set=evals,\n",
    "                verbose=True)\n",
    "\n",
    "lgbm_roc_score = roc_auc_score(y_test, lgbm_clf_bayes_best.predict_proba(X_test)[:,1],average='macro')\n",
    "print('ROC AUC: {0:.4f}'.format(lgbm_roc_score))"
   ]
  },
  {
   "cell_type": "code",
   "execution_count": 112,
   "metadata": {},
   "outputs": [
    {
     "data": {
      "text/plain": [
       "LGBMClassifier(colsample_bytree=0.5, learning_rate=0.02, max_depth=12,\n",
       "               min_child_weight=5.0, min_split_gain=0.1, n_estimators=1000,\n",
       "               num_leaves=34)"
      ]
     },
     "execution_count": 112,
     "metadata": {},
     "output_type": "execute_result"
    }
   ],
   "source": [
    "lgbm_clf_bayes_best"
   ]
  },
  {
   "cell_type": "code",
   "execution_count": 113,
   "metadata": {},
   "outputs": [
    {
     "data": {
      "text/plain": [
       "LGBMClassifier(colsample_bytree=0.5, learning_rate=0.02, max_depth=12,\n",
       "               min_child_weight=5.0, min_split_gain=0.1, n_estimators=1000,\n",
       "               num_leaves=34)"
      ]
     },
     "execution_count": 113,
     "metadata": {},
     "output_type": "execute_result"
    }
   ],
   "source": [
    "lgbm_clf_bayes_best.fit(X_train, y_train)"
   ]
  },
  {
   "cell_type": "code",
   "execution_count": 114,
   "metadata": {},
   "outputs": [
    {
     "name": "stdout",
     "output_type": "stream",
     "text": [
      "pred_proba()결과 Shape : (4521, 2)\n",
      "pred_proba array에서 앞 3개만 샘플로 추출 \n",
      ": [[0.23910661 0.76089339]\n",
      " [0.80740206 0.19259794]\n",
      " [0.83120106 0.16879894]]\n",
      "두개의 class 중에서 더 큰 확률을 클래스 값으로 예측 \n",
      " [[0.23910661 0.76089339 0.47767876 0.52232124]\n",
      " [0.80740206 0.19259794 0.7221221  0.2778779 ]\n",
      " [0.83120106 0.16879894 0.89328544 0.10671456]]\n"
     ]
    }
   ],
   "source": [
    "## 1 ##\n",
    "\n",
    "pred_proba = lgbm_clf_bayes_best.predict_proba(X_test) ##\n",
    "pred  = lgbm_clf_best.predict_proba(X_test) ##\n",
    "print('pred_proba()결과 Shape : {0}'.format(pred_proba.shape))\n",
    "print('pred_proba array에서 앞 3개만 샘플로 추출 \\n:', pred_proba[:3])\n",
    "\n",
    "# 예측 확률 array 와 예측 결과값 array 를 concatenate 하여 예측 확률과 결과값을 한눈에 확인\n",
    "pred_proba_result = np.concatenate([pred_proba , pred.reshape(-1,2)],axis=1)\n",
    "print('두개의 class 중에서 더 큰 확률을 클래스 값으로 예측 \\n',pred_proba_result[:3])\n"
   ]
  },
  {
   "cell_type": "code",
   "execution_count": 115,
   "metadata": {},
   "outputs": [
    {
     "name": "stdout",
     "output_type": "stream",
     "text": [
      "오차 행렬\n",
      "[[3768  216]\n",
      " [ 340  197]]\n",
      "정확도: 0.8770, 정밀도: 0.4770, 재현율: 0.3669, F1_score:  0.366853\n"
     ]
    }
   ],
   "source": [
    "## 2\n",
    "\n",
    "from sklearn.preprocessing import Binarizer\n",
    "\n",
    "#Binarizer의 threshold 설정값. 분류 결정 임곗값임.  \n",
    "custom_threshold = 0.5\n",
    "\n",
    "# predict_proba( ) 반환값의 두번째 컬럼 , 즉 Positive 클래스 컬럼 하나만 추출하여 Binarizer를 적용\n",
    "pred_proba_1 = pred_proba[:,1].reshape(-1,1)\n",
    "\n",
    "binarizer = Binarizer(threshold=custom_threshold).fit(pred_proba_1) \n",
    "custom_predict = binarizer.transform(pred_proba_1)\n",
    "\n",
    "get_clf_eval(y_test, custom_predict)"
   ]
  },
  {
   "cell_type": "code",
   "execution_count": 116,
   "metadata": {},
   "outputs": [],
   "source": [
    "from sklearn.metrics import precision_recall_curve\n",
    "\n",
    "# 레이블 값이 1일때의 예측 확률을 추출 \n",
    "pred_proba_class1 = lgbm_clf_bayes_best.predict_proba(X_test)[:, 1] ###"
   ]
  },
  {
   "cell_type": "code",
   "execution_count": 117,
   "metadata": {},
   "outputs": [
    {
     "data": {
      "image/png": "[encoded data removed]",
      "text/plain": [
       "<Figure size 576x432 with 1 Axes>"
      ]
     },
     "metadata": {
      "needs_background": "light"
     },
     "output_type": "display_data"
    }
   ],
   "source": [
    "import matplotlib.pyplot as plt\n",
    "import matplotlib.ticker as ticker\n",
    "%matplotlib inline\n",
    "\n",
    "def precision_recall_curve_plot(y_test, pred_proba_c1):\n",
    "    # threshold ndarray와 이 threshold에 따른 정밀도, 재현율 ndarray 추출. \n",
    "    precisions, recalls, thresholds = precision_recall_curve( y_test, pred_proba_c1)\n",
    "    \n",
    "    # X축을 threshold값으로, Y축은 정밀도, 재현율 값으로 각각 Plot 수행. 정밀도는 점선으로 표시\n",
    "    plt.figure(figsize=(8,6))\n",
    "    threshold_boundary = thresholds.shape[0]\n",
    "    plt.plot(thresholds, precisions[0:threshold_boundary], linestyle='--', label='precision')\n",
    "    plt.plot(thresholds, recalls[0:threshold_boundary],label='recall')\n",
    "    \n",
    "    # threshold 값 X 축의 Scale을 0.1 단위로 변경\n",
    "    start, end = plt.xlim()\n",
    "    plt.xticks(np.round(np.arange(start, end, 0.1),2))\n",
    "    \n",
    "    # x축, y축 label과 legend, 그리고 grid 설정\n",
    "    plt.xlabel('Threshold value'); plt.ylabel('Precision and Recall value')\n",
    "    plt.legend(); plt.grid()\n",
    "    plt.show()\n",
    "    \n",
    "precision_recall_curve_plot(y_test, lgbm_clf_best.predict_proba(X_test)[:, 1] ) ####\n"
   ]
  },
  {
   "cell_type": "code",
   "execution_count": 118,
   "metadata": {},
   "outputs": [
    {
     "data": {
      "text/plain": [
       "(0.275, 0.4687)"
      ]
     },
     "execution_count": 118,
     "metadata": {},
     "output_type": "execute_result"
    }
   ],
   "source": [
    "def Find_threshold(model, X_test, y_test):\n",
    "    thresholds = np.arange(0,1,0.05)\n",
    "    threshold_count = []\n",
    "    pred_proba=model.predict_proba(X_test)\n",
    "    pred_proba_1 = pred_proba[:,1].reshape(-1,1)\n",
    "    for threshold in thresholds:\n",
    "        binarizer = Binarizer(threshold=threshold)\n",
    "        model_cl_pred = binarizer.transform(pred_proba_1)\n",
    "        threshold_count.append([threshold, metrics.f1_score(model_cl_pred, y_test)])\n",
    "\n",
    "    MAX=thresholds[np.array(threshold_count)[:,1].argmax()]\n",
    "    \n",
    "    thresholds = np.arange(MAX-0.05,MAX+0.05,0.005)\n",
    "    threshold_count = []\n",
    "    for threshold in thresholds:\n",
    "        binarizer = Binarizer(threshold=threshold)\n",
    "        model_cl_pred = binarizer.transform(pred_proba_1)\n",
    "        #threshold_count.append([threshold, metrics.f1_score(log_cl_pred, y_test)])\n",
    "        #print('threshold: {0:.4f}, f1_score: {1:.4f}'.format(threshold,metrics.f1_score(model_cl_pred, y_test)))\n",
    "        threshold_count.append([threshold, metrics.f1_score(model_cl_pred, y_test)])\n",
    "    \n",
    "    return np.round(thresholds[np.array(threshold_count)[:,1].argmax()],4), np.round(metrics.f1_score(Binarizer(threshold=thresholds[np.array(threshold_count)[:,1].argmax()]).transform(pred_proba_1), y_test),4)\n",
    "\n",
    "Find_threshold(lgbm_clf_bayes_best, X_test, y_test)"
   ]
  },
  {
   "cell_type": "code",
   "execution_count": 119,
   "metadata": {},
   "outputs": [
    {
     "name": "stdout",
     "output_type": "stream",
     "text": [
      "오차 행렬\n",
      "[[3567  417]\n",
      " [ 245  292]]\n",
      "정확도: 0.8536, 정밀도: 0.4118, 재현율: 0.5438, F1_score:  0.543762\n"
     ]
    }
   ],
   "source": [
    "# Binarizer의 베스트 threshold 설정값 지정 \n",
    "\n",
    "custom_threshold = 0.275\n",
    "pred_proba_1 = pred_proba[:,1].reshape(-1,1)\n",
    "binarizer = Binarizer(threshold=custom_threshold).fit(pred_proba_1) \n",
    "custom_predict = binarizer.transform(pred_proba_1)\n",
    "\n",
    "get_clf_eval(y_test , custom_predict)"
   ]
  },
  {
   "cell_type": "code",
   "execution_count": 120,
   "metadata": {},
   "outputs": [],
   "source": [
    "test = pd.read_csv('./test_dummies.csv')\n",
    "pred_proba_1 = lgbm_clf_bayes_best.predict_proba(test)\n",
    "binarizer_pred = Binarizer(threshold=0.275).transform(pred_proba_1[:,1].reshape(-1,1)) \n",
    "binarizer_pred = binarizer_pred.reshape(-1,)\n",
    "submit = pd.read_csv('./sample_submission.csv')\n",
    "submit['y'] = binarizer_pred\n",
    "submit['y'] = submit.y.astype('bool')\n",
    "submit.to_csv('./under_NCR_0.275_bayesgrid.csv', index = False)"
   ]
  },
  {
   "cell_type": "markdown",
   "metadata": {},
   "source": [
    "# 오버샘플링+복합샘플링 기법 적용하여 이어서 진행"
   ]
  }
 ],
 "metadata": {
  "kernelspec": {
   "display_name": "Python 3",
   "language": "python",
   "name": "python3"
  },
  "language_info": {
   "codemirror_mode": {
    "name": "ipython",
    "version": 3
   },
   "file_extension": ".py",
   "mimetype": "text/x-python",
   "name": "python",
   "nbconvert_exporter": "python",
   "pygments_lexer": "ipython3",
   "version": "3.7.7"
  }
 },
 "nbformat": 4,
 "nbformat_minor": 4
}
