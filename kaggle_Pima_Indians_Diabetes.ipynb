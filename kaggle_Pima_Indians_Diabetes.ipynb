{
 "cells": [
  {
   "cell_type": "code",
   "execution_count": 1,
   "metadata": {},
   "outputs": [],
   "source": [
    "# Importing libraries\n",
    "\n",
    "import numpy as np \n",
    "import pandas as pd \n",
    "import matplotlib.pyplot as plt\n",
    "import seaborn as sns\n",
    "\n",
    "from scipy import stats\n",
    "from sklearn.preprocessing import StandardScaler, RobustScaler, MinMaxScaler, Normalizer, LabelEncoder\n",
    "\n",
    "from sklearn.model_selection import KFold, cross_val_score, cross_val_predict, StratifiedKFold, GridSearchCV, RandomizedSearchCV, train_test_split\n",
    "\n",
    "\n",
    "# 일반적으로 회귀에는 기본 k-겹 교차검증을 사용하고, 분류에는 StratifiedKFold를 사용한다.\n",
    "\n",
    "# 또한, cross_val_score 함수에는 KFold의 매개변수를 제어할 수가 없으므로, \n",
    "\n",
    "# 따로 KFold 객체를 만들고 매개변수를 조정한 다음에 cross_val_score의 cv 매개변수에 넣어야 한다.\n",
    "\n",
    "from sklearn.tree import DecisionTreeClassifier\n",
    "from sklearn.ensemble import RandomForestClassifier, BaggingClassifier, GradientBoostingClassifier, AdaBoostClassifier, VotingClassifier\n",
    "from sklearn.svm import SVC\n",
    "from sklearn.neighbors import KNeighborsClassifier #KNN\n",
    "from sklearn.naive_bayes import GaussianNB #Naive bayes\n",
    "from xgboost import XGBClassifier\n",
    "from lightgbm import LGBMClassifier\n",
    "from sklearn.linear_model import LogisticRegression, SGDClassifier\n",
    "from sklearn.tree import DecisionTreeClassifier\n",
    "\n",
    "from sklearn.metrics import confusion_matrix, make_scorer, r2_score, accuracy_score, precision_score, recall_score, f1_score, roc_auc_score\n",
    "\n",
    "import warnings         # warnings : 버전 충돌 및 특정 예외 처리를 위해 불러온 내장 모듈\n",
    "warnings.filterwarnings(\"ignore\", category=RuntimeWarning)"
   ]
  },
  {
   "cell_type": "code",
   "execution_count": 2,
   "metadata": {},
   "outputs": [],
   "source": [
    "import sklearn.metrics as metrics"
   ]
  },
  {
   "cell_type": "code",
   "execution_count": 3,
   "metadata": {},
   "outputs": [],
   "source": [
    "pd.set_option('display.max_row', 500)\n",
    "pd.set_option('display.max_columns', 100)"
   ]
  },
  {
   "cell_type": "markdown",
   "metadata": {},
   "source": [
    "# 1. EDA"
   ]
  },
  {
   "cell_type": "code",
   "execution_count": 4,
   "metadata": {},
   "outputs": [],
   "source": [
    "train = pd.read_csv('./pima.csv')"
   ]
  },
  {
   "cell_type": "code",
   "execution_count": 5,
   "metadata": {},
   "outputs": [
    {
     "data": {
      "text/html": [
       "<div>\n",
       "<style scoped>\n",
       "    .dataframe tbody tr th:only-of-type {\n",
       "        vertical-align: middle;\n",
       "    }\n",
       "\n",
       "    .dataframe tbody tr th {\n",
       "        vertical-align: top;\n",
       "    }\n",
       "\n",
       "    .dataframe thead th {\n",
       "        text-align: right;\n",
       "    }\n",
       "</style>\n",
       "<table border=\"1\" class=\"dataframe\">\n",
       "  <thead>\n",
       "    <tr style=\"text-align: right;\">\n",
       "      <th></th>\n",
       "      <th>Pregnancies</th>\n",
       "      <th>Glucose</th>\n",
       "      <th>BloodPressure</th>\n",
       "      <th>SkinThickness</th>\n",
       "      <th>Insulin</th>\n",
       "      <th>BMI</th>\n",
       "      <th>DiabetesPedigreeFunction</th>\n",
       "      <th>Age</th>\n",
       "      <th>Outcome</th>\n",
       "    </tr>\n",
       "  </thead>\n",
       "  <tbody>\n",
       "    <tr>\n",
       "      <th>0</th>\n",
       "      <td>6</td>\n",
       "      <td>148</td>\n",
       "      <td>72</td>\n",
       "      <td>35</td>\n",
       "      <td>0</td>\n",
       "      <td>33.6</td>\n",
       "      <td>0.627</td>\n",
       "      <td>50</td>\n",
       "      <td>1</td>\n",
       "    </tr>\n",
       "    <tr>\n",
       "      <th>1</th>\n",
       "      <td>1</td>\n",
       "      <td>85</td>\n",
       "      <td>66</td>\n",
       "      <td>29</td>\n",
       "      <td>0</td>\n",
       "      <td>26.6</td>\n",
       "      <td>0.351</td>\n",
       "      <td>31</td>\n",
       "      <td>0</td>\n",
       "    </tr>\n",
       "    <tr>\n",
       "      <th>2</th>\n",
       "      <td>8</td>\n",
       "      <td>183</td>\n",
       "      <td>64</td>\n",
       "      <td>0</td>\n",
       "      <td>0</td>\n",
       "      <td>23.3</td>\n",
       "      <td>0.672</td>\n",
       "      <td>32</td>\n",
       "      <td>1</td>\n",
       "    </tr>\n",
       "    <tr>\n",
       "      <th>3</th>\n",
       "      <td>1</td>\n",
       "      <td>89</td>\n",
       "      <td>66</td>\n",
       "      <td>23</td>\n",
       "      <td>94</td>\n",
       "      <td>28.1</td>\n",
       "      <td>0.167</td>\n",
       "      <td>21</td>\n",
       "      <td>0</td>\n",
       "    </tr>\n",
       "    <tr>\n",
       "      <th>4</th>\n",
       "      <td>0</td>\n",
       "      <td>137</td>\n",
       "      <td>40</td>\n",
       "      <td>35</td>\n",
       "      <td>168</td>\n",
       "      <td>43.1</td>\n",
       "      <td>2.288</td>\n",
       "      <td>33</td>\n",
       "      <td>1</td>\n",
       "    </tr>\n",
       "  </tbody>\n",
       "</table>\n",
       "</div>"
      ],
      "text/plain": [
       "   Pregnancies  Glucose  BloodPressure  SkinThickness  Insulin   BMI  \\\n",
       "0            6      148             72             35        0  33.6   \n",
       "1            1       85             66             29        0  26.6   \n",
       "2            8      183             64              0        0  23.3   \n",
       "3            1       89             66             23       94  28.1   \n",
       "4            0      137             40             35      168  43.1   \n",
       "\n",
       "   DiabetesPedigreeFunction  Age  Outcome  \n",
       "0                     0.627   50        1  \n",
       "1                     0.351   31        0  \n",
       "2                     0.672   32        1  \n",
       "3                     0.167   21        0  \n",
       "4                     2.288   33        1  "
      ]
     },
     "execution_count": 5,
     "metadata": {},
     "output_type": "execute_result"
    }
   ],
   "source": [
    "train.head()"
   ]
  },
  {
   "cell_type": "markdown",
   "metadata": {},
   "source": [
    "## 독립변수, 종속변수 정리\n",
    "\n",
    "- Feature(X, 독립 변수)\n",
    "\n",
    "    1. Pregnancies - Number of times pregnant\n",
    "    1. Glucose - Plasma glucose concentration a 2 hours in an oral glucose tolerance test\n",
    "    1. BloodPressure\n",
    "    1. Skin_Thickness - Triceps skin fold thickness (mm)\n",
    "    1. Insulin - 2-Hour serum insulin (mu U/ml)\n",
    "    1. BMI - Body mass index (weight in kg/(height in m)^2)\n",
    "    1. DiabetesPedigreeFunction - Diabetes pedigree function\n",
    "    1. Age\n",
    "    \n",
    "\n",
    "- Target\n",
    "\n",
    "    1. Outcome = 당뇨병 여부 ( 0 = 정상, 1 = 당뇨 )"
   ]
  },
  {
   "cell_type": "code",
   "execution_count": 6,
   "metadata": {},
   "outputs": [
    {
     "data": {
      "text/plain": [
       "Index(['Pregnancies', 'Glucose', 'BloodPressure', 'SkinThickness', 'Insulin',\n",
       "       'BMI', 'DiabetesPedigreeFunction', 'Age', 'Outcome'],\n",
       "      dtype='object')"
      ]
     },
     "execution_count": 6,
     "metadata": {},
     "output_type": "execute_result"
    }
   ],
   "source": [
    "train.columns"
   ]
  },
  {
   "cell_type": "code",
   "execution_count": 7,
   "metadata": {
    "scrolled": true
   },
   "outputs": [
    {
     "name": "stdout",
     "output_type": "stream",
     "text": [
      "<class 'pandas.core.frame.DataFrame'>\n",
      "RangeIndex: 768 entries, 0 to 767\n",
      "Data columns (total 9 columns):\n",
      " #   Column                    Non-Null Count  Dtype  \n",
      "---  ------                    --------------  -----  \n",
      " 0   Pregnancies               768 non-null    int64  \n",
      " 1   Glucose                   768 non-null    int64  \n",
      " 2   BloodPressure             768 non-null    int64  \n",
      " 3   SkinThickness             768 non-null    int64  \n",
      " 4   Insulin                   768 non-null    int64  \n",
      " 5   BMI                       768 non-null    float64\n",
      " 6   DiabetesPedigreeFunction  768 non-null    float64\n",
      " 7   Age                       768 non-null    int64  \n",
      " 8   Outcome                   768 non-null    int64  \n",
      "dtypes: float64(2), int64(7)\n",
      "memory usage: 54.1 KB\n"
     ]
    }
   ],
   "source": [
    "train.info()"
   ]
  },
  {
   "cell_type": "markdown",
   "metadata": {},
   "source": [
    "# 2. 변수별 시각화"
   ]
  },
  {
   "cell_type": "code",
   "execution_count": 8,
   "metadata": {},
   "outputs": [
    {
     "data": {
      "text/plain": [
       "<matplotlib.axes._subplots.AxesSubplot at 0x15fb83e5e08>"
      ]
     },
     "execution_count": 8,
     "metadata": {},
     "output_type": "execute_result"
    },
    {
     "data": {
      "image/png": "[encoded data removed]",
      "text/plain": [
       "<Figure size 432x288 with 1 Axes>"
      ]
     },
     "metadata": {
      "needs_background": "light"
     },
     "output_type": "display_data"
    }
   ],
   "source": [
    "sns.countplot(x = 'Outcome', data = train)"
   ]
  },
  {
   "cell_type": "code",
   "execution_count": 9,
   "metadata": {},
   "outputs": [
    {
     "data": {
      "text/plain": [
       "<matplotlib.axes._subplots.AxesSubplot at 0x15fb8507788>"
      ]
     },
     "execution_count": 9,
     "metadata": {},
     "output_type": "execute_result"
    },
    {
     "data": {
      "image/png": "[encoded data removed]",
      "text/plain": [
       "<Figure size 432x288 with 1 Axes>"
      ]
     },
     "metadata": {
      "needs_background": "light"
     },
     "output_type": "display_data"
    }
   ],
   "source": [
    "sns.countplot(x = 'Age', data = train)"
   ]
  },
  {
   "cell_type": "code",
   "execution_count": 10,
   "metadata": {},
   "outputs": [
    {
     "data": {
      "text/plain": [
       "<matplotlib.axes._subplots.AxesSubplot at 0x15fb86adfc8>"
      ]
     },
     "execution_count": 10,
     "metadata": {},
     "output_type": "execute_result"
    },
    {
     "data": {
      "image/png": "[encoded data removed]",
      "text/plain": [
       "<Figure size 432x288 with 1 Axes>"
      ]
     },
     "metadata": {
      "needs_background": "light"
     },
     "output_type": "display_data"
    }
   ],
   "source": [
    "sns.countplot(x = 'Pregnancies', data = train)"
   ]
  },
  {
   "cell_type": "code",
   "execution_count": 11,
   "metadata": {},
   "outputs": [
    {
     "data": {
      "text/plain": [
       "<matplotlib.axes._subplots.AxesSubplot at 0x15fb8760708>"
      ]
     },
     "execution_count": 11,
     "metadata": {},
     "output_type": "execute_result"
    },
    {
     "data": {
      "image/png": "[encoded data removed]",
      "text/plain": [
       "<Figure size 432x288 with 1 Axes>"
      ]
     },
     "metadata": {
      "needs_background": "light"
     },
     "output_type": "display_data"
    }
   ],
   "source": [
    "sns.countplot(x ='Age', hue = 'Outcome', data = train)"
   ]
  },
  {
   "cell_type": "code",
   "execution_count": 12,
   "metadata": {
    "scrolled": true
   },
   "outputs": [
    {
     "data": {
      "text/plain": [
       "<matplotlib.axes._subplots.AxesSubplot at 0x15fb898fc48>"
      ]
     },
     "execution_count": 12,
     "metadata": {},
     "output_type": "execute_result"
    },
    {
     "data": {
      "image/png": "[encoded data removed]",
      "text/plain": [
       "<Figure size 432x288 with 1 Axes>"
      ]
     },
     "metadata": {
      "needs_background": "light"
     },
     "output_type": "display_data"
    }
   ],
   "source": [
    "sns.countplot(x ='Pregnancies', hue = 'Outcome', data = train)\n",
    "\n"
   ]
  },
  {
   "cell_type": "code",
   "execution_count": 13,
   "metadata": {},
   "outputs": [
    {
     "data": {
      "text/plain": [
       "<matplotlib.axes._subplots.AxesSubplot at 0x15fb9a436c8>"
      ]
     },
     "execution_count": 13,
     "metadata": {},
     "output_type": "execute_result"
    },
    {
     "data": {
      "image/png": "[encoded data removed]",
      "text/plain": [
       "<Figure size 432x288 with 1 Axes>"
      ]
     },
     "metadata": {
      "needs_background": "light"
     },
     "output_type": "display_data"
    }
   ],
   "source": [
    "sns.distplot(train.Insulin.loc[train['Outcome'] == 0], kde = False)"
   ]
  },
  {
   "cell_type": "code",
   "execution_count": 14,
   "metadata": {},
   "outputs": [
    {
     "data": {
      "text/plain": [
       "<matplotlib.axes._subplots.AxesSubplot at 0x15fb9abad08>"
      ]
     },
     "execution_count": 14,
     "metadata": {},
     "output_type": "execute_result"
    },
    {
     "data": {
      "image/png": "[encoded data removed]",
      "text/plain": [
       "<Figure size 432x288 with 1 Axes>"
      ]
     },
     "metadata": {
      "needs_background": "light"
     },
     "output_type": "display_data"
    }
   ],
   "source": [
    "sns.distplot(train.Insulin.loc[train['Outcome'] == 1], kde = False)"
   ]
  },
  {
   "cell_type": "code",
   "execution_count": 15,
   "metadata": {},
   "outputs": [
    {
     "data": {
      "text/plain": [
       "<matplotlib.axes._subplots.AxesSubplot at 0x15fb9a30d08>"
      ]
     },
     "execution_count": 15,
     "metadata": {},
     "output_type": "execute_result"
    },
    {
     "data": {
      "image/png": "[encoded data removed]",
      "text/plain": [
       "<Figure size 432x288 with 1 Axes>"
      ]
     },
     "metadata": {
      "needs_background": "light"
     },
     "output_type": "display_data"
    }
   ],
   "source": [
    "sns.distplot(train.Insulin.loc[train['Outcome'] == 0], kde = False)\n",
    "sns.distplot(train.Insulin.loc[train['Outcome'] == 1], kde = False)"
   ]
  },
  {
   "cell_type": "code",
   "execution_count": 16,
   "metadata": {},
   "outputs": [
    {
     "data": {
      "text/plain": [
       "<matplotlib.axes._subplots.AxesSubplot at 0x15fb9c19fc8>"
      ]
     },
     "execution_count": 16,
     "metadata": {},
     "output_type": "execute_result"
    },
    {
     "data": {
      "image/png": "[encoded data removed]",
      "text/plain": [
       "<Figure size 432x288 with 1 Axes>"
      ]
     },
     "metadata": {
      "needs_background": "light"
     },
     "output_type": "display_data"
    }
   ],
   "source": [
    "sns.distplot(train.Age.loc[train['Outcome'] == 0], kde = False)"
   ]
  },
  {
   "cell_type": "code",
   "execution_count": 17,
   "metadata": {},
   "outputs": [
    {
     "data": {
      "text/plain": [
       "<matplotlib.axes._subplots.AxesSubplot at 0x15fb9b516c8>"
      ]
     },
     "execution_count": 17,
     "metadata": {},
     "output_type": "execute_result"
    },
    {
     "data": {
      "image/png": "[encoded data removed]",
      "text/plain": [
       "<Figure size 432x288 with 1 Axes>"
      ]
     },
     "metadata": {
      "needs_background": "light"
     },
     "output_type": "display_data"
    }
   ],
   "source": [
    "sns.distplot(train.Age.loc[train['Outcome'] == 1], kde = False)"
   ]
  },
  {
   "cell_type": "code",
   "execution_count": 18,
   "metadata": {},
   "outputs": [
    {
     "data": {
      "text/plain": [
       "<matplotlib.axes._subplots.AxesSubplot at 0x15fb9d16c08>"
      ]
     },
     "execution_count": 18,
     "metadata": {},
     "output_type": "execute_result"
    },
    {
     "data": {
      "image/png": "[encoded data removed]",
      "text/plain": [
       "<Figure size 432x288 with 1 Axes>"
      ]
     },
     "metadata": {
      "needs_background": "light"
     },
     "output_type": "display_data"
    }
   ],
   "source": [
    "sns.distplot(train.Age.loc[train['Outcome'] == 0], kde = False)\n",
    "sns.distplot(train.Age.loc[train['Outcome'] == 1], kde = False)\n",
    "\n",
    "# 빨간색이 당뇨병 환자."
   ]
  },
  {
   "cell_type": "code",
   "execution_count": 19,
   "metadata": {},
   "outputs": [
    {
     "data": {
      "text/plain": [
       "<matplotlib.axes._subplots.AxesSubplot at 0x15fb9df8648>"
      ]
     },
     "execution_count": 19,
     "metadata": {},
     "output_type": "execute_result"
    },
    {
     "data": {
      "image/png": "[encoded data removed]",
      "text/plain": [
       "<Figure size 432x288 with 1 Axes>"
      ]
     },
     "metadata": {
      "needs_background": "light"
     },
     "output_type": "display_data"
    }
   ],
   "source": [
    "sns.distplot(train.SkinThickness.loc[train['Outcome'] == 0], kde = False)\n",
    "sns.distplot(train.SkinThickness.loc[train['Outcome'] == 1], kde = False)\n"
   ]
  },
  {
   "cell_type": "code",
   "execution_count": 20,
   "metadata": {
    "scrolled": true
   },
   "outputs": [
    {
     "data": {
      "text/plain": [
       "<matplotlib.axes._subplots.AxesSubplot at 0x15fb9e9b3c8>"
      ]
     },
     "execution_count": 20,
     "metadata": {},
     "output_type": "execute_result"
    },
    {
     "data": {
      "image/png": "[encoded data removed]",
      "text/plain": [
       "<Figure size 432x288 with 1 Axes>"
      ]
     },
     "metadata": {
      "needs_background": "light"
     },
     "output_type": "display_data"
    }
   ],
   "source": [
    "sns.distplot(train.BMI.loc[train['Outcome'] == 0], kde = False)\n",
    "sns.distplot(train.BMI.loc[train['Outcome'] == 1], kde = False)"
   ]
  },
  {
   "cell_type": "code",
   "execution_count": 21,
   "metadata": {
    "scrolled": true
   },
   "outputs": [
    {
     "data": {
      "text/plain": [
       "<matplotlib.axes._subplots.AxesSubplot at 0x15fb9fa0f08>"
      ]
     },
     "execution_count": 21,
     "metadata": {},
     "output_type": "execute_result"
    },
    {
     "data": {
      "image/png": "[encoded data removed]",
      "text/plain": [
       "<Figure size 432x288 with 1 Axes>"
      ]
     },
     "metadata": {
      "needs_background": "light"
     },
     "output_type": "display_data"
    }
   ],
   "source": [
    "sns.distplot(train.DiabetesPedigreeFunction.loc[train['Outcome'] == 0], kde = False)\n",
    "sns.distplot(train.DiabetesPedigreeFunction.loc[train['Outcome'] == 1], kde = False)\n",
    "\n",
    "# 빨간색이 당뇨병 환자."
   ]
  },
  {
   "cell_type": "code",
   "execution_count": 22,
   "metadata": {},
   "outputs": [
    {
     "data": {
      "text/plain": [
       "<matplotlib.axes._subplots.AxesSubplot at 0x15fba06c248>"
      ]
     },
     "execution_count": 22,
     "metadata": {},
     "output_type": "execute_result"
    },
    {
     "data": {
      "image/png": "[encoded data removed]",
      "text/plain": [
       "<Figure size 432x288 with 1 Axes>"
      ]
     },
     "metadata": {
      "needs_background": "light"
     },
     "output_type": "display_data"
    }
   ],
   "source": [
    "sns.distplot(train.BloodPressure.loc[train['Outcome'] == 0], kde = False)\n",
    "sns.distplot(train.BloodPressure.loc[train['Outcome'] == 1], kde = False)"
   ]
  },
  {
   "cell_type": "code",
   "execution_count": 23,
   "metadata": {},
   "outputs": [
    {
     "data": {
      "text/plain": [
       "<matplotlib.axes._subplots.AxesSubplot at 0x15fba16f9c8>"
      ]
     },
     "execution_count": 23,
     "metadata": {},
     "output_type": "execute_result"
    },
    {
     "data": {
      "image/png": "[encoded data removed]",
      "text/plain": [
       "<Figure size 432x288 with 1 Axes>"
      ]
     },
     "metadata": {
      "needs_background": "light"
     },
     "output_type": "display_data"
    }
   ],
   "source": [
    "sns.distplot(train.Glucose.loc[train['Outcome'] == 0], kde = False)\n",
    "sns.distplot(train.Glucose.loc[train['Outcome'] == 1], kde = False)"
   ]
  },
  {
   "cell_type": "code",
   "execution_count": 24,
   "metadata": {
    "scrolled": true
   },
   "outputs": [
    {
     "data": {
      "text/plain": [
       "<matplotlib.axes._subplots.AxesSubplot at 0x15fba261648>"
      ]
     },
     "execution_count": 24,
     "metadata": {},
     "output_type": "execute_result"
    },
    {
     "data": {
      "image/png": "[encoded data removed]",
      "text/plain": [
       "<Figure size 432x288 with 1 Axes>"
      ]
     },
     "metadata": {
      "needs_background": "light"
     },
     "output_type": "display_data"
    }
   ],
   "source": [
    "sns.distplot(train.Glucose.loc[train['Outcome'] == 0], kde = False)\n",
    "sns.distplot(train.Glucose.loc[train['Outcome'] == 1], kde = False)"
   ]
  },
  {
   "cell_type": "markdown",
   "metadata": {},
   "source": [
    "## 2-1. 각 변수별 0 값에 대한 고찰\n",
    "\n",
    "- 혈압, 인슐린, BMI, 글루코스가 값이 0인 데이터가 존재.\n",
    "- 0값을 결측치로 바꾸고 적절한 대체값 넣기 필요"
   ]
  },
  {
   "cell_type": "code",
   "execution_count": 25,
   "metadata": {},
   "outputs": [
    {
     "data": {
      "text/plain": [
       "<matplotlib.axes._subplots.AxesSubplot at 0x15fba326588>"
      ]
     },
     "execution_count": 25,
     "metadata": {},
     "output_type": "execute_result"
    },
    {
     "data": {
      "image/png": "[encoded data removed]",
      "text/plain": [
       "<Figure size 432x288 with 1 Axes>"
      ]
     },
     "metadata": {
      "needs_background": "light"
     },
     "output_type": "display_data"
    }
   ],
   "source": [
    "# 인슐린이 0인 데이터의 나이분포\n",
    "\n",
    "sns.distplot(train.Age.loc[train['Insulin'] == 0], kde = False)"
   ]
  },
  {
   "cell_type": "code",
   "execution_count": 26,
   "metadata": {},
   "outputs": [
    {
     "data": {
      "text/plain": [
       "<matplotlib.axes._subplots.AxesSubplot at 0x15fba303b48>"
      ]
     },
     "execution_count": 26,
     "metadata": {},
     "output_type": "execute_result"
    },
    {
     "data": {
      "image/png": "[encoded data removed]",
      "text/plain": [
       "<Figure size 432x288 with 1 Axes>"
      ]
     },
     "metadata": {
      "needs_background": "light"
     },
     "output_type": "display_data"
    }
   ],
   "source": [
    "# BMI가 0인 데이터의 나이분포\n",
    "\n",
    "sns.distplot(train.Age.loc[train['BMI'] == 0], kde = False)"
   ]
  },
  {
   "cell_type": "code",
   "execution_count": 27,
   "metadata": {},
   "outputs": [
    {
     "data": {
      "text/plain": [
       "<matplotlib.axes._subplots.AxesSubplot at 0x15fba418f88>"
      ]
     },
     "execution_count": 27,
     "metadata": {},
     "output_type": "execute_result"
    },
    {
     "data": {
      "image/png": "[encoded data removed]",
      "text/plain": [
       "<Figure size 432x288 with 1 Axes>"
      ]
     },
     "metadata": {
      "needs_background": "light"
     },
     "output_type": "display_data"
    }
   ],
   "source": [
    "# 혈압이 0인 데이터의 나이분포\n",
    "\n",
    "sns.distplot(train.Age.loc[train['BloodPressure'] == 0], kde = False)"
   ]
  },
  {
   "cell_type": "code",
   "execution_count": 28,
   "metadata": {},
   "outputs": [
    {
     "data": {
      "text/plain": [
       "<matplotlib.axes._subplots.AxesSubplot at 0x15fba4a3948>"
      ]
     },
     "execution_count": 28,
     "metadata": {},
     "output_type": "execute_result"
    },
    {
     "data": {
      "image/png": "[encoded data removed]",
      "text/plain": [
       "<Figure size 432x288 with 1 Axes>"
      ]
     },
     "metadata": {
      "needs_background": "light"
     },
     "output_type": "display_data"
    }
   ],
   "source": [
    "# 글루코스가 0인 데이터의 나이분포\n",
    "\n",
    "sns.distplot(train.Age.loc[train['Glucose'] == 0], kde = False)"
   ]
  },
  {
   "cell_type": "code",
   "execution_count": 29,
   "metadata": {},
   "outputs": [],
   "source": [
    "# 0 값을 NAN 처리하여 적절한 수치대입이 필요.\n",
    "\n",
    "train[['Insulin','BloodPressure', 'BMI', 'Glucose']].astype(str).replace('0', np.nan)\n",
    "cols = ['BloodPressure', 'BMI', 'Glucose','Insulin']\n",
    "train[cols] = train[cols].replace(['0', 0], np.nan)"
   ]
  },
  {
   "cell_type": "code",
   "execution_count": 30,
   "metadata": {},
   "outputs": [
    {
     "data": {
      "text/plain": [
       "Insulin          374\n",
       "BloodPressure     35\n",
       "BMI               11\n",
       "Glucose            5\n",
       "dtype: int64"
      ]
     },
     "execution_count": 30,
     "metadata": {},
     "output_type": "execute_result"
    }
   ],
   "source": [
    "# 인슐린의 0값의 갯수가 374로 상당히 많아 데이터전환 필요.\n",
    "\n",
    "train[['Insulin', 'BloodPressure', 'BMI', 'Glucose']].isna().sum()"
   ]
  },
  {
   "cell_type": "code",
   "execution_count": 31,
   "metadata": {},
   "outputs": [],
   "source": [
    "#나이 카테고리\n",
    "\n",
    "train['Age_range'] = train.Age.apply(lambda x: '20s'\n",
    "                                    if x < 30\n",
    "                                    else ('30s' if x <40\n",
    "                                    else ('40s' if x <50\n",
    "                                    else '50s and more')))\n",
    "\n",
    "# 결측치를 나이대 평균값으로 채워주기\n",
    "\n",
    "train['BloodPressure'].fillna(train.groupby(['Age_range'])['BloodPressure'].transform('mean'), inplace=True)\n",
    "train['BMI'].fillna(train.groupby(['Age_range'])['BloodPressure'].transform('mean'), inplace=True)\n",
    "train['Glucose'].fillna(train.groupby(['Age_range'])['BloodPressure'].transform('mean'), inplace=True)"
   ]
  },
  {
   "cell_type": "code",
   "execution_count": 32,
   "metadata": {},
   "outputs": [],
   "source": [
    "# Insulin 결측치를 Glucose 평균값으로 넣어보기\n",
    "\n",
    "train[['Insulin']].astype(str).replace('0', np.nan)\n",
    "cols = ['Insulin']\n",
    "train[cols] = train[cols].replace(['0', 0], np.nan)\n",
    "\n",
    "train['Glucose_range'] = train.Glucose.apply(lambda x: 'normal'\n",
    "                                    if x <= 140\n",
    "                                    else ('high' if x <= 199\n",
    "                                    else 'too high'))\n",
    "\n",
    "train['Insulin'].fillna(train.groupby(['Glucose_range'])['Insulin'].transform('mean'), inplace=True)"
   ]
  },
  {
   "cell_type": "code",
   "execution_count": 33,
   "metadata": {},
   "outputs": [],
   "source": [
    "train.drop(['Age_range', 'Glucose_range'], axis = 1, inplace = True)"
   ]
  },
  {
   "cell_type": "code",
   "execution_count": 34,
   "metadata": {},
   "outputs": [
    {
     "data": {
      "text/plain": [
       "0      248\n",
       "1      121\n",
       "2      248\n",
       "3       94\n",
       "4      168\n",
       "      ... \n",
       "763    180\n",
       "764    121\n",
       "765    112\n",
       "766    121\n",
       "767    121\n",
       "Name: Insulin, Length: 768, dtype: int32"
      ]
     },
     "execution_count": 34,
     "metadata": {},
     "output_type": "execute_result"
    }
   ],
   "source": [
    "train['Insulin'].astype(int)"
   ]
  },
  {
   "cell_type": "code",
   "execution_count": 35,
   "metadata": {},
   "outputs": [
    {
     "name": "stdout",
     "output_type": "stream",
     "text": [
      "<class 'pandas.core.frame.DataFrame'>\n",
      "RangeIndex: 768 entries, 0 to 767\n",
      "Data columns (total 9 columns):\n",
      " #   Column                    Non-Null Count  Dtype  \n",
      "---  ------                    --------------  -----  \n",
      " 0   Pregnancies               768 non-null    int64  \n",
      " 1   Glucose                   768 non-null    float64\n",
      " 2   BloodPressure             768 non-null    float64\n",
      " 3   SkinThickness             768 non-null    int64  \n",
      " 4   Insulin                   768 non-null    float64\n",
      " 5   BMI                       768 non-null    float64\n",
      " 6   DiabetesPedigreeFunction  768 non-null    float64\n",
      " 7   Age                       768 non-null    int64  \n",
      " 8   Outcome                   768 non-null    int64  \n",
      "dtypes: float64(5), int64(4)\n",
      "memory usage: 54.1 KB\n"
     ]
    }
   ],
   "source": [
    "train.info()"
   ]
  },
  {
   "cell_type": "code",
   "execution_count": 36,
   "metadata": {},
   "outputs": [
    {
     "data": {
      "text/html": [
       "<div>\n",
       "<style scoped>\n",
       "    .dataframe tbody tr th:only-of-type {\n",
       "        vertical-align: middle;\n",
       "    }\n",
       "\n",
       "    .dataframe tbody tr th {\n",
       "        vertical-align: top;\n",
       "    }\n",
       "\n",
       "    .dataframe thead th {\n",
       "        text-align: right;\n",
       "    }\n",
       "</style>\n",
       "<table border=\"1\" class=\"dataframe\">\n",
       "  <thead>\n",
       "    <tr style=\"text-align: right;\">\n",
       "      <th></th>\n",
       "      <th>Pregnancies</th>\n",
       "      <th>Glucose</th>\n",
       "      <th>BloodPressure</th>\n",
       "      <th>SkinThickness</th>\n",
       "      <th>Insulin</th>\n",
       "      <th>BMI</th>\n",
       "      <th>DiabetesPedigreeFunction</th>\n",
       "      <th>Age</th>\n",
       "      <th>Outcome</th>\n",
       "    </tr>\n",
       "  </thead>\n",
       "  <tbody>\n",
       "    <tr>\n",
       "      <th>0</th>\n",
       "      <td>6</td>\n",
       "      <td>148.0</td>\n",
       "      <td>72.0</td>\n",
       "      <td>35</td>\n",
       "      <td>248.466667</td>\n",
       "      <td>33.6</td>\n",
       "      <td>0.627</td>\n",
       "      <td>50</td>\n",
       "      <td>1</td>\n",
       "    </tr>\n",
       "    <tr>\n",
       "      <th>1</th>\n",
       "      <td>1</td>\n",
       "      <td>85.0</td>\n",
       "      <td>66.0</td>\n",
       "      <td>29</td>\n",
       "      <td>121.788927</td>\n",
       "      <td>26.6</td>\n",
       "      <td>0.351</td>\n",
       "      <td>31</td>\n",
       "      <td>0</td>\n",
       "    </tr>\n",
       "    <tr>\n",
       "      <th>2</th>\n",
       "      <td>8</td>\n",
       "      <td>183.0</td>\n",
       "      <td>64.0</td>\n",
       "      <td>0</td>\n",
       "      <td>248.466667</td>\n",
       "      <td>23.3</td>\n",
       "      <td>0.672</td>\n",
       "      <td>32</td>\n",
       "      <td>1</td>\n",
       "    </tr>\n",
       "    <tr>\n",
       "      <th>3</th>\n",
       "      <td>1</td>\n",
       "      <td>89.0</td>\n",
       "      <td>66.0</td>\n",
       "      <td>23</td>\n",
       "      <td>94.000000</td>\n",
       "      <td>28.1</td>\n",
       "      <td>0.167</td>\n",
       "      <td>21</td>\n",
       "      <td>0</td>\n",
       "    </tr>\n",
       "    <tr>\n",
       "      <th>4</th>\n",
       "      <td>0</td>\n",
       "      <td>137.0</td>\n",
       "      <td>40.0</td>\n",
       "      <td>35</td>\n",
       "      <td>168.000000</td>\n",
       "      <td>43.1</td>\n",
       "      <td>2.288</td>\n",
       "      <td>33</td>\n",
       "      <td>1</td>\n",
       "    </tr>\n",
       "  </tbody>\n",
       "</table>\n",
       "</div>"
      ],
      "text/plain": [
       "   Pregnancies  Glucose  BloodPressure  SkinThickness     Insulin   BMI  \\\n",
       "0            6    148.0           72.0             35  248.466667  33.6   \n",
       "1            1     85.0           66.0             29  121.788927  26.6   \n",
       "2            8    183.0           64.0              0  248.466667  23.3   \n",
       "3            1     89.0           66.0             23   94.000000  28.1   \n",
       "4            0    137.0           40.0             35  168.000000  43.1   \n",
       "\n",
       "   DiabetesPedigreeFunction  Age  Outcome  \n",
       "0                     0.627   50        1  \n",
       "1                     0.351   31        0  \n",
       "2                     0.672   32        1  \n",
       "3                     0.167   21        0  \n",
       "4                     2.288   33        1  "
      ]
     },
     "execution_count": 36,
     "metadata": {},
     "output_type": "execute_result"
    }
   ],
   "source": [
    "train.head()"
   ]
  },
  {
   "cell_type": "markdown",
   "metadata": {},
   "source": [
    "# 3. 모델링"
   ]
  },
  {
   "cell_type": "code",
   "execution_count": 37,
   "metadata": {},
   "outputs": [
    {
     "data": {
      "text/plain": [
       "(768,)"
      ]
     },
     "execution_count": 37,
     "metadata": {},
     "output_type": "execute_result"
    }
   ],
   "source": [
    "y = train['Outcome']\n",
    "y.shape"
   ]
  },
  {
   "cell_type": "code",
   "execution_count": 38,
   "metadata": {},
   "outputs": [
    {
     "data": {
      "text/plain": [
       "(768, 8)"
      ]
     },
     "execution_count": 38,
     "metadata": {},
     "output_type": "execute_result"
    }
   ],
   "source": [
    "X = train.drop('Outcome', axis=1)\n",
    "X.shape"
   ]
  },
  {
   "cell_type": "code",
   "execution_count": 39,
   "metadata": {},
   "outputs": [],
   "source": [
    "from sklearn.model_selection import train_test_split\n",
    "\n",
    "X_train, X_test, y_train, y_test = train_test_split(X, y, \n",
    "                                                    test_size=0.2, \n",
    "                                                    stratify = y)"
   ]
  },
  {
   "cell_type": "code",
   "execution_count": 40,
   "metadata": {},
   "outputs": [
    {
     "name": "stdout",
     "output_type": "stream",
     "text": [
      "학습 세트 Shape:(614, 8), 테스트 세트 Shape:(154, 8)\n",
      " 학습 세트 레이블 값 분포 비율\n",
      "0    0.651466\n",
      "1    0.348534\n",
      "Name: Outcome, dtype: float64\n",
      "\n",
      " 테스트 세트 레이블 값 분포 비율\n",
      "0    0.649351\n",
      "1    0.350649\n",
      "Name: Outcome, dtype: float64\n"
     ]
    }
   ],
   "source": [
    "# 추후 오버,언더,하이드리브 샘플링 적용시 레이블 값 분포를 보기위한 코드.\n",
    "\n",
    "train_cnt = y_train.count()\n",
    "test_cnt = y_test.count()\n",
    "print('학습 세트 Shape:{0}, 테스트 세트 Shape:{1}'.format(X_train.shape , X_test.shape))\n",
    "\n",
    "print(' 학습 세트 레이블 값 분포 비율')\n",
    "print(y_train.value_counts()/train_cnt)\n",
    "print('\\n 테스트 세트 레이블 값 분포 비율')\n",
    "print(y_test.value_counts()/test_cnt)"
   ]
  },
  {
   "cell_type": "markdown",
   "metadata": {},
   "source": [
    "## 3-1. Accuracy 확인"
   ]
  },
  {
   "cell_type": "code",
   "execution_count": 41,
   "metadata": {},
   "outputs": [
    {
     "name": "stdout",
     "output_type": "stream",
     "text": [
      "Accuracy for rbf logistic is  0.8051948051948052\n",
      "The cross validated score for logistic is: 0.752221047065045\n"
     ]
    }
   ],
   "source": [
    "# logistic\n",
    "\n",
    "log_cl =  LogisticRegression(n_jobs = -1)\n",
    "log_cl.fit(X_train, y_train)\n",
    "log_cl_pred = log_cl.predict(X_test)\n",
    "print('Accuracy for rbf logistic is ', metrics.accuracy_score(log_cl_pred, y_test))\n",
    "\n",
    "log_cl_cv = cross_val_score(log_cl, X_train, y_train, cv = 10, scoring = 'accuracy', n_jobs=-1)\n",
    "print('The cross validated score for logistic is:', log_cl_cv.mean())"
   ]
  },
  {
   "cell_type": "code",
   "execution_count": 42,
   "metadata": {},
   "outputs": [
    {
     "name": "stdout",
     "output_type": "stream",
     "text": [
      "The accuracy of the Random Forests is 0.7987012987012987\n",
      "The cross validated score for Random forest is: 0.7409307244843998\n"
     ]
    }
   ],
   "source": [
    "# Random forest\n",
    "\n",
    "rf_cl = RandomForestClassifier(n_estimators = 200, n_jobs = -1)\n",
    "rf_cl.fit(X_train, y_train)\n",
    "rf_cl_pred = rf_cl.predict(X_test)\n",
    "print('The accuracy of the Random Forests is', metrics.accuracy_score(rf_cl_pred, y_test))\n",
    "\n",
    "rf_cl_cv = cross_val_score(rf_cl, X_train, y_train, cv = 10, scoring = 'accuracy', n_jobs=-1)\n",
    "print('The cross validated score for Random forest is:', rf_cl_cv.mean())"
   ]
  },
  {
   "cell_type": "code",
   "execution_count": 43,
   "metadata": {},
   "outputs": [
    {
     "name": "stdout",
     "output_type": "stream",
     "text": [
      "The accuracy for bagged KNN is: 0.6883116883116883\n",
      "The cross validated score for Bagged KNN is: 0.7102326811210998\n"
     ]
    }
   ],
   "source": [
    "# Bagged KNN\n",
    "\n",
    "ba_knn_model=BaggingClassifier(base_estimator = KNeighborsClassifier(n_neighbors=4), n_estimators=200, n_jobs=-1)\n",
    "ba_knn_model.fit(X_train, y_train)\n",
    "ba_knn_model_pred = ba_knn_model.predict(X_test)\n",
    "print('The accuracy for bagged KNN is:', metrics.accuracy_score(ba_knn_model_pred, y_test))\n",
    "\n",
    "ba_knn_model_cv = cross_val_score(ba_knn_model, X_train, y_train, cv=10, scoring = 'accuracy', n_jobs=-1)\n",
    "print('The cross validated score for Bagged KNN is:', ba_knn_model_cv.mean())"
   ]
  },
  {
   "cell_type": "code",
   "execution_count": 44,
   "metadata": {},
   "outputs": [
    {
     "name": "stdout",
     "output_type": "stream",
     "text": [
      "The accuracy for bagged Decision Tree is: 0.8051948051948052\n",
      "The cross validated score for bagged Decision Tree is: 0.7475409836065574\n"
     ]
    }
   ],
   "source": [
    "# Bagged DecisionTree\n",
    "\n",
    "ba_dt_model = BaggingClassifier(base_estimator = DecisionTreeClassifier(), random_state=0, n_estimators=100, n_jobs=-1)\n",
    "ba_dt_model.fit(X_train, y_train)\n",
    "ba_dt_model_pred = ba_dt_model.predict(X_test)\n",
    "print('The accuracy for bagged Decision Tree is:', metrics.accuracy_score(ba_dt_model_pred, y_test))\n",
    "\n",
    "ba_dt_model_cv = cross_val_score(ba_dt_model, X_train, y_train, cv = 10, scoring = 'accuracy', n_jobs=-1)\n",
    "print('The cross validated score for bagged Decision Tree is:', ba_dt_model_cv.mean())"
   ]
  },
  {
   "cell_type": "code",
   "execution_count": 45,
   "metadata": {},
   "outputs": [
    {
     "name": "stdout",
     "output_type": "stream",
     "text": [
      "The accuracy for bagged Decision Tree is: 0.8116883116883117\n",
      "The cross validated score for AdaBoost is: 0.7392913802221047\n"
     ]
    }
   ],
   "source": [
    "# AdaBoost (Adaptive boosting)\n",
    "\n",
    "ada_cl = AdaBoostClassifier(n_estimators = 200, learning_rate = 0.1)\n",
    "ada_cl.fit(X_train, y_train)\n",
    "ada_cl_pred = ada_cl.predict(X_test)\n",
    "print('The accuracy for bagged Decision Tree is:', metrics.accuracy_score(ada_cl_pred, y_test))\n",
    "\n",
    "ada_cl_cv = cross_val_score(ada_cl, X_train, y_train, cv = 10, scoring = 'accuracy', n_jobs = -1)\n",
    "print('The cross validated score for AdaBoost is:', ada_cl_cv.mean())"
   ]
  },
  {
   "cell_type": "code",
   "execution_count": 46,
   "metadata": {},
   "outputs": [
    {
     "name": "stdout",
     "output_type": "stream",
     "text": [
      "The accuracy for Gradient Boost is: 0.8246753246753247\n",
      "The cross validated score for Gradient Boosting is: 0.7394500264410365\n"
     ]
    }
   ],
   "source": [
    "# Gradient Boost\n",
    "\n",
    "gr_grad = GradientBoostingClassifier(n_estimators = 200, learning_rate = 0.1)\n",
    "gr_grad.fit(X_train, y_train)\n",
    "gr_grad_pred = gr_grad.predict(X_test)\n",
    "print('The accuracy for Gradient Boost is:', metrics.accuracy_score(gr_grad_pred, y_test))\n",
    "\n",
    "gr_grad_cv = cross_val_score(gr_grad, X_train, y_train, cv = 10, scoring = 'accuracy', n_jobs = -1)\n",
    "print('The cross validated score for Gradient Boosting is:', gr_grad_cv.mean())"
   ]
  },
  {
   "cell_type": "code",
   "execution_count": 47,
   "metadata": {},
   "outputs": [
    {
     "name": "stdout",
     "output_type": "stream",
     "text": [
      "The accuracy of the XGBoost is 0.7922077922077922\n",
      "The cross validated score for XGBoost is: 0.7296404019037547\n"
     ]
    }
   ],
   "source": [
    "# XGBoost\n",
    "\n",
    "xgb_model = XGBClassifier(n_estimators = 200, learning_rate = 0.1)\n",
    "xgb_model.fit(X_train,y_train)\n",
    "xgb_model_pred = xgb_model.predict(X_test)\n",
    "print('The accuracy of the XGBoost is', metrics.accuracy_score(xgb_model_pred, y_test))\n",
    "\n",
    "xgb_model_cv = cross_val_score(xgb_model, X_train, y_train, cv = 10, scoring = 'accuracy', n_jobs = -1)\n",
    "print('The cross validated score for XGBoost is:', xgb_model_cv.mean())"
   ]
  },
  {
   "cell_type": "code",
   "execution_count": 48,
   "metadata": {},
   "outputs": [
    {
     "name": "stdout",
     "output_type": "stream",
     "text": [
      "The accuracy of the Light GBM is 0.7467532467532467\n",
      "The cross validated score for Light GBM is: 0.7328926493918562\n"
     ]
    }
   ],
   "source": [
    "# Light GBM\n",
    "\n",
    "lgbm_clf = LGBMClassifier(n_estimators=400, n_jobs = -1)\n",
    "lgbm_clf.fit(X_train, y_train)\n",
    "lgbm_clf_pred = lgbm_clf.predict(X_test)\n",
    "print('The accuracy of the Light GBM is', metrics.accuracy_score(lgbm_clf_pred, y_test))\n",
    "\n",
    "lgbm_clf_cv = cross_val_score(lgbm_clf, X_train, y_train, cv = 10, scoring = 'accuracy', n_jobs = -1)\n",
    "print('The cross validated score for Light GBM is:', lgbm_clf_cv.mean())"
   ]
  },
  {
   "cell_type": "code",
   "execution_count": 49,
   "metadata": {},
   "outputs": [
    {
     "data": {
      "text/html": [
       "<div>\n",
       "<style scoped>\n",
       "    .dataframe tbody tr th:only-of-type {\n",
       "        vertical-align: middle;\n",
       "    }\n",
       "\n",
       "    .dataframe tbody tr th {\n",
       "        vertical-align: top;\n",
       "    }\n",
       "\n",
       "    .dataframe thead th {\n",
       "        text-align: right;\n",
       "    }\n",
       "</style>\n",
       "<table border=\"1\" class=\"dataframe\">\n",
       "  <thead>\n",
       "    <tr style=\"text-align: right;\">\n",
       "      <th></th>\n",
       "      <th>Accuracy</th>\n",
       "      <th>CV_Mean</th>\n",
       "      <th>CV_std</th>\n",
       "    </tr>\n",
       "    <tr>\n",
       "      <th>Model</th>\n",
       "      <th></th>\n",
       "      <th></th>\n",
       "      <th></th>\n",
       "    </tr>\n",
       "  </thead>\n",
       "  <tbody>\n",
       "    <tr>\n",
       "      <th>Logistic Classifier</th>\n",
       "      <td>0.805195</td>\n",
       "      <td>0.752221</td>\n",
       "      <td>0.062748</td>\n",
       "    </tr>\n",
       "    <tr>\n",
       "      <th>Bagged DecisionTree</th>\n",
       "      <td>0.805195</td>\n",
       "      <td>0.747541</td>\n",
       "      <td>0.054460</td>\n",
       "    </tr>\n",
       "    <tr>\n",
       "      <th>Random forest</th>\n",
       "      <td>0.798701</td>\n",
       "      <td>0.740931</td>\n",
       "      <td>0.052508</td>\n",
       "    </tr>\n",
       "    <tr>\n",
       "      <th>Gradient Boost</th>\n",
       "      <td>0.824675</td>\n",
       "      <td>0.739450</td>\n",
       "      <td>0.089625</td>\n",
       "    </tr>\n",
       "    <tr>\n",
       "      <th>Adaptive Boost</th>\n",
       "      <td>0.811688</td>\n",
       "      <td>0.739291</td>\n",
       "      <td>0.064255</td>\n",
       "    </tr>\n",
       "    <tr>\n",
       "      <th>Light GBM</th>\n",
       "      <td>0.746753</td>\n",
       "      <td>0.732893</td>\n",
       "      <td>0.057216</td>\n",
       "    </tr>\n",
       "    <tr>\n",
       "      <th>XGBoost</th>\n",
       "      <td>0.792208</td>\n",
       "      <td>0.729640</td>\n",
       "      <td>0.077505</td>\n",
       "    </tr>\n",
       "    <tr>\n",
       "      <th>Bagged KNN</th>\n",
       "      <td>0.688312</td>\n",
       "      <td>0.710233</td>\n",
       "      <td>0.044367</td>\n",
       "    </tr>\n",
       "  </tbody>\n",
       "</table>\n",
       "</div>"
      ],
      "text/plain": [
       "                     Accuracy   CV_Mean    CV_std\n",
       "Model                                            \n",
       "Logistic Classifier  0.805195  0.752221  0.062748\n",
       "Bagged DecisionTree  0.805195  0.747541  0.054460\n",
       "Random forest        0.798701  0.740931  0.052508\n",
       "Gradient Boost       0.824675  0.739450  0.089625\n",
       "Adaptive Boost       0.811688  0.739291  0.064255\n",
       "Light GBM            0.746753  0.732893  0.057216\n",
       "XGBoost              0.792208  0.729640  0.077505\n",
       "Bagged KNN           0.688312  0.710233  0.044367"
      ]
     },
     "metadata": {},
     "output_type": "display_data"
    }
   ],
   "source": [
    "results = pd.DataFrame({\n",
    "    'Model': ['Logistic Classifier',\n",
    "              'Random forest', 'Bagged KNN', 'Bagged DecisionTree', 'Adaptive Boost', \n",
    "              'Gradient Boost', 'XGBoost', 'Light GBM'],\n",
    "    'Accuracy': [metrics.accuracy_score(log_cl_pred, y_test),  \n",
    "                 metrics.accuracy_score(rf_cl_pred, y_test), metrics.accuracy_score(ba_knn_model_pred, y_test),\n",
    "                 metrics.accuracy_score(ba_dt_model_pred, y_test), metrics.accuracy_score(ada_cl_pred, y_test),\n",
    "                 metrics.accuracy_score(gr_grad_pred, y_test), metrics.accuracy_score(xgb_model_pred, y_test),\n",
    "                 metrics.accuracy_score(lgbm_clf_pred, y_test)],\n",
    "    'CV_Mean': [log_cl_cv.mean(), rf_cl_cv.mean(), ba_knn_model_cv.mean(),\n",
    "                ba_dt_model_cv.mean(), ada_cl_cv.mean(), gr_grad_cv.mean(), \n",
    "                xgb_model_cv.mean(), lgbm_clf_cv.mean()],\n",
    "    'CV_std':[log_cl_cv.std(), rf_cl_cv.std(), ba_knn_model_cv.std(),\n",
    "                ba_dt_model_cv.std(), ada_cl_cv.std(), gr_grad_cv.std(), \n",
    "                xgb_model_cv.std(), lgbm_clf_cv.std()]\n",
    "})\n",
    "\n",
    "result = results.sort_values(by='CV_Mean', ascending=False)\n",
    "result = result.set_index('Model')\n",
    "display(result.head(13))"
   ]
  },
  {
   "cell_type": "code",
   "execution_count": null,
   "metadata": {},
   "outputs": [],
   "source": []
  },
  {
   "cell_type": "markdown",
   "metadata": {},
   "source": [
    "## 3-2. F1-Score 확인"
   ]
  },
  {
   "cell_type": "code",
   "execution_count": 50,
   "metadata": {},
   "outputs": [
    {
     "name": "stdout",
     "output_type": "stream",
     "text": [
      "Precision for rbf logistic is  0.5925925925925926\n",
      "Recall for rbf logistic is  0.8\n",
      "F1_score for rbf logistic is  0.6808510638297872\n",
      "\n",
      "The cross validated precision for logistic is: 0.6912175585777349\n",
      "The cross validated recall for logistic is: 0.5354978354978355\n",
      "The cross validated f1_score for logistic is: 0.5978811489920036\n"
     ]
    }
   ],
   "source": [
    "# logistic\n",
    "\n",
    "log_cl =  LogisticRegression(n_jobs = -1)\n",
    "log_cl.fit(X_train, y_train)\n",
    "log_cl_pred = log_cl.predict(X_test)\n",
    "\n",
    "log_cl_cv_pre = cross_val_score(log_cl, X_train, y_train, cv = 10, scoring = 'precision', n_jobs=-1)\n",
    "log_cl_cv_rec = cross_val_score(log_cl, X_train, y_train, cv = 10, scoring = 'recall', n_jobs=-1)\n",
    "log_cl_cv_f1 = cross_val_score(log_cl, X_train, y_train, cv = 10, scoring = 'f1', n_jobs=-1)\n",
    "\n",
    "print('Precision for rbf logistic is ', metrics.precision_score(log_cl_pred, y_test))\n",
    "print('Recall for rbf logistic is ', metrics.recall_score(log_cl_pred, y_test))\n",
    "print('F1_score for rbf logistic is ', metrics.f1_score(log_cl_pred, y_test))\n",
    "print()\n",
    "print('The cross validated precision for logistic is:', log_cl_cv_pre.mean())\n",
    "print('The cross validated recall for logistic is:', log_cl_cv_rec.mean())\n",
    "print('The cross validated f1_score for logistic is:', log_cl_cv_f1.mean())"
   ]
  },
  {
   "cell_type": "code",
   "execution_count": 51,
   "metadata": {},
   "outputs": [
    {
     "name": "stdout",
     "output_type": "stream",
     "text": [
      "Precision for random forest is  0.6296296296296297\n",
      "Recall for random forest is  0.723404255319149\n",
      "F1_score for random forest is  0.6732673267326733\n",
      "\n",
      "The cross validated precision for random forest is: 0.6483008658008658\n",
      "The cross validated recall for random forest is: 0.5653679653679653\n",
      "The cross validated f1_score for random forest is: 0.6037116759209782\n"
     ]
    }
   ],
   "source": [
    "# Random forest\n",
    "\n",
    "rf_cl = RandomForestClassifier(n_estimators = 200, n_jobs = -1)\n",
    "rf_cl.fit(X_train, y_train)\n",
    "rf_cl_pred = rf_cl.predict(X_test)\n",
    "\n",
    "rf_cl_cv_pre = cross_val_score(rf_cl, X_train, y_train, cv = 10, scoring = 'precision', n_jobs=-1)\n",
    "rf_cl_cv_rec = cross_val_score(rf_cl, X_train, y_train, cv = 10, scoring = 'recall', n_jobs=-1)\n",
    "rf_cl_cv_f1 = cross_val_score(rf_cl, X_train, y_train, cv = 10, scoring = 'f1', n_jobs=-1)\n",
    "\n",
    "print('Precision for random forest is ', metrics.precision_score(rf_cl_pred, y_test))\n",
    "print('Recall for random forest is ', metrics.recall_score(rf_cl_pred, y_test))\n",
    "print('F1_score for random forest is ', metrics.f1_score(rf_cl_pred, y_test))\n",
    "print()\n",
    "print('The cross validated precision for random forest is:', rf_cl_cv_pre.mean())\n",
    "print('The cross validated recall for random forest is:', rf_cl_cv_rec.mean())\n",
    "print('The cross validated f1_score for random forest is:', rf_cl_cv_f1.mean())"
   ]
  },
  {
   "cell_type": "code",
   "execution_count": 52,
   "metadata": {
    "scrolled": true
   },
   "outputs": [
    {
     "name": "stdout",
     "output_type": "stream",
     "text": [
      "Precision for KNN is  0.5740740740740741\n",
      "Recall for KNN is  0.62\n",
      "F1_score for KNN is  0.5961538461538461\n",
      "\n",
      "The cross validated precison for KNN is: 0.6912175585777349\n",
      "The cross validated recall for KNN is: 0.5354978354978355\n",
      "The cross validated f1_score for KNN is: 0.5978811489920036\n"
     ]
    }
   ],
   "source": [
    "# KNN 군집분석\n",
    "\n",
    "knn_model=KNeighborsClassifier() \n",
    "knn_model.fit(X_train, y_train)\n",
    "knn_model_pred = knn_model.predict(X_test)\n",
    "\n",
    "knn_model_cv_pre = cross_val_score(log_cl, X_train, y_train, cv = 10, scoring = 'precision', n_jobs=-1)\n",
    "knn_model_cv_rec = cross_val_score(log_cl, X_train, y_train, cv = 10, scoring = 'recall', n_jobs=-1)\n",
    "knn_model_cv_f1 = cross_val_score(log_cl, X_train, y_train, cv = 10, scoring = 'f1', n_jobs=-1)\n",
    "\n",
    "print('Precision for KNN is ', metrics.precision_score(knn_model_pred, y_test))\n",
    "print('Recall for KNN is ', metrics.recall_score(knn_model_pred, y_test))\n",
    "print('F1_score for KNN is ', metrics.f1_score(knn_model_pred, y_test))\n",
    "print()\n",
    "print('The cross validated precison for KNN is:', knn_model_cv_pre.mean())\n",
    "print('The cross validated recall for KNN is:', knn_model_cv_rec.mean())\n",
    "print('The cross validated f1_score for KNN is:', knn_model_cv_f1.mean())"
   ]
  },
  {
   "cell_type": "code",
   "execution_count": 53,
   "metadata": {},
   "outputs": [
    {
     "name": "stderr",
     "output_type": "stream",
     "text": [
      "C:\\ProgramData\\Anaconda3\\lib\\site-packages\\ipykernel_launcher.py:4: DeprecationWarning: The default dtype for empty Series will be 'object' instead of 'float64' in a future version. Specify a dtype explicitly to silence this warning.\n",
      "  after removing the cwd from sys.path.\n"
     ]
    },
    {
     "data": {
      "image/png": "[encoded data removed]",
      "text/plain": [
       "<Figure size 864x432 with 1 Axes>"
      ]
     },
     "metadata": {
      "needs_background": "light"
     },
     "output_type": "display_data"
    },
    {
     "name": "stdout",
     "output_type": "stream",
     "text": [
      "Accuracies for different values of n are: [0.54054054 0.45238095 0.57142857 0.54945055 0.59615385] with the max value as  0.5961538461538461\n"
     ]
    }
   ],
   "source": [
    "# KNN 하이퍼파라미터에 따른 F1_Score 차이 보기\n",
    "\n",
    "a_index = list(range(1,6))\n",
    "a = pd.Series()\n",
    "x = [0,1,2,3,4,5]\n",
    "for i in list(range(1,6)):\n",
    "    knn_model = KNeighborsClassifier(n_neighbors=i) \n",
    "    knn_model.fit(X_train, y_train)\n",
    "    knn_model_pred = knn_model.predict(X_test)\n",
    "    a=a.append(pd.Series(metrics.f1_score(knn_model_pred, y_test)))\n",
    "plt.plot(a_index, a)\n",
    "plt.xticks(x)\n",
    "fig=plt.gcf()\n",
    "fig.set_size_inches(12,6)\n",
    "plt.show()\n",
    "print('Accuracies for different values of n are:',a.values,'with the max value as ',a.values.max())"
   ]
  },
  {
   "cell_type": "code",
   "execution_count": 54,
   "metadata": {},
   "outputs": [
    {
     "name": "stdout",
     "output_type": "stream",
     "text": [
      "Precision for Bagged DecisionTree is  0.6481481481481481\n",
      "Recall for Bagged DecisionTree is  0.7608695652173914\n",
      "F1_score for Bagged DecisionTree is  0.7000000000000001\n",
      "\n",
      "The cross validated precision for Bagged DecisionTree is: 0.6558692776627559\n",
      "The cross validated recall for Bagged DecisionTree is: 0.6116883116883116\n",
      "The cross validated f1_score for Bagged DecisionTree is: 0.6281369954302285\n"
     ]
    }
   ],
   "source": [
    "# Bagged DecisionTree\n",
    "\n",
    "ba_dt_model = BaggingClassifier(base_estimator = DecisionTreeClassifier(), random_state=0, n_estimators=100, n_jobs=-1)\n",
    "ba_dt_model.fit(X_train, y_train)\n",
    "ba_dt_model_pred = ba_dt_model.predict(X_test)\n",
    "\n",
    "ba_dt_model_cv_pre = cross_val_score(ba_dt_model, X_train, y_train, cv = 10, scoring = 'precision', n_jobs=-1)\n",
    "ba_dt_model_cv_rec = cross_val_score(ba_dt_model, X_train, y_train, cv = 10, scoring = 'recall', n_jobs=-1)\n",
    "ba_dt_model_cv_f1 = cross_val_score(ba_dt_model, X_train, y_train, cv = 10, scoring = 'f1', n_jobs=-1)\n",
    "\n",
    "print('Precision for Bagged DecisionTree is ', metrics.precision_score(ba_dt_model_pred, y_test))\n",
    "print('Recall for Bagged DecisionTree is ', metrics.recall_score(ba_dt_model_pred, y_test))\n",
    "print('F1_score for Bagged DecisionTree is ', metrics.f1_score(ba_dt_model_pred, y_test))\n",
    "print()\n",
    "print('The cross validated precision for Bagged DecisionTree is:', ba_dt_model_cv_pre.mean())\n",
    "print('The cross validated recall for Bagged DecisionTree is:', ba_dt_model_cv_rec.mean())\n",
    "print('The cross validated f1_score for Bagged DecisionTree is:', ba_dt_model_cv_f1.mean())"
   ]
  },
  {
   "cell_type": "code",
   "execution_count": 55,
   "metadata": {},
   "outputs": [
    {
     "name": "stdout",
     "output_type": "stream",
     "text": [
      "Precision for AdaBoost is  0.6481481481481481\n",
      "Recall for rbf AdaBoost is  0.7777777777777778\n",
      "F1_score for rbf AdaBoost is  0.707070707070707\n",
      "\n",
      "The cross validated precision for AdaBoost is: 0.6602020202020202\n",
      "The cross validated recall for AdaBoost is: 0.5365800865800866\n",
      "The cross validated f1_score for AdaBoost is: 0.5882395930070349\n"
     ]
    }
   ],
   "source": [
    "# AdaBoost (Adaptive boosting)\n",
    "\n",
    "ada_cl = AdaBoostClassifier(n_estimators = 200, learning_rate = 0.1)\n",
    "ada_cl.fit(X_train, y_train)\n",
    "ada_cl_pred = ada_cl.predict(X_test)\n",
    "\n",
    "ada_cl_cv_pre = cross_val_score(ada_cl, X_train, y_train, cv = 10, scoring = 'precision', n_jobs=-1)\n",
    "ada_cl_cv_rec = cross_val_score(ada_cl, X_train, y_train, cv = 10, scoring = 'recall', n_jobs=-1)\n",
    "ada_cl_cv_f1 = cross_val_score(ada_cl, X_train, y_train, cv = 10, scoring = 'f1', n_jobs=-1)\n",
    "\n",
    "print('Precision for AdaBoost is ', metrics.precision_score(ada_cl_pred, y_test))\n",
    "print('Recall for rbf AdaBoost is ', metrics.recall_score(ada_cl_pred, y_test))\n",
    "print('F1_score for rbf AdaBoost is ', metrics.f1_score(ada_cl_pred, y_test))\n",
    "print()\n",
    "print('The cross validated precision for AdaBoost is:', ada_cl_cv_pre.mean())\n",
    "print('The cross validated recall for AdaBoost is:', ada_cl_cv_rec.mean())\n",
    "print('The cross validated f1_score for AdaBoost is:', ada_cl_cv_f1.mean())"
   ]
  },
  {
   "cell_type": "code",
   "execution_count": 56,
   "metadata": {},
   "outputs": [
    {
     "name": "stdout",
     "output_type": "stream",
     "text": [
      "Precision for Gradient Boost is  0.7037037037037037\n",
      "Recall for Gradient Boost is  0.76\n",
      "F1_score for Gradient Boost is  0.7307692307692308\n",
      "\n",
      "The cross validated precision for Gradient Boost is: 0.6554436445197316\n",
      "The cross validated recall for Gradient Boost is: 0.5982683982683983\n",
      "The cross validated f1_score for Gradient Boost is: 0.6166602542307638\n"
     ]
    }
   ],
   "source": [
    "# Gradient Boost\n",
    "\n",
    "gr_grad = GradientBoostingClassifier(n_estimators = 200, learning_rate = 0.1)\n",
    "gr_grad.fit(X_train, y_train)\n",
    "gr_grad_pred = gr_grad.predict(X_test)\n",
    "\n",
    "gr_grad_cv_pre = cross_val_score(gr_grad, X_train, y_train, cv = 10, scoring = 'precision', n_jobs=-1)\n",
    "gr_grad_cv_rec = cross_val_score(gr_grad, X_train, y_train, cv = 10, scoring = 'recall', n_jobs=-1)\n",
    "gr_grad_cv_f1 = cross_val_score(gr_grad, X_train, y_train, cv = 10, scoring = 'f1', n_jobs=-1)\n",
    "\n",
    "print('Precision for Gradient Boost is ', metrics.precision_score(gr_grad_pred, y_test))\n",
    "print('Recall for Gradient Boost is ', metrics.recall_score(gr_grad_pred, y_test))\n",
    "print('F1_score for Gradient Boost is ', metrics.f1_score(gr_grad_pred, y_test))\n",
    "print()\n",
    "print('The cross validated precision for Gradient Boost is:', gr_grad_cv_pre.mean())\n",
    "print('The cross validated recall for Gradient Boost is:', gr_grad_cv_rec.mean())\n",
    "print('The cross validated f1_score for Gradient Boost is:', gr_grad_cv_f1.mean())"
   ]
  },
  {
   "cell_type": "code",
   "execution_count": 57,
   "metadata": {},
   "outputs": [
    {
     "name": "stdout",
     "output_type": "stream",
     "text": [
      "Precision for XGBoost is  0.6666666666666666\n",
      "Recall for XGBoost is  0.72\n",
      "F1_score for XGBoost is  0.6923076923076923\n",
      "\n",
      "The cross validated prediction for XGBoost is: 0.6268451657038614\n",
      "The cross validated recall for XGBoost is: 0.6123376623376624\n",
      "The cross validated f1_score for XGBoost is: 0.6147997073932363\n"
     ]
    }
   ],
   "source": [
    "# XGBoost\n",
    "\n",
    "xgb_model = XGBClassifier(n_estimators = 200, learning_rate = 0.1)\n",
    "xgb_model.fit(X_train,y_train)\n",
    "xgb_model_pred = xgb_model.predict(X_test)\n",
    "\n",
    "xgb_model_cv_pre = cross_val_score(xgb_model, X_train, y_train, cv = 10, scoring = 'precision', n_jobs=-1)\n",
    "xgb_model_cv_rec = cross_val_score(xgb_model, X_train, y_train, cv = 10, scoring = 'recall', n_jobs=-1)\n",
    "xgb_model_cv_f1 = cross_val_score(xgb_model, X_train, y_train, cv = 10, scoring = 'f1', n_jobs=-1)\n",
    "\n",
    "print('Precision for XGBoost is ', metrics.precision_score(xgb_model_pred, y_test))\n",
    "print('Recall for XGBoost is ', metrics.recall_score(xgb_model_pred, y_test))\n",
    "print('F1_score for XGBoost is ', metrics.f1_score(xgb_model_pred, y_test))\n",
    "print()\n",
    "print('The cross validated prediction for XGBoost is:', xgb_model_cv_pre.mean())\n",
    "print('The cross validated recall for XGBoost is:', xgb_model_cv_rec.mean())\n",
    "print('The cross validated f1_score for XGBoost is:', xgb_model_cv_f1.mean())"
   ]
  },
  {
   "cell_type": "code",
   "execution_count": 58,
   "metadata": {},
   "outputs": [
    {
     "name": "stdout",
     "output_type": "stream",
     "text": [
      "Precision for Light GBM is  0.5925925925925926\n",
      "Recall for Light GBM is  0.6530612244897959\n",
      "F1_score for Light GBM is  0.6213592233009709\n",
      "\n",
      "The cross validated precision for Light GBM is: 0.6303625424744015\n",
      "The cross validated recall for Light GBM is: 0.6028138528138529\n",
      "The cross validated f1_score for Light GBM is: 0.6105934691042609\n"
     ]
    }
   ],
   "source": [
    "# Light GBM\n",
    "\n",
    "lgbm_clf = LGBMClassifier(n_estimators=400, n_jobs = -1)\n",
    "lgbm_clf.fit(X_train, y_train)\n",
    "lgbm_clf_pred = lgbm_clf.predict(X_test)\n",
    "\n",
    "lgbm_clf_cv_pre = cross_val_score(lgbm_clf, X_train, y_train, cv = 10, scoring = 'precision', n_jobs=-1)\n",
    "lgbm_clf_cv_rec = cross_val_score(lgbm_clf, X_train, y_train, cv = 10, scoring = 'recall', n_jobs=-1)\n",
    "lgbm_clf_cv_f1 = cross_val_score(lgbm_clf, X_train, y_train, cv = 10, scoring = 'f1', n_jobs=-1)\n",
    "\n",
    "print('Precision for Light GBM is ', metrics.precision_score(lgbm_clf_pred, y_test))\n",
    "print('Recall for Light GBM is ', metrics.recall_score(lgbm_clf_pred, y_test))\n",
    "print('F1_score for Light GBM is ', metrics.f1_score(lgbm_clf_pred, y_test))\n",
    "print()\n",
    "print('The cross validated precision for Light GBM is:', lgbm_clf_cv_pre.mean())\n",
    "print('The cross validated recall for Light GBM is:', lgbm_clf_cv_rec.mean())\n",
    "print('The cross validated f1_score for Light GBM is:', lgbm_clf_cv_f1.mean())"
   ]
  },
  {
   "cell_type": "code",
   "execution_count": 59,
   "metadata": {
    "scrolled": true
   },
   "outputs": [],
   "source": [
    "results = pd.DataFrame({\n",
    "    'Model': ['Logistic Classifier',\n",
    "              'Random forest', 'Bagged DecisionTree', 'Adaptive Boost', 'knn_model',\n",
    "              'Gradient Boost', 'XGBoost', 'Light GBM'],\n",
    "    'F1_Score': [metrics.f1_score(log_cl_pred, y_test),  \n",
    "                 metrics.f1_score(rf_cl_pred, y_test),\n",
    "                 metrics.f1_score(ba_dt_model_pred, y_test), metrics.f1_score(ada_cl_pred, y_test),\n",
    "                 metrics.f1_score(knn_model_pred, y_test),\n",
    "                 metrics.f1_score(gr_grad_pred, y_test), metrics.f1_score(xgb_model_pred, y_test),\n",
    "                 metrics.f1_score(lgbm_clf_pred, y_test)],\n",
    "    'Precision' :[metrics.precision_score(log_cl_pred, y_test),  \n",
    "                 metrics.precision_score(rf_cl_pred, y_test),\n",
    "                 metrics.precision_score(ba_dt_model_pred, y_test), metrics.precision_score(ada_cl_pred, y_test),\n",
    "                 metrics.precision_score(knn_model_pred, y_test),\n",
    "                 metrics.precision_score(gr_grad_pred, y_test), metrics.precision_score(xgb_model_pred, y_test),\n",
    "                 metrics.precision_score(lgbm_clf_pred, y_test)],\n",
    "    'Recall' : [metrics.recall_score(log_cl_pred, y_test),  \n",
    "                 metrics.recall_score(rf_cl_pred, y_test),\n",
    "                 metrics.recall_score(ba_dt_model_pred, y_test), metrics.recall_score(ada_cl_pred, y_test),\n",
    "                 metrics.recall_score(knn_model_pred, y_test),\n",
    "                 metrics.recall_score(gr_grad_pred, y_test), metrics.recall_score(xgb_model_pred, y_test),\n",
    "                 metrics.recall_score(lgbm_clf_pred, y_test)],\n",
    "    'F1_CV_Mean': [log_cl_cv_f1.mean(), rf_cl_cv_f1.mean(),\n",
    "                ba_dt_model_cv_f1.mean(), ada_cl_cv_f1.mean(), knn_model_cv_f1.mean(),gr_grad_cv_f1.mean(), \n",
    "                xgb_model_cv_f1.mean(), lgbm_clf_cv_f1.mean()],\n",
    "    'F1_CV_std':[log_cl_cv_f1.std(), rf_cl_cv_f1.std(),\n",
    "                ba_dt_model_cv_f1.std(), ada_cl_cv_f1.std(), knn_model_cv_f1.std(), \n",
    "                gr_grad_cv_f1.std(), \n",
    "                xgb_model_cv_f1.std(), lgbm_clf_cv_f1.std()],\n",
    "    'Pre_CV_Mean': [log_cl_cv_pre.mean(), rf_cl_cv_pre.mean(),\n",
    "                ba_dt_model_cv_pre.mean(), ada_cl_cv_pre.mean(), knn_model_cv_pre.mean(),gr_grad_cv_pre.mean(), \n",
    "                xgb_model_cv_pre.mean(), lgbm_clf_cv_pre.mean()],\n",
    "    'Pre_CV_std': [log_cl_cv_pre.std(), rf_cl_cv_pre.std(),\n",
    "                ba_dt_model_cv_pre.std(), ada_cl_cv_pre.std(), knn_model_cv_pre.std(), gr_grad_cv_pre.std(), \n",
    "                xgb_model_cv_pre.std(), lgbm_clf_cv_pre.std()],    \n",
    "    'Recall_CV_Mean': [log_cl_cv_rec.mean(), rf_cl_cv_rec.mean(),\n",
    "                ba_dt_model_cv_rec.mean(), ada_cl_cv_rec.mean(), knn_model_cv_rec.mean(),gr_grad_cv_rec.mean(), \n",
    "                xgb_model_cv_rec.mean(), lgbm_clf_cv_rec.mean()],\n",
    "    'Recall_CV_std': [log_cl_cv_rec.std(), rf_cl_cv_rec.std(),\n",
    "                ba_dt_model_cv_rec.std(), ada_cl_cv_rec.std(), knn_model_cv_rec.std(),gr_grad_cv_rec.std(), \n",
    "                xgb_model_cv_rec.std(), lgbm_clf_cv_rec.std()]    \n",
    "})"
   ]
  },
  {
   "cell_type": "code",
   "execution_count": 60,
   "metadata": {
    "scrolled": true
   },
   "outputs": [
    {
     "data": {
      "text/html": [
       "<div>\n",
       "<style scoped>\n",
       "    .dataframe tbody tr th:only-of-type {\n",
       "        vertical-align: middle;\n",
       "    }\n",
       "\n",
       "    .dataframe tbody tr th {\n",
       "        vertical-align: top;\n",
       "    }\n",
       "\n",
       "    .dataframe thead th {\n",
       "        text-align: right;\n",
       "    }\n",
       "</style>\n",
       "<table border=\"1\" class=\"dataframe\">\n",
       "  <thead>\n",
       "    <tr style=\"text-align: right;\">\n",
       "      <th></th>\n",
       "      <th>F1_Score</th>\n",
       "      <th>Precision</th>\n",
       "      <th>Recall</th>\n",
       "      <th>F1_CV_Mean</th>\n",
       "      <th>F1_CV_std</th>\n",
       "      <th>Pre_CV_Mean</th>\n",
       "      <th>Pre_CV_std</th>\n",
       "      <th>Recall_CV_Mean</th>\n",
       "      <th>Recall_CV_std</th>\n",
       "    </tr>\n",
       "    <tr>\n",
       "      <th>Model</th>\n",
       "      <th></th>\n",
       "      <th></th>\n",
       "      <th></th>\n",
       "      <th></th>\n",
       "      <th></th>\n",
       "      <th></th>\n",
       "      <th></th>\n",
       "      <th></th>\n",
       "      <th></th>\n",
       "    </tr>\n",
       "  </thead>\n",
       "  <tbody>\n",
       "    <tr>\n",
       "      <th>Bagged DecisionTree</th>\n",
       "      <td>0.700000</td>\n",
       "      <td>0.648148</td>\n",
       "      <td>0.760870</td>\n",
       "      <td>0.628137</td>\n",
       "      <td>0.079106</td>\n",
       "      <td>0.655869</td>\n",
       "      <td>0.109978</td>\n",
       "      <td>0.611688</td>\n",
       "      <td>0.089962</td>\n",
       "    </tr>\n",
       "    <tr>\n",
       "      <th>Gradient Boost</th>\n",
       "      <td>0.730769</td>\n",
       "      <td>0.703704</td>\n",
       "      <td>0.760000</td>\n",
       "      <td>0.616660</td>\n",
       "      <td>0.115613</td>\n",
       "      <td>0.655444</td>\n",
       "      <td>0.155930</td>\n",
       "      <td>0.598268</td>\n",
       "      <td>0.106176</td>\n",
       "    </tr>\n",
       "    <tr>\n",
       "      <th>XGBoost</th>\n",
       "      <td>0.692308</td>\n",
       "      <td>0.666667</td>\n",
       "      <td>0.720000</td>\n",
       "      <td>0.614800</td>\n",
       "      <td>0.100830</td>\n",
       "      <td>0.626845</td>\n",
       "      <td>0.136827</td>\n",
       "      <td>0.612338</td>\n",
       "      <td>0.094925</td>\n",
       "    </tr>\n",
       "    <tr>\n",
       "      <th>Light GBM</th>\n",
       "      <td>0.621359</td>\n",
       "      <td>0.592593</td>\n",
       "      <td>0.653061</td>\n",
       "      <td>0.610593</td>\n",
       "      <td>0.080677</td>\n",
       "      <td>0.630363</td>\n",
       "      <td>0.105046</td>\n",
       "      <td>0.602814</td>\n",
       "      <td>0.102004</td>\n",
       "    </tr>\n",
       "    <tr>\n",
       "      <th>Random forest</th>\n",
       "      <td>0.673267</td>\n",
       "      <td>0.629630</td>\n",
       "      <td>0.723404</td>\n",
       "      <td>0.603712</td>\n",
       "      <td>0.079288</td>\n",
       "      <td>0.648301</td>\n",
       "      <td>0.110817</td>\n",
       "      <td>0.565368</td>\n",
       "      <td>0.071184</td>\n",
       "    </tr>\n",
       "    <tr>\n",
       "      <th>Logistic Classifier</th>\n",
       "      <td>0.680851</td>\n",
       "      <td>0.592593</td>\n",
       "      <td>0.800000</td>\n",
       "      <td>0.597881</td>\n",
       "      <td>0.112541</td>\n",
       "      <td>0.691218</td>\n",
       "      <td>0.137306</td>\n",
       "      <td>0.535498</td>\n",
       "      <td>0.119111</td>\n",
       "    </tr>\n",
       "    <tr>\n",
       "      <th>knn_model</th>\n",
       "      <td>0.596154</td>\n",
       "      <td>0.574074</td>\n",
       "      <td>0.620000</td>\n",
       "      <td>0.597881</td>\n",
       "      <td>0.112541</td>\n",
       "      <td>0.691218</td>\n",
       "      <td>0.137306</td>\n",
       "      <td>0.535498</td>\n",
       "      <td>0.119111</td>\n",
       "    </tr>\n",
       "    <tr>\n",
       "      <th>Adaptive Boost</th>\n",
       "      <td>0.707071</td>\n",
       "      <td>0.648148</td>\n",
       "      <td>0.777778</td>\n",
       "      <td>0.588240</td>\n",
       "      <td>0.103265</td>\n",
       "      <td>0.660202</td>\n",
       "      <td>0.123665</td>\n",
       "      <td>0.536580</td>\n",
       "      <td>0.103528</td>\n",
       "    </tr>\n",
       "  </tbody>\n",
       "</table>\n",
       "</div>"
      ],
      "text/plain": [
       "                     F1_Score  Precision    Recall  F1_CV_Mean  F1_CV_std  \\\n",
       "Model                                                                       \n",
       "Bagged DecisionTree  0.700000   0.648148  0.760870    0.628137   0.079106   \n",
       "Gradient Boost       0.730769   0.703704  0.760000    0.616660   0.115613   \n",
       "XGBoost              0.692308   0.666667  0.720000    0.614800   0.100830   \n",
       "Light GBM            0.621359   0.592593  0.653061    0.610593   0.080677   \n",
       "Random forest        0.673267   0.629630  0.723404    0.603712   0.079288   \n",
       "Logistic Classifier  0.680851   0.592593  0.800000    0.597881   0.112541   \n",
       "knn_model            0.596154   0.574074  0.620000    0.597881   0.112541   \n",
       "Adaptive Boost       0.707071   0.648148  0.777778    0.588240   0.103265   \n",
       "\n",
       "                     Pre_CV_Mean  Pre_CV_std  Recall_CV_Mean  Recall_CV_std  \n",
       "Model                                                                        \n",
       "Bagged DecisionTree     0.655869    0.109978        0.611688       0.089962  \n",
       "Gradient Boost          0.655444    0.155930        0.598268       0.106176  \n",
       "XGBoost                 0.626845    0.136827        0.612338       0.094925  \n",
       "Light GBM               0.630363    0.105046        0.602814       0.102004  \n",
       "Random forest           0.648301    0.110817        0.565368       0.071184  \n",
       "Logistic Classifier     0.691218    0.137306        0.535498       0.119111  \n",
       "knn_model               0.691218    0.137306        0.535498       0.119111  \n",
       "Adaptive Boost          0.660202    0.123665        0.536580       0.103528  "
      ]
     },
     "metadata": {},
     "output_type": "display_data"
    }
   ],
   "source": [
    "result = results.sort_values(by='F1_CV_Mean', ascending=False)\n",
    "result = result.set_index('Model')\n",
    "display(result.head(13))"
   ]
  },
  {
   "cell_type": "markdown",
   "metadata": {},
   "source": [
    "# 4. 임계절 조절과 하이퍼파라미터 튜닝"
   ]
  },
  {
   "cell_type": "markdown",
   "metadata": {},
   "source": [
    "## 4-1. GridSearchCV"
   ]
  },
  {
   "cell_type": "code",
   "execution_count": 68,
   "metadata": {},
   "outputs": [],
   "source": [
    "from sklearn.model_selection import GridSearchCV\n",
    "\n",
    "# 하이퍼 파라미터 테스트를 위한 조합 할당.\n",
    "\n",
    "params = {'num_leaves': [8 ,16 ,32, 64],\n",
    "          'max_depth':[16, 32, 64, 128, 160],\n",
    "          'min_child_samples':[20, 60, 100],\n",
    "          'subsample':[0.2, 0.4, 0.6, 0.8, 1],\n",
    "         'n_estimators':[100,300,500,700,900,1200]}\n",
    "\n",
    "\n",
    "\n",
    "gridcv = GridSearchCV(lgbm_clf, param_grid=params, n_jobs=-1, cv=3)"
   ]
  },
  {
   "cell_type": "code",
   "execution_count": 69,
   "metadata": {
    "scrolled": true
   },
   "outputs": [
    {
     "name": "stdout",
     "output_type": "stream",
     "text": [
      "[1]\ttraining's binary_logloss: 0.618491\tvalid_1's binary_logloss: 0.621488\n",
      "Training until validation scores don't improve for 30 rounds\n",
      "[2]\ttraining's binary_logloss: 0.595489\tvalid_1's binary_logloss: 0.595965\n",
      "[3]\ttraining's binary_logloss: 0.575982\tvalid_1's binary_logloss: 0.580517\n",
      "[4]\ttraining's binary_logloss: 0.558028\tvalid_1's binary_logloss: 0.561216\n",
      "[5]\ttraining's binary_logloss: 0.543761\tvalid_1's binary_logloss: 0.551354\n",
      "[6]\ttraining's binary_logloss: 0.529166\tvalid_1's binary_logloss: 0.535423\n",
      "[7]\ttraining's binary_logloss: 0.51577\tvalid_1's binary_logloss: 0.521745\n",
      "[8]\ttraining's binary_logloss: 0.503288\tvalid_1's binary_logloss: 0.509564\n",
      "[9]\ttraining's binary_logloss: 0.49475\tvalid_1's binary_logloss: 0.500694\n",
      "[10]\ttraining's binary_logloss: 0.485345\tvalid_1's binary_logloss: 0.492579\n",
      "[11]\ttraining's binary_logloss: 0.475508\tvalid_1's binary_logloss: 0.485287\n",
      "[12]\ttraining's binary_logloss: 0.468191\tvalid_1's binary_logloss: 0.478978\n",
      "[13]\ttraining's binary_logloss: 0.462067\tvalid_1's binary_logloss: 0.473137\n",
      "[14]\ttraining's binary_logloss: 0.45492\tvalid_1's binary_logloss: 0.465264\n",
      "[15]\ttraining's binary_logloss: 0.449766\tvalid_1's binary_logloss: 0.458507\n",
      "[16]\ttraining's binary_logloss: 0.444504\tvalid_1's binary_logloss: 0.454306\n",
      "[17]\ttraining's binary_logloss: 0.438983\tvalid_1's binary_logloss: 0.449698\n",
      "[18]\ttraining's binary_logloss: 0.434884\tvalid_1's binary_logloss: 0.445364\n",
      "[19]\ttraining's binary_logloss: 0.431483\tvalid_1's binary_logloss: 0.443349\n",
      "[20]\ttraining's binary_logloss: 0.426991\tvalid_1's binary_logloss: 0.441674\n",
      "[21]\ttraining's binary_logloss: 0.42319\tvalid_1's binary_logloss: 0.438836\n",
      "[22]\ttraining's binary_logloss: 0.41977\tvalid_1's binary_logloss: 0.435452\n",
      "[23]\ttraining's binary_logloss: 0.416797\tvalid_1's binary_logloss: 0.433048\n",
      "[24]\ttraining's binary_logloss: 0.413666\tvalid_1's binary_logloss: 0.432277\n",
      "[25]\ttraining's binary_logloss: 0.410928\tvalid_1's binary_logloss: 0.4288\n",
      "[26]\ttraining's binary_logloss: 0.408285\tvalid_1's binary_logloss: 0.426776\n",
      "[27]\ttraining's binary_logloss: 0.405176\tvalid_1's binary_logloss: 0.427476\n",
      "[28]\ttraining's binary_logloss: 0.402733\tvalid_1's binary_logloss: 0.42541\n",
      "[29]\ttraining's binary_logloss: 0.400297\tvalid_1's binary_logloss: 0.427433\n",
      "[30]\ttraining's binary_logloss: 0.397832\tvalid_1's binary_logloss: 0.426345\n",
      "[31]\ttraining's binary_logloss: 0.395647\tvalid_1's binary_logloss: 0.428309\n",
      "[32]\ttraining's binary_logloss: 0.392786\tvalid_1's binary_logloss: 0.426527\n",
      "[33]\ttraining's binary_logloss: 0.390738\tvalid_1's binary_logloss: 0.425573\n",
      "[34]\ttraining's binary_logloss: 0.388147\tvalid_1's binary_logloss: 0.426731\n",
      "[35]\ttraining's binary_logloss: 0.38652\tvalid_1's binary_logloss: 0.426038\n",
      "[36]\ttraining's binary_logloss: 0.384203\tvalid_1's binary_logloss: 0.425679\n",
      "[37]\ttraining's binary_logloss: 0.380869\tvalid_1's binary_logloss: 0.425618\n",
      "[38]\ttraining's binary_logloss: 0.37824\tvalid_1's binary_logloss: 0.427445\n",
      "[39]\ttraining's binary_logloss: 0.376313\tvalid_1's binary_logloss: 0.429058\n",
      "[40]\ttraining's binary_logloss: 0.374343\tvalid_1's binary_logloss: 0.428627\n",
      "[41]\ttraining's binary_logloss: 0.372055\tvalid_1's binary_logloss: 0.429019\n",
      "[42]\ttraining's binary_logloss: 0.369854\tvalid_1's binary_logloss: 0.429645\n",
      "[43]\ttraining's binary_logloss: 0.368483\tvalid_1's binary_logloss: 0.429589\n",
      "[44]\ttraining's binary_logloss: 0.367022\tvalid_1's binary_logloss: 0.429695\n",
      "[45]\ttraining's binary_logloss: 0.365479\tvalid_1's binary_logloss: 0.429554\n",
      "[46]\ttraining's binary_logloss: 0.364096\tvalid_1's binary_logloss: 0.429096\n",
      "[47]\ttraining's binary_logloss: 0.362135\tvalid_1's binary_logloss: 0.430979\n",
      "[48]\ttraining's binary_logloss: 0.360507\tvalid_1's binary_logloss: 0.431279\n",
      "[49]\ttraining's binary_logloss: 0.358956\tvalid_1's binary_logloss: 0.430769\n",
      "[50]\ttraining's binary_logloss: 0.357459\tvalid_1's binary_logloss: 0.430418\n",
      "[51]\ttraining's binary_logloss: 0.356046\tvalid_1's binary_logloss: 0.43083\n",
      "[52]\ttraining's binary_logloss: 0.354699\tvalid_1's binary_logloss: 0.430829\n",
      "[53]\ttraining's binary_logloss: 0.352949\tvalid_1's binary_logloss: 0.43226\n",
      "[54]\ttraining's binary_logloss: 0.351293\tvalid_1's binary_logloss: 0.433311\n",
      "[55]\ttraining's binary_logloss: 0.34887\tvalid_1's binary_logloss: 0.434716\n",
      "[56]\ttraining's binary_logloss: 0.347142\tvalid_1's binary_logloss: 0.435558\n",
      "[57]\ttraining's binary_logloss: 0.345659\tvalid_1's binary_logloss: 0.434318\n",
      "[58]\ttraining's binary_logloss: 0.344288\tvalid_1's binary_logloss: 0.435471\n",
      "Early stopping, best iteration is:\n",
      "[28]\ttraining's binary_logloss: 0.402733\tvalid_1's binary_logloss: 0.42541\n"
     ]
    },
    {
     "data": {
      "text/plain": [
       "GridSearchCV(cv=3, estimator=LGBMClassifier(n_estimators=400), n_jobs=-1,\n",
       "             param_grid={'max_depth': [16, 32, 64, 128, 160],\n",
       "                         'min_child_samples': [20, 60, 100],\n",
       "                         'n_estimators': [100, 300, 500, 700, 900, 1200],\n",
       "                         'num_leaves': [8, 16, 32, 64],\n",
       "                         'subsample': [0.2, 0.4, 0.6, 0.8, 1]})"
      ]
     },
     "execution_count": 69,
     "metadata": {},
     "output_type": "execute_result"
    }
   ],
   "source": [
    "gridcv.fit(X_train, y_train, early_stopping_rounds=30, eval_metric=\"f1\",\n",
    "           eval_set=[(X_train, y_train), (X_test, y_test)])"
   ]
  },
  {
   "cell_type": "code",
   "execution_count": 70,
   "metadata": {},
   "outputs": [
    {
     "data": {
      "text/plain": [
       "LGBMClassifier(max_depth=16, min_child_samples=60, num_leaves=8, subsample=0.2)"
      ]
     },
     "execution_count": 70,
     "metadata": {},
     "output_type": "execute_result"
    }
   ],
   "source": [
    "gridcv.best_estimator_"
   ]
  },
  {
   "cell_type": "code",
   "execution_count": 107,
   "metadata": {},
   "outputs": [],
   "source": [
    "lgbm_clf_best = LGBMClassifier(max_depth=16, min_child_samples=60, num_leaves=8, subsample=0.2)"
   ]
  },
  {
   "cell_type": "code",
   "execution_count": 108,
   "metadata": {},
   "outputs": [
    {
     "data": {
      "text/plain": [
       "LGBMClassifier(max_depth=16, min_child_samples=60, num_leaves=8, subsample=0.2)"
      ]
     },
     "execution_count": 108,
     "metadata": {},
     "output_type": "execute_result"
    }
   ],
   "source": [
    "lgbm_clf_best.fit(X_train, y_train)"
   ]
  },
  {
   "cell_type": "code",
   "execution_count": 109,
   "metadata": {},
   "outputs": [
    {
     "name": "stdout",
     "output_type": "stream",
     "text": [
      "pred_proba()결과 Shape : (154, 2)\n",
      "pred_proba array에서 앞 3개만 샘플로 추출 \n",
      ": [[0.98548119 0.01451881]\n",
      " [0.10287799 0.89712201]\n",
      " [0.76425049 0.23574951]]\n",
      "두개의 class 중에서 더 큰 확률을 클래스 값으로 예측 \n",
      " [[0.98548119 0.01451881 0.98548119 0.01451881]\n",
      " [0.10287799 0.89712201 0.10287799 0.89712201]\n",
      " [0.76425049 0.23574951 0.76425049 0.23574951]]\n"
     ]
    }
   ],
   "source": [
    "# 적절한 임계점 찾기\n",
    "\n",
    "pred_proba = lgbm_clf_best.predict_proba(X_test)\n",
    "pred  = lgbm_clf_best.predict_proba(X_test)\n",
    "print('pred_proba()결과 Shape : {0}'.format(pred_proba.shape))\n",
    "print('pred_proba array에서 앞 3개만 샘플로 추출 \\n:', pred_proba[:3])\n",
    "\n",
    "# 예측 확률 array 와 예측 결과값 array 를 concatenate 하여 예측 확률과 결과값을 한눈에 확인\n",
    "pred_proba_result = np.concatenate([pred_proba , pred.reshape(-1,2)],axis=1)\n",
    "print('두개의 class 중에서 더 큰 확률을 클래스 값으로 예측 \\n',pred_proba_result[:3])\n"
   ]
  },
  {
   "cell_type": "code",
   "execution_count": 110,
   "metadata": {},
   "outputs": [
    {
     "name": "stdout",
     "output_type": "stream",
     "text": [
      "오차 행렬\n",
      "[[87 13]\n",
      " [19 35]]\n",
      "정확도: 0.7922, 정밀도: 0.7292, 재현율: 0.6481, F1_score:  0.648148\n"
     ]
    }
   ],
   "source": [
    "from sklearn.preprocessing import Binarizer\n",
    "\n",
    "#Binarizer의 threshold 설정값. 분류 결정 임곗값임.  \n",
    "custom_threshold = 0.5\n",
    "\n",
    "# predict_proba( ) 반환값의 두번째 컬럼 , 즉 Positive 클래스 컬럼 하나만 추출하여 Binarizer를 적용\n",
    "pred_proba_1 = pred_proba[:,1].reshape(-1,1)\n",
    "\n",
    "binarizer = Binarizer(threshold=custom_threshold).fit(pred_proba_1) \n",
    "custom_predict = binarizer.transform(pred_proba_1)\n",
    "\n",
    "get_clf_eval(y_test, custom_predict)"
   ]
  },
  {
   "cell_type": "code",
   "execution_count": 111,
   "metadata": {
    "scrolled": true
   },
   "outputs": [],
   "source": [
    "from sklearn.metrics import precision_recall_curve\n",
    "\n",
    "# 레이블 값이 1일때의 예측 확률을 추출 \n",
    "pred_proba_class1 = lgbm_clf_best.predict_proba(X_test)[:, 1]"
   ]
  },
  {
   "cell_type": "code",
   "execution_count": 112,
   "metadata": {},
   "outputs": [
    {
     "data": {
      "image/png": "[encoded data removed]",
      "text/plain": [
       "<Figure size 576x432 with 1 Axes>"
      ]
     },
     "metadata": {
      "needs_background": "light"
     },
     "output_type": "display_data"
    }
   ],
   "source": [
    "# 임계점 시각화\n",
    "\n",
    "import matplotlib.pyplot as plt\n",
    "import matplotlib.ticker as ticker\n",
    "%matplotlib inline\n",
    "\n",
    "def precision_recall_curve_plot(y_test, pred_proba_c1):\n",
    "    # threshold ndarray와 이 threshold에 따른 정밀도, 재현율 ndarray 추출. \n",
    "    precisions, recalls, thresholds = precision_recall_curve( y_test, pred_proba_c1)\n",
    "    \n",
    "    # X축을 threshold값으로, Y축은 정밀도, 재현율 값으로 각각 Plot 수행. 정밀도는 점선으로 표시\n",
    "    plt.figure(figsize=(8,6))\n",
    "    threshold_boundary = thresholds.shape[0]\n",
    "    plt.plot(thresholds, precisions[0:threshold_boundary], linestyle='--', label='precision')\n",
    "    plt.plot(thresholds, recalls[0:threshold_boundary],label='recall')\n",
    "    \n",
    "    # threshold 값 X 축의 Scale을 0.1 단위로 변경\n",
    "    start, end = plt.xlim()\n",
    "    plt.xticks(np.round(np.arange(start, end, 0.1),2))\n",
    "    \n",
    "    # x축, y축 label과 legend, 그리고 grid 설정\n",
    "    plt.xlabel('Threshold value'); plt.ylabel('Precision and Recall value')\n",
    "    plt.legend(); plt.grid()\n",
    "    plt.show()\n",
    "    \n",
    "precision_recall_curve_plot(y_test, lgbm_clf_best.predict_proba(X_test)[:, 1] )\n"
   ]
  },
  {
   "cell_type": "code",
   "execution_count": 113,
   "metadata": {},
   "outputs": [
    {
     "data": {
      "text/plain": [
       "(0.369, 0.7091)"
      ]
     },
     "execution_count": 113,
     "metadata": {},
     "output_type": "execute_result"
    }
   ],
   "source": [
    "# 가장 높은 F1_score를 가지는 임계점 찾기\n",
    "\n",
    "def Find_threshold(model, X_test, y_test):\n",
    "    thresholds = np.arange(0,1,0.001)\n",
    "    threshold_count = []\n",
    "    pred_proba=model.predict_proba(X_test)\n",
    "    pred_proba_1 = pred_proba[:,1].reshape(-1,1)\n",
    "    for threshold in thresholds:\n",
    "        binarizer = Binarizer(threshold=threshold)\n",
    "        model_cl_pred = binarizer.transform(pred_proba_1)\n",
    "        threshold_count.append([threshold, metrics.f1_score(model_cl_pred, y_test)])\n",
    "\n",
    "    MAX=thresholds[np.array(threshold_count)[:,1].argmax()]\n",
    "    \n",
    "    thresholds = np.arange(MAX-0.05,MAX+0.05,0.005)\n",
    "    threshold_count = []\n",
    "    for threshold in thresholds:\n",
    "        binarizer = Binarizer(threshold=threshold)\n",
    "        model_cl_pred = binarizer.transform(pred_proba_1)\n",
    "        #threshold_count.append([threshold, metrics.f1_score(log_cl_pred, y_test)])\n",
    "        #print('threshold: {0:.4f}, f1_score: {1:.4f}'.format(threshold,metrics.f1_score(model_cl_pred, y_test)))\n",
    "        threshold_count.append([threshold, metrics.f1_score(model_cl_pred, y_test)])\n",
    "    \n",
    "    return np.round(thresholds[np.array(threshold_count)[:,1].argmax()],4), np.round(metrics.f1_score(Binarizer(threshold=thresholds[np.array(threshold_count)[:,1].argmax()]).transform(pred_proba_1), y_test),4)\n",
    "\n",
    "Find_threshold(lgbm_clf_best, X_test, y_test)"
   ]
  },
  {
   "cell_type": "code",
   "execution_count": 114,
   "metadata": {},
   "outputs": [
    {
     "name": "stdout",
     "output_type": "stream",
     "text": [
      "오차 행렬\n",
      "[[83 17]\n",
      " [15 39]]\n",
      "정확도: 0.7922, 정밀도: 0.6964, 재현율: 0.7222, F1_score:  0.722222\n"
     ]
    }
   ],
   "source": [
    "# Binarizer의 베스트 threshold 설정값 지정 \n",
    "\n",
    "custom_threshold = 0.369\n",
    "pred_proba_1 = pred_proba[:,1].reshape(-1,1)\n",
    "binarizer = Binarizer(threshold=custom_threshold).fit(pred_proba_1) \n",
    "custom_predict = binarizer.transform(pred_proba_1)\n",
    "\n",
    "get_clf_eval(y_test , custom_predict)"
   ]
  },
  {
   "cell_type": "markdown",
   "metadata": {},
   "source": [
    "## 4-2. Randomized Grid SearchCV"
   ]
  },
  {
   "cell_type": "code",
   "execution_count": 115,
   "metadata": {},
   "outputs": [
    {
     "name": "stdout",
     "output_type": "stream",
     "text": [
      "{'n_estimators': [100, 311, 522, 733, 944, 1155, 1366, 1577, 1788, 2000], 'max_features': ['auto', 'sqrt'], 'max_depth': [10, 20, 30, 40, 50, 60, 70, 80, 90, 100, 110, None], 'min_samples_split': [1, 2, 3, 4, 5, 6, 7, 8, 9, 10], 'min_samples_leaf': [1, 2, 3, 4, 5, 6, 7, 8, 9, 10], 'bootstrap': [True, False]}\n"
     ]
    }
   ],
   "source": [
    "from sklearn.model_selection import RandomizedSearchCV\n",
    "\n",
    "# Number of trees in random forest\n",
    "\n",
    "n_estimators = [int(x) for x in np.linspace(start = 100, stop = 2000, num = 10)]\n",
    "\n",
    "# Number of features to consider at every split\n",
    "\n",
    "max_features = ['auto', 'sqrt']\n",
    "\n",
    "# Maximum number of levels in tree\n",
    "\n",
    "max_depth = [int(x) for x in np.linspace(10, 110, num = 11)]\n",
    "\n",
    "max_depth.append(None)\n",
    "\n",
    "# Minimum number of samples required to split a node\n",
    "\n",
    "min_samples_split = [1,2,3,4,5,6,7,8,9,10]\n",
    "\n",
    "# Minimum number of samples required at each leaf node\n",
    "\n",
    "min_samples_leaf = [1, 2, 3, 4, 5, 6, 7, 8, 9, 10]\n",
    "\n",
    "# Method of selecting samples for training each tree\n",
    "\n",
    "bootstrap = [True, False]\n",
    "\n",
    "# Create the random grid\n",
    "\n",
    "random_grid = {'n_estimators': n_estimators,\n",
    "               'max_features': max_features,\n",
    "               'max_depth': max_depth,\n",
    "               'min_samples_split': min_samples_split,\n",
    "               'min_samples_leaf': min_samples_leaf,\n",
    "               'bootstrap': bootstrap}\n",
    "\n",
    "print(random_grid)"
   ]
  },
  {
   "cell_type": "code",
   "execution_count": 80,
   "metadata": {},
   "outputs": [
    {
     "name": "stdout",
     "output_type": "stream",
     "text": [
      "Fitting 3 folds for each of 100 candidates, totalling 300 fits\n"
     ]
    },
    {
     "name": "stderr",
     "output_type": "stream",
     "text": [
      "[Parallel(n_jobs=-1)]: Using backend LokyBackend with 8 concurrent workers.\n",
      "[Parallel(n_jobs=-1)]: Done  25 tasks      | elapsed:    2.1s\n",
      "[Parallel(n_jobs=-1)]: Done 146 tasks      | elapsed:   10.5s\n"
     ]
    },
    {
     "name": "stdout",
     "output_type": "stream",
     "text": [
      "LGBMClassifier(bootstrap=False, max_depth=10, max_features='auto',\n",
      "               min_samples_leaf=8, min_samples_split=4)\n"
     ]
    },
    {
     "name": "stderr",
     "output_type": "stream",
     "text": [
      "[Parallel(n_jobs=-1)]: Done 300 out of 300 | elapsed:   22.5s finished\n"
     ]
    }
   ],
   "source": [
    "# Use the random grid to search for best hyperparameters\n",
    "# First create the base model to tune\n",
    "\n",
    "lg_cl = LGBMClassifier()\n",
    "\n",
    "# Random search of parameters, using 3 fold cross validation, \n",
    "# search across 100 different combinations, and use all available cores\n",
    "\n",
    "lg_random = RandomizedSearchCV(estimator = lg_cl, param_distributions = random_grid, n_iter = 100, cv = 3, verbose=2, n_jobs = -1)\n",
    "\n",
    "# Fit the random search model\n",
    "\n",
    "lg_random.fit(X_train, y_train)\n",
    "print(lg_random.best_estimator_)"
   ]
  },
  {
   "cell_type": "code",
   "execution_count": 116,
   "metadata": {},
   "outputs": [
    {
     "data": {
      "text/plain": [
       "LGBMClassifier(bootstrap=False, max_depth=10, max_features='auto',\n",
       "               min_samples_leaf=8, min_samples_split=4)"
      ]
     },
     "execution_count": 116,
     "metadata": {},
     "output_type": "execute_result"
    }
   ],
   "source": [
    "lg_random.best_estimator_"
   ]
  },
  {
   "cell_type": "code",
   "execution_count": 81,
   "metadata": {},
   "outputs": [],
   "source": [
    "lgb_random_best = LGBMClassifier(bootstrap=False, max_depth=10, max_features='auto',\n",
    "               min_samples_leaf=8, min_samples_split=4)"
   ]
  },
  {
   "cell_type": "code",
   "execution_count": 82,
   "metadata": {},
   "outputs": [
    {
     "data": {
      "text/plain": [
       "LGBMClassifier(bootstrap=False, max_depth=10, max_features='auto',\n",
       "               min_samples_leaf=3, min_samples_split=4)"
      ]
     },
     "execution_count": 82,
     "metadata": {},
     "output_type": "execute_result"
    }
   ],
   "source": [
    "lgb_random_best.fit(X_train, y_train)"
   ]
  },
  {
   "cell_type": "code",
   "execution_count": 83,
   "metadata": {},
   "outputs": [
    {
     "name": "stdout",
     "output_type": "stream",
     "text": [
      "pred_proba()결과 Shape : (154, 2)\n",
      "pred_proba array에서 앞 3개만 샘플로 추출 \n",
      ": [[9.99818125e-01 1.81875068e-04]\n",
      " [1.68167556e-02 9.83183244e-01]\n",
      " [9.07783530e-01 9.22164697e-02]]\n",
      "두개의 class 중에서 더 큰 확률을 클래스 값으로 예측 \n",
      " [[9.99818125e-01 1.81875068e-04 9.99818125e-01 1.81875068e-04]\n",
      " [1.68167556e-02 9.83183244e-01 1.68167556e-02 9.83183244e-01]\n",
      " [9.07783530e-01 9.22164697e-02 9.07783530e-01 9.22164697e-02]]\n"
     ]
    }
   ],
   "source": [
    "# 적절한 임계값 찾기\n",
    "\n",
    "pred_proba = lgb_random_best.predict_proba(X_test)\n",
    "pred  = lgb_random_best.predict_proba(X_test)\n",
    "print('pred_proba()결과 Shape : {0}'.format(pred_proba.shape))\n",
    "print('pred_proba array에서 앞 3개만 샘플로 추출 \\n:', pred_proba[:3])\n",
    "\n",
    "# 예측 확률 array 와 예측 결과값 array 를 concatenate 하여 예측 확률과 결과값을 한눈에 확인\n",
    "pred_proba_result = np.concatenate([pred_proba , pred.reshape(-1,2)],axis=1)\n",
    "print('두개의 class 중에서 더 큰 확률을 클래스 값으로 예측 \\n',pred_proba_result[:3])\n"
   ]
  },
  {
   "cell_type": "code",
   "execution_count": 84,
   "metadata": {},
   "outputs": [
    {
     "name": "stdout",
     "output_type": "stream",
     "text": [
      "오차 행렬\n",
      "[[88 12]\n",
      " [21 33]]\n",
      "정확도: 0.7857, 정밀도: 0.7333, 재현율: 0.6111, F1_score:  0.611111\n"
     ]
    }
   ],
   "source": [
    "## 2\n",
    "\n",
    "from sklearn.preprocessing import Binarizer\n",
    "\n",
    "#Binarizer의 threshold 설정값. 분류 결정 임곗값임.  \n",
    "custom_threshold = 0.5\n",
    "\n",
    "# predict_proba( ) 반환값의 두번째 컬럼 , 즉 Positive 클래스 컬럼 하나만 추출하여 Binarizer를 적용\n",
    "pred_proba_1 = pred_proba[:,1].reshape(-1,1)\n",
    "\n",
    "binarizer = Binarizer(threshold=custom_threshold).fit(pred_proba_1) \n",
    "custom_predict = binarizer.transform(pred_proba_1)\n",
    "\n",
    "get_clf_eval(y_test, custom_predict)"
   ]
  },
  {
   "cell_type": "code",
   "execution_count": 85,
   "metadata": {
    "scrolled": true
   },
   "outputs": [],
   "source": [
    "from sklearn.metrics import precision_recall_curve\n",
    "\n",
    "# 레이블 값이 1일때의 예측 확률을 추출 \n",
    "pred_proba_class1 = lgb_random_best.predict_proba(X_test)[:, 1]"
   ]
  },
  {
   "cell_type": "code",
   "execution_count": 86,
   "metadata": {},
   "outputs": [
    {
     "data": {
      "image/png": "[encoded data removed]",
      "text/plain": [
       "<Figure size 576x432 with 1 Axes>"
      ]
     },
     "metadata": {
      "needs_background": "light"
     },
     "output_type": "display_data"
    }
   ],
   "source": [
    "# 임계점 시각화\n",
    "\n",
    "import matplotlib.pyplot as plt\n",
    "import matplotlib.ticker as ticker\n",
    "%matplotlib inline\n",
    "\n",
    "def precision_recall_curve_plot(y_test, pred_proba_c1):\n",
    "    # threshold ndarray와 이 threshold에 따른 정밀도, 재현율 ndarray 추출. \n",
    "    precisions, recalls, thresholds = precision_recall_curve( y_test, pred_proba_c1)\n",
    "    \n",
    "    # X축을 threshold값으로, Y축은 정밀도, 재현율 값으로 각각 Plot 수행. 정밀도는 점선으로 표시\n",
    "    plt.figure(figsize=(8,6))\n",
    "    threshold_boundary = thresholds.shape[0]\n",
    "    plt.plot(thresholds, precisions[0:threshold_boundary], linestyle='--', label='precision')\n",
    "    plt.plot(thresholds, recalls[0:threshold_boundary],label='recall')\n",
    "    \n",
    "    # threshold 값 X 축의 Scale을 0.1 단위로 변경\n",
    "    start, end = plt.xlim()\n",
    "    plt.xticks(np.round(np.arange(start, end, 0.1),2))\n",
    "    \n",
    "    # x축, y축 label과 legend, 그리고 grid 설정\n",
    "    plt.xlabel('Threshold value'); plt.ylabel('Precision and Recall value')\n",
    "    plt.legend(); plt.grid()\n",
    "    plt.show()\n",
    "    \n",
    "precision_recall_curve_plot(y_test, lgb_random_best.predict_proba(X_test)[:, 1]) ##\n"
   ]
  },
  {
   "cell_type": "code",
   "execution_count": 87,
   "metadata": {},
   "outputs": [
    {
     "data": {
      "text/plain": [
       "(0.283, 0.7018)"
      ]
     },
     "execution_count": 87,
     "metadata": {},
     "output_type": "execute_result"
    }
   ],
   "source": [
    "# F1_score가 최대인 임계값 찾기\n",
    "\n",
    "def Find_threshold(model, X_test, y_test):\n",
    "    thresholds = np.arange(0,1,0.001)\n",
    "    threshold_count = []\n",
    "    pred_proba=model.predict_proba(X_test)\n",
    "    pred_proba_1 = pred_proba[:,1].reshape(-1,1)\n",
    "    for threshold in thresholds:\n",
    "        binarizer = Binarizer(threshold=threshold)\n",
    "        model_cl_pred = binarizer.transform(pred_proba_1)\n",
    "        threshold_count.append([threshold, metrics.f1_score(model_cl_pred, y_test)])\n",
    "\n",
    "    MAX=thresholds[np.array(threshold_count)[:,1].argmax()]\n",
    "    \n",
    "    thresholds = np.arange(MAX-0.05,MAX+0.05,0.005)\n",
    "    threshold_count = []\n",
    "    for threshold in thresholds:\n",
    "        binarizer = Binarizer(threshold=threshold)\n",
    "        model_cl_pred = binarizer.transform(pred_proba_1)\n",
    "        #threshold_count.append([threshold, metrics.f1_score(log_cl_pred, y_test)])\n",
    "        #print('threshold: {0:.4f}, f1_score: {1:.4f}'.format(threshold,metrics.f1_score(model_cl_pred, y_test)))\n",
    "        threshold_count.append([threshold, metrics.f1_score(model_cl_pred, y_test)])\n",
    "    \n",
    "    return np.round(thresholds[np.array(threshold_count)[:,1].argmax()],4), np.round(metrics.f1_score(Binarizer(threshold=thresholds[np.array(threshold_count)[:,1].argmax()]).transform(pred_proba_1), y_test),4)\n",
    "\n",
    "Find_threshold(lgb_random_best, X_test, y_test)"
   ]
  },
  {
   "cell_type": "code",
   "execution_count": 117,
   "metadata": {},
   "outputs": [
    {
     "name": "stdout",
     "output_type": "stream",
     "text": [
      "오차 행렬\n",
      "[[76 24]\n",
      " [13 41]]\n",
      "정확도: 0.7597, 정밀도: 0.6308, 재현율: 0.7593, F1_score:  0.759259\n"
     ]
    }
   ],
   "source": [
    "# Binarizer의 베스트 threshold 설정값 지정 \n",
    "\n",
    "custom_threshold = 0.283\n",
    "pred_proba_1 = pred_proba[:,1].reshape(-1,1)\n",
    "binarizer = Binarizer(threshold=custom_threshold).fit(pred_proba_1) \n",
    "custom_predict = binarizer.transform(pred_proba_1)\n",
    "\n",
    "get_clf_eval(y_test , custom_predict)"
   ]
  },
  {
   "cell_type": "markdown",
   "metadata": {},
   "source": [
    "## 4-3. BaysianOptimization"
   ]
  },
  {
   "cell_type": "code",
   "execution_count": 89,
   "metadata": {},
   "outputs": [],
   "source": [
    "bayes_params = {\n",
    "    'num_leaves': (8, 60),\n",
    "    'colsample_bytree':(0.5, 1), \n",
    "    'subsample': (0.5, 1),\n",
    "    'max_depth': (4, 24),\n",
    "    'reg_alpha': (0, 0.5),\n",
    "    'reg_lambda': (0, 0.5), \n",
    "    'min_split_gain': (0.001, 0.1),\n",
    "    'min_child_weight':(5, 50)\n",
    "}"
   ]
  },
  {
   "cell_type": "code",
   "execution_count": 90,
   "metadata": {},
   "outputs": [],
   "source": [
    "from lightgbm import LGBMClassifier\n",
    "from sklearn.metrics import roc_auc_score\n",
    "\n",
    "def lgb_roc_eval(num_leaves, colsample_bytree, subsample, max_depth, reg_alpha, reg_lambda, min_split_gain, min_child_weight):\n",
    "    \n",
    "    params = {\n",
    "        \"n_estimator\":200,\n",
    "        \"learning_rate\":0.02,\n",
    "        'num_leaves': int(round(num_leaves)),\n",
    "        'colsample_bytree': colsample_bytree, \n",
    "        'subsample': subsample,\n",
    "        'max_depth': int(round(max_depth)),\n",
    "        'reg_alpha': reg_alpha,\n",
    "        'reg_lambda': reg_lambda, \n",
    "        'min_split_gain': min_split_gain,\n",
    "        'min_child_weight': min_child_weight,\n",
    "        'verbosity': -1\n",
    "    }\n",
    "    print(\"params:\", params)\n",
    "    lgb_model = LGBMClassifier(**params)\n",
    "    lgb_model.fit(X_train, y_train, eval_set=[(X_test, y_test)], early_stopping_rounds=30, eval_metric=\"auc\", verbose=100 )\n",
    "    best_iter = lgb_model.best_iteration_\n",
    "    print('best_iter:', best_iter)\n",
    "    valid_proba = lgb_model.predict_proba(X_test, num_iteration=best_iter)[:, 1]\n",
    "    roc_preds = roc_auc_score(y_test, valid_proba)\n",
    "    print('roc_auc:', roc_preds)\n",
    "    return roc_preds\n",
    "    \n",
    "    "
   ]
  },
  {
   "cell_type": "code",
   "execution_count": 91,
   "metadata": {},
   "outputs": [],
   "source": [
    "from bayes_opt import BayesianOptimization\n",
    "\n",
    "BO_lgb = BayesianOptimization(lgb_roc_eval, bayes_params, random_state=0)\n"
   ]
  },
  {
   "cell_type": "code",
   "execution_count": 92,
   "metadata": {},
   "outputs": [
    {
     "name": "stdout",
     "output_type": "stream",
     "text": [
      "|   iter    |  target   | colsam... | max_depth | min_ch... | min_sp... | num_le... | reg_alpha | reg_la... | subsample |\n",
      "-------------------------------------------------------------------------------------------------------------------------\n",
      "params: {'n_estimator': 200, 'learning_rate': 0.02, 'num_leaves': 30, 'colsample_bytree': 0.7744067519636624, 'subsample': 0.9458865003910399, 'max_depth': 18, 'reg_alpha': 0.32294705653332806, 'reg_lambda': 0.21879360563134626, 'min_split_gain': 0.05494343511669279, 'min_child_weight': 32.12435192322397, 'verbosity': -1}\n",
      "Training until validation scores don't improve for 30 rounds\n",
      "Early stopping, best iteration is:\n",
      "[22]\tvalid_0's auc: 0.80463\tvalid_0's binary_logloss: 0.588141\n",
      "best_iter: 22\n",
      "roc_auc: 0.8046296296296296\n",
      "| \u001b[0m 1       \u001b[0m | \u001b[0m 0.8046  \u001b[0m | \u001b[0m 0.7744  \u001b[0m | \u001b[0m 18.3    \u001b[0m | \u001b[0m 32.12   \u001b[0m | \u001b[0m 0.05494 \u001b[0m | \u001b[0m 30.03   \u001b[0m | \u001b[0m 0.3229  \u001b[0m | \u001b[0m 0.2188  \u001b[0m | \u001b[0m 0.9459  \u001b[0m |\n",
      "params: {'n_estimator': 200, 'learning_rate': 0.02, 'num_leaves': 38, 'colsample_bytree': 0.9818313802505146, 'subsample': 0.5435646498507704, 'max_depth': 12, 'reg_alpha': 0.4627983191463305, 'reg_lambda': 0.03551802909894347, 'min_split_gain': 0.05336059705553755, 'min_child_weight': 40.627626713719906, 'verbosity': -1}\n",
      "Training until validation scores don't improve for 30 rounds\n",
      "[100]\tvalid_0's auc: 0.811389\tvalid_0's binary_logloss: 0.515965\n",
      "Did not meet early stopping. Best iteration is:\n",
      "[85]\tvalid_0's auc: 0.811759\tvalid_0's binary_logloss: 0.520517\n",
      "best_iter: 85\n",
      "roc_auc: 0.8117592592592593\n",
      "| \u001b[95m 2       \u001b[0m | \u001b[95m 0.8118  \u001b[0m | \u001b[95m 0.9818  \u001b[0m | \u001b[95m 11.67   \u001b[0m | \u001b[95m 40.63   \u001b[0m | \u001b[95m 0.05336 \u001b[0m | \u001b[95m 37.54   \u001b[0m | \u001b[95m 0.4628  \u001b[0m | \u001b[95m 0.03552 \u001b[0m | \u001b[95m 0.5436  \u001b[0m |\n",
      "params: {'n_estimator': 200, 'learning_rate': 0.02, 'num_leaves': 59, 'colsample_bytree': 0.5101091987201629, 'subsample': 0.8902645881432277, 'max_depth': 21, 'reg_alpha': 0.3995792821083618, 'reg_lambda': 0.23073968112646592, 'min_split_gain': 0.08713120267643511, 'min_child_weight': 40.01705379274327, 'verbosity': -1}\n",
      "Training until validation scores don't improve for 30 rounds\n",
      "[100]\tvalid_0's auc: 0.804259\tvalid_0's binary_logloss: 0.522785\n",
      "Did not meet early stopping. Best iteration is:\n",
      "[99]\tvalid_0's auc: 0.804815\tvalid_0's binary_logloss: 0.523079\n",
      "best_iter: 99\n",
      "roc_auc: 0.8048148148148149\n",
      "| \u001b[0m 3       \u001b[0m | \u001b[0m 0.8048  \u001b[0m | \u001b[0m 0.5101  \u001b[0m | \u001b[0m 20.65   \u001b[0m | \u001b[0m 40.02   \u001b[0m | \u001b[0m 0.08713 \u001b[0m | \u001b[0m 58.89   \u001b[0m | \u001b[0m 0.3996  \u001b[0m | \u001b[0m 0.2307  \u001b[0m | \u001b[0m 0.8903  \u001b[0m |\n",
      "params: {'n_estimator': 200, 'learning_rate': 0.02, 'num_leaves': 35, 'colsample_bytree': 0.5591372129344666, 'subsample': 0.8871168447171083, 'max_depth': 17, 'reg_alpha': 0.2073309699952618, 'reg_lambda': 0.13227780605231348, 'min_split_gain': 0.09452222278790881, 'min_child_weight': 11.450897933407088, 'verbosity': -1}\n",
      "Training until validation scores don't improve for 30 rounds\n",
      "[100]\tvalid_0's auc: 0.855741\tvalid_0's binary_logloss: 0.463185\n",
      "Did not meet early stopping. Best iteration is:\n",
      "[100]\tvalid_0's auc: 0.855741\tvalid_0's binary_logloss: 0.463185\n",
      "best_iter: 100\n",
      "roc_auc: 0.8557407407407408\n",
      "| \u001b[95m 4       \u001b[0m | \u001b[95m 0.8557  \u001b[0m | \u001b[95m 0.5591  \u001b[0m | \u001b[95m 16.8    \u001b[0m | \u001b[95m 11.45   \u001b[0m | \u001b[95m 0.09452 \u001b[0m | \u001b[95m 35.14   \u001b[0m | \u001b[95m 0.2073  \u001b[0m | \u001b[95m 0.1323  \u001b[0m | \u001b[95m 0.8871  \u001b[0m |\n",
      "params: {'n_estimator': 200, 'learning_rate': 0.02, 'num_leaves': 40, 'colsample_bytree': 0.7280751661082743, 'subsample': 0.8409101495517417, 'max_depth': 15, 'reg_alpha': 0.30846699843737846, 'reg_lambda': 0.4718740392573121, 'min_split_gain': 0.062145914210511834, 'min_child_weight': 5.845541019635982, 'verbosity': -1}\n",
      "Training until validation scores don't improve for 30 rounds\n",
      "Early stopping, best iteration is:\n",
      "[9]\tvalid_0's auc: 0.861111\tvalid_0's binary_logloss: 0.602881\n",
      "best_iter: 9\n",
      "roc_auc: 0.8611111111111112\n",
      "| \u001b[95m 5       \u001b[0m | \u001b[95m 0.8611  \u001b[0m | \u001b[95m 0.7281  \u001b[0m | \u001b[95m 15.37   \u001b[0m | \u001b[95m 5.846   \u001b[0m | \u001b[95m 0.06215 \u001b[0m | \u001b[95m 39.83   \u001b[0m | \u001b[95m 0.3085  \u001b[0m | \u001b[95m 0.4719  \u001b[0m | \u001b[95m 0.8409  \u001b[0m |\n",
      "params: {'n_estimator': 200, 'learning_rate': 0.02, 'num_leaves': 25, 'colsample_bytree': 1.0, 'subsample': 0.5, 'max_depth': 4, 'reg_alpha': 0.0, 'reg_lambda': 0.5, 'min_split_gain': 0.05925299900442322, 'min_child_weight': 5.0, 'verbosity': -1}\n",
      "Training until validation scores don't improve for 30 rounds\n",
      "[100]\tvalid_0's auc: 0.877963\tvalid_0's binary_logloss: 0.434834\n",
      "Did not meet early stopping. Best iteration is:\n",
      "[91]\tvalid_0's auc: 0.880556\tvalid_0's binary_logloss: 0.438296\n",
      "best_iter: 91\n",
      "roc_auc: 0.8805555555555556\n",
      "| \u001b[95m 6       \u001b[0m | \u001b[95m 0.8806  \u001b[0m | \u001b[95m 1.0     \u001b[0m | \u001b[95m 4.0     \u001b[0m | \u001b[95m 5.0     \u001b[0m | \u001b[95m 0.05925 \u001b[0m | \u001b[95m 24.52   \u001b[0m | \u001b[95m 0.0     \u001b[0m | \u001b[95m 0.5     \u001b[0m | \u001b[95m 0.5     \u001b[0m |\n",
      "params: {'n_estimator': 200, 'learning_rate': 0.02, 'num_leaves': 8, 'colsample_bytree': 0.5, 'subsample': 1.0, 'max_depth': 16, 'reg_alpha': 0.5, 'reg_lambda': 0.0, 'min_split_gain': 0.1, 'min_child_weight': 5.0, 'verbosity': -1}\n",
      "Training until validation scores don't improve for 30 rounds\n",
      "[100]\tvalid_0's auc: 0.855741\tvalid_0's binary_logloss: 0.466546\n",
      "Did not meet early stopping. Best iteration is:\n",
      "[91]\tvalid_0's auc: 0.857315\tvalid_0's binary_logloss: 0.4714\n",
      "best_iter: 91\n",
      "roc_auc: 0.8573148148148148\n",
      "| \u001b[0m 7       \u001b[0m | \u001b[0m 0.8573  \u001b[0m | \u001b[0m 0.5     \u001b[0m | \u001b[0m 16.32   \u001b[0m | \u001b[0m 5.0     \u001b[0m | \u001b[0m 0.1     \u001b[0m | \u001b[0m 8.0     \u001b[0m | \u001b[0m 0.5     \u001b[0m | \u001b[0m 0.0     \u001b[0m | \u001b[0m 1.0     \u001b[0m |\n",
      "params: {'n_estimator': 200, 'learning_rate': 0.02, 'num_leaves': 60, 'colsample_bytree': 1.0, 'subsample': 0.5, 'max_depth': 4, 'reg_alpha': 0.0, 'reg_lambda': 0.0, 'min_split_gain': 0.001, 'min_child_weight': 5.0, 'verbosity': -1}\n",
      "Training until validation scores don't improve for 30 rounds\n",
      "Early stopping, best iteration is:\n",
      "[7]\tvalid_0's auc: 0.873333\tvalid_0's binary_logloss: 0.604254\n",
      "best_iter: 7\n",
      "roc_auc: 0.8733333333333334\n",
      "| \u001b[0m 8       \u001b[0m | \u001b[0m 0.8733  \u001b[0m | \u001b[0m 1.0     \u001b[0m | \u001b[0m 4.0     \u001b[0m | \u001b[0m 5.0     \u001b[0m | \u001b[0m 0.001   \u001b[0m | \u001b[0m 60.0    \u001b[0m | \u001b[0m 0.0     \u001b[0m | \u001b[0m 0.0     \u001b[0m | \u001b[0m 0.5     \u001b[0m |\n",
      "params: {'n_estimator': 200, 'learning_rate': 0.02, 'num_leaves': 40, 'colsample_bytree': 1.0, 'subsample': 1.0, 'max_depth': 4, 'reg_alpha': 0.5, 'reg_lambda': 0.0, 'min_split_gain': 0.001, 'min_child_weight': 5.0, 'verbosity': -1}\n",
      "Training until validation scores don't improve for 30 rounds\n",
      "Early stopping, best iteration is:\n",
      "[17]\tvalid_0's auc: 0.871667\tvalid_0's binary_logloss: 0.561322\n",
      "best_iter: 17\n",
      "roc_auc: 0.8716666666666667\n",
      "| \u001b[0m 9       \u001b[0m | \u001b[0m 0.8717  \u001b[0m | \u001b[0m 1.0     \u001b[0m | \u001b[0m 4.0     \u001b[0m | \u001b[0m 5.0     \u001b[0m | \u001b[0m 0.001   \u001b[0m | \u001b[0m 40.13   \u001b[0m | \u001b[0m 0.5     \u001b[0m | \u001b[0m 0.0     \u001b[0m | \u001b[0m 1.0     \u001b[0m |\n",
      "params: {'n_estimator': 200, 'learning_rate': 0.02, 'num_leaves': 24, 'colsample_bytree': 0.8006294789770054, 'subsample': 0.7010447471095265, 'max_depth': 4, 'reg_alpha': 0.26825852712983705, 'reg_lambda': 0.1588406007519132, 'min_split_gain': 0.01941133864976564, 'min_child_weight': 6.68470268050871, 'verbosity': -1}\n",
      "Training until validation scores don't improve for 30 rounds\n",
      "[100]\tvalid_0's auc: 0.867778\tvalid_0's binary_logloss: 0.452201\n",
      "Did not meet early stopping. Best iteration is:\n",
      "[100]\tvalid_0's auc: 0.867778\tvalid_0's binary_logloss: 0.452201\n",
      "best_iter: 100\n",
      "roc_auc: 0.8677777777777779\n",
      "| \u001b[0m 10      \u001b[0m | \u001b[0m 0.8678  \u001b[0m | \u001b[0m 0.8006  \u001b[0m | \u001b[0m 4.347   \u001b[0m | \u001b[0m 6.685   \u001b[0m | \u001b[0m 0.01941 \u001b[0m | \u001b[0m 23.54   \u001b[0m | \u001b[0m 0.2683  \u001b[0m | \u001b[0m 0.1588  \u001b[0m | \u001b[0m 0.701   \u001b[0m |\n",
      "params: {'n_estimator': 200, 'learning_rate': 0.02, 'num_leaves': 59, 'colsample_bytree': 0.5643418495868942, 'subsample': 0.7536129473175723, 'max_depth': 20, 'reg_alpha': 0.23129628408669878, 'reg_lambda': 0.4297011067681556, 'min_split_gain': 0.024949713016588253, 'min_child_weight': 5.853296442088519, 'verbosity': -1}\n",
      "Training until validation scores don't improve for 30 rounds\n",
      "Early stopping, best iteration is:\n",
      "[6]\tvalid_0's auc: 0.861296\tvalid_0's binary_logloss: 0.617928\n",
      "best_iter: 6\n",
      "roc_auc: 0.8612962962962962\n",
      "| \u001b[0m 11      \u001b[0m | \u001b[0m 0.8613  \u001b[0m | \u001b[0m 0.5643  \u001b[0m | \u001b[0m 19.89   \u001b[0m | \u001b[0m 5.853   \u001b[0m | \u001b[0m 0.02495 \u001b[0m | \u001b[0m 59.31   \u001b[0m | \u001b[0m 0.2313  \u001b[0m | \u001b[0m 0.4297  \u001b[0m | \u001b[0m 0.7536  \u001b[0m |\n"
     ]
    },
    {
     "name": "stdout",
     "output_type": "stream",
     "text": [
      "params: {'n_estimator': 200, 'learning_rate': 0.02, 'num_leaves': 60, 'colsample_bytree': 1.0, 'subsample': 0.5, 'max_depth': 4, 'reg_alpha': 0.0, 'reg_lambda': 0.5, 'min_split_gain': 0.1, 'min_child_weight': 18.44180096443114, 'verbosity': -1}\n",
      "Training until validation scores don't improve for 30 rounds\n",
      "[100]\tvalid_0's auc: 0.855833\tvalid_0's binary_logloss: 0.462292\n",
      "Did not meet early stopping. Best iteration is:\n",
      "[80]\tvalid_0's auc: 0.857315\tvalid_0's binary_logloss: 0.474211\n",
      "best_iter: 80\n",
      "roc_auc: 0.8573148148148148\n",
      "| \u001b[0m 12      \u001b[0m | \u001b[0m 0.8573  \u001b[0m | \u001b[0m 1.0     \u001b[0m | \u001b[0m 4.0     \u001b[0m | \u001b[0m 18.44   \u001b[0m | \u001b[0m 0.1     \u001b[0m | \u001b[0m 60.0    \u001b[0m | \u001b[0m 0.0     \u001b[0m | \u001b[0m 0.5     \u001b[0m | \u001b[0m 0.5     \u001b[0m |\n",
      "params: {'n_estimator': 200, 'learning_rate': 0.02, 'num_leaves': 23, 'colsample_bytree': 1.0, 'subsample': 0.5, 'max_depth': 24, 'reg_alpha': 0.0, 'reg_lambda': 0.5, 'min_split_gain': 0.1, 'min_child_weight': 5.0, 'verbosity': -1}\n",
      "Training until validation scores don't improve for 30 rounds\n",
      "Early stopping, best iteration is:\n",
      "[13]\tvalid_0's auc: 0.883611\tvalid_0's binary_logloss: 0.568677\n",
      "best_iter: 13\n",
      "roc_auc: 0.8836111111111111\n",
      "| \u001b[95m 13      \u001b[0m | \u001b[95m 0.8836  \u001b[0m | \u001b[95m 1.0     \u001b[0m | \u001b[95m 24.0    \u001b[0m | \u001b[95m 5.0     \u001b[0m | \u001b[95m 0.1     \u001b[0m | \u001b[95m 23.42   \u001b[0m | \u001b[95m 0.0     \u001b[0m | \u001b[95m 0.5     \u001b[0m | \u001b[95m 0.5     \u001b[0m |\n",
      "params: {'n_estimator': 200, 'learning_rate': 0.02, 'num_leaves': 8, 'colsample_bytree': 1.0, 'subsample': 0.5, 'max_depth': 4, 'reg_alpha': 0.0, 'reg_lambda': 0.5, 'min_split_gain': 0.1, 'min_child_weight': 50.0, 'verbosity': -1}\n",
      "Training until validation scores don't improve for 30 rounds\n",
      "[100]\tvalid_0's auc: 0.794907\tvalid_0's binary_logloss: 0.534262\n",
      "Did not meet early stopping. Best iteration is:\n",
      "[81]\tvalid_0's auc: 0.798241\tvalid_0's binary_logloss: 0.543672\n",
      "best_iter: 81\n",
      "roc_auc: 0.7982407407407407\n",
      "| \u001b[0m 14      \u001b[0m | \u001b[0m 0.7982  \u001b[0m | \u001b[0m 1.0     \u001b[0m | \u001b[0m 4.0     \u001b[0m | \u001b[0m 50.0    \u001b[0m | \u001b[0m 0.1     \u001b[0m | \u001b[0m 8.0     \u001b[0m | \u001b[0m 0.0     \u001b[0m | \u001b[0m 0.5     \u001b[0m | \u001b[0m 0.5     \u001b[0m |\n",
      "params: {'n_estimator': 200, 'learning_rate': 0.02, 'num_leaves': 27, 'colsample_bytree': 1.0, 'subsample': 0.5, 'max_depth': 14, 'reg_alpha': 0.0, 'reg_lambda': 0.5, 'min_split_gain': 0.1, 'min_child_weight': 5.0, 'verbosity': -1}\n",
      "Training until validation scores don't improve for 30 rounds\n",
      "Early stopping, best iteration is:\n",
      "[13]\tvalid_0's auc: 0.883611\tvalid_0's binary_logloss: 0.568677\n",
      "best_iter: 13\n",
      "roc_auc: 0.8836111111111111\n",
      "| \u001b[0m 15      \u001b[0m | \u001b[0m 0.8836  \u001b[0m | \u001b[0m 1.0     \u001b[0m | \u001b[0m 14.01   \u001b[0m | \u001b[0m 5.0     \u001b[0m | \u001b[0m 0.1     \u001b[0m | \u001b[0m 26.82   \u001b[0m | \u001b[0m 0.0     \u001b[0m | \u001b[0m 0.5     \u001b[0m | \u001b[0m 0.5     \u001b[0m |\n",
      "=========================================================================================================================\n"
     ]
    }
   ],
   "source": [
    "BO_lgb.maximize(init_points=5, n_iter=10)"
   ]
  },
  {
   "cell_type": "code",
   "execution_count": 93,
   "metadata": {},
   "outputs": [
    {
     "data": {
      "text/plain": [
       "{'target': 0.8836111111111111,\n",
       " 'params': {'colsample_bytree': 1.0,\n",
       "  'max_depth': 24.0,\n",
       "  'min_child_weight': 5.0,\n",
       "  'min_split_gain': 0.1,\n",
       "  'num_leaves': 23.41937348050846,\n",
       "  'reg_alpha': 0.0,\n",
       "  'reg_lambda': 0.5,\n",
       "  'subsample': 0.5}}"
      ]
     },
     "execution_count": 93,
     "metadata": {},
     "output_type": "execute_result"
    }
   ],
   "source": [
    "BO_lgb.max"
   ]
  },
  {
   "cell_type": "code",
   "execution_count": 94,
   "metadata": {
    "scrolled": true
   },
   "outputs": [
    {
     "name": "stdout",
     "output_type": "stream",
     "text": [
      "[1]\tvalid_0's auc: 0.85463\tvalid_0's binary_logloss: 0.640167\n",
      "Training until validation scores don't improve for 100 rounds\n",
      "[2]\tvalid_0's auc: 0.858333\tvalid_0's binary_logloss: 0.632729\n",
      "[3]\tvalid_0's auc: 0.861019\tvalid_0's binary_logloss: 0.625506\n",
      "[4]\tvalid_0's auc: 0.871481\tvalid_0's binary_logloss: 0.618202\n",
      "[5]\tvalid_0's auc: 0.870648\tvalid_0's binary_logloss: 0.611627\n",
      "[6]\tvalid_0's auc: 0.871204\tvalid_0's binary_logloss: 0.605466\n",
      "[7]\tvalid_0's auc: 0.876759\tvalid_0's binary_logloss: 0.598954\n",
      "[8]\tvalid_0's auc: 0.875278\tvalid_0's binary_logloss: 0.593264\n",
      "[9]\tvalid_0's auc: 0.876944\tvalid_0's binary_logloss: 0.587621\n",
      "[10]\tvalid_0's auc: 0.876667\tvalid_0's binary_logloss: 0.58272\n",
      "[11]\tvalid_0's auc: 0.876667\tvalid_0's binary_logloss: 0.577872\n",
      "[12]\tvalid_0's auc: 0.881944\tvalid_0's binary_logloss: 0.573264\n",
      "[13]\tvalid_0's auc: 0.883611\tvalid_0's binary_logloss: 0.568677\n",
      "[14]\tvalid_0's auc: 0.883056\tvalid_0's binary_logloss: 0.564156\n",
      "[15]\tvalid_0's auc: 0.88287\tvalid_0's binary_logloss: 0.559842\n",
      "[16]\tvalid_0's auc: 0.882778\tvalid_0's binary_logloss: 0.555418\n",
      "[17]\tvalid_0's auc: 0.883333\tvalid_0's binary_logloss: 0.5506\n",
      "[18]\tvalid_0's auc: 0.882037\tvalid_0's binary_logloss: 0.54667\n",
      "[19]\tvalid_0's auc: 0.882593\tvalid_0's binary_logloss: 0.542865\n",
      "[20]\tvalid_0's auc: 0.88213\tvalid_0's binary_logloss: 0.539289\n",
      "[21]\tvalid_0's auc: 0.88213\tvalid_0's binary_logloss: 0.535735\n",
      "[22]\tvalid_0's auc: 0.880833\tvalid_0's binary_logloss: 0.532352\n",
      "[23]\tvalid_0's auc: 0.881574\tvalid_0's binary_logloss: 0.529153\n",
      "[24]\tvalid_0's auc: 0.879537\tvalid_0's binary_logloss: 0.526021\n",
      "[25]\tvalid_0's auc: 0.88\tvalid_0's binary_logloss: 0.52247\n",
      "[26]\tvalid_0's auc: 0.88037\tvalid_0's binary_logloss: 0.519562\n",
      "[27]\tvalid_0's auc: 0.881296\tvalid_0's binary_logloss: 0.516314\n",
      "[28]\tvalid_0's auc: 0.881574\tvalid_0's binary_logloss: 0.513751\n",
      "[29]\tvalid_0's auc: 0.883241\tvalid_0's binary_logloss: 0.510582\n",
      "[30]\tvalid_0's auc: 0.883056\tvalid_0's binary_logloss: 0.50851\n",
      "[31]\tvalid_0's auc: 0.880278\tvalid_0's binary_logloss: 0.506037\n",
      "[32]\tvalid_0's auc: 0.881759\tvalid_0's binary_logloss: 0.503829\n",
      "[33]\tvalid_0's auc: 0.879537\tvalid_0's binary_logloss: 0.501477\n",
      "[34]\tvalid_0's auc: 0.877315\tvalid_0's binary_logloss: 0.499529\n",
      "[35]\tvalid_0's auc: 0.877778\tvalid_0's binary_logloss: 0.497177\n",
      "[36]\tvalid_0's auc: 0.877963\tvalid_0's binary_logloss: 0.494912\n",
      "[37]\tvalid_0's auc: 0.876111\tvalid_0's binary_logloss: 0.492601\n",
      "[38]\tvalid_0's auc: 0.878148\tvalid_0's binary_logloss: 0.490317\n",
      "[39]\tvalid_0's auc: 0.878148\tvalid_0's binary_logloss: 0.488198\n",
      "[40]\tvalid_0's auc: 0.878889\tvalid_0's binary_logloss: 0.486014\n",
      "[41]\tvalid_0's auc: 0.879259\tvalid_0's binary_logloss: 0.484261\n",
      "[42]\tvalid_0's auc: 0.877315\tvalid_0's binary_logloss: 0.482638\n",
      "[43]\tvalid_0's auc: 0.875833\tvalid_0's binary_logloss: 0.481088\n",
      "[44]\tvalid_0's auc: 0.877685\tvalid_0's binary_logloss: 0.479376\n",
      "[45]\tvalid_0's auc: 0.87713\tvalid_0's binary_logloss: 0.477916\n",
      "[46]\tvalid_0's auc: 0.8775\tvalid_0's binary_logloss: 0.476527\n",
      "[47]\tvalid_0's auc: 0.876944\tvalid_0's binary_logloss: 0.474579\n",
      "[48]\tvalid_0's auc: 0.879074\tvalid_0's binary_logloss: 0.473193\n",
      "[49]\tvalid_0's auc: 0.88\tvalid_0's binary_logloss: 0.471863\n",
      "[50]\tvalid_0's auc: 0.879444\tvalid_0's binary_logloss: 0.470585\n",
      "[51]\tvalid_0's auc: 0.879815\tvalid_0's binary_logloss: 0.469124\n",
      "[52]\tvalid_0's auc: 0.880926\tvalid_0's binary_logloss: 0.467983\n",
      "[53]\tvalid_0's auc: 0.881296\tvalid_0's binary_logloss: 0.466966\n",
      "[54]\tvalid_0's auc: 0.880926\tvalid_0's binary_logloss: 0.465476\n",
      "[55]\tvalid_0's auc: 0.88037\tvalid_0's binary_logloss: 0.464162\n",
      "[56]\tvalid_0's auc: 0.879815\tvalid_0's binary_logloss: 0.462709\n",
      "[57]\tvalid_0's auc: 0.87963\tvalid_0's binary_logloss: 0.461366\n",
      "[58]\tvalid_0's auc: 0.880556\tvalid_0's binary_logloss: 0.460077\n",
      "[59]\tvalid_0's auc: 0.88037\tvalid_0's binary_logloss: 0.45884\n",
      "[60]\tvalid_0's auc: 0.880556\tvalid_0's binary_logloss: 0.45772\n",
      "[61]\tvalid_0's auc: 0.879444\tvalid_0's binary_logloss: 0.456585\n",
      "[62]\tvalid_0's auc: 0.879815\tvalid_0's binary_logloss: 0.455437\n",
      "[63]\tvalid_0's auc: 0.879444\tvalid_0's binary_logloss: 0.454417\n",
      "[64]\tvalid_0's auc: 0.878519\tvalid_0's binary_logloss: 0.453382\n",
      "[65]\tvalid_0's auc: 0.879259\tvalid_0's binary_logloss: 0.452087\n",
      "[66]\tvalid_0's auc: 0.879074\tvalid_0's binary_logloss: 0.450852\n",
      "[67]\tvalid_0's auc: 0.879815\tvalid_0's binary_logloss: 0.450089\n",
      "[68]\tvalid_0's auc: 0.879815\tvalid_0's binary_logloss: 0.448907\n",
      "[69]\tvalid_0's auc: 0.879444\tvalid_0's binary_logloss: 0.448238\n",
      "[70]\tvalid_0's auc: 0.879074\tvalid_0's binary_logloss: 0.447614\n",
      "[71]\tvalid_0's auc: 0.878519\tvalid_0's binary_logloss: 0.446665\n",
      "[72]\tvalid_0's auc: 0.87963\tvalid_0's binary_logloss: 0.445414\n",
      "[73]\tvalid_0's auc: 0.879074\tvalid_0's binary_logloss: 0.444827\n",
      "[74]\tvalid_0's auc: 0.878333\tvalid_0's binary_logloss: 0.443967\n",
      "[75]\tvalid_0's auc: 0.879815\tvalid_0's binary_logloss: 0.443623\n",
      "[76]\tvalid_0's auc: 0.879259\tvalid_0's binary_logloss: 0.442946\n",
      "[77]\tvalid_0's auc: 0.879074\tvalid_0's binary_logloss: 0.441974\n",
      "[78]\tvalid_0's auc: 0.879259\tvalid_0's binary_logloss: 0.44094\n",
      "[79]\tvalid_0's auc: 0.88\tvalid_0's binary_logloss: 0.440305\n",
      "[80]\tvalid_0's auc: 0.88\tvalid_0's binary_logloss: 0.439257\n",
      "[81]\tvalid_0's auc: 0.879259\tvalid_0's binary_logloss: 0.43835\n",
      "[82]\tvalid_0's auc: 0.879259\tvalid_0's binary_logloss: 0.437767\n",
      "[83]\tvalid_0's auc: 0.879259\tvalid_0's binary_logloss: 0.437071\n",
      "[84]\tvalid_0's auc: 0.879259\tvalid_0's binary_logloss: 0.436518\n",
      "[85]\tvalid_0's auc: 0.879074\tvalid_0's binary_logloss: 0.436077\n",
      "[86]\tvalid_0's auc: 0.879074\tvalid_0's binary_logloss: 0.435722\n",
      "[87]\tvalid_0's auc: 0.878889\tvalid_0's binary_logloss: 0.434873\n",
      "[88]\tvalid_0's auc: 0.878704\tvalid_0's binary_logloss: 0.434308\n",
      "[89]\tvalid_0's auc: 0.879259\tvalid_0's binary_logloss: 0.433604\n",
      "[90]\tvalid_0's auc: 0.879444\tvalid_0's binary_logloss: 0.433016\n",
      "[91]\tvalid_0's auc: 0.880185\tvalid_0's binary_logloss: 0.432783\n",
      "[92]\tvalid_0's auc: 0.879074\tvalid_0's binary_logloss: 0.432444\n",
      "[93]\tvalid_0's auc: 0.878704\tvalid_0's binary_logloss: 0.432268\n",
      "[94]\tvalid_0's auc: 0.877778\tvalid_0's binary_logloss: 0.432118\n",
      "[95]\tvalid_0's auc: 0.877222\tvalid_0's binary_logloss: 0.431942\n",
      "[96]\tvalid_0's auc: 0.877407\tvalid_0's binary_logloss: 0.431582\n",
      "[97]\tvalid_0's auc: 0.876852\tvalid_0's binary_logloss: 0.431294\n",
      "[98]\tvalid_0's auc: 0.877222\tvalid_0's binary_logloss: 0.430826\n",
      "[99]\tvalid_0's auc: 0.877407\tvalid_0's binary_logloss: 0.43058\n",
      "[100]\tvalid_0's auc: 0.876852\tvalid_0's binary_logloss: 0.43074\n",
      "[101]\tvalid_0's auc: 0.876481\tvalid_0's binary_logloss: 0.430765\n",
      "[102]\tvalid_0's auc: 0.875926\tvalid_0's binary_logloss: 0.430641\n",
      "[103]\tvalid_0's auc: 0.875741\tvalid_0's binary_logloss: 0.430452\n",
      "[104]\tvalid_0's auc: 0.875\tvalid_0's binary_logloss: 0.430313\n",
      "[105]\tvalid_0's auc: 0.87463\tvalid_0's binary_logloss: 0.430248\n",
      "[106]\tvalid_0's auc: 0.874815\tvalid_0's binary_logloss: 0.429791\n",
      "[107]\tvalid_0's auc: 0.87463\tvalid_0's binary_logloss: 0.429674\n",
      "[108]\tvalid_0's auc: 0.874444\tvalid_0's binary_logloss: 0.429953\n",
      "[109]\tvalid_0's auc: 0.874074\tvalid_0's binary_logloss: 0.429972\n",
      "[110]\tvalid_0's auc: 0.874074\tvalid_0's binary_logloss: 0.429931\n",
      "[111]\tvalid_0's auc: 0.874074\tvalid_0's binary_logloss: 0.42998\n",
      "[112]\tvalid_0's auc: 0.873889\tvalid_0's binary_logloss: 0.430108\n",
      "[113]\tvalid_0's auc: 0.872407\tvalid_0's binary_logloss: 0.430064\n",
      "Early stopping, best iteration is:\n",
      "[13]\tvalid_0's auc: 0.883611\tvalid_0's binary_logloss: 0.568677\n",
      "ROC AUC: 0.8836\n"
     ]
    }
   ],
   "source": [
    "max_params = BO_lgb.max['params']\n",
    "\n",
    "max_params['num_leaves'] = int(round(max_params['num_leaves']))\n",
    "max_params['max_depth'] = int(round(max_params['max_depth']))\n",
    "\n",
    "lgbm_clf_bayes_best = LGBMClassifier(n_estimators=1000, learning_rate=0.02, **max_params)\n",
    "\n",
    "evals = [(X_test, y_test)]\n",
    "lgbm_clf_bayes_best.fit(X_train, y_train, early_stopping_rounds=100, eval_metric=\"auc\", eval_set=evals,\n",
    "                verbose=True)\n",
    "\n",
    "lgbm_roc_score = roc_auc_score(y_test, lgbm_clf_bayes_best.predict_proba(X_test)[:,1],average='macro')\n",
    "print('ROC AUC: {0:.4f}'.format(lgbm_roc_score))"
   ]
  },
  {
   "cell_type": "code",
   "execution_count": 95,
   "metadata": {},
   "outputs": [
    {
     "data": {
      "text/plain": [
       "LGBMClassifier(learning_rate=0.02, max_depth=24, min_child_weight=5.0,\n",
       "               min_split_gain=0.1, n_estimators=1000, num_leaves=23,\n",
       "               reg_lambda=0.5, subsample=0.5)"
      ]
     },
     "execution_count": 95,
     "metadata": {},
     "output_type": "execute_result"
    }
   ],
   "source": [
    "lgbm_clf_bayes_best"
   ]
  },
  {
   "cell_type": "code",
   "execution_count": 96,
   "metadata": {},
   "outputs": [
    {
     "data": {
      "text/plain": [
       "LGBMClassifier(learning_rate=0.02, max_depth=24, min_child_weight=5.0,\n",
       "               min_split_gain=0.1, n_estimators=1000, num_leaves=23,\n",
       "               reg_lambda=0.5, subsample=0.5)"
      ]
     },
     "execution_count": 96,
     "metadata": {},
     "output_type": "execute_result"
    }
   ],
   "source": [
    "lgbm_clf_bayes_best.fit(X_train, y_train)"
   ]
  },
  {
   "cell_type": "code",
   "execution_count": 97,
   "metadata": {},
   "outputs": [
    {
     "name": "stdout",
     "output_type": "stream",
     "text": [
      "pred_proba()결과 Shape : (154, 2)\n",
      "pred_proba array에서 앞 3개만 샘플로 추출 \n",
      ": [[0.98358001 0.01641999]\n",
      " [0.03116375 0.96883625]\n",
      " [0.73243093 0.26756907]]\n",
      "두개의 class 중에서 더 큰 확률을 클래스 값으로 예측 \n",
      " [[0.98358001 0.01641999 0.99848624 0.00151376]\n",
      " [0.03116375 0.96883625 0.13934787 0.86065213]\n",
      " [0.73243093 0.26756907 0.67320266 0.32679734]]\n"
     ]
    }
   ],
   "source": [
    "# 최적의 임계값 찾기\n",
    "\n",
    "pred_proba = lgbm_clf_bayes_best.predict_proba(X_test) ##\n",
    "pred  = lgbm_clf_best.predict_proba(X_test) ##\n",
    "print('pred_proba()결과 Shape : {0}'.format(pred_proba.shape))\n",
    "print('pred_proba array에서 앞 3개만 샘플로 추출 \\n:', pred_proba[:3])\n",
    "\n",
    "# 예측 확률 array 와 예측 결과값 array 를 concatenate 하여 예측 확률과 결과값을 한눈에 확인\n",
    "pred_proba_result = np.concatenate([pred_proba , pred.reshape(-1,2)],axis=1)\n",
    "print('두개의 class 중에서 더 큰 확률을 클래스 값으로 예측 \\n',pred_proba_result[:3])\n"
   ]
  },
  {
   "cell_type": "code",
   "execution_count": 98,
   "metadata": {},
   "outputs": [
    {
     "name": "stdout",
     "output_type": "stream",
     "text": [
      "오차 행렬\n",
      "[[88 12]\n",
      " [19 35]]\n",
      "정확도: 0.7987, 정밀도: 0.7447, 재현율: 0.6481, F1_score:  0.648148\n"
     ]
    }
   ],
   "source": [
    "from sklearn.preprocessing import Binarizer\n",
    "\n",
    "#Binarizer의 threshold 설정값. 분류 결정 임곗값임.  \n",
    "custom_threshold = 0.5\n",
    "\n",
    "# predict_proba( ) 반환값의 두번째 컬럼 , 즉 Positive 클래스 컬럼 하나만 추출하여 Binarizer를 적용\n",
    "pred_proba_1 = pred_proba[:,1].reshape(-1,1)\n",
    "\n",
    "binarizer = Binarizer(threshold=custom_threshold).fit(pred_proba_1) \n",
    "custom_predict = binarizer.transform(pred_proba_1)\n",
    "\n",
    "get_clf_eval(y_test, custom_predict)"
   ]
  },
  {
   "cell_type": "code",
   "execution_count": 99,
   "metadata": {
    "scrolled": true
   },
   "outputs": [],
   "source": [
    "from sklearn.metrics import precision_recall_curve\n",
    "\n",
    "# 레이블 값이 1일때의 예측 확률을 추출 \n",
    "pred_proba_class1 = lgbm_clf_bayes_best.predict_proba(X_test)[:, 1] ###"
   ]
  },
  {
   "cell_type": "code",
   "execution_count": 100,
   "metadata": {},
   "outputs": [
    {
     "data": {
      "image/png": "[encoded data removed]",
      "text/plain": [
       "<Figure size 576x432 with 1 Axes>"
      ]
     },
     "metadata": {
      "needs_background": "light"
     },
     "output_type": "display_data"
    }
   ],
   "source": [
    "# 임계값 시각화\n",
    "\n",
    "import matplotlib.pyplot as plt\n",
    "import matplotlib.ticker as ticker\n",
    "%matplotlib inline\n",
    "\n",
    "def precision_recall_curve_plot(y_test, pred_proba_c1):\n",
    "    # threshold ndarray와 이 threshold에 따른 정밀도, 재현율 ndarray 추출. \n",
    "    precisions, recalls, thresholds = precision_recall_curve( y_test, pred_proba_c1)\n",
    "    \n",
    "    # X축을 threshold값으로, Y축은 정밀도, 재현율 값으로 각각 Plot 수행. 정밀도는 점선으로 표시\n",
    "    plt.figure(figsize=(8,6))\n",
    "    threshold_boundary = thresholds.shape[0]\n",
    "    plt.plot(thresholds, precisions[0:threshold_boundary], linestyle='--', label='precision')\n",
    "    plt.plot(thresholds, recalls[0:threshold_boundary],label='recall')\n",
    "    \n",
    "    # threshold 값 X 축의 Scale을 0.1 단위로 변경\n",
    "    start, end = plt.xlim()\n",
    "    plt.xticks(np.round(np.arange(start, end, 0.1),2))\n",
    "    \n",
    "    # x축, y축 label과 legend, 그리고 grid 설정\n",
    "    plt.xlabel('Threshold value'); plt.ylabel('Precision and Recall value')\n",
    "    plt.legend(); plt.grid()\n",
    "    plt.show()\n",
    "    \n",
    "precision_recall_curve_plot(y_test, lgbm_clf_best.predict_proba(X_test)[:, 1] ) ####\n"
   ]
  },
  {
   "cell_type": "code",
   "execution_count": 101,
   "metadata": {},
   "outputs": [
    {
     "data": {
      "text/plain": [
       "(0.443, 0.7115)"
      ]
     },
     "execution_count": 101,
     "metadata": {},
     "output_type": "execute_result"
    }
   ],
   "source": [
    "# F1_score가 최대인 임계값 찾기\n",
    "\n",
    "def Find_threshold(model, X_test, y_test):\n",
    "    thresholds = np.arange(0,1,0.001)\n",
    "    threshold_count = []\n",
    "    pred_proba=model.predict_proba(X_test)\n",
    "    pred_proba_1 = pred_proba[:,1].reshape(-1,1)\n",
    "    for threshold in thresholds:\n",
    "        binarizer = Binarizer(threshold=threshold)\n",
    "        model_cl_pred = binarizer.transform(pred_proba_1)\n",
    "        threshold_count.append([threshold, metrics.f1_score(model_cl_pred, y_test)])\n",
    "\n",
    "    MAX=thresholds[np.array(threshold_count)[:,1].argmax()]\n",
    "    \n",
    "    thresholds = np.arange(MAX-0.05,MAX+0.05,0.005)\n",
    "    threshold_count = []\n",
    "    for threshold in thresholds:\n",
    "        binarizer = Binarizer(threshold=threshold)\n",
    "        model_cl_pred = binarizer.transform(pred_proba_1)\n",
    "        #threshold_count.append([threshold, metrics.f1_score(log_cl_pred, y_test)])\n",
    "        #print('threshold: {0:.4f}, f1_score: {1:.4f}'.format(threshold,metrics.f1_score(model_cl_pred, y_test)))\n",
    "        threshold_count.append([threshold, metrics.f1_score(model_cl_pred, y_test)])\n",
    "    \n",
    "    return np.round(thresholds[np.array(threshold_count)[:,1].argmax()],4), np.round(metrics.f1_score(Binarizer(threshold=thresholds[np.array(threshold_count)[:,1].argmax()]).transform(pred_proba_1), y_test),4)\n",
    "\n",
    "Find_threshold(lgbm_clf_bayes_best, X_test, y_test)"
   ]
  },
  {
   "cell_type": "code",
   "execution_count": 118,
   "metadata": {},
   "outputs": [
    {
     "name": "stdout",
     "output_type": "stream",
     "text": [
      "오차 행렬\n",
      "[[86 14]\n",
      " [17 37]]\n",
      "정확도: 0.7987, 정밀도: 0.7255, 재현율: 0.6852, F1_score:  0.685185\n"
     ]
    }
   ],
   "source": [
    "# Binarizer의 베스트 threshold 설정값 지정 \n",
    "\n",
    "custom_threshold = 0.443\n",
    "pred_proba_1 = pred_proba[:,1].reshape(-1,1)\n",
    "binarizer = Binarizer(threshold=custom_threshold).fit(pred_proba_1) \n",
    "custom_predict = binarizer.transform(pred_proba_1)\n",
    "\n",
    "get_clf_eval(y_test , custom_predict)"
   ]
  }
 ],
 "metadata": {
  "kernelspec": {
   "display_name": "Python 3",
   "language": "python",
   "name": "python3"
  },
  "language_info": {
   "codemirror_mode": {
    "name": "ipython",
    "version": 3
   },
   "file_extension": ".py",
   "mimetype": "text/x-python",
   "name": "python",
   "nbconvert_exporter": "python",
   "pygments_lexer": "ipython3",
   "version": "3.7.7"
  }
 },
 "nbformat": 4,
 "nbformat_minor": 2
}
